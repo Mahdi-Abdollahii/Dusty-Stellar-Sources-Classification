{
  "nbformat": 4,
  "nbformat_minor": 0,
  "metadata": {
    "colab": {
      "provenance": [],
      "collapsed_sections": [
        "v-JTEm07eivW",
        "XOukgp88eK_l",
        "k9jYDw9GGXfZ",
        "DEU0tyysdyWk",
        "0-qR7BTSgO0F",
        "fNt5k0AggT4s",
        "pOlWi6jNgcKk",
        "Pvv65ShSgf5H",
        "nMJRy2eXgj9d"
      ],
      "mount_file_id": "1etJEFG3oCWF9ObAkMh7AsgXxwnBncDkY",
      "authorship_tag": "ABX9TyM8rbsQ/cOU+B8Hevl2v9/M",
      "include_colab_link": true
    },
    "kernelspec": {
      "name": "python3",
      "display_name": "Python 3"
    },
    "language_info": {
      "name": "python"
    },
    "accelerator": "GPU",
    "gpuClass": "standard"
  },
  "cells": [
    {
      "cell_type": "markdown",
      "metadata": {
        "id": "view-in-github",
        "colab_type": "text"
      },
      "source": [
        "<a href=\"https://colab.research.google.com/github/Mahdi-Abdollahii/Dusty-Stellar-Sources-Classification/blob/main/Model_Evaluation_Simple.ipynb\" target=\"_parent\"><img src=\"https://colab.research.google.com/assets/colab-badge.svg\" alt=\"Open In Colab\"/></a>"
      ]
    },
    {
      "cell_type": "markdown",
      "source": [
        "# Loading data from GitHub and installing package"
      ],
      "metadata": {
        "id": "v-JTEm07eivW"
      }
    },
    {
      "cell_type": "markdown",
      "source": [
        "\n",
        "The project is hosted on GitHub. Get a copy by running:"
      ],
      "metadata": {
        "id": "vn42cBiwsJre"
      }
    },
    {
      "cell_type": "code",
      "source": [
        "!git clone https://github.com/Mahdi-Abdollahii/Dusty-Stellar-Sources-Classification.git"
      ],
      "metadata": {
        "id": "t8k-ZM4ysWOk",
        "colab": {
          "base_uri": "https://localhost:8080/"
        },
        "outputId": "bf3a8ee2-9285-46ab-8224-1830a73e8af4"
      },
      "execution_count": null,
      "outputs": [
        {
          "output_type": "stream",
          "name": "stdout",
          "text": [
            "Cloning into 'Dusty-Stellar-Sources-Classification'...\n",
            "remote: Enumerating objects: 75, done.\u001b[K\n",
            "remote: Counting objects: 100% (75/75), done.\u001b[K\n",
            "remote: Compressing objects: 100% (71/71), done.\u001b[K\n",
            "remote: Total 75 (delta 32), reused 0 (delta 0), pack-reused 0\u001b[K\n",
            "Unpacking objects: 100% (75/75), 11.02 MiB | 4.39 MiB/s, done.\n"
          ]
        }
      ]
    },
    {
      "cell_type": "code",
      "source": [
        "!pip install pyunpack"
      ],
      "metadata": {
        "colab": {
          "base_uri": "https://localhost:8080/"
        },
        "id": "oUVp6KNrZEG7",
        "outputId": "66cccb60-7592-46a5-bcbd-1dfd1c9c9aa9"
      },
      "execution_count": null,
      "outputs": [
        {
          "output_type": "stream",
          "name": "stdout",
          "text": [
            "Looking in indexes: https://pypi.org/simple, https://us-python.pkg.dev/colab-wheels/public/simple/\n",
            "Collecting pyunpack\n",
            "  Downloading pyunpack-0.3-py2.py3-none-any.whl (4.1 kB)\n",
            "Collecting easyprocess\n",
            "  Downloading EasyProcess-1.1-py3-none-any.whl (8.7 kB)\n",
            "Collecting entrypoint2\n",
            "  Downloading entrypoint2-1.1-py2.py3-none-any.whl (9.9 kB)\n",
            "Installing collected packages: entrypoint2, easyprocess, pyunpack\n",
            "Successfully installed easyprocess-1.1 entrypoint2-1.1 pyunpack-0.3\n"
          ]
        }
      ]
    },
    {
      "cell_type": "code",
      "source": [
        "!pip install patool"
      ],
      "metadata": {
        "colab": {
          "base_uri": "https://localhost:8080/"
        },
        "id": "8AnNDHMCZJaL",
        "outputId": "82b38db7-b842-4f5b-98ca-bd75445b7435"
      },
      "execution_count": null,
      "outputs": [
        {
          "output_type": "stream",
          "name": "stdout",
          "text": [
            "Looking in indexes: https://pypi.org/simple, https://us-python.pkg.dev/colab-wheels/public/simple/\n",
            "Collecting patool\n",
            "  Downloading patool-1.12-py2.py3-none-any.whl (77 kB)\n",
            "\u001b[2K     \u001b[90m━━━━━━━━━━━━━━━━━━━━━━━━━━━━━━━━━━━━━━━━\u001b[0m \u001b[32m77.5/77.5 KB\u001b[0m \u001b[31m3.2 MB/s\u001b[0m eta \u001b[36m0:00:00\u001b[0m\n",
            "\u001b[?25hInstalling collected packages: patool\n",
            "Successfully installed patool-1.12\n"
          ]
        }
      ]
    },
    {
      "cell_type": "markdown",
      "metadata": {
        "id": "XOukgp88eK_l"
      },
      "source": [
        "# Libraries"
      ]
    },
    {
      "cell_type": "code",
      "execution_count": null,
      "metadata": {
        "id": "_xYXTtukc4Oe"
      },
      "outputs": [],
      "source": [
        "import pandas as pd\n",
        "import numpy as np\n",
        "import matplotlib.pyplot as plt\n",
        "import io, requests, zipfile\n",
        "from zipfile import ZipFile\n",
        "import seaborn as sns\n",
        "from sklearn.metrics import confusion_matrix , accuracy_score , recall_score , precision_score , f1_score , classification_report\n",
        "from pyunpack import Archive\n",
        "import warnings\n",
        "warnings.filterwarnings('ignore')"
      ]
    },
    {
      "cell_type": "code",
      "source": [
        "#https://blog.finxter.com/how-to-plot-sklearn-confusion-matrix-with-labels/\n",
        "import numpy as np\n",
        "\n",
        "def plot_confusion_matrix(cm,\n",
        "                          target_names,\n",
        "                          title='Confusion matrix',\n",
        "                          cmap=None,\n",
        "                          normalize=True,\n",
        "                          size = [16,12],\n",
        "                          file_name = False ):\n",
        "    \"\"\"\n",
        "    given a sklearn confusion matrix (cm), make a nice plot\n",
        "\n",
        "    Arguments\n",
        "    ---------\n",
        "    cm:           confusion matrix from sklearn.metrics.confusion_matrix\n",
        "\n",
        "    target_names: given classification classes such as [0, 1, 2]\n",
        "                  the class names, for example: ['high', 'medium', 'low']\n",
        "\n",
        "    title:        the text to display at the top of the matrix\n",
        "\n",
        "    cmap:         the gradient of the values displayed from matplotlib.pyplot.cm\n",
        "                  see http://matplotlib.org/examples/color/colormaps_reference.html\n",
        "                  plt.get_cmap('jet') or plt.cm.Blues\n",
        "\n",
        "    normalize:    If False, plot the raw numbers\n",
        "                  If True, plot the proportions\n",
        "\n",
        "    Usage\n",
        "    -----\n",
        "    plot_confusion_matrix(cm           = cm,                  # confusion matrix created by\n",
        "                                                              # sklearn.metrics.confusion_matrix\n",
        "                          normalize    = True,                # show proportions\n",
        "                          target_names = y_labels_vals,       # list of names of the classes\n",
        "                          title        = best_estimator_name) # title of graph\n",
        "\n",
        "    Citiation\n",
        "    ---------\n",
        "    http://scikit-learn.org/stable/auto_examples/model_selection/plot_confusion_matrix.html\n",
        "\n",
        "    \"\"\"\n",
        "    import matplotlib.pyplot as plt\n",
        "    import numpy as np\n",
        "    import itertools\n",
        "\n",
        "    if normalize:\n",
        "        cm = cm.astype('float') / cm.sum(axis=1)[:, np.newaxis]\n",
        "\n",
        "    if cmap is None:\n",
        "        cmap = plt.get_cmap('Greens')\n",
        "\n",
        "    plt.figure(figsize=(size[0],size[1]))\n",
        "    plt.imshow(cm, interpolation='nearest', cmap=cmap)\n",
        "    plt.title(title ,fontsize = 16 )\n",
        "    plt.ylabel('True label' , fontsize = 16 )\n",
        "    plt.xlabel('Predicted label', fontsize = 16 )\n",
        "    plt.colorbar()\n",
        "\n",
        "    if target_names is not None:\n",
        "        tick_marks = np.arange(len(target_names))\n",
        "        plt.xticks(tick_marks, target_names, rotation=45)\n",
        "        plt.yticks(tick_marks, target_names)\n",
        "\n",
        "\n",
        "\n",
        "\n",
        "    thresh = cm.max() / 1.5 if normalize else cm.max() / 2\n",
        "    for i, j in itertools.product(range(cm.shape[0]), range(cm.shape[1])):\n",
        "        if normalize:\n",
        "            #if cm[i,j]>= 0.01 : # if you want remove 0.1>\n",
        "                plt.text(j, i, \"{:0.2f}\".format(cm[i, j]),\n",
        "                        horizontalalignment=\"center\",\n",
        "                        color=\"white\" if cm[i, j] > thresh else \"black\")\n",
        "        else:\n",
        "            plt.text(j, i, \"{:,}\".format(cm[i, j]),\n",
        "                     horizontalalignment=\"center\",\n",
        "                     color=\"white\" if cm[i, j] > thresh else \"black\")\n",
        "\n",
        "\n",
        "    plt.tight_layout()\n",
        "    if file_name != False : \n",
        "        plt.savefig(file_name , dpi=300)\n",
        "    plt.show()"
      ],
      "metadata": {
        "id": "Fa1zRZ2vMhMh"
      },
      "execution_count": null,
      "outputs": []
    },
    {
      "cell_type": "markdown",
      "source": [
        "# Data Pre"
      ],
      "metadata": {
        "id": "k9jYDw9GGXfZ"
      }
    },
    {
      "cell_type": "code",
      "source": [
        "df = pd.read_csv(\"/content/Dusty-Stellar-Sources-Classification/Data/Preprocessed_Data.csv\")"
      ],
      "metadata": {
        "id": "p94NnTJSf6R0"
      },
      "execution_count": null,
      "outputs": []
    },
    {
      "cell_type": "code",
      "source": [
        "df"
      ],
      "metadata": {
        "colab": {
          "base_uri": "https://localhost:8080/"
        },
        "id": "Trl-yqT7hF6T",
        "outputId": "c03069f5-ec87-4bc5-b951-636838f9beba"
      },
      "execution_count": null,
      "outputs": [
        {
          "output_type": "execute_result",
          "data": {
            "text/plain": [
              "         RAdeg      DEdeg   Umag   Bmag   Vmag   Imag  Jmag  Hmag  Ksmag  \\\n",
              "0    69.338100 -70.579000    NaN -0.213 -2.052 -4.577   NaN   NaN    NaN   \n",
              "1    71.613100 -68.796300  1.632  2.226  0.531 -2.137 -5.04 -6.57  -7.84   \n",
              "2    71.827700 -69.705700 -0.727 -2.876 -4.804 -7.220 -8.42   NaN    NaN   \n",
              "3    72.157300 -69.393600    NaN  3.450  2.467  1.136 -1.32 -3.37  -5.31   \n",
              "4    72.393200 -69.097000 -5.087 -4.936 -5.254 -5.992 -6.39 -6.86  -7.42   \n",
              "..         ...        ...    ...    ...    ...    ...   ...   ...    ...   \n",
              "603  15.093451 -72.166074 -0.232  0.796  0.248 -0.445   NaN -2.54  -4.04   \n",
              "604  14.527078 -72.068717 -0.459 -0.388 -0.926 -1.672 -2.36 -2.83  -3.27   \n",
              "605  14.488457 -72.654396 -1.433 -0.683 -1.165 -1.937 -2.42 -3.14  -4.14   \n",
              "606  14.027887 -72.789808 -1.445 -1.084 -1.477 -2.014 -2.74 -3.09  -3.23   \n",
              "607  16.039817 -72.837738 -2.197 -3.746 -5.564    NaN   NaN   NaN    NaN   \n",
              "\n",
              "      [3.6]   [4.5]   [5.8]    [8.0]     [24] SpClass GeneralClass  \n",
              "0   -7.6101 -7.7148 -7.8326  -8.0159  -8.8792    OAGB          DSS  \n",
              "1   -8.6656 -9.3873 -9.8100 -10.2429 -11.1944    CAGB          DSS  \n",
              "2   -9.6540 -9.4759 -9.6545  -9.7627 -10.9685     RSG          DSS  \n",
              "3   -8.1534 -9.0379 -9.8431 -10.6543 -13.6554     YSO          DSS  \n",
              "4   -8.4329 -8.9152 -9.2952  -9.9431 -11.3106    OAGB          DSS  \n",
              "..      ...     ...     ...      ...      ...     ...          ...  \n",
              "603 -6.3120 -7.3400 -8.2350  -9.4640 -13.6900     YSO          DSS  \n",
              "604 -5.5270 -5.6600 -8.0320  -9.6220 -15.6450     YSO          DSS  \n",
              "605 -6.6860 -7.2730 -8.2610  -9.2260 -15.2890     YSO          DSS  \n",
              "606 -5.4810 -5.9750 -7.7430  -9.1680 -15.3400     YSO          DSS  \n",
              "607 -9.6990 -9.7110 -9.9220 -10.0500 -10.8040    OAGB          DSS  \n",
              "\n",
              "[608 rows x 16 columns]"
            ],
            "text/html": [
              "\n",
              "  <div id=\"df-63f57294-b2b8-448f-b500-3d6fb2eda2fa\">\n",
              "    <div class=\"colab-df-container\">\n",
              "      <div>\n",
              "<style scoped>\n",
              "    .dataframe tbody tr th:only-of-type {\n",
              "        vertical-align: middle;\n",
              "    }\n",
              "\n",
              "    .dataframe tbody tr th {\n",
              "        vertical-align: top;\n",
              "    }\n",
              "\n",
              "    .dataframe thead th {\n",
              "        text-align: right;\n",
              "    }\n",
              "</style>\n",
              "<table border=\"1\" class=\"dataframe\">\n",
              "  <thead>\n",
              "    <tr style=\"text-align: right;\">\n",
              "      <th></th>\n",
              "      <th>RAdeg</th>\n",
              "      <th>DEdeg</th>\n",
              "      <th>Umag</th>\n",
              "      <th>Bmag</th>\n",
              "      <th>Vmag</th>\n",
              "      <th>Imag</th>\n",
              "      <th>Jmag</th>\n",
              "      <th>Hmag</th>\n",
              "      <th>Ksmag</th>\n",
              "      <th>[3.6]</th>\n",
              "      <th>[4.5]</th>\n",
              "      <th>[5.8]</th>\n",
              "      <th>[8.0]</th>\n",
              "      <th>[24]</th>\n",
              "      <th>SpClass</th>\n",
              "      <th>GeneralClass</th>\n",
              "    </tr>\n",
              "  </thead>\n",
              "  <tbody>\n",
              "    <tr>\n",
              "      <th>0</th>\n",
              "      <td>69.338100</td>\n",
              "      <td>-70.579000</td>\n",
              "      <td>NaN</td>\n",
              "      <td>-0.213</td>\n",
              "      <td>-2.052</td>\n",
              "      <td>-4.577</td>\n",
              "      <td>NaN</td>\n",
              "      <td>NaN</td>\n",
              "      <td>NaN</td>\n",
              "      <td>-7.6101</td>\n",
              "      <td>-7.7148</td>\n",
              "      <td>-7.8326</td>\n",
              "      <td>-8.0159</td>\n",
              "      <td>-8.8792</td>\n",
              "      <td>OAGB</td>\n",
              "      <td>DSS</td>\n",
              "    </tr>\n",
              "    <tr>\n",
              "      <th>1</th>\n",
              "      <td>71.613100</td>\n",
              "      <td>-68.796300</td>\n",
              "      <td>1.632</td>\n",
              "      <td>2.226</td>\n",
              "      <td>0.531</td>\n",
              "      <td>-2.137</td>\n",
              "      <td>-5.04</td>\n",
              "      <td>-6.57</td>\n",
              "      <td>-7.84</td>\n",
              "      <td>-8.6656</td>\n",
              "      <td>-9.3873</td>\n",
              "      <td>-9.8100</td>\n",
              "      <td>-10.2429</td>\n",
              "      <td>-11.1944</td>\n",
              "      <td>CAGB</td>\n",
              "      <td>DSS</td>\n",
              "    </tr>\n",
              "    <tr>\n",
              "      <th>2</th>\n",
              "      <td>71.827700</td>\n",
              "      <td>-69.705700</td>\n",
              "      <td>-0.727</td>\n",
              "      <td>-2.876</td>\n",
              "      <td>-4.804</td>\n",
              "      <td>-7.220</td>\n",
              "      <td>-8.42</td>\n",
              "      <td>NaN</td>\n",
              "      <td>NaN</td>\n",
              "      <td>-9.6540</td>\n",
              "      <td>-9.4759</td>\n",
              "      <td>-9.6545</td>\n",
              "      <td>-9.7627</td>\n",
              "      <td>-10.9685</td>\n",
              "      <td>RSG</td>\n",
              "      <td>DSS</td>\n",
              "    </tr>\n",
              "    <tr>\n",
              "      <th>3</th>\n",
              "      <td>72.157300</td>\n",
              "      <td>-69.393600</td>\n",
              "      <td>NaN</td>\n",
              "      <td>3.450</td>\n",
              "      <td>2.467</td>\n",
              "      <td>1.136</td>\n",
              "      <td>-1.32</td>\n",
              "      <td>-3.37</td>\n",
              "      <td>-5.31</td>\n",
              "      <td>-8.1534</td>\n",
              "      <td>-9.0379</td>\n",
              "      <td>-9.8431</td>\n",
              "      <td>-10.6543</td>\n",
              "      <td>-13.6554</td>\n",
              "      <td>YSO</td>\n",
              "      <td>DSS</td>\n",
              "    </tr>\n",
              "    <tr>\n",
              "      <th>4</th>\n",
              "      <td>72.393200</td>\n",
              "      <td>-69.097000</td>\n",
              "      <td>-5.087</td>\n",
              "      <td>-4.936</td>\n",
              "      <td>-5.254</td>\n",
              "      <td>-5.992</td>\n",
              "      <td>-6.39</td>\n",
              "      <td>-6.86</td>\n",
              "      <td>-7.42</td>\n",
              "      <td>-8.4329</td>\n",
              "      <td>-8.9152</td>\n",
              "      <td>-9.2952</td>\n",
              "      <td>-9.9431</td>\n",
              "      <td>-11.3106</td>\n",
              "      <td>OAGB</td>\n",
              "      <td>DSS</td>\n",
              "    </tr>\n",
              "    <tr>\n",
              "      <th>...</th>\n",
              "      <td>...</td>\n",
              "      <td>...</td>\n",
              "      <td>...</td>\n",
              "      <td>...</td>\n",
              "      <td>...</td>\n",
              "      <td>...</td>\n",
              "      <td>...</td>\n",
              "      <td>...</td>\n",
              "      <td>...</td>\n",
              "      <td>...</td>\n",
              "      <td>...</td>\n",
              "      <td>...</td>\n",
              "      <td>...</td>\n",
              "      <td>...</td>\n",
              "      <td>...</td>\n",
              "      <td>...</td>\n",
              "    </tr>\n",
              "    <tr>\n",
              "      <th>603</th>\n",
              "      <td>15.093451</td>\n",
              "      <td>-72.166074</td>\n",
              "      <td>-0.232</td>\n",
              "      <td>0.796</td>\n",
              "      <td>0.248</td>\n",
              "      <td>-0.445</td>\n",
              "      <td>NaN</td>\n",
              "      <td>-2.54</td>\n",
              "      <td>-4.04</td>\n",
              "      <td>-6.3120</td>\n",
              "      <td>-7.3400</td>\n",
              "      <td>-8.2350</td>\n",
              "      <td>-9.4640</td>\n",
              "      <td>-13.6900</td>\n",
              "      <td>YSO</td>\n",
              "      <td>DSS</td>\n",
              "    </tr>\n",
              "    <tr>\n",
              "      <th>604</th>\n",
              "      <td>14.527078</td>\n",
              "      <td>-72.068717</td>\n",
              "      <td>-0.459</td>\n",
              "      <td>-0.388</td>\n",
              "      <td>-0.926</td>\n",
              "      <td>-1.672</td>\n",
              "      <td>-2.36</td>\n",
              "      <td>-2.83</td>\n",
              "      <td>-3.27</td>\n",
              "      <td>-5.5270</td>\n",
              "      <td>-5.6600</td>\n",
              "      <td>-8.0320</td>\n",
              "      <td>-9.6220</td>\n",
              "      <td>-15.6450</td>\n",
              "      <td>YSO</td>\n",
              "      <td>DSS</td>\n",
              "    </tr>\n",
              "    <tr>\n",
              "      <th>605</th>\n",
              "      <td>14.488457</td>\n",
              "      <td>-72.654396</td>\n",
              "      <td>-1.433</td>\n",
              "      <td>-0.683</td>\n",
              "      <td>-1.165</td>\n",
              "      <td>-1.937</td>\n",
              "      <td>-2.42</td>\n",
              "      <td>-3.14</td>\n",
              "      <td>-4.14</td>\n",
              "      <td>-6.6860</td>\n",
              "      <td>-7.2730</td>\n",
              "      <td>-8.2610</td>\n",
              "      <td>-9.2260</td>\n",
              "      <td>-15.2890</td>\n",
              "      <td>YSO</td>\n",
              "      <td>DSS</td>\n",
              "    </tr>\n",
              "    <tr>\n",
              "      <th>606</th>\n",
              "      <td>14.027887</td>\n",
              "      <td>-72.789808</td>\n",
              "      <td>-1.445</td>\n",
              "      <td>-1.084</td>\n",
              "      <td>-1.477</td>\n",
              "      <td>-2.014</td>\n",
              "      <td>-2.74</td>\n",
              "      <td>-3.09</td>\n",
              "      <td>-3.23</td>\n",
              "      <td>-5.4810</td>\n",
              "      <td>-5.9750</td>\n",
              "      <td>-7.7430</td>\n",
              "      <td>-9.1680</td>\n",
              "      <td>-15.3400</td>\n",
              "      <td>YSO</td>\n",
              "      <td>DSS</td>\n",
              "    </tr>\n",
              "    <tr>\n",
              "      <th>607</th>\n",
              "      <td>16.039817</td>\n",
              "      <td>-72.837738</td>\n",
              "      <td>-2.197</td>\n",
              "      <td>-3.746</td>\n",
              "      <td>-5.564</td>\n",
              "      <td>NaN</td>\n",
              "      <td>NaN</td>\n",
              "      <td>NaN</td>\n",
              "      <td>NaN</td>\n",
              "      <td>-9.6990</td>\n",
              "      <td>-9.7110</td>\n",
              "      <td>-9.9220</td>\n",
              "      <td>-10.0500</td>\n",
              "      <td>-10.8040</td>\n",
              "      <td>OAGB</td>\n",
              "      <td>DSS</td>\n",
              "    </tr>\n",
              "  </tbody>\n",
              "</table>\n",
              "<p>608 rows × 16 columns</p>\n",
              "</div>\n",
              "      <button class=\"colab-df-convert\" onclick=\"convertToInteractive('df-63f57294-b2b8-448f-b500-3d6fb2eda2fa')\"\n",
              "              title=\"Convert this dataframe to an interactive table.\"\n",
              "              style=\"display:none;\">\n",
              "        \n",
              "  <svg xmlns=\"http://www.w3.org/2000/svg\" height=\"24px\"viewBox=\"0 0 24 24\"\n",
              "       width=\"24px\">\n",
              "    <path d=\"M0 0h24v24H0V0z\" fill=\"none\"/>\n",
              "    <path d=\"M18.56 5.44l.94 2.06.94-2.06 2.06-.94-2.06-.94-.94-2.06-.94 2.06-2.06.94zm-11 1L8.5 8.5l.94-2.06 2.06-.94-2.06-.94L8.5 2.5l-.94 2.06-2.06.94zm10 10l.94 2.06.94-2.06 2.06-.94-2.06-.94-.94-2.06-.94 2.06-2.06.94z\"/><path d=\"M17.41 7.96l-1.37-1.37c-.4-.4-.92-.59-1.43-.59-.52 0-1.04.2-1.43.59L10.3 9.45l-7.72 7.72c-.78.78-.78 2.05 0 2.83L4 21.41c.39.39.9.59 1.41.59.51 0 1.02-.2 1.41-.59l7.78-7.78 2.81-2.81c.8-.78.8-2.07 0-2.86zM5.41 20L4 18.59l7.72-7.72 1.47 1.35L5.41 20z\"/>\n",
              "  </svg>\n",
              "      </button>\n",
              "      \n",
              "  <style>\n",
              "    .colab-df-container {\n",
              "      display:flex;\n",
              "      flex-wrap:wrap;\n",
              "      gap: 12px;\n",
              "    }\n",
              "\n",
              "    .colab-df-convert {\n",
              "      background-color: #E8F0FE;\n",
              "      border: none;\n",
              "      border-radius: 50%;\n",
              "      cursor: pointer;\n",
              "      display: none;\n",
              "      fill: #1967D2;\n",
              "      height: 32px;\n",
              "      padding: 0 0 0 0;\n",
              "      width: 32px;\n",
              "    }\n",
              "\n",
              "    .colab-df-convert:hover {\n",
              "      background-color: #E2EBFA;\n",
              "      box-shadow: 0px 1px 2px rgba(60, 64, 67, 0.3), 0px 1px 3px 1px rgba(60, 64, 67, 0.15);\n",
              "      fill: #174EA6;\n",
              "    }\n",
              "\n",
              "    [theme=dark] .colab-df-convert {\n",
              "      background-color: #3B4455;\n",
              "      fill: #D2E3FC;\n",
              "    }\n",
              "\n",
              "    [theme=dark] .colab-df-convert:hover {\n",
              "      background-color: #434B5C;\n",
              "      box-shadow: 0px 1px 3px 1px rgba(0, 0, 0, 0.15);\n",
              "      filter: drop-shadow(0px 1px 2px rgba(0, 0, 0, 0.3));\n",
              "      fill: #FFFFFF;\n",
              "    }\n",
              "  </style>\n",
              "\n",
              "      <script>\n",
              "        const buttonEl =\n",
              "          document.querySelector('#df-63f57294-b2b8-448f-b500-3d6fb2eda2fa button.colab-df-convert');\n",
              "        buttonEl.style.display =\n",
              "          google.colab.kernel.accessAllowed ? 'block' : 'none';\n",
              "\n",
              "        async function convertToInteractive(key) {\n",
              "          const element = document.querySelector('#df-63f57294-b2b8-448f-b500-3d6fb2eda2fa');\n",
              "          const dataTable =\n",
              "            await google.colab.kernel.invokeFunction('convertToInteractive',\n",
              "                                                     [key], {});\n",
              "          if (!dataTable) return;\n",
              "\n",
              "          const docLinkHtml = 'Like what you see? Visit the ' +\n",
              "            '<a target=\"_blank\" href=https://colab.research.google.com/notebooks/data_table.ipynb>data table notebook</a>'\n",
              "            + ' to learn more about interactive tables.';\n",
              "          element.innerHTML = '';\n",
              "          dataTable['output_type'] = 'display_data';\n",
              "          await google.colab.output.renderOutput(dataTable, element);\n",
              "          const docLink = document.createElement('div');\n",
              "          docLink.innerHTML = docLinkHtml;\n",
              "          element.appendChild(docLink);\n",
              "        }\n",
              "      </script>\n",
              "    </div>\n",
              "  </div>\n",
              "  "
            ]
          },
          "metadata": {},
          "execution_count": 7
        }
      ]
    },
    {
      "cell_type": "code",
      "source": [
        "n = df.pivot_table(index=['SpClass'], aggfunc='size').index\n",
        "s = list(df.pivot_table(index=['SpClass'], aggfunc='size'))\n",
        "\n",
        "fig=plt.figure(figsize=(8,5))\n",
        "line = plt.bar(n  , s  , color = 'maroon' , log  = False )\n",
        "\n",
        "plt.tick_params(axis='both', which='major', labelsize=15)\n",
        "plt.tick_params(axis='both', which='minor', labelsize=15)\n",
        "\n",
        "plt.show()\n",
        "fig.savefig('SPclass_hist.pdf',dpi=400)"
      ],
      "metadata": {
        "colab": {
          "base_uri": "https://localhost:8080/"
        },
        "id": "EgCB4RaRJMAJ",
        "outputId": "876e1720-cd4e-44ea-ba65-ebfd9fc26178"
      },
      "execution_count": null,
      "outputs": [
        {
          "output_type": "display_data",
          "data": {
            "text/plain": [
              "<Figure size 576x360 with 1 Axes>"
            ],
            "image/png": "[encoded data removed]"
          },
          "metadata": {
            "needs_background": "light"
          }
        }
      ]
    },
    {
      "cell_type": "markdown",
      "source": [
        "In following cell we set a number for each label to help us in evaluate our models."
      ],
      "metadata": {
        "id": "tfCdYhn3INNm"
      }
    },
    {
      "cell_type": "code",
      "source": [
        "from sklearn import preprocessing\n",
        "\n",
        "LE = preprocessing.LabelEncoder()\n",
        "Y = LE.fit_transform(df['SpClass'])\n",
        "Y = pd.DataFrame(Y)\n",
        "Y.columns = ['EY']\n",
        "\n",
        "print('Ordinal Encoding:')\n",
        "LE.inverse_transform(np.arange(0,5))"
      ],
      "metadata": {
        "id": "7X1D4gQBeavT",
        "colab": {
          "base_uri": "https://localhost:8080/"
        },
        "outputId": "3d3b36bc-a1bd-4cd4-85c5-8a5c64f9d847"
      },
      "execution_count": null,
      "outputs": [
        {
          "output_type": "stream",
          "name": "stdout",
          "text": [
            "Ordinal Encoding:\n"
          ]
        },
        {
          "output_type": "execute_result",
          "data": {
            "text/plain": [
              "array(['CAGB', 'OAGB', 'PAGB', 'RSG', 'YSO'], dtype=object)"
            ]
          },
          "metadata": {},
          "execution_count": 9
        }
      ]
    },
    {
      "cell_type": "code",
      "source": [
        "X = df[df.columns[2:-2]]\n",
        "Y = Y['EY']"
      ],
      "metadata": {
        "id": "mGs8m52RQ5co"
      },
      "execution_count": null,
      "outputs": []
    },
    {
      "cell_type": "markdown",
      "source": [
        "Here we use an algorithm named IterativeImputer to fill the blank (NaN) data points.\n",
        "\n",
        "A strategy for imputing missing values by modeling each feature with missing values as a function of other features in a round-robin fashion.\n",
        "\n",
        "A more sophisticated approach is to use the IterativeImputer class, which models each feature with missing values as a function of other features, and uses that estimate for imputation. It does so in an iterated round-robin fashion: at each step, a feature column is designated as output y and the other feature columns are treated as inputs X. A regressor is fit on (X, y) for known y. Then, the regressor is used to predict the missing values of y. This is done for each feature in an iterative fashion, and then is repeated for max_iter imputation rounds. The results of the final imputation round are returned.\n",
        "\n",
        "For more information : https://scikit-learn.org/stable/modules/impute.html#iterative-imputer"
      ],
      "metadata": {
        "id": "ZnCixJpNzAFc"
      }
    },
    {
      "cell_type": "code",
      "execution_count": null,
      "metadata": {
        "id": "tM1v_psHAq8d"
      },
      "outputs": [],
      "source": [
        "from sklearn.experimental import enable_iterative_imputer\n",
        "from sklearn.impute import IterativeImputer\n",
        "\n",
        "imp = IterativeImputer( random_state= 0 )\n",
        "X = imp.fit_transform(X)"
      ]
    },
    {
      "cell_type": "markdown",
      "source": [
        "In the next cell, we use the Min Max scaler to scale data between 0 and 1. This algorithm helps models in training."
      ],
      "metadata": {
        "id": "RRMWIQ9MzR1K"
      }
    },
    {
      "cell_type": "code",
      "source": [
        "from sklearn.preprocessing import MinMaxScaler\n",
        "MMS = MinMaxScaler()\n",
        "MMS.fit(X)\n",
        "X = MMS.transform(X)"
      ],
      "metadata": {
        "id": "SIzOz0L1brQw"
      },
      "execution_count": null,
      "outputs": []
    },
    {
      "cell_type": "code",
      "source": [
        "from sklearn.model_selection import train_test_split\n",
        "X_train, X_test, Y_train, Y_test = train_test_split( X , Y , test_size= 0.10 , random_state = 1234 )\n",
        "print('X_train : ' , X_train.shape)\n",
        "print('X_test : ' , X_test.shape)\n",
        "print('Y_train : ' , Y_train.shape)\n",
        "print('Y_test : ' , Y_test.shape)"
      ],
      "metadata": {
        "id": "uGLa0X__oMw0",
        "colab": {
          "base_uri": "https://localhost:8080/"
        },
        "outputId": "f87c6783-39ad-4fa5-83e5-08dad21def3e"
      },
      "execution_count": null,
      "outputs": [
        {
          "output_type": "stream",
          "name": "stdout",
          "text": [
            "X_train :  (547, 12)\n",
            "X_test :  (61, 12)\n",
            "Y_train :  (547,)\n",
            "Y_test :  (61,)\n"
          ]
        }
      ]
    },
    {
      "cell_type": "markdown",
      "source": [
        "# PRF"
      ],
      "metadata": {
        "id": "DEU0tyysdyWk"
      }
    },
    {
      "cell_type": "code",
      "source": [
        "!git clone https://github.com/ireis/PRF.git"
      ],
      "metadata": {
        "id": "ruFt3406i2su",
        "colab": {
          "base_uri": "https://localhost:8080/"
        },
        "outputId": "3671505b-6133-4001-cf0f-6fad017bbc98"
      },
      "execution_count": null,
      "outputs": [
        {
          "output_type": "stream",
          "name": "stdout",
          "text": [
            "Cloning into 'PRF'...\n",
            "remote: Enumerating objects: 223, done.\u001b[K\n",
            "remote: Counting objects: 100% (12/12), done.\u001b[K\n",
            "remote: Compressing objects: 100% (10/10), done.\u001b[K\n",
            "remote: Total 223 (delta 3), reused 6 (delta 2), pack-reused 211\u001b[K\n",
            "Receiving objects: 100% (223/223), 15.34 MiB | 21.08 MiB/s, done.\n",
            "Resolving deltas: 100% (113/113), done.\n"
          ]
        }
      ]
    },
    {
      "cell_type": "code",
      "source": [
        "from PRF import PRF"
      ],
      "metadata": {
        "id": "kEAoTkqbiWW9"
      },
      "execution_count": null,
      "outputs": []
    },
    {
      "cell_type": "code",
      "source": [
        "prf_cls = PRF.prf(n_estimators=10, bootstrap=True, keep_proba=0.01)\n",
        "prf_cls.fit( X=X_train, y=np.array(Y_train))\n",
        "Y_pred = prf_cls.predict(X_test)\n",
        "print('PRF: {}'.format(prf_cls.score(X=X_test, y=np.array(Y_test))))"
      ],
      "metadata": {
        "id": "fm-gbR94jHKD",
        "colab": {
          "base_uri": "https://localhost:8080/"
        },
        "outputId": "c3834568-318f-4de4-ccff-21d9cb7c5a97"
      },
      "execution_count": null,
      "outputs": [
        {
          "output_type": "stream",
          "name": "stdout",
          "text": [
            "PRF: 0.8852459016393442\n"
          ]
        }
      ]
    },
    {
      "cell_type": "code",
      "source": [
        "print(classification_report( Y_test , Y_pred ))\n",
        "cm = confusion_matrix(Y_test , Y_pred )\n",
        "plot_confusion_matrix(cm = cm , \n",
        "                      normalize    = True,\n",
        "                      target_names = ['CAGB', 'OAGB', 'PAGB', 'RSG', 'YSO'] ,\n",
        "                      title  = \"Confusion Matrix\",\n",
        "                      file_name = 'CSV.pdf',\n",
        "                      size = (5,5))"
      ],
      "metadata": {
        "id": "fsRS9KLviZJ6",
        "colab": {
          "base_uri": "https://localhost:8080/",
          "height": 562
        },
        "outputId": "c8f68622-082d-4cc9-9fda-479ab37b7db9"
      },
      "execution_count": null,
      "outputs": [
        {
          "output_type": "stream",
          "name": "stdout",
          "text": [
            "              precision    recall  f1-score   support\n",
            "\n",
            "           0       0.95      0.90      0.93        21\n",
            "           1       0.92      0.85      0.88        13\n",
            "           2       0.00      0.00      0.00         3\n",
            "           3       1.00      1.00      1.00         6\n",
            "           4       0.82      1.00      0.90        18\n",
            "\n",
            "    accuracy                           0.89        61\n",
            "   macro avg       0.74      0.75      0.74        61\n",
            "weighted avg       0.86      0.89      0.87        61\n",
            "\n"
          ]
        },
        {
          "output_type": "display_data",
          "data": {
            "text/plain": [
              "<Figure size 360x360 with 2 Axes>"
            ],
            "image/png": "[encoded data removed]"
          },
          "metadata": {
            "needs_background": "light"
          }
        }
      ]
    },
    {
      "cell_type": "code",
      "source": [
        "prf_cls = PRF.prf(n_estimators=10, bootstrap=True, keep_proba=0.1)\n",
        "prf_cls.fit( X=X_train, y=np.array(Y_train))\n",
        "Y_pred = prf_cls.predict(X_test)\n",
        "print('PRF: {}'.format(prf_cls.score(X=X_test, y=np.array(Y_test))))"
      ],
      "metadata": {
        "id": "2RiBh37xdu3D",
        "colab": {
          "base_uri": "https://localhost:8080/"
        },
        "outputId": "26383b55-d9f9-42e2-c81d-0959a26fc7f1"
      },
      "execution_count": null,
      "outputs": [
        {
          "output_type": "stream",
          "name": "stdout",
          "text": [
            "PRF: 0.9180327868852459\n"
          ]
        }
      ]
    },
    {
      "cell_type": "code",
      "source": [
        "print(classification_report( Y_test , Y_pred ))\n",
        "cm = confusion_matrix(Y_test , Y_pred )\n",
        "plot_confusion_matrix(cm = cm , \n",
        "                      normalize    = True,\n",
        "                      target_names = ['CAGB', 'OAGB', 'PAGB', 'RSG', 'YSO'] ,\n",
        "                      title  = \"Confusion Matrix\",\n",
        "                      file_name = 'CSV.pdf',\n",
        "                      size = (5,5))"
      ],
      "metadata": {
        "id": "V7o1NGh6kHbL",
        "colab": {
          "base_uri": "https://localhost:8080/",
          "height": 562
        },
        "outputId": "b8fce0bb-af7e-4257-8af0-a996feb51669"
      },
      "execution_count": null,
      "outputs": [
        {
          "output_type": "stream",
          "name": "stdout",
          "text": [
            "              precision    recall  f1-score   support\n",
            "\n",
            "           0       1.00      0.81      0.89        21\n",
            "           1       0.81      1.00      0.90        13\n",
            "           2       1.00      0.67      0.80         3\n",
            "           3       1.00      1.00      1.00         6\n",
            "           4       0.90      1.00      0.95        18\n",
            "\n",
            "    accuracy                           0.92        61\n",
            "   macro avg       0.94      0.90      0.91        61\n",
            "weighted avg       0.93      0.92      0.92        61\n",
            "\n"
          ]
        },
        {
          "output_type": "display_data",
          "data": {
            "text/plain": [
              "<Figure size 360x360 with 2 Axes>"
            ],
            "image/png": "[encoded data removed]"
          },
          "metadata": {
            "needs_background": "light"
          }
        }
      ]
    },
    {
      "cell_type": "code",
      "source": [
        "prf_cls = PRF.prf(n_estimators=10, bootstrap=True, keep_proba=0.5)\n",
        "prf_cls.fit( X=X_train, y=np.array(Y_train))\n",
        "Y_pred = prf_cls.predict(X_test)\n",
        "print('PRF: {}'.format(prf_cls.score(X=X_test, y=np.array(Y_test))))"
      ],
      "metadata": {
        "id": "Miyojs38dw0M",
        "colab": {
          "base_uri": "https://localhost:8080/"
        },
        "outputId": "2617d8c8-4ff1-40bb-d213-00612cbb1f13"
      },
      "execution_count": null,
      "outputs": [
        {
          "output_type": "stream",
          "name": "stdout",
          "text": [
            "PRF: 0.9016393442622951\n"
          ]
        }
      ]
    },
    {
      "cell_type": "code",
      "source": [
        "print(classification_report( Y_test , Y_pred ))\n",
        "cm = confusion_matrix(Y_test , Y_pred )\n",
        "plot_confusion_matrix(cm = cm , \n",
        "                      normalize    = True,\n",
        "                      target_names = ['CAGB', 'OAGB', 'PAGB', 'RSG', 'YSO'] ,\n",
        "                      title  = \"Confusion Matrix\",\n",
        "                      file_name = 'CSV.pdf',\n",
        "                      size = (5,5))"
      ],
      "metadata": {
        "id": "g5eywH8GkSIz",
        "colab": {
          "base_uri": "https://localhost:8080/",
          "height": 562
        },
        "outputId": "528dbbca-360f-437c-a2c1-ccc83f9c1f61"
      },
      "execution_count": null,
      "outputs": [
        {
          "output_type": "stream",
          "name": "stdout",
          "text": [
            "              precision    recall  f1-score   support\n",
            "\n",
            "           0       1.00      0.86      0.92        21\n",
            "           1       0.86      0.92      0.89        13\n",
            "           2       0.50      0.33      0.40         3\n",
            "           3       1.00      1.00      1.00         6\n",
            "           4       0.86      1.00      0.92        18\n",
            "\n",
            "    accuracy                           0.90        61\n",
            "   macro avg       0.84      0.82      0.83        61\n",
            "weighted avg       0.90      0.90      0.90        61\n",
            "\n"
          ]
        },
        {
          "output_type": "display_data",
          "data": {
            "text/plain": [
              "<Figure size 360x360 with 2 Axes>"
            ],
            "image/png": "[encoded data removed]"
          },
          "metadata": {
            "needs_background": "light"
          }
        }
      ]
    },
    {
      "cell_type": "code",
      "source": [
        "prf_cls = PRF.prf(n_estimators=10, bootstrap=True, keep_proba=0.3)\n",
        "prf_cls.fit( X=X_train, y=np.array(Y_train))\n",
        "Y_pred = prf_cls.predict(X_test)\n",
        "print('PRF: {}'.format(prf_cls.score(X=X_test, y=np.array(Y_test))))"
      ],
      "metadata": {
        "id": "danWm1Qddzmh",
        "colab": {
          "base_uri": "https://localhost:8080/"
        },
        "outputId": "06e35432-5170-4c40-da26-954ac09bd532"
      },
      "execution_count": null,
      "outputs": [
        {
          "output_type": "stream",
          "name": "stdout",
          "text": [
            "PRF: 0.9180327868852459\n"
          ]
        }
      ]
    },
    {
      "cell_type": "code",
      "source": [
        "print(classification_report( Y_test , Y_pred ))\n",
        "cm = confusion_matrix(Y_test , Y_pred )\n",
        "plot_confusion_matrix(cm = cm , \n",
        "                      normalize    = True,\n",
        "                      target_names = ['CAGB', 'OAGB', 'PAGB', 'RSG', 'YSO'] ,\n",
        "                      title  = \"Confusion Matrix\",\n",
        "                      file_name = 'CSV.pdf',\n",
        "                      size = (5,5))"
      ],
      "metadata": {
        "id": "BUnCDV77kWvF",
        "colab": {
          "base_uri": "https://localhost:8080/",
          "height": 562
        },
        "outputId": "20f667a0-2d63-4fa2-e720-e7c1ae4ae78e"
      },
      "execution_count": null,
      "outputs": [
        {
          "output_type": "stream",
          "name": "stdout",
          "text": [
            "              precision    recall  f1-score   support\n",
            "\n",
            "           0       0.95      0.90      0.93        21\n",
            "           1       0.93      1.00      0.96        13\n",
            "           2       1.00      0.33      0.50         3\n",
            "           3       1.00      1.00      1.00         6\n",
            "           4       0.85      0.94      0.89        18\n",
            "\n",
            "    accuracy                           0.92        61\n",
            "   macro avg       0.95      0.84      0.86        61\n",
            "weighted avg       0.92      0.92      0.91        61\n",
            "\n"
          ]
        },
        {
          "output_type": "display_data",
          "data": {
            "text/plain": [
              "<Figure size 360x360 with 2 Axes>"
            ],
            "image/png": "[encoded data removed]"
          },
          "metadata": {
            "needs_background": "light"
          }
        }
      ]
    },
    {
      "cell_type": "code",
      "source": [
        "prf_cls = PRF.prf(n_estimators=10, bootstrap=True, keep_proba=0.8)\n",
        "prf_cls.fit( X=X_train, y=np.array(Y_train))\n",
        "Y_pred = prf_cls.predict(X_test)\n",
        "print('PRF: {}'.format(prf_cls.score(X=X_test, y=np.array(Y_test))))"
      ],
      "metadata": {
        "colab": {
          "base_uri": "https://localhost:8080/"
        },
        "outputId": "94620724-71e4-4367-b54b-835031e8ed68",
        "id": "RHIXOAO1M5c3"
      },
      "execution_count": null,
      "outputs": [
        {
          "output_type": "stream",
          "name": "stdout",
          "text": [
            "PRF: 0.8852459016393442\n"
          ]
        }
      ]
    },
    {
      "cell_type": "code",
      "source": [
        "print(classification_report( Y_test , Y_pred ))\n",
        "cm = confusion_matrix(Y_test , Y_pred )\n",
        "plot_confusion_matrix(cm = cm , \n",
        "                      normalize    = True,\n",
        "                      target_names = ['CAGB', 'OAGB', 'PAGB', 'RSG', 'YSO'] ,\n",
        "                      title  = \"Confusion Matrix\",\n",
        "                      file_name = 'CSV.pdf',\n",
        "                      size = (5,5))"
      ],
      "metadata": {
        "colab": {
          "base_uri": "https://localhost:8080/",
          "height": 562
        },
        "outputId": "c2cc4b47-dfc9-46e8-9ab1-8626b5bdb482",
        "id": "WK22zl1dM5c3"
      },
      "execution_count": null,
      "outputs": [
        {
          "output_type": "stream",
          "name": "stdout",
          "text": [
            "              precision    recall  f1-score   support\n",
            "\n",
            "           0       0.86      0.90      0.88        21\n",
            "           1       1.00      0.85      0.92        13\n",
            "           2       0.50      0.33      0.40         3\n",
            "           3       0.86      1.00      0.92         6\n",
            "           4       0.89      0.94      0.92        18\n",
            "\n",
            "    accuracy                           0.89        61\n",
            "   macro avg       0.82      0.81      0.81        61\n",
            "weighted avg       0.88      0.89      0.88        61\n",
            "\n"
          ]
        },
        {
          "output_type": "display_data",
          "data": {
            "text/plain": [
              "<Figure size 360x360 with 2 Axes>"
            ],
            "image/png": "[encoded data removed]"
          },
          "metadata": {
            "needs_background": "light"
          }
        }
      ]
    },
    {
      "cell_type": "code",
      "source": [
        "prf_cls = PRF.prf(n_estimators=100, bootstrap=True, keep_proba=0.1)\n",
        "prf_cls.fit( X=X_train, y=np.array(Y_train))\n",
        "Y_pred = prf_cls.predict(X_test)\n",
        "print('PRF: {}'.format(prf_cls.score(X=X_test, y=np.array(Y_test))))"
      ],
      "metadata": {
        "colab": {
          "base_uri": "https://localhost:8080/"
        },
        "outputId": "995798ad-8ea1-46f0-a215-391fcae9934c",
        "id": "0PlKV24bM6GW"
      },
      "execution_count": null,
      "outputs": [
        {
          "output_type": "stream",
          "name": "stdout",
          "text": [
            "PRF: 0.9016393442622951\n"
          ]
        }
      ]
    },
    {
      "cell_type": "code",
      "source": [
        "print(classification_report( Y_test , Y_pred ))\n",
        "cm = confusion_matrix(Y_test , Y_pred )\n",
        "plot_confusion_matrix(cm = cm , \n",
        "                      normalize    = True,\n",
        "                      target_names = ['CAGB', 'OAGB', 'PAGB', 'RSG', 'YSO'] ,\n",
        "                      title  = \"Confusion Matrix\",\n",
        "                      file_name = 'CSV.pdf',\n",
        "                      size = (5,5))"
      ],
      "metadata": {
        "colab": {
          "base_uri": "https://localhost:8080/",
          "height": 562
        },
        "outputId": "c3b86856-3818-4e20-fc11-c05c6edd8950",
        "id": "Kwt4Wi3FM6GX"
      },
      "execution_count": null,
      "outputs": [
        {
          "output_type": "stream",
          "name": "stdout",
          "text": [
            "              precision    recall  f1-score   support\n",
            "\n",
            "           0       1.00      0.86      0.92        21\n",
            "           1       0.86      0.92      0.89        13\n",
            "           2       0.50      0.33      0.40         3\n",
            "           3       1.00      1.00      1.00         6\n",
            "           4       0.86      1.00      0.92        18\n",
            "\n",
            "    accuracy                           0.90        61\n",
            "   macro avg       0.84      0.82      0.83        61\n",
            "weighted avg       0.90      0.90      0.90        61\n",
            "\n"
          ]
        },
        {
          "output_type": "display_data",
          "data": {
            "text/plain": [
              "<Figure size 360x360 with 2 Axes>"
            ],
            "image/png": "[encoded data removed]"
          },
          "metadata": {
            "needs_background": "light"
          }
        }
      ]
    },
    {
      "cell_type": "code",
      "source": [
        "import pickle\n",
        "# Save the trained model as a pickle string.\n",
        "saved_model = pickle.dumps(prf_cls)"
      ],
      "metadata": {
        "id": "RIlOoNJjl9Ow"
      },
      "execution_count": null,
      "outputs": []
    },
    {
      "cell_type": "code",
      "source": [
        "knn_from_pickle = pickle.loads(saved_model)  \n",
        "# Use the loaded pickled model to make predictions\n",
        "knn_from_pickle.predict(X_test)"
      ],
      "metadata": {
        "id": "ulmTn_-OmKZo",
        "colab": {
          "base_uri": "https://localhost:8080/"
        },
        "outputId": "5bac8b90-f12c-406f-ba1f-af390fe41c4e"
      },
      "execution_count": null,
      "outputs": [
        {
          "output_type": "execute_result",
          "data": {
            "text/plain": [
              "array([4, 4, 0, 1, 3, 0, 0, 4, 0, 0, 0, 4, 2, 1, 4, 4, 1, 3, 1, 0, 2, 0,\n",
              "       0, 3, 0, 4, 0, 1, 0, 4, 0, 4, 1, 3, 3, 0, 1, 0, 4, 0, 3, 1, 4, 1,\n",
              "       4, 0, 4, 4, 3, 0, 1, 4, 4, 4, 4, 4, 4, 4, 1, 0, 1])"
            ]
          },
          "metadata": {},
          "execution_count": 44
        }
      ]
    },
    {
      "cell_type": "code",
      "source": [
        "from joblib import dump, load\n",
        "dump(prf_cls,'PRF-08-10-92-0.joblib')"
      ],
      "metadata": {
        "id": "MXKiCqnpoR3O"
      },
      "execution_count": null,
      "outputs": []
    },
    {
      "cell_type": "code",
      "source": [
        "model_name = 'PRF-08-10-92-0'\n",
        "address = model_name + '.joblib'\n",
        "clf = load(address)\n",
        "Y_pred_save_model = clf.predict(X_test)"
      ],
      "metadata": {
        "id": "hIMmkUggUbU-"
      },
      "execution_count": null,
      "outputs": []
    },
    {
      "cell_type": "code",
      "source": [
        "print(classification_report( Y_test , Y_pred_save_model ))\n",
        "cm = confusion_matrix(Y_test , Y_pred_save_model )"
      ],
      "metadata": {
        "id": "diobFTB6qBoS",
        "colab": {
          "base_uri": "https://localhost:8080/"
        },
        "outputId": "23629bab-06b4-4592-eafb-9865f39dd95f"
      },
      "execution_count": null,
      "outputs": [
        {
          "output_type": "stream",
          "name": "stdout",
          "text": [
            "              precision    recall  f1-score   support\n",
            "\n",
            "           0       1.00      0.95      0.98        21\n",
            "           1       1.00      1.00      1.00        13\n",
            "           2       1.00      1.00      1.00         3\n",
            "           3       1.00      1.00      1.00         6\n",
            "           4       0.95      1.00      0.97        18\n",
            "\n",
            "    accuracy                           0.98        61\n",
            "   macro avg       0.99      0.99      0.99        61\n",
            "weighted avg       0.98      0.98      0.98        61\n",
            "\n"
          ]
        }
      ]
    },
    {
      "cell_type": "code",
      "source": [
        "plot_confusion_matrix(cm = cm , \n",
        "                      normalize    = True,\n",
        "                      target_names = ['CAGB', 'OAGB', 'PAGB', 'RSG', 'YSO'] ,\n",
        "                      title  = \"Confusion Matrix\",\n",
        "                      file_name = model_name +'_CM.pdf',\n",
        "                      size = (5,5))"
      ],
      "metadata": {
        "colab": {
          "base_uri": "https://localhost:8080/",
          "height": 354
        },
        "id": "4maVdGBkKUQx",
        "outputId": "dcd775d7-bb67-4235-9f25-ce645e70597b"
      },
      "execution_count": null,
      "outputs": [
        {
          "output_type": "display_data",
          "data": {
            "text/plain": [
              "<Figure size 360x360 with 2 Axes>"
            ],
            "image/png": "[encoded data removed]"
          },
          "metadata": {
            "needs_background": "light"
          }
        }
      ]
    },
    {
      "cell_type": "code",
      "source": [
        "Address_directory = '/content/drive/MyDrive/IPM/Dusty Stellar Sources Classification/Models/'\n",
        "Models = ['PRF-03-10-98-2', 'PRF-08-10-98-1', 'PRF-08-50-93-0', 'PRF-09-10-92-0'] "
      ],
      "metadata": {
        "id": "UChmeB8ANcPm"
      },
      "execution_count": null,
      "outputs": []
    },
    {
      "cell_type": "code",
      "source": [
        "for i in Models:\n",
        "  model_name = i\n",
        "  address = Address_directory + model_name + '.joblib'\n",
        "  clf = load(address)\n",
        "  Y_pred_save_model = clf.predict(X_test)\n",
        "  Model_name = i.split('-')[0]\n",
        "  keep_proba = i.split('-')[1].split('0')[1]\n",
        "  n_stimator = i.split('-')[2]\n",
        "  print('======================================================')\n",
        "  print('Model_name: ' + Model_name)\n",
        "  print('Parameters: ')\n",
        "  print('   keep_proba = 0.' + keep_proba)\n",
        "  print('   n_stimator = ' + n_stimator)\n",
        "  print('======================================================')\n",
        "  print(classification_report( Y_test , Y_pred_save_model ))\n",
        "  cm = confusion_matrix(Y_test , Y_pred_save_model )\n",
        "  plot_confusion_matrix(cm = cm , \n",
        "                      normalize    = True,\n",
        "                      target_names = ['CAGB', 'OAGB', 'PAGB', 'RSG', 'YSO'] ,\n",
        "                      title  = \"Confusion Matrix\",\n",
        "                      file_name = model_name +'_CM.pdf',\n",
        "                      size = (5,5))"
      ],
      "metadata": {
        "id": "zFzSpQ1hosYS",
        "colab": {
          "base_uri": "https://localhost:8080/",
          "height": 1000
        },
        "outputId": "2dd9115d-f260-4356-9c7c-aba6fa3b5d69"
      },
      "execution_count": null,
      "outputs": [
        {
          "output_type": "stream",
          "name": "stdout",
          "text": [
            "======================================================\n",
            "Model_name: PRF\n",
            "Parameters: \n",
            "   keep_proba = 0.3\n",
            "   n_stimator = 10\n",
            "======================================================\n",
            "              precision    recall  f1-score   support\n",
            "\n",
            "           0       1.00      1.00      1.00        21\n",
            "           1       1.00      1.00      1.00        13\n",
            "           2       1.00      0.67      0.80         3\n",
            "           3       1.00      1.00      1.00         6\n",
            "           4       0.95      1.00      0.97        18\n",
            "\n",
            "    accuracy                           0.98        61\n",
            "   macro avg       0.99      0.93      0.95        61\n",
            "weighted avg       0.98      0.98      0.98        61\n",
            "\n"
          ]
        },
        {
          "output_type": "display_data",
          "data": {
            "text/plain": [
              "<Figure size 360x360 with 2 Axes>"
            ],
            "image/png": "[encoded data removed]"
          },
          "metadata": {
            "needs_background": "light"
          }
        },
        {
          "output_type": "stream",
          "name": "stdout",
          "text": [
            "======================================================\n",
            "Model_name: PRF\n",
            "Parameters: \n",
            "   keep_proba = 0.8\n",
            "   n_stimator = 10\n",
            "======================================================\n",
            "              precision    recall  f1-score   support\n",
            "\n",
            "           0       1.00      0.95      0.98        21\n",
            "           1       1.00      1.00      1.00        13\n",
            "           2       1.00      1.00      1.00         3\n",
            "           3       1.00      1.00      1.00         6\n",
            "           4       0.95      1.00      0.97        18\n",
            "\n",
            "    accuracy                           0.98        61\n",
            "   macro avg       0.99      0.99      0.99        61\n",
            "weighted avg       0.98      0.98      0.98        61\n",
            "\n"
          ]
        },
        {
          "output_type": "display_data",
          "data": {
            "text/plain": [
              "<Figure size 360x360 with 2 Axes>"
            ],
            "image/png": "[encoded data removed]"
          },
          "metadata": {
            "needs_background": "light"
          }
        },
        {
          "output_type": "stream",
          "name": "stdout",
          "text": [
            "======================================================\n",
            "Model_name: PRF\n",
            "Parameters: \n",
            "   keep_proba = 0.8\n",
            "   n_stimator = 50\n",
            "======================================================\n",
            "              precision    recall  f1-score   support\n",
            "\n",
            "           0       1.00      0.90      0.95        21\n",
            "           1       1.00      1.00      1.00        13\n",
            "           2       1.00      0.33      0.50         3\n",
            "           3       0.86      1.00      0.92         6\n",
            "           4       0.86      1.00      0.92        18\n",
            "\n",
            "    accuracy                           0.93        61\n",
            "   macro avg       0.94      0.85      0.86        61\n",
            "weighted avg       0.94      0.93      0.93        61\n",
            "\n"
          ]
        },
        {
          "output_type": "display_data",
          "data": {
            "text/plain": [
              "<Figure size 360x360 with 2 Axes>"
            ],
            "image/png": "[encoded data removed]"
          },
          "metadata": {
            "needs_background": "light"
          }
        },
        {
          "output_type": "stream",
          "name": "stdout",
          "text": [
            "======================================================\n",
            "Model_name: PRF\n",
            "Parameters: \n",
            "   keep_proba = 0.9\n",
            "   n_stimator = 10\n",
            "======================================================\n",
            "              precision    recall  f1-score   support\n",
            "\n",
            "           0       0.95      0.90      0.93        21\n",
            "           1       0.92      0.85      0.88        13\n",
            "           2       0.67      0.67      0.67         3\n",
            "           3       1.00      1.00      1.00         6\n",
            "           4       0.90      1.00      0.95        18\n",
            "\n",
            "    accuracy                           0.92        61\n",
            "   macro avg       0.89      0.88      0.88        61\n",
            "weighted avg       0.92      0.92      0.92        61\n",
            "\n"
          ]
        },
        {
          "output_type": "display_data",
          "data": {
            "text/plain": [
              "<Figure size 360x360 with 2 Axes>"
            ],
            "image/png": "[encoded data removed]"
          },
          "metadata": {
            "needs_background": "light"
          }
        }
      ]
    },
    {
      "cell_type": "markdown",
      "source": [
        "# SVC"
      ],
      "metadata": {
        "id": "0-qR7BTSgO0F"
      }
    },
    {
      "cell_type": "code",
      "source": [
        "%%time\n",
        "from sklearn.svm import SVC\n",
        "from sklearn.model_selection import GridSearchCV\n",
        "SVC = SVC()\n",
        "par = [\n",
        "       { 'kernel': ['poly'] ,\n",
        "         'degree' : list(np.arange(1,20,1)),\n",
        "         'gamma' : list(np.arange(0.2 , 2 , 0.2 )) + ['scale','auto'] ,\n",
        "         'C': list(np.arange(0.1 , 0.5 , 0.1 ))\n",
        "        }\n",
        "       ]\n",
        "GS = GridSearchCV(SVC, param_grid=par, cv = 4, scoring = None )\n",
        "GS.fit(X_train, Y_train)"
      ],
      "metadata": {
        "id": "aIJziXK4ft-P",
        "colab": {
          "base_uri": "https://localhost:8080/",
          "height": 151
        },
        "outputId": "d65eaa61-2fc2-49a7-d562-3935322eb07e"
      },
      "execution_count": null,
      "outputs": [
        {
          "output_type": "stream",
          "name": "stdout",
          "text": [
            "CPU times: user 3min 29s, sys: 286 ms, total: 3min 29s\n",
            "Wall time: 3min 36s\n"
          ]
        },
        {
          "output_type": "execute_result",
          "data": {
            "text/plain": [
              "GridSearchCV(cv=4, estimator=SVC(),\n",
              "             param_grid=[{'C': [0.1, 0.2, 0.30000000000000004, 0.4],\n",
              "                          'degree': [1, 2, 3, 4, 5, 6, 7, 8, 9, 10, 11, 12, 13,\n",
              "                                     14, 15, 16, 17, 18, 19],\n",
              "                          'gamma': [0.2, 0.4, 0.6000000000000001, 0.8, 1.0, 1.2,\n",
              "                                    1.4000000000000001, 1.6, 1.8, 'scale',\n",
              "                                    'auto'],\n",
              "                          'kernel': ['poly']}])"
            ],
            "text/html": [
              "<style>#sk-container-id-4 {color: black;background-color: white;}#sk-container-id-4 pre{padding: 0;}#sk-container-id-4 div.sk-toggleable {background-color: white;}#sk-container-id-4 label.sk-toggleable__label {cursor: pointer;display: block;width: 100%;margin-bottom: 0;padding: 0.3em;box-sizing: border-box;text-align: center;}#sk-container-id-4 label.sk-toggleable__label-arrow:before {content: \"▸\";float: left;margin-right: 0.25em;color: #696969;}#sk-container-id-4 label.sk-toggleable__label-arrow:hover:before {color: black;}#sk-container-id-4 div.sk-estimator:hover label.sk-toggleable__label-arrow:before {color: black;}#sk-container-id-4 div.sk-toggleable__content {max-height: 0;max-width: 0;overflow: hidden;text-align: left;background-color: #f0f8ff;}#sk-container-id-4 div.sk-toggleable__content pre {margin: 0.2em;color: black;border-radius: 0.25em;background-color: #f0f8ff;}#sk-container-id-4 input.sk-toggleable__control:checked~div.sk-toggleable__content {max-height: 200px;max-width: 100%;overflow: auto;}#sk-container-id-4 input.sk-toggleable__control:checked~label.sk-toggleable__label-arrow:before {content: \"▾\";}#sk-container-id-4 div.sk-estimator input.sk-toggleable__control:checked~label.sk-toggleable__label {background-color: #d4ebff;}#sk-container-id-4 div.sk-label input.sk-toggleable__control:checked~label.sk-toggleable__label {background-color: #d4ebff;}#sk-container-id-4 input.sk-hidden--visually {border: 0;clip: rect(1px 1px 1px 1px);clip: rect(1px, 1px, 1px, 1px);height: 1px;margin: -1px;overflow: hidden;padding: 0;position: absolute;width: 1px;}#sk-container-id-4 div.sk-estimator {font-family: monospace;background-color: #f0f8ff;border: 1px dotted black;border-radius: 0.25em;box-sizing: border-box;margin-bottom: 0.5em;}#sk-container-id-4 div.sk-estimator:hover {background-color: #d4ebff;}#sk-container-id-4 div.sk-parallel-item::after {content: \"\";width: 100%;border-bottom: 1px solid gray;flex-grow: 1;}#sk-container-id-4 div.sk-label:hover label.sk-toggleable__label {background-color: #d4ebff;}#sk-container-id-4 div.sk-serial::before {content: \"\";position: absolute;border-left: 1px solid gray;box-sizing: border-box;top: 0;bottom: 0;left: 50%;z-index: 0;}#sk-container-id-4 div.sk-serial {display: flex;flex-direction: column;align-items: center;background-color: white;padding-right: 0.2em;padding-left: 0.2em;position: relative;}#sk-container-id-4 div.sk-item {position: relative;z-index: 1;}#sk-container-id-4 div.sk-parallel {display: flex;align-items: stretch;justify-content: center;background-color: white;position: relative;}#sk-container-id-4 div.sk-item::before, #sk-container-id-4 div.sk-parallel-item::before {content: \"\";position: absolute;border-left: 1px solid gray;box-sizing: border-box;top: 0;bottom: 0;left: 50%;z-index: -1;}#sk-container-id-4 div.sk-parallel-item {display: flex;flex-direction: column;z-index: 1;position: relative;background-color: white;}#sk-container-id-4 div.sk-parallel-item:first-child::after {align-self: flex-end;width: 50%;}#sk-container-id-4 div.sk-parallel-item:last-child::after {align-self: flex-start;width: 50%;}#sk-container-id-4 div.sk-parallel-item:only-child::after {width: 0;}#sk-container-id-4 div.sk-dashed-wrapped {border: 1px dashed gray;margin: 0 0.4em 0.5em 0.4em;box-sizing: border-box;padding-bottom: 0.4em;background-color: white;}#sk-container-id-4 div.sk-label label {font-family: monospace;font-weight: bold;display: inline-block;line-height: 1.2em;}#sk-container-id-4 div.sk-label-container {text-align: center;}#sk-container-id-4 div.sk-container {/* jupyter's `normalize.less` sets `[hidden] { display: none; }` but bootstrap.min.css set `[hidden] { display: none !important; }` so we also need the `!important` here to be able to override the default hidden behavior on the sphinx rendered scikit-learn.org. See: https://github.com/scikit-learn/scikit-learn/issues/21755 */display: inline-block !important;position: relative;}#sk-container-id-4 div.sk-text-repr-fallback {display: none;}</style><div id=\"sk-container-id-4\" class=\"sk-top-container\"><div class=\"sk-text-repr-fallback\"><pre>GridSearchCV(cv=4, estimator=SVC(),\n",
              "             param_grid=[{&#x27;C&#x27;: [0.1, 0.2, 0.30000000000000004, 0.4],\n",
              "                          &#x27;degree&#x27;: [1, 2, 3, 4, 5, 6, 7, 8, 9, 10, 11, 12, 13,\n",
              "                                     14, 15, 16, 17, 18, 19],\n",
              "                          &#x27;gamma&#x27;: [0.2, 0.4, 0.6000000000000001, 0.8, 1.0, 1.2,\n",
              "                                    1.4000000000000001, 1.6, 1.8, &#x27;scale&#x27;,\n",
              "                                    &#x27;auto&#x27;],\n",
              "                          &#x27;kernel&#x27;: [&#x27;poly&#x27;]}])</pre><b>In a Jupyter environment, please rerun this cell to show the HTML representation or trust the notebook. <br />On GitHub, the HTML representation is unable to render, please try loading this page with nbviewer.org.</b></div><div class=\"sk-container\" hidden><div class=\"sk-item sk-dashed-wrapped\"><div class=\"sk-label-container\"><div class=\"sk-label sk-toggleable\"><input class=\"sk-toggleable__control sk-hidden--visually\" id=\"sk-estimator-id-10\" type=\"checkbox\" ><label for=\"sk-estimator-id-10\" class=\"sk-toggleable__label sk-toggleable__label-arrow\">GridSearchCV</label><div class=\"sk-toggleable__content\"><pre>GridSearchCV(cv=4, estimator=SVC(),\n",
              "             param_grid=[{&#x27;C&#x27;: [0.1, 0.2, 0.30000000000000004, 0.4],\n",
              "                          &#x27;degree&#x27;: [1, 2, 3, 4, 5, 6, 7, 8, 9, 10, 11, 12, 13,\n",
              "                                     14, 15, 16, 17, 18, 19],\n",
              "                          &#x27;gamma&#x27;: [0.2, 0.4, 0.6000000000000001, 0.8, 1.0, 1.2,\n",
              "                                    1.4000000000000001, 1.6, 1.8, &#x27;scale&#x27;,\n",
              "                                    &#x27;auto&#x27;],\n",
              "                          &#x27;kernel&#x27;: [&#x27;poly&#x27;]}])</pre></div></div></div><div class=\"sk-parallel\"><div class=\"sk-parallel-item\"><div class=\"sk-item\"><div class=\"sk-label-container\"><div class=\"sk-label sk-toggleable\"><input class=\"sk-toggleable__control sk-hidden--visually\" id=\"sk-estimator-id-11\" type=\"checkbox\" ><label for=\"sk-estimator-id-11\" class=\"sk-toggleable__label sk-toggleable__label-arrow\">estimator: SVC</label><div class=\"sk-toggleable__content\"><pre>SVC()</pre></div></div></div><div class=\"sk-serial\"><div class=\"sk-item\"><div class=\"sk-estimator sk-toggleable\"><input class=\"sk-toggleable__control sk-hidden--visually\" id=\"sk-estimator-id-12\" type=\"checkbox\" ><label for=\"sk-estimator-id-12\" class=\"sk-toggleable__label sk-toggleable__label-arrow\">SVC</label><div class=\"sk-toggleable__content\"><pre>SVC()</pre></div></div></div></div></div></div></div></div></div></div>"
            ]
          },
          "metadata": {},
          "execution_count": 32
        }
      ]
    },
    {
      "cell_type": "code",
      "source": [
        "print(GS.best_score_)\n",
        "print(GS.best_params_)"
      ],
      "metadata": {
        "id": "ZUHn_JkfhsmE",
        "colab": {
          "base_uri": "https://localhost:8080/"
        },
        "outputId": "a6020623-d80a-433b-e527-4b00ac46b04b"
      },
      "execution_count": null,
      "outputs": [
        {
          "output_type": "stream",
          "name": "stdout",
          "text": [
            "0.8958243881494203\n",
            "{'C': 0.2, 'degree': 4, 'gamma': 1.4000000000000001, 'kernel': 'poly'}\n"
          ]
        }
      ]
    },
    {
      "cell_type": "code",
      "source": [
        "from sklearn.svm import SVC\n",
        "SV_model = SVC(kernel='poly' , degree = 4 ,C= 0.2 , gamma = 1.4 )\n",
        "SV_model.fit(X_train, Y_train)\n",
        "Y_pred = SV_model.predict(X_test)\n",
        "\n",
        "print(classification_report( Y_test , Y_pred ))"
      ],
      "metadata": {
        "id": "kWEsb3m420ck",
        "colab": {
          "base_uri": "https://localhost:8080/"
        },
        "outputId": "d40c6c3c-36af-4e15-9a55-43071ce58b87"
      },
      "execution_count": null,
      "outputs": [
        {
          "output_type": "stream",
          "name": "stdout",
          "text": [
            "              precision    recall  f1-score   support\n",
            "\n",
            "           0       0.94      0.81      0.87        21\n",
            "           1       0.79      0.85      0.81        13\n",
            "           2       0.33      0.33      0.33         3\n",
            "           3       0.86      1.00      0.92         6\n",
            "           4       0.84      0.89      0.86        18\n",
            "\n",
            "    accuracy                           0.84        61\n",
            "   macro avg       0.75      0.78      0.76        61\n",
            "weighted avg       0.84      0.84      0.84        61\n",
            "\n"
          ]
        }
      ]
    },
    {
      "cell_type": "code",
      "source": [
        "from joblib import dump, load\n",
        "dump(SV_model,'SVC-poly-84-0.joblib')"
      ],
      "metadata": {
        "colab": {
          "base_uri": "https://localhost:8080/"
        },
        "outputId": "bf040d13-24e2-44ab-e459-6ffa8468948a",
        "id": "cclgtJDLmd0c"
      },
      "execution_count": null,
      "outputs": [
        {
          "output_type": "execute_result",
          "data": {
            "text/plain": [
              "['SVC-poly-84-0.joblib']"
            ]
          },
          "metadata": {},
          "execution_count": 68
        }
      ]
    },
    {
      "cell_type": "code",
      "source": [
        "model_name = 'SVC-poly-84-0'\n",
        "address = model_name + '.joblib'\n",
        "clf = load(address)\n",
        "Y_pred_save_model = clf.predict(X_test)"
      ],
      "metadata": {
        "id": "rOhPS4iXmd1L"
      },
      "execution_count": null,
      "outputs": []
    },
    {
      "cell_type": "code",
      "source": [
        "print(classification_report( Y_test , Y_pred_save_model ))\n",
        "cm = confusion_matrix(Y_test , Y_pred_save_model )"
      ],
      "metadata": {
        "colab": {
          "base_uri": "https://localhost:8080/"
        },
        "outputId": "96b83a72-f209-4077-883e-fd5f039e3e58",
        "id": "uTMF4LIGmd1M"
      },
      "execution_count": null,
      "outputs": [
        {
          "output_type": "stream",
          "name": "stdout",
          "text": [
            "              precision    recall  f1-score   support\n",
            "\n",
            "           0       0.94      0.81      0.87        21\n",
            "           1       0.79      0.85      0.81        13\n",
            "           2       0.33      0.33      0.33         3\n",
            "           3       0.86      1.00      0.92         6\n",
            "           4       0.84      0.89      0.86        18\n",
            "\n",
            "    accuracy                           0.84        61\n",
            "   macro avg       0.75      0.78      0.76        61\n",
            "weighted avg       0.84      0.84      0.84        61\n",
            "\n"
          ]
        }
      ]
    },
    {
      "cell_type": "code",
      "source": [
        "plot_confusion_matrix(cm = cm , \n",
        "                      normalize    = True,\n",
        "                      target_names = ['CAGB', 'OAGB', 'PAGB', 'RSG', 'YSO'] ,\n",
        "                      title  = \"Confusion Matrix\",\n",
        "                      file_name = model_name +'_CM.pdf',\n",
        "                      size = (5,5))"
      ],
      "metadata": {
        "colab": {
          "base_uri": "https://localhost:8080/",
          "height": 354
        },
        "outputId": "54dff170-1c95-4be7-e4db-6e099f6ad53f",
        "id": "3xd9pB3Lmd1N"
      },
      "execution_count": null,
      "outputs": [
        {
          "output_type": "display_data",
          "data": {
            "text/plain": [
              "<Figure size 360x360 with 2 Axes>"
            ],
            "image/png": "[encoded data removed]"
          },
          "metadata": {
            "needs_background": "light"
          }
        }
      ]
    },
    {
      "cell_type": "code",
      "source": [
        "%%time\n",
        "from sklearn.svm import SVC\n",
        "from sklearn.model_selection import GridSearchCV\n",
        "SVC = SVC()\n",
        "par = [\n",
        "       { 'kernel': ['linear', 'rbf'] ,\n",
        "         'gamma' : list(np.arange(0.2 , 2 , 0.2 )) + ['scale','auto'] ,\n",
        "         'C': list(np.arange(0.1 , 0.5 , 0.1 ))\n",
        "        }\n",
        "       ]\n",
        "GS = GridSearchCV(SVC, param_grid=par, cv = 4 , scoring=None)\n",
        "GS.fit(X_train, Y_train)"
      ],
      "metadata": {
        "id": "HYbBO1s2iDUM",
        "colab": {
          "base_uri": "https://localhost:8080/",
          "height": 151
        },
        "outputId": "7b7d6f1d-f28c-49ec-d194-8cf22876af7a"
      },
      "execution_count": null,
      "outputs": [
        {
          "output_type": "stream",
          "name": "stdout",
          "text": [
            "CPU times: user 2.96 s, sys: 4.94 ms, total: 2.97 s\n",
            "Wall time: 2.96 s\n"
          ]
        },
        {
          "output_type": "execute_result",
          "data": {
            "text/plain": [
              "GridSearchCV(cv=4, estimator=SVC(),\n",
              "             param_grid=[{'C': [0.1, 0.2, 0.30000000000000004, 0.4],\n",
              "                          'gamma': [0.2, 0.4, 0.6000000000000001, 0.8, 1.0, 1.2,\n",
              "                                    1.4000000000000001, 1.6, 1.8, 'scale',\n",
              "                                    'auto'],\n",
              "                          'kernel': ['linear', 'rbf']}])"
            ],
            "text/html": [
              "<style>#sk-container-id-7 {color: black;background-color: white;}#sk-container-id-7 pre{padding: 0;}#sk-container-id-7 div.sk-toggleable {background-color: white;}#sk-container-id-7 label.sk-toggleable__label {cursor: pointer;display: block;width: 100%;margin-bottom: 0;padding: 0.3em;box-sizing: border-box;text-align: center;}#sk-container-id-7 label.sk-toggleable__label-arrow:before {content: \"▸\";float: left;margin-right: 0.25em;color: #696969;}#sk-container-id-7 label.sk-toggleable__label-arrow:hover:before {color: black;}#sk-container-id-7 div.sk-estimator:hover label.sk-toggleable__label-arrow:before {color: black;}#sk-container-id-7 div.sk-toggleable__content {max-height: 0;max-width: 0;overflow: hidden;text-align: left;background-color: #f0f8ff;}#sk-container-id-7 div.sk-toggleable__content pre {margin: 0.2em;color: black;border-radius: 0.25em;background-color: #f0f8ff;}#sk-container-id-7 input.sk-toggleable__control:checked~div.sk-toggleable__content {max-height: 200px;max-width: 100%;overflow: auto;}#sk-container-id-7 input.sk-toggleable__control:checked~label.sk-toggleable__label-arrow:before {content: \"▾\";}#sk-container-id-7 div.sk-estimator input.sk-toggleable__control:checked~label.sk-toggleable__label {background-color: #d4ebff;}#sk-container-id-7 div.sk-label input.sk-toggleable__control:checked~label.sk-toggleable__label {background-color: #d4ebff;}#sk-container-id-7 input.sk-hidden--visually {border: 0;clip: rect(1px 1px 1px 1px);clip: rect(1px, 1px, 1px, 1px);height: 1px;margin: -1px;overflow: hidden;padding: 0;position: absolute;width: 1px;}#sk-container-id-7 div.sk-estimator {font-family: monospace;background-color: #f0f8ff;border: 1px dotted black;border-radius: 0.25em;box-sizing: border-box;margin-bottom: 0.5em;}#sk-container-id-7 div.sk-estimator:hover {background-color: #d4ebff;}#sk-container-id-7 div.sk-parallel-item::after {content: \"\";width: 100%;border-bottom: 1px solid gray;flex-grow: 1;}#sk-container-id-7 div.sk-label:hover label.sk-toggleable__label {background-color: #d4ebff;}#sk-container-id-7 div.sk-serial::before {content: \"\";position: absolute;border-left: 1px solid gray;box-sizing: border-box;top: 0;bottom: 0;left: 50%;z-index: 0;}#sk-container-id-7 div.sk-serial {display: flex;flex-direction: column;align-items: center;background-color: white;padding-right: 0.2em;padding-left: 0.2em;position: relative;}#sk-container-id-7 div.sk-item {position: relative;z-index: 1;}#sk-container-id-7 div.sk-parallel {display: flex;align-items: stretch;justify-content: center;background-color: white;position: relative;}#sk-container-id-7 div.sk-item::before, #sk-container-id-7 div.sk-parallel-item::before {content: \"\";position: absolute;border-left: 1px solid gray;box-sizing: border-box;top: 0;bottom: 0;left: 50%;z-index: -1;}#sk-container-id-7 div.sk-parallel-item {display: flex;flex-direction: column;z-index: 1;position: relative;background-color: white;}#sk-container-id-7 div.sk-parallel-item:first-child::after {align-self: flex-end;width: 50%;}#sk-container-id-7 div.sk-parallel-item:last-child::after {align-self: flex-start;width: 50%;}#sk-container-id-7 div.sk-parallel-item:only-child::after {width: 0;}#sk-container-id-7 div.sk-dashed-wrapped {border: 1px dashed gray;margin: 0 0.4em 0.5em 0.4em;box-sizing: border-box;padding-bottom: 0.4em;background-color: white;}#sk-container-id-7 div.sk-label label {font-family: monospace;font-weight: bold;display: inline-block;line-height: 1.2em;}#sk-container-id-7 div.sk-label-container {text-align: center;}#sk-container-id-7 div.sk-container {/* jupyter's `normalize.less` sets `[hidden] { display: none; }` but bootstrap.min.css set `[hidden] { display: none !important; }` so we also need the `!important` here to be able to override the default hidden behavior on the sphinx rendered scikit-learn.org. See: https://github.com/scikit-learn/scikit-learn/issues/21755 */display: inline-block !important;position: relative;}#sk-container-id-7 div.sk-text-repr-fallback {display: none;}</style><div id=\"sk-container-id-7\" class=\"sk-top-container\"><div class=\"sk-text-repr-fallback\"><pre>GridSearchCV(cv=4, estimator=SVC(),\n",
              "             param_grid=[{&#x27;C&#x27;: [0.1, 0.2, 0.30000000000000004, 0.4],\n",
              "                          &#x27;gamma&#x27;: [0.2, 0.4, 0.6000000000000001, 0.8, 1.0, 1.2,\n",
              "                                    1.4000000000000001, 1.6, 1.8, &#x27;scale&#x27;,\n",
              "                                    &#x27;auto&#x27;],\n",
              "                          &#x27;kernel&#x27;: [&#x27;linear&#x27;, &#x27;rbf&#x27;]}])</pre><b>In a Jupyter environment, please rerun this cell to show the HTML representation or trust the notebook. <br />On GitHub, the HTML representation is unable to render, please try loading this page with nbviewer.org.</b></div><div class=\"sk-container\" hidden><div class=\"sk-item sk-dashed-wrapped\"><div class=\"sk-label-container\"><div class=\"sk-label sk-toggleable\"><input class=\"sk-toggleable__control sk-hidden--visually\" id=\"sk-estimator-id-19\" type=\"checkbox\" ><label for=\"sk-estimator-id-19\" class=\"sk-toggleable__label sk-toggleable__label-arrow\">GridSearchCV</label><div class=\"sk-toggleable__content\"><pre>GridSearchCV(cv=4, estimator=SVC(),\n",
              "             param_grid=[{&#x27;C&#x27;: [0.1, 0.2, 0.30000000000000004, 0.4],\n",
              "                          &#x27;gamma&#x27;: [0.2, 0.4, 0.6000000000000001, 0.8, 1.0, 1.2,\n",
              "                                    1.4000000000000001, 1.6, 1.8, &#x27;scale&#x27;,\n",
              "                                    &#x27;auto&#x27;],\n",
              "                          &#x27;kernel&#x27;: [&#x27;linear&#x27;, &#x27;rbf&#x27;]}])</pre></div></div></div><div class=\"sk-parallel\"><div class=\"sk-parallel-item\"><div class=\"sk-item\"><div class=\"sk-label-container\"><div class=\"sk-label sk-toggleable\"><input class=\"sk-toggleable__control sk-hidden--visually\" id=\"sk-estimator-id-20\" type=\"checkbox\" ><label for=\"sk-estimator-id-20\" class=\"sk-toggleable__label sk-toggleable__label-arrow\">estimator: SVC</label><div class=\"sk-toggleable__content\"><pre>SVC()</pre></div></div></div><div class=\"sk-serial\"><div class=\"sk-item\"><div class=\"sk-estimator sk-toggleable\"><input class=\"sk-toggleable__control sk-hidden--visually\" id=\"sk-estimator-id-21\" type=\"checkbox\" ><label for=\"sk-estimator-id-21\" class=\"sk-toggleable__label sk-toggleable__label-arrow\">SVC</label><div class=\"sk-toggleable__content\"><pre>SVC()</pre></div></div></div></div></div></div></div></div></div></div>"
            ]
          },
          "metadata": {},
          "execution_count": 77
        }
      ]
    },
    {
      "cell_type": "code",
      "source": [
        "print(GS.best_score_)\n",
        "print(GS.best_params_)"
      ],
      "metadata": {
        "id": "ZuXlg3sWjzRV",
        "colab": {
          "base_uri": "https://localhost:8080/"
        },
        "outputId": "9c627117-8393-4d3d-c599-7daedcc5b5e8"
      },
      "execution_count": null,
      "outputs": [
        {
          "output_type": "stream",
          "name": "stdout",
          "text": [
            "0.8007191927866036\n",
            "{'C': 0.4, 'gamma': 1.2, 'kernel': 'rbf'}\n"
          ]
        }
      ]
    },
    {
      "cell_type": "code",
      "source": [
        "from sklearn.svm import SVC\n",
        "SV_model = SVC(kernel='rbf', C= 0.4, gamma = 1.2 )\n",
        "SV_model.fit(X_train, Y_train)\n",
        "Y_pred = SV_model.predict(X_test)\n",
        "\n",
        "print(classification_report( Y_test , Y_pred ))"
      ],
      "metadata": {
        "colab": {
          "base_uri": "https://localhost:8080/"
        },
        "outputId": "4a9ef2bd-39b5-4a18-d190-e7efc420a660",
        "id": "w8Rxk0qef55x"
      },
      "execution_count": null,
      "outputs": [
        {
          "output_type": "stream",
          "name": "stdout",
          "text": [
            "              precision    recall  f1-score   support\n",
            "\n",
            "           0       1.00      0.71      0.83        21\n",
            "           1       0.69      0.85      0.76        13\n",
            "           2       0.00      0.00      0.00         3\n",
            "           3       0.75      1.00      0.86         6\n",
            "           4       0.82      1.00      0.90        18\n",
            "\n",
            "    accuracy                           0.82        61\n",
            "   macro avg       0.65      0.71      0.67        61\n",
            "weighted avg       0.81      0.82      0.80        61\n",
            "\n"
          ]
        }
      ]
    },
    {
      "cell_type": "code",
      "source": [
        "from joblib import dump, load\n",
        "dump(SV_model,'SVC-rbf-82-0.joblib')"
      ],
      "metadata": {
        "colab": {
          "base_uri": "https://localhost:8080/"
        },
        "outputId": "883ce67a-e9e1-48b9-fc01-8c8482ceebb7",
        "id": "6aKiXYazn26J"
      },
      "execution_count": null,
      "outputs": [
        {
          "output_type": "execute_result",
          "data": {
            "text/plain": [
              "['SVC-rbf-82-0.joblib']"
            ]
          },
          "metadata": {},
          "execution_count": 80
        }
      ]
    },
    {
      "cell_type": "code",
      "source": [
        "model_name = 'SVC-rbf-82-0'\n",
        "address = model_name + '.joblib'\n",
        "clf = load(address)\n",
        "Y_pred_save_model = clf.predict(X_test)"
      ],
      "metadata": {
        "id": "8VqcJnM7n26M"
      },
      "execution_count": null,
      "outputs": []
    },
    {
      "cell_type": "code",
      "source": [
        "print(classification_report( Y_test , Y_pred_save_model ))\n",
        "cm = confusion_matrix(Y_test , Y_pred_save_model )"
      ],
      "metadata": {
        "colab": {
          "base_uri": "https://localhost:8080/"
        },
        "outputId": "dfc6f63e-1b87-41d6-ea12-c2c9566e96e0",
        "id": "kdNNkGXFmkYX"
      },
      "execution_count": null,
      "outputs": [
        {
          "output_type": "stream",
          "name": "stdout",
          "text": [
            "              precision    recall  f1-score   support\n",
            "\n",
            "           0       1.00      0.71      0.83        21\n",
            "           1       0.69      0.85      0.76        13\n",
            "           2       0.00      0.00      0.00         3\n",
            "           3       0.75      1.00      0.86         6\n",
            "           4       0.82      1.00      0.90        18\n",
            "\n",
            "    accuracy                           0.82        61\n",
            "   macro avg       0.65      0.71      0.67        61\n",
            "weighted avg       0.81      0.82      0.80        61\n",
            "\n"
          ]
        }
      ]
    },
    {
      "cell_type": "code",
      "source": [
        "plot_confusion_matrix(cm = cm , \n",
        "                      normalize    = True,\n",
        "                      target_names = ['CAGB', 'OAGB', 'PAGB', 'RSG', 'YSO'] ,\n",
        "                      title  = \"Confusion Matrix\",\n",
        "                      file_name = model_name +'_CM.pdf',\n",
        "                      size = (5,5))"
      ],
      "metadata": {
        "colab": {
          "base_uri": "https://localhost:8080/",
          "height": 354
        },
        "outputId": "cc4bb82d-2ed3-4f15-842d-24fee8237d2c",
        "id": "1xRTe-6omkYY"
      },
      "execution_count": null,
      "outputs": [
        {
          "output_type": "display_data",
          "data": {
            "text/plain": [
              "<Figure size 360x360 with 2 Axes>"
            ],
            "image/png": "[encoded data removed]"
          },
          "metadata": {
            "needs_background": "light"
          }
        }
      ]
    },
    {
      "cell_type": "markdown",
      "source": [
        "# GaussianNB"
      ],
      "metadata": {
        "id": "fNt5k0AggT4s"
      }
    },
    {
      "cell_type": "code",
      "source": [
        "from sklearn.naive_bayes import GaussianNB\n",
        "GNB = GaussianNB()\n",
        "GNB.fit( X_train , Y_train )\n",
        "Y_pred = GNB.predict(X_test)\n",
        "\n",
        "print(classification_report( Y_test , Y_pred ))"
      ],
      "metadata": {
        "id": "U-ugl7Gej7Ma",
        "colab": {
          "base_uri": "https://localhost:8080/"
        },
        "outputId": "2059d9fe-a858-4008-abcc-03c2d5a74fb2"
      },
      "execution_count": null,
      "outputs": [
        {
          "output_type": "stream",
          "name": "stdout",
          "text": [
            "              precision    recall  f1-score   support\n",
            "\n",
            "           0       1.00      0.62      0.76        21\n",
            "           1       0.65      0.85      0.73        13\n",
            "           2       0.00      0.00      0.00         3\n",
            "           3       0.75      1.00      0.86         6\n",
            "           4       0.76      0.89      0.82        18\n",
            "\n",
            "    accuracy                           0.75        61\n",
            "   macro avg       0.63      0.67      0.64        61\n",
            "weighted avg       0.78      0.75      0.75        61\n",
            "\n"
          ]
        }
      ]
    },
    {
      "cell_type": "code",
      "source": [
        "from joblib import dump, load\n",
        "dump(GNB,'GNB-75-0.joblib')"
      ],
      "metadata": {
        "colab": {
          "base_uri": "https://localhost:8080/"
        },
        "id": "129DGAX0kqdJ",
        "outputId": "7beaf45e-52ef-4ca8-96da-4b5637981e34"
      },
      "execution_count": null,
      "outputs": [
        {
          "output_type": "execute_result",
          "data": {
            "text/plain": [
              "['GNB-75-0.joblib']"
            ]
          },
          "metadata": {},
          "execution_count": 47
        }
      ]
    },
    {
      "cell_type": "code",
      "source": [
        "model_name = 'GNB-75-0'\n",
        "address = model_name + '.joblib'\n",
        "clf = load(address)\n",
        "Y_pred_save_model = clf.predict(X_test)"
      ],
      "metadata": {
        "id": "MOSNqIkHkqdq"
      },
      "execution_count": null,
      "outputs": []
    },
    {
      "cell_type": "code",
      "source": [
        "print(classification_report( Y_test , Y_pred_save_model ))\n",
        "cm = confusion_matrix(Y_test , Y_pred_save_model )"
      ],
      "metadata": {
        "colab": {
          "base_uri": "https://localhost:8080/"
        },
        "outputId": "ed65dde2-e1a2-447a-9b61-9fd58e4e5c8b",
        "id": "jfqVfP9Skqdr"
      },
      "execution_count": null,
      "outputs": [
        {
          "output_type": "stream",
          "name": "stdout",
          "text": [
            "              precision    recall  f1-score   support\n",
            "\n",
            "           0       1.00      0.62      0.76        21\n",
            "           1       0.65      0.85      0.73        13\n",
            "           2       0.00      0.00      0.00         3\n",
            "           3       0.75      1.00      0.86         6\n",
            "           4       0.76      0.89      0.82        18\n",
            "\n",
            "    accuracy                           0.75        61\n",
            "   macro avg       0.63      0.67      0.64        61\n",
            "weighted avg       0.78      0.75      0.75        61\n",
            "\n"
          ]
        }
      ]
    },
    {
      "cell_type": "code",
      "source": [
        "plot_confusion_matrix(cm = cm , \n",
        "                      normalize    = True,\n",
        "                      target_names = ['CAGB', 'OAGB', 'PAGB', 'RSG', 'YSO'] ,\n",
        "                      title  = \"Confusion Matrix\",\n",
        "                      file_name = model_name +'_CM.pdf',\n",
        "                      size = (5,5))"
      ],
      "metadata": {
        "colab": {
          "base_uri": "https://localhost:8080/",
          "height": 354
        },
        "outputId": "71ecf6b0-8dca-4d45-b0ef-ac557541235d",
        "id": "mfFYKfxBkqds"
      },
      "execution_count": null,
      "outputs": [
        {
          "output_type": "display_data",
          "data": {
            "text/plain": [
              "<Figure size 360x360 with 2 Axes>"
            ],
            "image/png": "[encoded data removed]"
          },
          "metadata": {
            "needs_background": "light"
          }
        }
      ]
    },
    {
      "cell_type": "markdown",
      "source": [
        "# MultinomialNB"
      ],
      "metadata": {
        "id": "pOlWi6jNgcKk"
      }
    },
    {
      "cell_type": "code",
      "source": [
        "from sklearn.naive_bayes import  MultinomialNB\n",
        "\n",
        "MNB = MultinomialNB()\n",
        "MNB.fit( X_train, Y_train )\n",
        "Y_pred = MNB.predict(X_test)\n",
        "\n",
        "print(classification_report( Y_test , Y_pred ))"
      ],
      "metadata": {
        "id": "Ek1W9GSVkNGE",
        "colab": {
          "base_uri": "https://localhost:8080/"
        },
        "outputId": "5c4de252-1b2c-40d2-89d3-eb25dc16298b"
      },
      "execution_count": null,
      "outputs": [
        {
          "output_type": "stream",
          "name": "stdout",
          "text": [
            "              precision    recall  f1-score   support\n",
            "\n",
            "           0       0.53      0.38      0.44        21\n",
            "           1       0.00      0.00      0.00        13\n",
            "           2       0.00      0.00      0.00         3\n",
            "           3       0.00      0.00      0.00         6\n",
            "           4       0.39      1.00      0.56        18\n",
            "\n",
            "    accuracy                           0.43        61\n",
            "   macro avg       0.18      0.28      0.20        61\n",
            "weighted avg       0.30      0.43      0.32        61\n",
            "\n"
          ]
        }
      ]
    },
    {
      "cell_type": "markdown",
      "source": [
        "# KNeighborsClassifier"
      ],
      "metadata": {
        "id": "Pvv65ShSgf5H"
      }
    },
    {
      "cell_type": "code",
      "source": [
        "from sklearn.neighbors import KNeighborsClassifier\n",
        "KNN = KNeighborsClassifier( n_neighbors = 5 , weights= 'distance' , n_jobs= 3 )\n",
        "KNN.fit( X_train , Y_train )\n",
        "Y_pred = KNN.predict(X_test)\n",
        "\n",
        "print(classification_report( Y_test , Y_pred ))"
      ],
      "metadata": {
        "id": "B_UJlTsbkzFr",
        "colab": {
          "base_uri": "https://localhost:8080/"
        },
        "outputId": "d31ffd27-f793-4fab-fd49-69d5d183fa32"
      },
      "execution_count": null,
      "outputs": [
        {
          "output_type": "stream",
          "name": "stdout",
          "text": [
            "              precision    recall  f1-score   support\n",
            "\n",
            "           0       0.95      0.90      0.93        21\n",
            "           1       1.00      0.85      0.92        13\n",
            "           2       0.50      0.33      0.40         3\n",
            "           3       0.86      1.00      0.92         6\n",
            "           4       0.86      1.00      0.92        18\n",
            "\n",
            "    accuracy                           0.90        61\n",
            "   macro avg       0.83      0.82      0.82        61\n",
            "weighted avg       0.90      0.90      0.90        61\n",
            "\n"
          ]
        }
      ]
    },
    {
      "cell_type": "code",
      "source": [
        "from joblib import dump, load\n",
        "dump(KNN,'KNN-90-0.joblib')"
      ],
      "metadata": {
        "colab": {
          "base_uri": "https://localhost:8080/"
        },
        "outputId": "3d570f00-b238-4c6e-d5dc-8d4b0a88830b",
        "id": "zB_ie-ozlPX8"
      },
      "execution_count": null,
      "outputs": [
        {
          "output_type": "execute_result",
          "data": {
            "text/plain": [
              "['KNN-90-0.joblib']"
            ]
          },
          "metadata": {},
          "execution_count": 51
        }
      ]
    },
    {
      "cell_type": "code",
      "source": [
        "model_name = 'KNN-90-0'\n",
        "address = model_name + '.joblib'\n",
        "clf = load(address)\n",
        "clf.fit( X_train , Y_train )\n",
        "Y_pred_save_model = clf.predict(X_test)"
      ],
      "metadata": {
        "id": "f6-yypO9lPX9"
      },
      "execution_count": null,
      "outputs": []
    },
    {
      "cell_type": "code",
      "source": [
        "print(classification_report( Y_test , Y_pred_save_model ))\n",
        "cm = confusion_matrix(Y_test , Y_pred_save_model )"
      ],
      "metadata": {
        "colab": {
          "base_uri": "https://localhost:8080/"
        },
        "outputId": "2a94224f-9613-43bc-c2e7-e313eb08d276",
        "id": "GWdTsO1flPX9"
      },
      "execution_count": null,
      "outputs": [
        {
          "output_type": "stream",
          "name": "stdout",
          "text": [
            "              precision    recall  f1-score   support\n",
            "\n",
            "           0       0.95      0.86      0.90        21\n",
            "           1       0.92      0.85      0.88        13\n",
            "           2       0.50      0.33      0.40         3\n",
            "           3       0.86      1.00      0.92         6\n",
            "           4       0.86      1.00      0.92        18\n",
            "\n",
            "    accuracy                           0.89        61\n",
            "   macro avg       0.82      0.81      0.81        61\n",
            "weighted avg       0.88      0.89      0.88        61\n",
            "\n"
          ]
        }
      ]
    },
    {
      "cell_type": "code",
      "source": [
        "plot_confusion_matrix(cm = cm , \n",
        "                      normalize    = True,\n",
        "                      target_names = ['CAGB', 'OAGB', 'PAGB', 'RSG', 'YSO'] ,\n",
        "                      title  = \"Confusion Matrix\",\n",
        "                      file_name = model_name +'_CM.pdf',\n",
        "                      size = (5,5))"
      ],
      "metadata": {
        "colab": {
          "base_uri": "https://localhost:8080/",
          "height": 354
        },
        "outputId": "eff8b499-df24-4b56-dfd5-0ffc4a14cfd8",
        "id": "YkdRHufxlPX9"
      },
      "execution_count": null,
      "outputs": [
        {
          "output_type": "display_data",
          "data": {
            "text/plain": [
              "<Figure size 360x360 with 2 Axes>"
            ],
            "image/png": "[encoded data removed]"
          },
          "metadata": {
            "needs_background": "light"
          }
        }
      ]
    },
    {
      "cell_type": "code",
      "source": [
        "%%time\n",
        "from sklearn.neighbors import KNeighborsClassifier\n",
        "from sklearn.model_selection import GridSearchCV\n",
        "KNN = KNeighborsClassifier(n_jobs=-1)\n",
        "par = [\n",
        "       { \n",
        "         'n_neighbors' : list(np.arange(1 , 10 , 1 )) ,\n",
        "         'weights': ['distance' , 'uniform'] ,\n",
        "          'algorithm' : ['auto','ball_tree', 'kd_tree', 'brute' ]\n",
        "        }\n",
        "       ]\n",
        "GS = GridSearchCV(KNN, param_grid=par, cv = 4, scoring = None)\n",
        "GS.fit(X, Y)"
      ],
      "metadata": {
        "id": "BZY0JMVCmu0k",
        "colab": {
          "base_uri": "https://localhost:8080/",
          "height": 151
        },
        "outputId": "6030c281-a0bf-4685-f246-d1d62aaa7d1c"
      },
      "execution_count": null,
      "outputs": [
        {
          "output_type": "stream",
          "name": "stdout",
          "text": [
            "CPU times: user 2.18 s, sys: 253 ms, total: 2.43 s\n",
            "Wall time: 3.18 s\n"
          ]
        },
        {
          "output_type": "execute_result",
          "data": {
            "text/plain": [
              "GridSearchCV(cv=4, estimator=KNeighborsClassifier(n_jobs=-1),\n",
              "             param_grid=[{'algorithm': ['auto', 'ball_tree', 'kd_tree',\n",
              "                                        'brute'],\n",
              "                          'n_neighbors': [1, 2, 3, 4, 5, 6, 7, 8, 9],\n",
              "                          'weights': ['distance', 'uniform']}])"
            ],
            "text/html": [
              "<style>#sk-container-id-6 {color: black;background-color: white;}#sk-container-id-6 pre{padding: 0;}#sk-container-id-6 div.sk-toggleable {background-color: white;}#sk-container-id-6 label.sk-toggleable__label {cursor: pointer;display: block;width: 100%;margin-bottom: 0;padding: 0.3em;box-sizing: border-box;text-align: center;}#sk-container-id-6 label.sk-toggleable__label-arrow:before {content: \"▸\";float: left;margin-right: 0.25em;color: #696969;}#sk-container-id-6 label.sk-toggleable__label-arrow:hover:before {color: black;}#sk-container-id-6 div.sk-estimator:hover label.sk-toggleable__label-arrow:before {color: black;}#sk-container-id-6 div.sk-toggleable__content {max-height: 0;max-width: 0;overflow: hidden;text-align: left;background-color: #f0f8ff;}#sk-container-id-6 div.sk-toggleable__content pre {margin: 0.2em;color: black;border-radius: 0.25em;background-color: #f0f8ff;}#sk-container-id-6 input.sk-toggleable__control:checked~div.sk-toggleable__content {max-height: 200px;max-width: 100%;overflow: auto;}#sk-container-id-6 input.sk-toggleable__control:checked~label.sk-toggleable__label-arrow:before {content: \"▾\";}#sk-container-id-6 div.sk-estimator input.sk-toggleable__control:checked~label.sk-toggleable__label {background-color: #d4ebff;}#sk-container-id-6 div.sk-label input.sk-toggleable__control:checked~label.sk-toggleable__label {background-color: #d4ebff;}#sk-container-id-6 input.sk-hidden--visually {border: 0;clip: rect(1px 1px 1px 1px);clip: rect(1px, 1px, 1px, 1px);height: 1px;margin: -1px;overflow: hidden;padding: 0;position: absolute;width: 1px;}#sk-container-id-6 div.sk-estimator {font-family: monospace;background-color: #f0f8ff;border: 1px dotted black;border-radius: 0.25em;box-sizing: border-box;margin-bottom: 0.5em;}#sk-container-id-6 div.sk-estimator:hover {background-color: #d4ebff;}#sk-container-id-6 div.sk-parallel-item::after {content: \"\";width: 100%;border-bottom: 1px solid gray;flex-grow: 1;}#sk-container-id-6 div.sk-label:hover label.sk-toggleable__label {background-color: #d4ebff;}#sk-container-id-6 div.sk-serial::before {content: \"\";position: absolute;border-left: 1px solid gray;box-sizing: border-box;top: 0;bottom: 0;left: 50%;z-index: 0;}#sk-container-id-6 div.sk-serial {display: flex;flex-direction: column;align-items: center;background-color: white;padding-right: 0.2em;padding-left: 0.2em;position: relative;}#sk-container-id-6 div.sk-item {position: relative;z-index: 1;}#sk-container-id-6 div.sk-parallel {display: flex;align-items: stretch;justify-content: center;background-color: white;position: relative;}#sk-container-id-6 div.sk-item::before, #sk-container-id-6 div.sk-parallel-item::before {content: \"\";position: absolute;border-left: 1px solid gray;box-sizing: border-box;top: 0;bottom: 0;left: 50%;z-index: -1;}#sk-container-id-6 div.sk-parallel-item {display: flex;flex-direction: column;z-index: 1;position: relative;background-color: white;}#sk-container-id-6 div.sk-parallel-item:first-child::after {align-self: flex-end;width: 50%;}#sk-container-id-6 div.sk-parallel-item:last-child::after {align-self: flex-start;width: 50%;}#sk-container-id-6 div.sk-parallel-item:only-child::after {width: 0;}#sk-container-id-6 div.sk-dashed-wrapped {border: 1px dashed gray;margin: 0 0.4em 0.5em 0.4em;box-sizing: border-box;padding-bottom: 0.4em;background-color: white;}#sk-container-id-6 div.sk-label label {font-family: monospace;font-weight: bold;display: inline-block;line-height: 1.2em;}#sk-container-id-6 div.sk-label-container {text-align: center;}#sk-container-id-6 div.sk-container {/* jupyter's `normalize.less` sets `[hidden] { display: none; }` but bootstrap.min.css set `[hidden] { display: none !important; }` so we also need the `!important` here to be able to override the default hidden behavior on the sphinx rendered scikit-learn.org. See: https://github.com/scikit-learn/scikit-learn/issues/21755 */display: inline-block !important;position: relative;}#sk-container-id-6 div.sk-text-repr-fallback {display: none;}</style><div id=\"sk-container-id-6\" class=\"sk-top-container\"><div class=\"sk-text-repr-fallback\"><pre>GridSearchCV(cv=4, estimator=KNeighborsClassifier(n_jobs=-1),\n",
              "             param_grid=[{&#x27;algorithm&#x27;: [&#x27;auto&#x27;, &#x27;ball_tree&#x27;, &#x27;kd_tree&#x27;,\n",
              "                                        &#x27;brute&#x27;],\n",
              "                          &#x27;n_neighbors&#x27;: [1, 2, 3, 4, 5, 6, 7, 8, 9],\n",
              "                          &#x27;weights&#x27;: [&#x27;distance&#x27;, &#x27;uniform&#x27;]}])</pre><b>In a Jupyter environment, please rerun this cell to show the HTML representation or trust the notebook. <br />On GitHub, the HTML representation is unable to render, please try loading this page with nbviewer.org.</b></div><div class=\"sk-container\" hidden><div class=\"sk-item sk-dashed-wrapped\"><div class=\"sk-label-container\"><div class=\"sk-label sk-toggleable\"><input class=\"sk-toggleable__control sk-hidden--visually\" id=\"sk-estimator-id-16\" type=\"checkbox\" ><label for=\"sk-estimator-id-16\" class=\"sk-toggleable__label sk-toggleable__label-arrow\">GridSearchCV</label><div class=\"sk-toggleable__content\"><pre>GridSearchCV(cv=4, estimator=KNeighborsClassifier(n_jobs=-1),\n",
              "             param_grid=[{&#x27;algorithm&#x27;: [&#x27;auto&#x27;, &#x27;ball_tree&#x27;, &#x27;kd_tree&#x27;,\n",
              "                                        &#x27;brute&#x27;],\n",
              "                          &#x27;n_neighbors&#x27;: [1, 2, 3, 4, 5, 6, 7, 8, 9],\n",
              "                          &#x27;weights&#x27;: [&#x27;distance&#x27;, &#x27;uniform&#x27;]}])</pre></div></div></div><div class=\"sk-parallel\"><div class=\"sk-parallel-item\"><div class=\"sk-item\"><div class=\"sk-label-container\"><div class=\"sk-label sk-toggleable\"><input class=\"sk-toggleable__control sk-hidden--visually\" id=\"sk-estimator-id-17\" type=\"checkbox\" ><label for=\"sk-estimator-id-17\" class=\"sk-toggleable__label sk-toggleable__label-arrow\">estimator: KNeighborsClassifier</label><div class=\"sk-toggleable__content\"><pre>KNeighborsClassifier(n_jobs=-1)</pre></div></div></div><div class=\"sk-serial\"><div class=\"sk-item\"><div class=\"sk-estimator sk-toggleable\"><input class=\"sk-toggleable__control sk-hidden--visually\" id=\"sk-estimator-id-18\" type=\"checkbox\" ><label for=\"sk-estimator-id-18\" class=\"sk-toggleable__label sk-toggleable__label-arrow\">KNeighborsClassifier</label><div class=\"sk-toggleable__content\"><pre>KNeighborsClassifier(n_jobs=-1)</pre></div></div></div></div></div></div></div></div></div></div>"
            ]
          },
          "metadata": {},
          "execution_count": 44
        }
      ]
    },
    {
      "cell_type": "code",
      "source": [
        "print(GS.best_score_)\n",
        "print(GS.best_params_)"
      ],
      "metadata": {
        "id": "eV0jOpvDmyrL",
        "colab": {
          "base_uri": "https://localhost:8080/"
        },
        "outputId": "33ae9d20-7a0f-4e61-cd41-8861032e62ac"
      },
      "execution_count": null,
      "outputs": [
        {
          "output_type": "stream",
          "name": "stdout",
          "text": [
            "0.837171052631579\n",
            "{'algorithm': 'auto', 'n_neighbors': 4, 'weights': 'distance'}\n"
          ]
        }
      ]
    },
    {
      "cell_type": "markdown",
      "source": [
        "# DecisionTreeClassifier"
      ],
      "metadata": {
        "id": "nMJRy2eXgj9d"
      }
    },
    {
      "cell_type": "code",
      "source": [
        "from sklearn.tree import DecisionTreeClassifier\n",
        "DTC = DecisionTreeClassifier(criterion='entropy', max_depth=4,\\\n",
        "                             min_samples_split=10, min_samples_leaf=3, random_state=2)\n",
        "DTC.fit( X_train , Y_train )\n",
        "Y_pred = DTC.predict(X_test)\n",
        "\n",
        "print(classification_report( Y_test , Y_pred ))"
      ],
      "metadata": {
        "id": "uftobCUxnNka",
        "colab": {
          "base_uri": "https://localhost:8080/"
        },
        "outputId": "278a78b6-0f1f-4e91-abe4-cbb86e6fa3c5"
      },
      "execution_count": null,
      "outputs": [
        {
          "output_type": "stream",
          "name": "stdout",
          "text": [
            "              precision    recall  f1-score   support\n",
            "\n",
            "           0       0.95      0.86      0.90        21\n",
            "           1       0.86      0.92      0.89        13\n",
            "           2       0.00      0.00      0.00         3\n",
            "           3       1.00      1.00      1.00         6\n",
            "           4       0.81      0.94      0.87        18\n",
            "\n",
            "    accuracy                           0.87        61\n",
            "   macro avg       0.72      0.74      0.73        61\n",
            "weighted avg       0.85      0.87      0.85        61\n",
            "\n"
          ]
        }
      ]
    }
  ]
}