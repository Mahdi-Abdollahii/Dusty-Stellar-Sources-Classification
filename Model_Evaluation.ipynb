{
  "nbformat": 4,
  "nbformat_minor": 0,
  "metadata": {
    "colab": {
      "provenance": [],
      "collapsed_sections": [
        "v-JTEm07eivW",
        "XOukgp88eK_l",
        "pg9kRo7v7bY_",
        "DEU0tyysdyWk",
        "0-qR7BTSgO0F"
      ],
      "authorship_tag": "ABX9TyPgCqw19y4PjA1/6NZEIt2W",
      "include_colab_link": true
    },
    "kernelspec": {
      "name": "python3",
      "display_name": "Python 3"
    },
    "language_info": {
      "name": "python"
    },
    "accelerator": "TPU",
    "gpuClass": "standard"
  },
  "cells": [
    {
      "cell_type": "markdown",
      "metadata": {
        "id": "view-in-github",
        "colab_type": "text"
      },
      "source": [
        "<a href=\"https://colab.research.google.com/github/Mahdi-Abdollahii/Dusty-Stellar-Sources-Classification/blob/main/Model_Evaluation.ipynb\" target=\"_parent\"><img src=\"https://colab.research.google.com/assets/colab-badge.svg\" alt=\"Open In Colab\"/></a>"
      ]
    },
    {
      "cell_type": "markdown",
      "source": [
        "# Loading data from GitHub and installing package"
      ],
      "metadata": {
        "id": "v-JTEm07eivW"
      }
    },
    {
      "cell_type": "markdown",
      "source": [
        "\n",
        "The project is hosted on GitHub. Get a copy by running:"
      ],
      "metadata": {
        "id": "vn42cBiwsJre"
      }
    },
    {
      "cell_type": "code",
      "source": [
        "!git clone https://github.com/Mahdi-Abdollahii/Dusty-Stellar-Sources-Classification.git"
      ],
      "metadata": {
        "id": "t8k-ZM4ysWOk",
        "colab": {
          "base_uri": "https://localhost:8080/"
        },
        "outputId": "1743948c-d126-4a53-a8e1-6bce8ba6885f"
      },
      "execution_count": 1,
      "outputs": [
        {
          "output_type": "stream",
          "name": "stdout",
          "text": [
            "Cloning into 'Dusty-Stellar-Sources-Classification'...\n",
            "remote: Enumerating objects: 52, done.\u001b[K\n",
            "remote: Counting objects: 100% (52/52), done.\u001b[K\n",
            "remote: Compressing objects: 100% (50/50), done.\u001b[K\n",
            "remote: Total 52 (delta 22), reused 0 (delta 0), pack-reused 0\u001b[K\n",
            "Unpacking objects: 100% (52/52), 8.09 MiB | 3.36 MiB/s, done.\n"
          ]
        }
      ]
    },
    {
      "cell_type": "code",
      "source": [
        "!pip install pyunpack"
      ],
      "metadata": {
        "colab": {
          "base_uri": "https://localhost:8080/"
        },
        "id": "oUVp6KNrZEG7",
        "outputId": "99ffbcdc-bcdd-45d3-a9dc-297ec76d1342"
      },
      "execution_count": 2,
      "outputs": [
        {
          "output_type": "stream",
          "name": "stdout",
          "text": [
            "Looking in indexes: https://pypi.org/simple, https://us-python.pkg.dev/colab-wheels/public/simple/\n",
            "Collecting pyunpack\n",
            "  Downloading pyunpack-0.3-py2.py3-none-any.whl (4.1 kB)\n",
            "Collecting easyprocess\n",
            "  Downloading EasyProcess-1.1-py3-none-any.whl (8.7 kB)\n",
            "Collecting entrypoint2\n",
            "  Downloading entrypoint2-1.1-py2.py3-none-any.whl (9.9 kB)\n",
            "Installing collected packages: entrypoint2, easyprocess, pyunpack\n",
            "Successfully installed easyprocess-1.1 entrypoint2-1.1 pyunpack-0.3\n"
          ]
        }
      ]
    },
    {
      "cell_type": "code",
      "source": [
        "!pip install patool"
      ],
      "metadata": {
        "colab": {
          "base_uri": "https://localhost:8080/"
        },
        "id": "8AnNDHMCZJaL",
        "outputId": "def50db5-924e-4a27-96bc-c2fe1084d791"
      },
      "execution_count": 3,
      "outputs": [
        {
          "output_type": "stream",
          "name": "stdout",
          "text": [
            "Looking in indexes: https://pypi.org/simple, https://us-python.pkg.dev/colab-wheels/public/simple/\n",
            "Collecting patool\n",
            "  Downloading patool-1.12-py2.py3-none-any.whl (77 kB)\n",
            "\u001b[2K     \u001b[90m━━━━━━━━━━━━━━━━━━━━━━━━━━━━━━━━━━━━━━━━\u001b[0m \u001b[32m77.5/77.5 KB\u001b[0m \u001b[31m2.9 MB/s\u001b[0m eta \u001b[36m0:00:00\u001b[0m\n",
            "\u001b[?25hInstalling collected packages: patool\n",
            "Successfully installed patool-1.12\n"
          ]
        }
      ]
    },
    {
      "cell_type": "markdown",
      "metadata": {
        "id": "XOukgp88eK_l"
      },
      "source": [
        "# Libraries"
      ]
    },
    {
      "cell_type": "code",
      "execution_count": 4,
      "metadata": {
        "id": "_xYXTtukc4Oe"
      },
      "outputs": [],
      "source": [
        "import pandas as pd\n",
        "import numpy as np\n",
        "import matplotlib.pyplot as plt\n",
        "import io, requests, zipfile\n",
        "from zipfile import ZipFile\n",
        "import seaborn as sns\n",
        "from sklearn.metrics import confusion_matrix , accuracy_score , recall_score , precision_score , f1_score , classification_report\n",
        "from pyunpack import Archive\n",
        "import warnings\n",
        "warnings.filterwarnings('ignore')"
      ]
    },
    {
      "cell_type": "markdown",
      "metadata": {
        "id": "pg9kRo7v7bY_"
      },
      "source": [
        "# Function"
      ]
    },
    {
      "cell_type": "code",
      "execution_count": 5,
      "metadata": {
        "id": "y0dtYscheD6j"
      },
      "outputs": [],
      "source": [
        "def savefile(df,name):\n",
        "  t = df\n",
        "  t.to_csv(name, header=True, index=True)\n",
        "  return 0"
      ]
    },
    {
      "cell_type": "code",
      "source": [
        "#metrics\n",
        "def Model_info( Y , Y_pre ):  \n",
        "  print(confusion_matrix( Y_test, Y_pre))\n",
        "  print(\"accuracy_score = \" + str(accuracy_score( Y_test , Y_pre )))\n",
        "  print('Weighted f1_score =' + str(f1_score( Y_test , Y_pre , average = \"weighted\")))\n",
        "  "
      ],
      "metadata": {
        "id": "rO7oIWZPeQDH"
      },
      "execution_count": 6,
      "outputs": []
    },
    {
      "cell_type": "code",
      "source": [
        "#https://blog.finxter.com/how-to-plot-sklearn-confusion-matrix-with-labels/\n",
        "import numpy as np\n",
        "\n",
        "def plot_confusion_matrix(cm,\n",
        "                          target_names,\n",
        "                          title='Confusion matrix',\n",
        "                          cmap=None,\n",
        "                          normalize=True,\n",
        "                          size = [16,12],\n",
        "                          file_name = False ):\n",
        "    \"\"\"\n",
        "    given a sklearn confusion matrix (cm), make a nice plot\n",
        "\n",
        "    Arguments\n",
        "    ---------\n",
        "    cm:           confusion matrix from sklearn.metrics.confusion_matrix\n",
        "\n",
        "    target_names: given classification classes such as [0, 1, 2]\n",
        "                  the class names, for example: ['high', 'medium', 'low']\n",
        "\n",
        "    title:        the text to display at the top of the matrix\n",
        "\n",
        "    cmap:         the gradient of the values displayed from matplotlib.pyplot.cm\n",
        "                  see http://matplotlib.org/examples/color/colormaps_reference.html\n",
        "                  plt.get_cmap('jet') or plt.cm.Blues\n",
        "\n",
        "    normalize:    If False, plot the raw numbers\n",
        "                  If True, plot the proportions\n",
        "\n",
        "    Usage\n",
        "    -----\n",
        "    plot_confusion_matrix(cm           = cm,                  # confusion matrix created by\n",
        "                                                              # sklearn.metrics.confusion_matrix\n",
        "                          normalize    = True,                # show proportions\n",
        "                          target_names = y_labels_vals,       # list of names of the classes\n",
        "                          title        = best_estimator_name) # title of graph\n",
        "\n",
        "    Citiation\n",
        "    ---------\n",
        "    http://scikit-learn.org/stable/auto_examples/model_selection/plot_confusion_matrix.html\n",
        "\n",
        "    \"\"\"\n",
        "    import matplotlib.pyplot as plt\n",
        "    import numpy as np\n",
        "    import itertools\n",
        "\n",
        "    if normalize:\n",
        "        cm = cm.astype('float') / cm.sum(axis=1)[:, np.newaxis]\n",
        "\n",
        "    if cmap is None:\n",
        "        cmap = plt.get_cmap('Greens')\n",
        "\n",
        "    plt.figure(figsize=(size[0],size[1]))\n",
        "    plt.imshow(cm, interpolation='nearest', cmap=cmap)\n",
        "    plt.title(title ,fontsize = 16 )\n",
        "    plt.ylabel('True label' , fontsize = 16 )\n",
        "    plt.xlabel('Predicted label', fontsize = 16 )\n",
        "    plt.colorbar()\n",
        "\n",
        "    if target_names is not None:\n",
        "        tick_marks = np.arange(len(target_names))\n",
        "        plt.xticks(tick_marks, target_names, rotation=45)\n",
        "        plt.yticks(tick_marks, target_names)\n",
        "\n",
        "\n",
        "\n",
        "\n",
        "    thresh = cm.max() / 1.5 if normalize else cm.max() / 2\n",
        "    for i, j in itertools.product(range(cm.shape[0]), range(cm.shape[1])):\n",
        "        if normalize:\n",
        "            #if cm[i,j]>= 0.01 : # if you want remove 0.1>\n",
        "                plt.text(j, i, \"{:0.2f}\".format(cm[i, j]),\n",
        "                        horizontalalignment=\"center\",\n",
        "                        color=\"white\" if cm[i, j] > thresh else \"black\")\n",
        "        else:\n",
        "            plt.text(j, i, \"{:,}\".format(cm[i, j]),\n",
        "                     horizontalalignment=\"center\",\n",
        "                     color=\"white\" if cm[i, j] > thresh else \"black\")\n",
        "\n",
        "\n",
        "    plt.tight_layout()\n",
        "    if file_name != False : \n",
        "        plt.savefig(file_name , dpi=300)\n",
        "    plt.show()"
      ],
      "metadata": {
        "id": "TMNFXI6i5oEp"
      },
      "execution_count": 7,
      "outputs": []
    },
    {
      "cell_type": "markdown",
      "source": [
        "# Data Pre"
      ],
      "metadata": {
        "id": "k9jYDw9GGXfZ"
      }
    },
    {
      "cell_type": "code",
      "source": [
        "df = pd.read_csv(\"/content/Dusty-Stellar-Sources-Classification/Data/Preprocessed_Data.csv\")"
      ],
      "metadata": {
        "id": "p94NnTJSf6R0"
      },
      "execution_count": 14,
      "outputs": []
    },
    {
      "cell_type": "code",
      "source": [
        "df"
      ],
      "metadata": {
        "colab": {
          "base_uri": "https://localhost:8080/",
          "height": 423
        },
        "id": "Trl-yqT7hF6T",
        "outputId": "886e9d8c-919c-4ebd-9059-d436141d7002"
      },
      "execution_count": 15,
      "outputs": [
        {
          "output_type": "execute_result",
          "data": {
            "text/plain": [
              "         RAdeg      DEdeg   Umag   Bmag   Vmag   Imag  Jmag  Hmag  Ksmag  \\\n",
              "0    69.338100 -70.579000    NaN -0.213 -2.052 -4.577   NaN   NaN    NaN   \n",
              "1    71.613100 -68.796300  1.632  2.226  0.531 -2.137 -5.04 -6.57  -7.84   \n",
              "2    71.827700 -69.705700 -0.727 -2.876 -4.804 -7.220 -8.42   NaN    NaN   \n",
              "3    72.157300 -69.393600    NaN  3.450  2.467  1.136 -1.32 -3.37  -5.31   \n",
              "4    72.393200 -69.097000 -5.087 -4.936 -5.254 -5.992 -6.39 -6.86  -7.42   \n",
              "..         ...        ...    ...    ...    ...    ...   ...   ...    ...   \n",
              "603  15.093451 -72.166074 -0.232  0.796  0.248 -0.445   NaN -2.54  -4.04   \n",
              "604  14.527078 -72.068717 -0.459 -0.388 -0.926 -1.672 -2.36 -2.83  -3.27   \n",
              "605  14.488457 -72.654396 -1.433 -0.683 -1.165 -1.937 -2.42 -3.14  -4.14   \n",
              "606  14.027887 -72.789808 -1.445 -1.084 -1.477 -2.014 -2.74 -3.09  -3.23   \n",
              "607  16.039817 -72.837738 -2.197 -3.746 -5.564    NaN   NaN   NaN    NaN   \n",
              "\n",
              "      [3.6]   [4.5]   [5.8]    [8.0]     [24] SpClass GeneralClass  \n",
              "0   -7.6101 -7.7148 -7.8326  -8.0159  -8.8792    OAGB          DSS  \n",
              "1   -8.6656 -9.3873 -9.8100 -10.2429 -11.1944    CAGB          DSS  \n",
              "2   -9.6540 -9.4759 -9.6545  -9.7627 -10.9685     RSG          DSS  \n",
              "3   -8.1534 -9.0379 -9.8431 -10.6543 -13.6554     YSO          DSS  \n",
              "4   -8.4329 -8.9152 -9.2952  -9.9431 -11.3106    OAGB          DSS  \n",
              "..      ...     ...     ...      ...      ...     ...          ...  \n",
              "603 -6.3120 -7.3400 -8.2350  -9.4640 -13.6900     YSO          DSS  \n",
              "604 -5.5270 -5.6600 -8.0320  -9.6220 -15.6450     YSO          DSS  \n",
              "605 -6.6860 -7.2730 -8.2610  -9.2260 -15.2890     YSO          DSS  \n",
              "606 -5.4810 -5.9750 -7.7430  -9.1680 -15.3400     YSO          DSS  \n",
              "607 -9.6990 -9.7110 -9.9220 -10.0500 -10.8040    OAGB          DSS  \n",
              "\n",
              "[608 rows x 16 columns]"
            ],
            "text/html": [
              "\n",
              "  <div id=\"df-5d13f9be-7b9b-4937-94cb-09e60359ee73\">\n",
              "    <div class=\"colab-df-container\">\n",
              "      <div>\n",
              "<style scoped>\n",
              "    .dataframe tbody tr th:only-of-type {\n",
              "        vertical-align: middle;\n",
              "    }\n",
              "\n",
              "    .dataframe tbody tr th {\n",
              "        vertical-align: top;\n",
              "    }\n",
              "\n",
              "    .dataframe thead th {\n",
              "        text-align: right;\n",
              "    }\n",
              "</style>\n",
              "<table border=\"1\" class=\"dataframe\">\n",
              "  <thead>\n",
              "    <tr style=\"text-align: right;\">\n",
              "      <th></th>\n",
              "      <th>RAdeg</th>\n",
              "      <th>DEdeg</th>\n",
              "      <th>Umag</th>\n",
              "      <th>Bmag</th>\n",
              "      <th>Vmag</th>\n",
              "      <th>Imag</th>\n",
              "      <th>Jmag</th>\n",
              "      <th>Hmag</th>\n",
              "      <th>Ksmag</th>\n",
              "      <th>[3.6]</th>\n",
              "      <th>[4.5]</th>\n",
              "      <th>[5.8]</th>\n",
              "      <th>[8.0]</th>\n",
              "      <th>[24]</th>\n",
              "      <th>SpClass</th>\n",
              "      <th>GeneralClass</th>\n",
              "    </tr>\n",
              "  </thead>\n",
              "  <tbody>\n",
              "    <tr>\n",
              "      <th>0</th>\n",
              "      <td>69.338100</td>\n",
              "      <td>-70.579000</td>\n",
              "      <td>NaN</td>\n",
              "      <td>-0.213</td>\n",
              "      <td>-2.052</td>\n",
              "      <td>-4.577</td>\n",
              "      <td>NaN</td>\n",
              "      <td>NaN</td>\n",
              "      <td>NaN</td>\n",
              "      <td>-7.6101</td>\n",
              "      <td>-7.7148</td>\n",
              "      <td>-7.8326</td>\n",
              "      <td>-8.0159</td>\n",
              "      <td>-8.8792</td>\n",
              "      <td>OAGB</td>\n",
              "      <td>DSS</td>\n",
              "    </tr>\n",
              "    <tr>\n",
              "      <th>1</th>\n",
              "      <td>71.613100</td>\n",
              "      <td>-68.796300</td>\n",
              "      <td>1.632</td>\n",
              "      <td>2.226</td>\n",
              "      <td>0.531</td>\n",
              "      <td>-2.137</td>\n",
              "      <td>-5.04</td>\n",
              "      <td>-6.57</td>\n",
              "      <td>-7.84</td>\n",
              "      <td>-8.6656</td>\n",
              "      <td>-9.3873</td>\n",
              "      <td>-9.8100</td>\n",
              "      <td>-10.2429</td>\n",
              "      <td>-11.1944</td>\n",
              "      <td>CAGB</td>\n",
              "      <td>DSS</td>\n",
              "    </tr>\n",
              "    <tr>\n",
              "      <th>2</th>\n",
              "      <td>71.827700</td>\n",
              "      <td>-69.705700</td>\n",
              "      <td>-0.727</td>\n",
              "      <td>-2.876</td>\n",
              "      <td>-4.804</td>\n",
              "      <td>-7.220</td>\n",
              "      <td>-8.42</td>\n",
              "      <td>NaN</td>\n",
              "      <td>NaN</td>\n",
              "      <td>-9.6540</td>\n",
              "      <td>-9.4759</td>\n",
              "      <td>-9.6545</td>\n",
              "      <td>-9.7627</td>\n",
              "      <td>-10.9685</td>\n",
              "      <td>RSG</td>\n",
              "      <td>DSS</td>\n",
              "    </tr>\n",
              "    <tr>\n",
              "      <th>3</th>\n",
              "      <td>72.157300</td>\n",
              "      <td>-69.393600</td>\n",
              "      <td>NaN</td>\n",
              "      <td>3.450</td>\n",
              "      <td>2.467</td>\n",
              "      <td>1.136</td>\n",
              "      <td>-1.32</td>\n",
              "      <td>-3.37</td>\n",
              "      <td>-5.31</td>\n",
              "      <td>-8.1534</td>\n",
              "      <td>-9.0379</td>\n",
              "      <td>-9.8431</td>\n",
              "      <td>-10.6543</td>\n",
              "      <td>-13.6554</td>\n",
              "      <td>YSO</td>\n",
              "      <td>DSS</td>\n",
              "    </tr>\n",
              "    <tr>\n",
              "      <th>4</th>\n",
              "      <td>72.393200</td>\n",
              "      <td>-69.097000</td>\n",
              "      <td>-5.087</td>\n",
              "      <td>-4.936</td>\n",
              "      <td>-5.254</td>\n",
              "      <td>-5.992</td>\n",
              "      <td>-6.39</td>\n",
              "      <td>-6.86</td>\n",
              "      <td>-7.42</td>\n",
              "      <td>-8.4329</td>\n",
              "      <td>-8.9152</td>\n",
              "      <td>-9.2952</td>\n",
              "      <td>-9.9431</td>\n",
              "      <td>-11.3106</td>\n",
              "      <td>OAGB</td>\n",
              "      <td>DSS</td>\n",
              "    </tr>\n",
              "    <tr>\n",
              "      <th>...</th>\n",
              "      <td>...</td>\n",
              "      <td>...</td>\n",
              "      <td>...</td>\n",
              "      <td>...</td>\n",
              "      <td>...</td>\n",
              "      <td>...</td>\n",
              "      <td>...</td>\n",
              "      <td>...</td>\n",
              "      <td>...</td>\n",
              "      <td>...</td>\n",
              "      <td>...</td>\n",
              "      <td>...</td>\n",
              "      <td>...</td>\n",
              "      <td>...</td>\n",
              "      <td>...</td>\n",
              "      <td>...</td>\n",
              "    </tr>\n",
              "    <tr>\n",
              "      <th>603</th>\n",
              "      <td>15.093451</td>\n",
              "      <td>-72.166074</td>\n",
              "      <td>-0.232</td>\n",
              "      <td>0.796</td>\n",
              "      <td>0.248</td>\n",
              "      <td>-0.445</td>\n",
              "      <td>NaN</td>\n",
              "      <td>-2.54</td>\n",
              "      <td>-4.04</td>\n",
              "      <td>-6.3120</td>\n",
              "      <td>-7.3400</td>\n",
              "      <td>-8.2350</td>\n",
              "      <td>-9.4640</td>\n",
              "      <td>-13.6900</td>\n",
              "      <td>YSO</td>\n",
              "      <td>DSS</td>\n",
              "    </tr>\n",
              "    <tr>\n",
              "      <th>604</th>\n",
              "      <td>14.527078</td>\n",
              "      <td>-72.068717</td>\n",
              "      <td>-0.459</td>\n",
              "      <td>-0.388</td>\n",
              "      <td>-0.926</td>\n",
              "      <td>-1.672</td>\n",
              "      <td>-2.36</td>\n",
              "      <td>-2.83</td>\n",
              "      <td>-3.27</td>\n",
              "      <td>-5.5270</td>\n",
              "      <td>-5.6600</td>\n",
              "      <td>-8.0320</td>\n",
              "      <td>-9.6220</td>\n",
              "      <td>-15.6450</td>\n",
              "      <td>YSO</td>\n",
              "      <td>DSS</td>\n",
              "    </tr>\n",
              "    <tr>\n",
              "      <th>605</th>\n",
              "      <td>14.488457</td>\n",
              "      <td>-72.654396</td>\n",
              "      <td>-1.433</td>\n",
              "      <td>-0.683</td>\n",
              "      <td>-1.165</td>\n",
              "      <td>-1.937</td>\n",
              "      <td>-2.42</td>\n",
              "      <td>-3.14</td>\n",
              "      <td>-4.14</td>\n",
              "      <td>-6.6860</td>\n",
              "      <td>-7.2730</td>\n",
              "      <td>-8.2610</td>\n",
              "      <td>-9.2260</td>\n",
              "      <td>-15.2890</td>\n",
              "      <td>YSO</td>\n",
              "      <td>DSS</td>\n",
              "    </tr>\n",
              "    <tr>\n",
              "      <th>606</th>\n",
              "      <td>14.027887</td>\n",
              "      <td>-72.789808</td>\n",
              "      <td>-1.445</td>\n",
              "      <td>-1.084</td>\n",
              "      <td>-1.477</td>\n",
              "      <td>-2.014</td>\n",
              "      <td>-2.74</td>\n",
              "      <td>-3.09</td>\n",
              "      <td>-3.23</td>\n",
              "      <td>-5.4810</td>\n",
              "      <td>-5.9750</td>\n",
              "      <td>-7.7430</td>\n",
              "      <td>-9.1680</td>\n",
              "      <td>-15.3400</td>\n",
              "      <td>YSO</td>\n",
              "      <td>DSS</td>\n",
              "    </tr>\n",
              "    <tr>\n",
              "      <th>607</th>\n",
              "      <td>16.039817</td>\n",
              "      <td>-72.837738</td>\n",
              "      <td>-2.197</td>\n",
              "      <td>-3.746</td>\n",
              "      <td>-5.564</td>\n",
              "      <td>NaN</td>\n",
              "      <td>NaN</td>\n",
              "      <td>NaN</td>\n",
              "      <td>NaN</td>\n",
              "      <td>-9.6990</td>\n",
              "      <td>-9.7110</td>\n",
              "      <td>-9.9220</td>\n",
              "      <td>-10.0500</td>\n",
              "      <td>-10.8040</td>\n",
              "      <td>OAGB</td>\n",
              "      <td>DSS</td>\n",
              "    </tr>\n",
              "  </tbody>\n",
              "</table>\n",
              "<p>608 rows × 16 columns</p>\n",
              "</div>\n",
              "      <button class=\"colab-df-convert\" onclick=\"convertToInteractive('df-5d13f9be-7b9b-4937-94cb-09e60359ee73')\"\n",
              "              title=\"Convert this dataframe to an interactive table.\"\n",
              "              style=\"display:none;\">\n",
              "        \n",
              "  <svg xmlns=\"http://www.w3.org/2000/svg\" height=\"24px\"viewBox=\"0 0 24 24\"\n",
              "       width=\"24px\">\n",
              "    <path d=\"M0 0h24v24H0V0z\" fill=\"none\"/>\n",
              "    <path d=\"M18.56 5.44l.94 2.06.94-2.06 2.06-.94-2.06-.94-.94-2.06-.94 2.06-2.06.94zm-11 1L8.5 8.5l.94-2.06 2.06-.94-2.06-.94L8.5 2.5l-.94 2.06-2.06.94zm10 10l.94 2.06.94-2.06 2.06-.94-2.06-.94-.94-2.06-.94 2.06-2.06.94z\"/><path d=\"M17.41 7.96l-1.37-1.37c-.4-.4-.92-.59-1.43-.59-.52 0-1.04.2-1.43.59L10.3 9.45l-7.72 7.72c-.78.78-.78 2.05 0 2.83L4 21.41c.39.39.9.59 1.41.59.51 0 1.02-.2 1.41-.59l7.78-7.78 2.81-2.81c.8-.78.8-2.07 0-2.86zM5.41 20L4 18.59l7.72-7.72 1.47 1.35L5.41 20z\"/>\n",
              "  </svg>\n",
              "      </button>\n",
              "      \n",
              "  <style>\n",
              "    .colab-df-container {\n",
              "      display:flex;\n",
              "      flex-wrap:wrap;\n",
              "      gap: 12px;\n",
              "    }\n",
              "\n",
              "    .colab-df-convert {\n",
              "      background-color: #E8F0FE;\n",
              "      border: none;\n",
              "      border-radius: 50%;\n",
              "      cursor: pointer;\n",
              "      display: none;\n",
              "      fill: #1967D2;\n",
              "      height: 32px;\n",
              "      padding: 0 0 0 0;\n",
              "      width: 32px;\n",
              "    }\n",
              "\n",
              "    .colab-df-convert:hover {\n",
              "      background-color: #E2EBFA;\n",
              "      box-shadow: 0px 1px 2px rgba(60, 64, 67, 0.3), 0px 1px 3px 1px rgba(60, 64, 67, 0.15);\n",
              "      fill: #174EA6;\n",
              "    }\n",
              "\n",
              "    [theme=dark] .colab-df-convert {\n",
              "      background-color: #3B4455;\n",
              "      fill: #D2E3FC;\n",
              "    }\n",
              "\n",
              "    [theme=dark] .colab-df-convert:hover {\n",
              "      background-color: #434B5C;\n",
              "      box-shadow: 0px 1px 3px 1px rgba(0, 0, 0, 0.15);\n",
              "      filter: drop-shadow(0px 1px 2px rgba(0, 0, 0, 0.3));\n",
              "      fill: #FFFFFF;\n",
              "    }\n",
              "  </style>\n",
              "\n",
              "      <script>\n",
              "        const buttonEl =\n",
              "          document.querySelector('#df-5d13f9be-7b9b-4937-94cb-09e60359ee73 button.colab-df-convert');\n",
              "        buttonEl.style.display =\n",
              "          google.colab.kernel.accessAllowed ? 'block' : 'none';\n",
              "\n",
              "        async function convertToInteractive(key) {\n",
              "          const element = document.querySelector('#df-5d13f9be-7b9b-4937-94cb-09e60359ee73');\n",
              "          const dataTable =\n",
              "            await google.colab.kernel.invokeFunction('convertToInteractive',\n",
              "                                                     [key], {});\n",
              "          if (!dataTable) return;\n",
              "\n",
              "          const docLinkHtml = 'Like what you see? Visit the ' +\n",
              "            '<a target=\"_blank\" href=https://colab.research.google.com/notebooks/data_table.ipynb>data table notebook</a>'\n",
              "            + ' to learn more about interactive tables.';\n",
              "          element.innerHTML = '';\n",
              "          dataTable['output_type'] = 'display_data';\n",
              "          await google.colab.output.renderOutput(dataTable, element);\n",
              "          const docLink = document.createElement('div');\n",
              "          docLink.innerHTML = docLinkHtml;\n",
              "          element.appendChild(docLink);\n",
              "        }\n",
              "      </script>\n",
              "    </div>\n",
              "  </div>\n",
              "  "
            ]
          },
          "metadata": {},
          "execution_count": 15
        }
      ]
    },
    {
      "cell_type": "code",
      "source": [
        "from sklearn import preprocessing\n",
        "\n",
        "LE = preprocessing.LabelEncoder()\n",
        "Y = LE.fit_transform(df['SpClass'])\n",
        "Y = pd.DataFrame(Y)\n",
        "Y.columns = ['EY']\n",
        "\n",
        "print('Ordinal Encoding:')\n",
        "LE.inverse_transform(np.arange(0,5))"
      ],
      "metadata": {
        "id": "7X1D4gQBeavT",
        "colab": {
          "base_uri": "https://localhost:8080/"
        },
        "outputId": "85b28a6e-7b5b-4496-882a-21cc6ac39f88"
      },
      "execution_count": 16,
      "outputs": [
        {
          "output_type": "stream",
          "name": "stdout",
          "text": [
            "Ordinal Encoding:\n"
          ]
        },
        {
          "output_type": "execute_result",
          "data": {
            "text/plain": [
              "array(['CAGB', 'OAGB', 'PAGB', 'RSG', 'YSO'], dtype=object)"
            ]
          },
          "metadata": {},
          "execution_count": 16
        }
      ]
    },
    {
      "cell_type": "code",
      "source": [
        "X = df[df.columns[2:-2]]\n",
        "Y = Y['EY']"
      ],
      "metadata": {
        "id": "mGs8m52RQ5co"
      },
      "execution_count": 17,
      "outputs": []
    },
    {
      "cell_type": "markdown",
      "source": [
        "Here we use an algorithm named IterativeImputer to fill the blank (NaN) data points.\n",
        "\n",
        "A strategy for imputing missing values by modeling each feature with missing values as a function of other features in a round-robin fashion.\n",
        "\n",
        "A more sophisticated approach is to use the IterativeImputer class, which models each feature with missing values as a function of other features, and uses that estimate for imputation. It does so in an iterated round-robin fashion: at each step, a feature column is designated as output y and the other feature columns are treated as inputs X. A regressor is fit on (X, y) for known y. Then, the regressor is used to predict the missing values of y. This is done for each feature in an iterative fashion, and then is repeated for max_iter imputation rounds. The results of the final imputation round are returned.\n",
        "\n",
        "For more information : https://scikit-learn.org/stable/modules/impute.html#iterative-imputer"
      ],
      "metadata": {
        "id": "ZnCixJpNzAFc"
      }
    },
    {
      "cell_type": "code",
      "execution_count": 18,
      "metadata": {
        "id": "tM1v_psHAq8d"
      },
      "outputs": [],
      "source": [
        "from sklearn.experimental import enable_iterative_imputer\n",
        "from sklearn.impute import IterativeImputer\n",
        "\n",
        "imp = IterativeImputer( random_state= 0 )\n",
        "X = imp.fit_transform(X)"
      ]
    },
    {
      "cell_type": "markdown",
      "source": [
        "In the next cell, we use the Min Max scaler to scale data between 0 and 1. This algorithm helps models in training."
      ],
      "metadata": {
        "id": "RRMWIQ9MzR1K"
      }
    },
    {
      "cell_type": "code",
      "source": [
        "from sklearn.preprocessing import MinMaxScaler\n",
        "MMS = MinMaxScaler()\n",
        "MMS.fit(X)\n",
        "X = MMS.transform(X)"
      ],
      "metadata": {
        "id": "SIzOz0L1brQw"
      },
      "execution_count": 19,
      "outputs": []
    },
    {
      "cell_type": "code",
      "source": [
        "plt.hist(df['SpClass'])"
      ],
      "metadata": {
        "id": "OetUhAqT8SzD",
        "colab": {
          "base_uri": "https://localhost:8080/",
          "height": 319
        },
        "outputId": "85436255-10ef-4072-a41c-73a795529a51"
      },
      "execution_count": 20,
      "outputs": [
        {
          "output_type": "execute_result",
          "data": {
            "text/plain": [
              "(array([ 99.,   0., 166.,   0.,   0.,  79.,   0., 227.,   0.,  37.]),\n",
              " array([0. , 0.4, 0.8, 1.2, 1.6, 2. , 2.4, 2.8, 3.2, 3.6, 4. ]),\n",
              " <a list of 10 Patch objects>)"
            ]
          },
          "metadata": {},
          "execution_count": 20
        },
        {
          "output_type": "display_data",
          "data": {
            "text/plain": [
              "<Figure size 432x288 with 1 Axes>"
            ],
            "image/png": "[encoded data removed]"
          },
          "metadata": {
            "needs_background": "light"
          }
        }
      ]
    },
    {
      "cell_type": "code",
      "source": [
        "from sklearn.model_selection import train_test_split\n",
        "X_train, X_test, Y_train, Y_test = train_test_split( X , Y , test_size= 0.10 , random_state = 1234 )\n",
        "print('X_train : ' , X_train.shape)\n",
        "print('X_test : ' , X_test.shape)\n",
        "print('Y_train : ' , Y_train.shape)\n",
        "print('Y_test : ' , Y_test.shape)"
      ],
      "metadata": {
        "id": "uGLa0X__oMw0",
        "colab": {
          "base_uri": "https://localhost:8080/"
        },
        "outputId": "ab46c3bf-963b-434f-a6ad-d2c9370e6711"
      },
      "execution_count": 22,
      "outputs": [
        {
          "output_type": "stream",
          "name": "stdout",
          "text": [
            "X_train :  (547, 12)\n",
            "X_test :  (61, 12)\n",
            "Y_train :  (547,)\n",
            "Y_test :  (61,)\n"
          ]
        }
      ]
    },
    {
      "cell_type": "markdown",
      "source": [
        "# PRF"
      ],
      "metadata": {
        "id": "DEU0tyysdyWk"
      }
    },
    {
      "cell_type": "code",
      "source": [
        "!git clone https://github.com/ireis/PRF.git"
      ],
      "metadata": {
        "id": "ruFt3406i2su"
      },
      "execution_count": null,
      "outputs": []
    },
    {
      "cell_type": "code",
      "source": [
        "from PRF import PRF"
      ],
      "metadata": {
        "id": "kEAoTkqbiWW9"
      },
      "execution_count": null,
      "outputs": []
    },
    {
      "cell_type": "code",
      "source": [
        "prf_cls = PRF.prf(n_estimators=10, bootstrap=True, keep_proba=0.01)\n",
        "prf_cls.fit( X=X_train, y=np.array(Y_train))\n",
        "Y_pred = prf_cls.predict(X_test)\n",
        "print('PRF: {}'.format(prf_cls.score(X=X_test, y=np.array(Y_test))))"
      ],
      "metadata": {
        "id": "fm-gbR94jHKD"
      },
      "execution_count": null,
      "outputs": []
    },
    {
      "cell_type": "code",
      "source": [
        "print(classification_report( Y_test , Y_pred ))\n",
        "cm = confusion_matrix(Y_test , Y_pred )\n",
        "plot_confusion_matrix(cm = cm , \n",
        "                      normalize    = True,\n",
        "                      target_names = ['CAGB', 'OAGB', 'PAGB', 'RSG', 'YSO'] ,\n",
        "                      title  = \"Confusion Matrix\",\n",
        "                      file_name = 'CSV.pdf',\n",
        "                      size = (5,5))"
      ],
      "metadata": {
        "id": "fsRS9KLviZJ6"
      },
      "execution_count": null,
      "outputs": []
    },
    {
      "cell_type": "code",
      "source": [
        "prf_cls = PRF.prf(n_estimators=10, bootstrap=True, keep_proba=0.1)\n",
        "prf_cls.fit( X=X_train, y=np.array(Y_train))\n",
        "Y_pred = prf_cls.predict(X_test)\n",
        "print('PRF: {}'.format(prf_cls.score(X=X_test, y=np.array(Y_test))))"
      ],
      "metadata": {
        "id": "2RiBh37xdu3D"
      },
      "execution_count": null,
      "outputs": []
    },
    {
      "cell_type": "code",
      "source": [
        "print(classification_report( Y_test , Y_pred ))\n",
        "cm = confusion_matrix(Y_test , Y_pred )\n",
        "plot_confusion_matrix(cm = cm , \n",
        "                      normalize    = True,\n",
        "                      target_names = ['CAGB', 'OAGB', 'PAGB', 'RSG', 'YSO'] ,\n",
        "                      title  = \"Confusion Matrix\",\n",
        "                      file_name = 'CSV.pdf',\n",
        "                      size = (5,5))"
      ],
      "metadata": {
        "id": "V7o1NGh6kHbL"
      },
      "execution_count": null,
      "outputs": []
    },
    {
      "cell_type": "code",
      "source": [
        "prf_cls = PRF.prf(n_estimators=10, bootstrap=True, keep_proba=0.5)\n",
        "prf_cls.fit( X=X_train, y=np.array(Y_train))\n",
        "Y_pred = prf_cls.predict(X_test)\n",
        "print('PRF: {}'.format(prf_cls.score(X=X_test, y=np.array(Y_test))))"
      ],
      "metadata": {
        "id": "Miyojs38dw0M"
      },
      "execution_count": null,
      "outputs": []
    },
    {
      "cell_type": "code",
      "source": [
        "print(classification_report( Y_test , Y_pred ))\n",
        "cm = confusion_matrix(Y_test , Y_pred )\n",
        "plot_confusion_matrix(cm = cm , \n",
        "                      normalize    = True,\n",
        "                      target_names = ['CAGB', 'OAGB', 'PAGB', 'RSG', 'YSO'] ,\n",
        "                      title  = \"Confusion Matrix\",\n",
        "                      file_name = 'CSV.pdf',\n",
        "                      size = (5,5))"
      ],
      "metadata": {
        "id": "g5eywH8GkSIz"
      },
      "execution_count": null,
      "outputs": []
    },
    {
      "cell_type": "code",
      "source": [
        "prf_cls = PRF.prf(n_estimators=50, bootstrap=True, keep_proba=0.8)\n",
        "prf_cls.fit( X=X_train, y=np.array(Y_train))\n",
        "Y_pred = prf_cls.predict(X_test)\n",
        "print('PRF: {}'.format(prf_cls.score(X=X_test, y=np.array(Y_test))))"
      ],
      "metadata": {
        "id": "danWm1Qddzmh"
      },
      "execution_count": null,
      "outputs": []
    },
    {
      "cell_type": "code",
      "source": [
        "print(classification_report( Y_test , Y_pred ))\n",
        "cm = confusion_matrix(Y_test , Y_pred )\n",
        "plot_confusion_matrix(cm = cm , \n",
        "                      normalize    = True,\n",
        "                      target_names = ['CAGB', 'OAGB', 'PAGB', 'RSG', 'YSO'] ,\n",
        "                      title  = \"Confusion Matrix\",\n",
        "                      file_name = 'CSV.pdf',\n",
        "                      size = (5,5))"
      ],
      "metadata": {
        "id": "BUnCDV77kWvF"
      },
      "execution_count": null,
      "outputs": []
    },
    {
      "cell_type": "code",
      "source": [
        "import pickle\n",
        "  \n",
        "# Save the trained model as a pickle string.\n",
        "saved_model = pickle.dumps(prf_cls)"
      ],
      "metadata": {
        "id": "RIlOoNJjl9Ow"
      },
      "execution_count": null,
      "outputs": []
    },
    {
      "cell_type": "code",
      "source": [
        "knn_from_pickle = pickle.loads(saved_model)\n",
        "  \n",
        "# Use the loaded pickled model to make predictions\n",
        "knn_from_pickle.predict(X_test)"
      ],
      "metadata": {
        "id": "ulmTn_-OmKZo"
      },
      "execution_count": null,
      "outputs": []
    },
    {
      "cell_type": "code",
      "source": [
        "from joblib import dump, load\n",
        "dump(prf_cls,'PRF-08-10-2.joblib')"
      ],
      "metadata": {
        "id": "MXKiCqnpoR3O"
      },
      "execution_count": null,
      "outputs": []
    },
    {
      "cell_type": "code",
      "source": [
        "clf = load('PRF-08-1.joblib')\n",
        "Y_pred_save_model = clf.predict(X_test)"
      ],
      "metadata": {
        "id": "zFzSpQ1hosYS"
      },
      "execution_count": null,
      "outputs": []
    },
    {
      "cell_type": "code",
      "source": [
        "print(classification_report( Y_test , Y_pred_save_model ))\n",
        "cm = confusion_matrix(Y_test , Y_pred_save_model )\n",
        "plot_confusion_matrix(cm = cm , \n",
        "                      normalize    = True,\n",
        "                      target_names = ['CAGB', 'OAGB', 'PAGB', 'RSG', 'YSO'] ,\n",
        "                      title  = \"Confusion Matrix\",\n",
        "                      file_name = 'CSV.pdf',\n",
        "                      size = (5,5))"
      ],
      "metadata": {
        "id": "diobFTB6qBoS"
      },
      "execution_count": null,
      "outputs": []
    },
    {
      "cell_type": "code",
      "metadata": {
        "id": "tpfkBa0T0k6K"
      },
      "source": [
        "from sklearn.svm import SVC\n",
        "SV_model = SVC(kernel='poly' , C= 0.1)\n",
        "# kernel='linear', 'poly', 'rbf'\n",
        "SV_model.fit(X_train, Y_train)\n",
        "Y_pred = SV_model.predict(X_test)\n",
        "\n",
        "print(classification_report( Y_test , Y_pred ))"
      ],
      "execution_count": null,
      "outputs": []
    },
    {
      "cell_type": "markdown",
      "source": [
        "# SVC"
      ],
      "metadata": {
        "id": "0-qR7BTSgO0F"
      }
    },
    {
      "cell_type": "code",
      "source": [
        "%%time\n",
        "from sklearn.svm import SVC\n",
        "from sklearn.model_selection import GridSearchCV\n",
        "SVC = SVC()\n",
        "par = [\n",
        "       { 'kernel': ['poly'] ,\n",
        "         'degree' : list(np.arange(1,20,1))\n",
        "        }\n",
        "       ]\n",
        "GS = GridSearchCV(SVC, param_grid=par, cv = 4, scoring = None )\n",
        "GS.fit(X, Y)"
      ],
      "metadata": {
        "id": "aIJziXK4ft-P"
      },
      "execution_count": null,
      "outputs": []
    },
    {
      "cell_type": "code",
      "source": [
        "print(GS.best_score_)\n",
        "print(GS.best_params_)"
      ],
      "metadata": {
        "id": "ZUHn_JkfhsmE"
      },
      "execution_count": null,
      "outputs": []
    },
    {
      "cell_type": "code",
      "source": [
        "from sklearn.svm import SVC\n",
        "SV_model = SVC(kernel='poly' , degree = 3 ,C= 0.1)\n",
        "# kernel='linear', 'poly', 'rbf'\n",
        "SV_model.fit(X_train, Y_train)\n",
        "Y_pred = SV_model.predict(X_test)\n",
        "\n",
        "print(classification_report( Y_test , Y_pred ))"
      ],
      "metadata": {
        "id": "kWEsb3m420ck"
      },
      "execution_count": null,
      "outputs": []
    },
    {
      "cell_type": "code",
      "source": [
        "print(classification_report( Y_test , Y_pred ))"
      ],
      "metadata": {
        "id": "H0BjvjSQ-rfZ"
      },
      "execution_count": null,
      "outputs": []
    },
    {
      "cell_type": "code",
      "source": [
        "plt.hist(Y_test)"
      ],
      "metadata": {
        "id": "xjcheJ6s-xi2"
      },
      "execution_count": null,
      "outputs": []
    },
    {
      "cell_type": "code",
      "source": [
        "cm = confusion_matrix(Y_test , Y_pred )\n",
        "plot_confusion_matrix(cm = cm , \n",
        "                      normalize    = True,\n",
        "                      target_names = ['CAGB', 'OAGB', 'PAGB', 'RSG', 'YSO'] ,\n",
        "                      title  = \"Confusion Matrix\",\n",
        "                      file_name = 'CSV.pdf',\n",
        "                      size = (5,5))"
      ],
      "metadata": {
        "id": "tdS5sAQM7OI_"
      },
      "execution_count": null,
      "outputs": []
    },
    {
      "cell_type": "code",
      "source": [
        "%%time\n",
        "from sklearn.svm import SVC\n",
        "from sklearn.model_selection import GridSearchCV\n",
        "SVC = SVC()\n",
        "par = [\n",
        "       { 'kernel': ['linear', 'rbf'] ,\n",
        "         'gamma' : list(np.arange(0.2 , 2 , 0.2 )) + ['scale','auto'] ,\n",
        "         'C': list(np.arange(0.1 , 0.5 , 0.1 ))\n",
        "        }\n",
        "       ]\n",
        "GS = GridSearchCV(SVC, param_grid=par, cv = 4, scoring=None)\n",
        "GS.fit(X, Y)"
      ],
      "metadata": {
        "id": "HYbBO1s2iDUM"
      },
      "execution_count": null,
      "outputs": []
    },
    {
      "cell_type": "code",
      "source": [
        "print(GS.best_score_)\n",
        "print(GS.best_params_)"
      ],
      "metadata": {
        "id": "ZuXlg3sWjzRV"
      },
      "execution_count": null,
      "outputs": []
    },
    {
      "cell_type": "markdown",
      "source": [
        "# GaussianNB"
      ],
      "metadata": {
        "id": "fNt5k0AggT4s"
      }
    },
    {
      "cell_type": "code",
      "source": [
        "from sklearn.naive_bayes import GaussianNB\n",
        "GNB = GaussianNB()\n",
        "GNB.fit( X_train , Y_train )\n",
        "Y_pred = GNB.predict(X_test)\n",
        "\n",
        "print(classification_report( Y_test , Y_pred ))"
      ],
      "metadata": {
        "id": "U-ugl7Gej7Ma"
      },
      "execution_count": null,
      "outputs": []
    },
    {
      "cell_type": "markdown",
      "source": [
        "# MultinomialNB"
      ],
      "metadata": {
        "id": "pOlWi6jNgcKk"
      }
    },
    {
      "cell_type": "code",
      "source": [
        "from sklearn.naive_bayes import  MultinomialNB\n",
        "\n",
        "MNB = MultinomialNB()\n",
        "MNB.fit( X_train, Y_train )\n",
        "Y_pred = MNB.predict(X_test)\n",
        "\n",
        "print(classification_report( Y_test , Y_pred ))"
      ],
      "metadata": {
        "id": "Ek1W9GSVkNGE"
      },
      "execution_count": null,
      "outputs": []
    },
    {
      "cell_type": "markdown",
      "source": [
        "# KNeighborsClassifier"
      ],
      "metadata": {
        "id": "Pvv65ShSgf5H"
      }
    },
    {
      "cell_type": "code",
      "source": [
        "from sklearn.neighbors import KNeighborsClassifier\n",
        "KNN = KNeighborsClassifier( n_neighbors = 5 , weights= 'distance' , n_jobs= 3 )\n",
        "KNN.fit( X_train , Y_train )\n",
        "Y_pred = KNN.predict(X_test)\n",
        "\n",
        "print(classification_report( Y_test , Y_pred ))"
      ],
      "metadata": {
        "id": "B_UJlTsbkzFr"
      },
      "execution_count": null,
      "outputs": []
    },
    {
      "cell_type": "code",
      "source": [
        "%%time\n",
        "from sklearn.neighbors import KNeighborsClassifier\n",
        "from sklearn.model_selection import GridSearchCV\n",
        "KNN = KNeighborsClassifier(n_jobs=-1)\n",
        "par = [\n",
        "       { \n",
        "         'n_neighbors' : list(np.arange(1 , 10 , 1 )) ,\n",
        "         'weights': ['distance' , 'uniform'] ,\n",
        "          'algorithm' : ['auto','ball_tree', 'kd_tree', 'brute' ]\n",
        "        }\n",
        "       ]\n",
        "GS = GridSearchCV(KNN, param_grid=par, cv = 4, scoring = None)\n",
        "GS.fit(X, Y)"
      ],
      "metadata": {
        "id": "BZY0JMVCmu0k"
      },
      "execution_count": null,
      "outputs": []
    },
    {
      "cell_type": "code",
      "source": [
        "print(GS.best_score_)\n",
        "print(GS.best_params_)"
      ],
      "metadata": {
        "id": "eV0jOpvDmyrL"
      },
      "execution_count": null,
      "outputs": []
    },
    {
      "cell_type": "markdown",
      "source": [
        "# DecisionTreeClassifier"
      ],
      "metadata": {
        "id": "nMJRy2eXgj9d"
      }
    },
    {
      "cell_type": "code",
      "source": [
        "from sklearn.tree import DecisionTreeClassifier\n",
        "DTC = DecisionTreeClassifier(criterion='entropy', max_depth=4, min_samples_split=10, min_samples_leaf=3,\n",
        "                            class_weight={0:0.3 , 1:0.7}, random_state=2)\n",
        "DTC.fit( X_train , Y_train )\n",
        "Y_pred = DTC.predict(X_test)\n",
        "\n",
        "print(classification_report( Y_test , Y_pred ))"
      ],
      "metadata": {
        "id": "uftobCUxnNka"
      },
      "execution_count": null,
      "outputs": []
    },
    {
      "cell_type": "code",
      "execution_count": null,
      "metadata": {
        "id": "1Fl8Z1ew9D7g"
      },
      "outputs": [],
      "source": [
        "from sklearn.preprocessing import MinMaxScaler, StandardScaler, RobustScaler\n",
        "\n",
        "r_scaler = RobustScaler()\n",
        "X_rbst = r_scaler.fit_transform(X)\n",
        "X_rbst = pd.DataFrame(X_rbst, columns= X.columns)\n",
        "\n",
        "s_scaler = StandardScaler()\n",
        "X_std = s_scaler.fit_transform(X)\n",
        "X_std = pd.DataFrame(X_std, columns= X.columns)\n",
        "\n",
        "mm_scaler = MinMaxScaler()\n",
        "X_mm = mm_scaler.fit_transform(X)\n",
        "X_mm = pd.DataFrame(X_mm, columns= X.columns)"
      ]
    },
    {
      "cell_type": "code",
      "execution_count": null,
      "metadata": {
        "id": "7zZMCxweArGk"
      },
      "outputs": [],
      "source": [
        "from sklearn.decomposition import PCA\n",
        "\n",
        "t = X\n",
        "pca = PCA()\n",
        "t = pca.fit_transform(t)\n",
        "PX = pd.DataFrame(t)   \n",
        "\n",
        "t = X_rbst\n",
        "rpca = PCA()\n",
        "t = rpca.fit_transform(t)\n",
        "PRX = pd.DataFrame(t) \n",
        "\n",
        "t = X_mm\n",
        "mpca = PCA()\n",
        "t = mpca.fit_transform(t)\n",
        "PMX = pd.DataFrame(t)   \n",
        "\n",
        "t = X_std\n",
        "spca = PCA()\n",
        "t = spca.fit_transform(t)\n",
        "PSX = pd.DataFrame(t)"
      ]
    }
  ]
}