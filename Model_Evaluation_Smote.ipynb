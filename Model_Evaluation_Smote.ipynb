{
  "nbformat": 4,
  "nbformat_minor": 0,
  "metadata": {
    "colab": {
      "provenance": [],
      "collapsed_sections": [
        "v-JTEm07eivW",
        "XOukgp88eK_l",
        "DEU0tyysdyWk",
        "0-qR7BTSgO0F",
        "fNt5k0AggT4s",
        "pOlWi6jNgcKk",
        "Pvv65ShSgf5H"
      ],
      "mount_file_id": "1pDGzzDGqA02eCkW9Ys1sYtVyIv5BooFW",
      "authorship_tag": "ABX9TyNX6YndM2WTzkpfL2cDR/gQ",
      "include_colab_link": true
    },
    "kernelspec": {
      "name": "python3",
      "display_name": "Python 3"
    },
    "language_info": {
      "name": "python"
    },
    "accelerator": "GPU",
    "gpuClass": "standard"
  },
  "cells": [
    {
      "cell_type": "markdown",
      "metadata": {
        "id": "view-in-github",
        "colab_type": "text"
      },
      "source": [
        "<a href=\"https://colab.research.google.com/github/Mahdi-Abdollahii/Dusty-Stellar-Sources-Classification/blob/main/Model_Evaluation_Smote.ipynb\" target=\"_parent\"><img src=\"https://colab.research.google.com/assets/colab-badge.svg\" alt=\"Open In Colab\"/></a>"
      ]
    },
    {
      "cell_type": "markdown",
      "source": [
        "# Loading data from GitHub and installing package"
      ],
      "metadata": {
        "id": "v-JTEm07eivW"
      }
    },
    {
      "cell_type": "markdown",
      "source": [
        "\n",
        "The project is hosted on GitHub. Get a copy by running:"
      ],
      "metadata": {
        "id": "vn42cBiwsJre"
      }
    },
    {
      "cell_type": "code",
      "source": [
        "!git clone https://github.com/Mahdi-Abdollahii/Dusty-Stellar-Sources-Classification.git"
      ],
      "metadata": {
        "id": "t8k-ZM4ysWOk",
        "colab": {
          "base_uri": "https://localhost:8080/"
        },
        "outputId": "5c1e7506-f848-456d-da7d-5a3d98da845b"
      },
      "execution_count": 67,
      "outputs": [
        {
          "output_type": "stream",
          "name": "stdout",
          "text": [
            "fatal: destination path 'Dusty-Stellar-Sources-Classification' already exists and is not an empty directory.\n"
          ]
        }
      ]
    },
    {
      "cell_type": "code",
      "source": [
        "!pip install pyunpack"
      ],
      "metadata": {
        "colab": {
          "base_uri": "https://localhost:8080/"
        },
        "id": "oUVp6KNrZEG7",
        "outputId": "ca338bee-2042-4540-95b4-c5e8be7b0c26"
      },
      "execution_count": 68,
      "outputs": [
        {
          "output_type": "stream",
          "name": "stdout",
          "text": [
            "Looking in indexes: https://pypi.org/simple, https://us-python.pkg.dev/colab-wheels/public/simple/\n",
            "Requirement already satisfied: pyunpack in /usr/local/lib/python3.9/dist-packages (0.3)\n",
            "Requirement already satisfied: easyprocess in /usr/local/lib/python3.9/dist-packages (from pyunpack) (1.1)\n",
            "Requirement already satisfied: entrypoint2 in /usr/local/lib/python3.9/dist-packages (from pyunpack) (1.1)\n"
          ]
        }
      ]
    },
    {
      "cell_type": "code",
      "source": [
        "!pip install patool"
      ],
      "metadata": {
        "colab": {
          "base_uri": "https://localhost:8080/"
        },
        "id": "8AnNDHMCZJaL",
        "outputId": "5ea59d37-522c-42f7-fc4c-8de21eb7a90b"
      },
      "execution_count": 69,
      "outputs": [
        {
          "output_type": "stream",
          "name": "stdout",
          "text": [
            "Looking in indexes: https://pypi.org/simple, https://us-python.pkg.dev/colab-wheels/public/simple/\n",
            "Requirement already satisfied: patool in /usr/local/lib/python3.9/dist-packages (1.12)\n"
          ]
        }
      ]
    },
    {
      "cell_type": "markdown",
      "metadata": {
        "id": "XOukgp88eK_l"
      },
      "source": [
        "# Libraries"
      ]
    },
    {
      "cell_type": "code",
      "execution_count": 70,
      "metadata": {
        "id": "_xYXTtukc4Oe"
      },
      "outputs": [],
      "source": [
        "import pandas as pd\n",
        "import numpy as np\n",
        "import matplotlib.pyplot as plt\n",
        "import io, requests, zipfile\n",
        "from zipfile import ZipFile\n",
        "import seaborn as sns\n",
        "from sklearn.metrics import confusion_matrix , accuracy_score , recall_score , precision_score , f1_score , classification_report\n",
        "from pyunpack import Archive\n",
        "import warnings\n",
        "warnings.filterwarnings('ignore')"
      ]
    },
    {
      "cell_type": "code",
      "source": [
        "#https://blog.finxter.com/how-to-plot-sklearn-confusion-matrix-with-labels/\n",
        "import numpy as np\n",
        "\n",
        "def plot_confusion_matrix(cm,\n",
        "                          target_names,\n",
        "                          title='Confusion matrix',\n",
        "                          cmap=None,\n",
        "                          normalize=True,\n",
        "                          size = [16,12],\n",
        "                          file_name = False ):\n",
        "    \"\"\"\n",
        "    given a sklearn confusion matrix (cm), make a nice plot\n",
        "\n",
        "    Arguments\n",
        "    ---------\n",
        "    cm:           confusion matrix from sklearn.metrics.confusion_matrix\n",
        "\n",
        "    target_names: given classification classes such as [0, 1, 2]\n",
        "                  the class names, for example: ['high', 'medium', 'low']\n",
        "\n",
        "    title:        the text to display at the top of the matrix\n",
        "\n",
        "    cmap:         the gradient of the values displayed from matplotlib.pyplot.cm\n",
        "                  see http://matplotlib.org/examples/color/colormaps_reference.html\n",
        "                  plt.get_cmap('jet') or plt.cm.Blues\n",
        "\n",
        "    normalize:    If False, plot the raw numbers\n",
        "                  If True, plot the proportions\n",
        "\n",
        "    Usage\n",
        "    -----\n",
        "    plot_confusion_matrix(cm           = cm,                  # confusion matrix created by\n",
        "                                                              # sklearn.metrics.confusion_matrix\n",
        "                          normalize    = True,                # show proportions\n",
        "                          target_names = y_labels_vals,       # list of names of the classes\n",
        "                          title        = best_estimator_name) # title of graph\n",
        "\n",
        "    Citiation\n",
        "    ---------\n",
        "    http://scikit-learn.org/stable/auto_examples/model_selection/plot_confusion_matrix.html\n",
        "\n",
        "    \"\"\"\n",
        "    import matplotlib.pyplot as plt\n",
        "    import numpy as np\n",
        "    import itertools\n",
        "\n",
        "    if normalize:\n",
        "        cm = cm.astype('float') / cm.sum(axis=1)[:, np.newaxis]\n",
        "\n",
        "    if cmap is None:\n",
        "        cmap = plt.get_cmap('Greens')\n",
        "\n",
        "    plt.figure(figsize=(size[0],size[1]))\n",
        "    plt.imshow(cm, interpolation='nearest', cmap=cmap)\n",
        "    plt.title(title ,fontsize = 16 )\n",
        "    plt.ylabel('True label' , fontsize = 16 )\n",
        "    plt.xlabel('Predicted label', fontsize = 16 )\n",
        "    plt.colorbar()\n",
        "\n",
        "    if target_names is not None:\n",
        "        tick_marks = np.arange(len(target_names))\n",
        "        plt.xticks(tick_marks, target_names, rotation=45)\n",
        "        plt.yticks(tick_marks, target_names)\n",
        "\n",
        "\n",
        "\n",
        "\n",
        "    thresh = cm.max() / 1.5 if normalize else cm.max() / 2\n",
        "    for i, j in itertools.product(range(cm.shape[0]), range(cm.shape[1])):\n",
        "        if normalize:\n",
        "            #if cm[i,j]>= 0.01 : # if you want remove 0.1>\n",
        "                plt.text(j, i, \"{:0.2f}\".format(cm[i, j]),\n",
        "                        horizontalalignment=\"center\",\n",
        "                        color=\"white\" if cm[i, j] > thresh else \"black\")\n",
        "        else:\n",
        "            plt.text(j, i, \"{:,}\".format(cm[i, j]),\n",
        "                     horizontalalignment=\"center\",\n",
        "                     color=\"white\" if cm[i, j] > thresh else \"black\")\n",
        "\n",
        "\n",
        "    plt.tight_layout()\n",
        "    if file_name != False : \n",
        "        plt.savefig(file_name , dpi=300)\n",
        "    plt.show()"
      ],
      "metadata": {
        "id": "Fa1zRZ2vMhMh"
      },
      "execution_count": 71,
      "outputs": []
    },
    {
      "cell_type": "markdown",
      "source": [
        "# Data Pre"
      ],
      "metadata": {
        "id": "k9jYDw9GGXfZ"
      }
    },
    {
      "cell_type": "code",
      "source": [
        "df = pd.read_csv(\"/content/Dusty-Stellar-Sources-Classification/Data/Preprocessed_Data.csv\")"
      ],
      "metadata": {
        "id": "p94NnTJSf6R0"
      },
      "execution_count": 72,
      "outputs": []
    },
    {
      "cell_type": "code",
      "source": [
        "df"
      ],
      "metadata": {
        "colab": {
          "base_uri": "https://localhost:8080/",
          "height": 487
        },
        "id": "Trl-yqT7hF6T",
        "outputId": "51a48c13-44d1-404a-9b91-2e73c51def03"
      },
      "execution_count": 73,
      "outputs": [
        {
          "output_type": "execute_result",
          "data": {
            "text/plain": [
              "         RAdeg      DEdeg   Umag   Bmag   Vmag   Imag  Jmag  Hmag  Ksmag  \\\n",
              "0    69.338100 -70.579000    NaN -0.213 -2.052 -4.577   NaN   NaN    NaN   \n",
              "1    71.613100 -68.796300  1.632  2.226  0.531 -2.137 -5.04 -6.57  -7.84   \n",
              "2    71.827700 -69.705700 -0.727 -2.876 -4.804 -7.220 -8.42   NaN    NaN   \n",
              "3    72.157300 -69.393600    NaN  3.450  2.467  1.136 -1.32 -3.37  -5.31   \n",
              "4    72.393200 -69.097000 -5.087 -4.936 -5.254 -5.992 -6.39 -6.86  -7.42   \n",
              "..         ...        ...    ...    ...    ...    ...   ...   ...    ...   \n",
              "603  15.093451 -72.166074 -0.232  0.796  0.248 -0.445   NaN -2.54  -4.04   \n",
              "604  14.527078 -72.068717 -0.459 -0.388 -0.926 -1.672 -2.36 -2.83  -3.27   \n",
              "605  14.488457 -72.654396 -1.433 -0.683 -1.165 -1.937 -2.42 -3.14  -4.14   \n",
              "606  14.027887 -72.789808 -1.445 -1.084 -1.477 -2.014 -2.74 -3.09  -3.23   \n",
              "607  16.039817 -72.837738 -2.197 -3.746 -5.564    NaN   NaN   NaN    NaN   \n",
              "\n",
              "      [3.6]   [4.5]   [5.8]    [8.0]     [24] SpClass GeneralClass  \n",
              "0   -7.6101 -7.7148 -7.8326  -8.0159  -8.8792    OAGB          DSS  \n",
              "1   -8.6656 -9.3873 -9.8100 -10.2429 -11.1944    CAGB          DSS  \n",
              "2   -9.6540 -9.4759 -9.6545  -9.7627 -10.9685     RSG          DSS  \n",
              "3   -8.1534 -9.0379 -9.8431 -10.6543 -13.6554     YSO          DSS  \n",
              "4   -8.4329 -8.9152 -9.2952  -9.9431 -11.3106    OAGB          DSS  \n",
              "..      ...     ...     ...      ...      ...     ...          ...  \n",
              "603 -6.3120 -7.3400 -8.2350  -9.4640 -13.6900     YSO          DSS  \n",
              "604 -5.5270 -5.6600 -8.0320  -9.6220 -15.6450     YSO          DSS  \n",
              "605 -6.6860 -7.2730 -8.2610  -9.2260 -15.2890     YSO          DSS  \n",
              "606 -5.4810 -5.9750 -7.7430  -9.1680 -15.3400     YSO          DSS  \n",
              "607 -9.6990 -9.7110 -9.9220 -10.0500 -10.8040    OAGB          DSS  \n",
              "\n",
              "[608 rows x 16 columns]"
            ],
            "text/html": [
              "\n",
              "  <div id=\"df-ad534391-3ced-4110-8b9c-e23ed14bf370\">\n",
              "    <div class=\"colab-df-container\">\n",
              "      <div>\n",
              "<style scoped>\n",
              "    .dataframe tbody tr th:only-of-type {\n",
              "        vertical-align: middle;\n",
              "    }\n",
              "\n",
              "    .dataframe tbody tr th {\n",
              "        vertical-align: top;\n",
              "    }\n",
              "\n",
              "    .dataframe thead th {\n",
              "        text-align: right;\n",
              "    }\n",
              "</style>\n",
              "<table border=\"1\" class=\"dataframe\">\n",
              "  <thead>\n",
              "    <tr style=\"text-align: right;\">\n",
              "      <th></th>\n",
              "      <th>RAdeg</th>\n",
              "      <th>DEdeg</th>\n",
              "      <th>Umag</th>\n",
              "      <th>Bmag</th>\n",
              "      <th>Vmag</th>\n",
              "      <th>Imag</th>\n",
              "      <th>Jmag</th>\n",
              "      <th>Hmag</th>\n",
              "      <th>Ksmag</th>\n",
              "      <th>[3.6]</th>\n",
              "      <th>[4.5]</th>\n",
              "      <th>[5.8]</th>\n",
              "      <th>[8.0]</th>\n",
              "      <th>[24]</th>\n",
              "      <th>SpClass</th>\n",
              "      <th>GeneralClass</th>\n",
              "    </tr>\n",
              "  </thead>\n",
              "  <tbody>\n",
              "    <tr>\n",
              "      <th>0</th>\n",
              "      <td>69.338100</td>\n",
              "      <td>-70.579000</td>\n",
              "      <td>NaN</td>\n",
              "      <td>-0.213</td>\n",
              "      <td>-2.052</td>\n",
              "      <td>-4.577</td>\n",
              "      <td>NaN</td>\n",
              "      <td>NaN</td>\n",
              "      <td>NaN</td>\n",
              "      <td>-7.6101</td>\n",
              "      <td>-7.7148</td>\n",
              "      <td>-7.8326</td>\n",
              "      <td>-8.0159</td>\n",
              "      <td>-8.8792</td>\n",
              "      <td>OAGB</td>\n",
              "      <td>DSS</td>\n",
              "    </tr>\n",
              "    <tr>\n",
              "      <th>1</th>\n",
              "      <td>71.613100</td>\n",
              "      <td>-68.796300</td>\n",
              "      <td>1.632</td>\n",
              "      <td>2.226</td>\n",
              "      <td>0.531</td>\n",
              "      <td>-2.137</td>\n",
              "      <td>-5.04</td>\n",
              "      <td>-6.57</td>\n",
              "      <td>-7.84</td>\n",
              "      <td>-8.6656</td>\n",
              "      <td>-9.3873</td>\n",
              "      <td>-9.8100</td>\n",
              "      <td>-10.2429</td>\n",
              "      <td>-11.1944</td>\n",
              "      <td>CAGB</td>\n",
              "      <td>DSS</td>\n",
              "    </tr>\n",
              "    <tr>\n",
              "      <th>2</th>\n",
              "      <td>71.827700</td>\n",
              "      <td>-69.705700</td>\n",
              "      <td>-0.727</td>\n",
              "      <td>-2.876</td>\n",
              "      <td>-4.804</td>\n",
              "      <td>-7.220</td>\n",
              "      <td>-8.42</td>\n",
              "      <td>NaN</td>\n",
              "      <td>NaN</td>\n",
              "      <td>-9.6540</td>\n",
              "      <td>-9.4759</td>\n",
              "      <td>-9.6545</td>\n",
              "      <td>-9.7627</td>\n",
              "      <td>-10.9685</td>\n",
              "      <td>RSG</td>\n",
              "      <td>DSS</td>\n",
              "    </tr>\n",
              "    <tr>\n",
              "      <th>3</th>\n",
              "      <td>72.157300</td>\n",
              "      <td>-69.393600</td>\n",
              "      <td>NaN</td>\n",
              "      <td>3.450</td>\n",
              "      <td>2.467</td>\n",
              "      <td>1.136</td>\n",
              "      <td>-1.32</td>\n",
              "      <td>-3.37</td>\n",
              "      <td>-5.31</td>\n",
              "      <td>-8.1534</td>\n",
              "      <td>-9.0379</td>\n",
              "      <td>-9.8431</td>\n",
              "      <td>-10.6543</td>\n",
              "      <td>-13.6554</td>\n",
              "      <td>YSO</td>\n",
              "      <td>DSS</td>\n",
              "    </tr>\n",
              "    <tr>\n",
              "      <th>4</th>\n",
              "      <td>72.393200</td>\n",
              "      <td>-69.097000</td>\n",
              "      <td>-5.087</td>\n",
              "      <td>-4.936</td>\n",
              "      <td>-5.254</td>\n",
              "      <td>-5.992</td>\n",
              "      <td>-6.39</td>\n",
              "      <td>-6.86</td>\n",
              "      <td>-7.42</td>\n",
              "      <td>-8.4329</td>\n",
              "      <td>-8.9152</td>\n",
              "      <td>-9.2952</td>\n",
              "      <td>-9.9431</td>\n",
              "      <td>-11.3106</td>\n",
              "      <td>OAGB</td>\n",
              "      <td>DSS</td>\n",
              "    </tr>\n",
              "    <tr>\n",
              "      <th>...</th>\n",
              "      <td>...</td>\n",
              "      <td>...</td>\n",
              "      <td>...</td>\n",
              "      <td>...</td>\n",
              "      <td>...</td>\n",
              "      <td>...</td>\n",
              "      <td>...</td>\n",
              "      <td>...</td>\n",
              "      <td>...</td>\n",
              "      <td>...</td>\n",
              "      <td>...</td>\n",
              "      <td>...</td>\n",
              "      <td>...</td>\n",
              "      <td>...</td>\n",
              "      <td>...</td>\n",
              "      <td>...</td>\n",
              "    </tr>\n",
              "    <tr>\n",
              "      <th>603</th>\n",
              "      <td>15.093451</td>\n",
              "      <td>-72.166074</td>\n",
              "      <td>-0.232</td>\n",
              "      <td>0.796</td>\n",
              "      <td>0.248</td>\n",
              "      <td>-0.445</td>\n",
              "      <td>NaN</td>\n",
              "      <td>-2.54</td>\n",
              "      <td>-4.04</td>\n",
              "      <td>-6.3120</td>\n",
              "      <td>-7.3400</td>\n",
              "      <td>-8.2350</td>\n",
              "      <td>-9.4640</td>\n",
              "      <td>-13.6900</td>\n",
              "      <td>YSO</td>\n",
              "      <td>DSS</td>\n",
              "    </tr>\n",
              "    <tr>\n",
              "      <th>604</th>\n",
              "      <td>14.527078</td>\n",
              "      <td>-72.068717</td>\n",
              "      <td>-0.459</td>\n",
              "      <td>-0.388</td>\n",
              "      <td>-0.926</td>\n",
              "      <td>-1.672</td>\n",
              "      <td>-2.36</td>\n",
              "      <td>-2.83</td>\n",
              "      <td>-3.27</td>\n",
              "      <td>-5.5270</td>\n",
              "      <td>-5.6600</td>\n",
              "      <td>-8.0320</td>\n",
              "      <td>-9.6220</td>\n",
              "      <td>-15.6450</td>\n",
              "      <td>YSO</td>\n",
              "      <td>DSS</td>\n",
              "    </tr>\n",
              "    <tr>\n",
              "      <th>605</th>\n",
              "      <td>14.488457</td>\n",
              "      <td>-72.654396</td>\n",
              "      <td>-1.433</td>\n",
              "      <td>-0.683</td>\n",
              "      <td>-1.165</td>\n",
              "      <td>-1.937</td>\n",
              "      <td>-2.42</td>\n",
              "      <td>-3.14</td>\n",
              "      <td>-4.14</td>\n",
              "      <td>-6.6860</td>\n",
              "      <td>-7.2730</td>\n",
              "      <td>-8.2610</td>\n",
              "      <td>-9.2260</td>\n",
              "      <td>-15.2890</td>\n",
              "      <td>YSO</td>\n",
              "      <td>DSS</td>\n",
              "    </tr>\n",
              "    <tr>\n",
              "      <th>606</th>\n",
              "      <td>14.027887</td>\n",
              "      <td>-72.789808</td>\n",
              "      <td>-1.445</td>\n",
              "      <td>-1.084</td>\n",
              "      <td>-1.477</td>\n",
              "      <td>-2.014</td>\n",
              "      <td>-2.74</td>\n",
              "      <td>-3.09</td>\n",
              "      <td>-3.23</td>\n",
              "      <td>-5.4810</td>\n",
              "      <td>-5.9750</td>\n",
              "      <td>-7.7430</td>\n",
              "      <td>-9.1680</td>\n",
              "      <td>-15.3400</td>\n",
              "      <td>YSO</td>\n",
              "      <td>DSS</td>\n",
              "    </tr>\n",
              "    <tr>\n",
              "      <th>607</th>\n",
              "      <td>16.039817</td>\n",
              "      <td>-72.837738</td>\n",
              "      <td>-2.197</td>\n",
              "      <td>-3.746</td>\n",
              "      <td>-5.564</td>\n",
              "      <td>NaN</td>\n",
              "      <td>NaN</td>\n",
              "      <td>NaN</td>\n",
              "      <td>NaN</td>\n",
              "      <td>-9.6990</td>\n",
              "      <td>-9.7110</td>\n",
              "      <td>-9.9220</td>\n",
              "      <td>-10.0500</td>\n",
              "      <td>-10.8040</td>\n",
              "      <td>OAGB</td>\n",
              "      <td>DSS</td>\n",
              "    </tr>\n",
              "  </tbody>\n",
              "</table>\n",
              "<p>608 rows × 16 columns</p>\n",
              "</div>\n",
              "      <button class=\"colab-df-convert\" onclick=\"convertToInteractive('df-ad534391-3ced-4110-8b9c-e23ed14bf370')\"\n",
              "              title=\"Convert this dataframe to an interactive table.\"\n",
              "              style=\"display:none;\">\n",
              "        \n",
              "  <svg xmlns=\"http://www.w3.org/2000/svg\" height=\"24px\"viewBox=\"0 0 24 24\"\n",
              "       width=\"24px\">\n",
              "    <path d=\"M0 0h24v24H0V0z\" fill=\"none\"/>\n",
              "    <path d=\"M18.56 5.44l.94 2.06.94-2.06 2.06-.94-2.06-.94-.94-2.06-.94 2.06-2.06.94zm-11 1L8.5 8.5l.94-2.06 2.06-.94-2.06-.94L8.5 2.5l-.94 2.06-2.06.94zm10 10l.94 2.06.94-2.06 2.06-.94-2.06-.94-.94-2.06-.94 2.06-2.06.94z\"/><path d=\"M17.41 7.96l-1.37-1.37c-.4-.4-.92-.59-1.43-.59-.52 0-1.04.2-1.43.59L10.3 9.45l-7.72 7.72c-.78.78-.78 2.05 0 2.83L4 21.41c.39.39.9.59 1.41.59.51 0 1.02-.2 1.41-.59l7.78-7.78 2.81-2.81c.8-.78.8-2.07 0-2.86zM5.41 20L4 18.59l7.72-7.72 1.47 1.35L5.41 20z\"/>\n",
              "  </svg>\n",
              "      </button>\n",
              "      \n",
              "  <style>\n",
              "    .colab-df-container {\n",
              "      display:flex;\n",
              "      flex-wrap:wrap;\n",
              "      gap: 12px;\n",
              "    }\n",
              "\n",
              "    .colab-df-convert {\n",
              "      background-color: #E8F0FE;\n",
              "      border: none;\n",
              "      border-radius: 50%;\n",
              "      cursor: pointer;\n",
              "      display: none;\n",
              "      fill: #1967D2;\n",
              "      height: 32px;\n",
              "      padding: 0 0 0 0;\n",
              "      width: 32px;\n",
              "    }\n",
              "\n",
              "    .colab-df-convert:hover {\n",
              "      background-color: #E2EBFA;\n",
              "      box-shadow: 0px 1px 2px rgba(60, 64, 67, 0.3), 0px 1px 3px 1px rgba(60, 64, 67, 0.15);\n",
              "      fill: #174EA6;\n",
              "    }\n",
              "\n",
              "    [theme=dark] .colab-df-convert {\n",
              "      background-color: #3B4455;\n",
              "      fill: #D2E3FC;\n",
              "    }\n",
              "\n",
              "    [theme=dark] .colab-df-convert:hover {\n",
              "      background-color: #434B5C;\n",
              "      box-shadow: 0px 1px 3px 1px rgba(0, 0, 0, 0.15);\n",
              "      filter: drop-shadow(0px 1px 2px rgba(0, 0, 0, 0.3));\n",
              "      fill: #FFFFFF;\n",
              "    }\n",
              "  </style>\n",
              "\n",
              "      <script>\n",
              "        const buttonEl =\n",
              "          document.querySelector('#df-ad534391-3ced-4110-8b9c-e23ed14bf370 button.colab-df-convert');\n",
              "        buttonEl.style.display =\n",
              "          google.colab.kernel.accessAllowed ? 'block' : 'none';\n",
              "\n",
              "        async function convertToInteractive(key) {\n",
              "          const element = document.querySelector('#df-ad534391-3ced-4110-8b9c-e23ed14bf370');\n",
              "          const dataTable =\n",
              "            await google.colab.kernel.invokeFunction('convertToInteractive',\n",
              "                                                     [key], {});\n",
              "          if (!dataTable) return;\n",
              "\n",
              "          const docLinkHtml = 'Like what you see? Visit the ' +\n",
              "            '<a target=\"_blank\" href=https://colab.research.google.com/notebooks/data_table.ipynb>data table notebook</a>'\n",
              "            + ' to learn more about interactive tables.';\n",
              "          element.innerHTML = '';\n",
              "          dataTable['output_type'] = 'display_data';\n",
              "          await google.colab.output.renderOutput(dataTable, element);\n",
              "          const docLink = document.createElement('div');\n",
              "          docLink.innerHTML = docLinkHtml;\n",
              "          element.appendChild(docLink);\n",
              "        }\n",
              "      </script>\n",
              "    </div>\n",
              "  </div>\n",
              "  "
            ]
          },
          "metadata": {},
          "execution_count": 73
        }
      ]
    },
    {
      "cell_type": "code",
      "source": [
        "n = df.pivot_table(index=['SpClass'], aggfunc='size').index\n",
        "s = list(df.pivot_table(index=['SpClass'], aggfunc='size'))\n",
        "\n",
        "fig=plt.figure(figsize=(8,5))\n",
        "line = plt.bar(n  , s  , color = 'maroon' , log  = False )\n",
        "\n",
        "plt.tick_params(axis='both', which='major', labelsize=15)\n",
        "plt.tick_params(axis='both', which='minor', labelsize=15)\n",
        "\n",
        "plt.show()\n",
        "fig.savefig('SPclass_hist.pdf',dpi=400)"
      ],
      "metadata": {
        "colab": {
          "base_uri": "https://localhost:8080/",
          "height": 325
        },
        "id": "EgCB4RaRJMAJ",
        "outputId": "3e41de48-02c5-4af1-bd43-657ca93023dc"
      },
      "execution_count": 74,
      "outputs": [
        {
          "output_type": "display_data",
          "data": {
            "text/plain": [
              "<Figure size 576x360 with 1 Axes>"
            ],
            "image/png": "[encoded data removed]"
          },
          "metadata": {
            "needs_background": "light"
          }
        }
      ]
    },
    {
      "cell_type": "code",
      "source": [
        "from sklearn import preprocessing\n",
        "\n",
        "LE = preprocessing.LabelEncoder()\n",
        "Y = LE.fit_transform(df['SpClass'])\n",
        "Y = pd.DataFrame(Y)\n",
        "Y.columns = ['EY']\n",
        "\n",
        "print('Ordinal Encoding:')\n",
        "LE.inverse_transform(np.arange(0,5))"
      ],
      "metadata": {
        "colab": {
          "base_uri": "https://localhost:8080/"
        },
        "outputId": "170a0b36-d806-44dc-f71b-de8850b8021e",
        "id": "XseVm7cjtxFG"
      },
      "execution_count": 75,
      "outputs": [
        {
          "output_type": "stream",
          "name": "stdout",
          "text": [
            "Ordinal Encoding:\n"
          ]
        },
        {
          "output_type": "execute_result",
          "data": {
            "text/plain": [
              "array(['CAGB', 'OAGB', 'PAGB', 'RSG', 'YSO'], dtype=object)"
            ]
          },
          "metadata": {},
          "execution_count": 75
        }
      ]
    },
    {
      "cell_type": "markdown",
      "source": [
        "Here we use an algorithm named IterativeImputer to fill the blank (NaN) data points.\n",
        "\n",
        "A strategy for imputing missing values by modeling each feature with missing values as a function of other features in a round-robin fashion.\n",
        "\n",
        "A more sophisticated approach is to use the IterativeImputer class, which models each feature with missing values as a function of other features, and uses that estimate for imputation. It does so in an iterated round-robin fashion: at each step, a feature column is designated as output y and the other feature columns are treated as inputs X. A regressor is fit on (X, y) for known y. Then, the regressor is used to predict the missing values of y. This is done for each feature in an iterative fashion, and then is repeated for max_iter imputation rounds. The results of the final imputation round are returned.\n",
        "\n",
        "For more information : https://scikit-learn.org/stable/modules/impute.html#iterative-imputer"
      ],
      "metadata": {
        "id": "OT0OmvX3txFJ"
      }
    },
    {
      "cell_type": "code",
      "execution_count": 76,
      "metadata": {
        "id": "7-dmeFE_txFK"
      },
      "outputs": [],
      "source": [
        "from sklearn.experimental import enable_iterative_imputer\n",
        "from sklearn.impute import IterativeImputer\n",
        "\n",
        "imp = IterativeImputer( random_state= 0 )\n",
        "df[df.columns[2:-2]] = imp.fit_transform(df[df.columns[2:-2]])"
      ]
    },
    {
      "cell_type": "code",
      "source": [
        "X = df[df.columns[2:-2]]\n",
        "Y = Y['EY']"
      ],
      "metadata": {
        "id": "JjVxt5-iiDrU"
      },
      "execution_count": 77,
      "outputs": []
    },
    {
      "cell_type": "code",
      "source": [
        "from sklearn.model_selection import train_test_split\n",
        "X_train, X_test, Y_train, Y_test = train_test_split( X , Y , test_size= 0.10 , random_state = 1234 )\n",
        "print('X_train : ' , X_train.shape)\n",
        "print('X_test : ' , X_test.shape)\n",
        "print('Y_train : ' , Y_train.shape)\n",
        "print('Y_test : ' , Y_test.shape)"
      ],
      "metadata": {
        "colab": {
          "base_uri": "https://localhost:8080/"
        },
        "id": "SoyLpSHR0Ibn",
        "outputId": "b3bb0b29-be81-4d95-e206-c2d62055df14"
      },
      "execution_count": 78,
      "outputs": [
        {
          "output_type": "stream",
          "name": "stdout",
          "text": [
            "X_train :  (547, 12)\n",
            "X_test :  (61, 12)\n",
            "Y_train :  (547,)\n",
            "Y_test :  (61,)\n"
          ]
        }
      ]
    },
    {
      "cell_type": "markdown",
      "source": [
        "# Loading Smote data"
      ],
      "metadata": {
        "id": "4sRYA_Je4L5B"
      }
    },
    {
      "cell_type": "code",
      "source": [
        "AX_train = pd.read_csv(\"/content/drive/MyDrive/IPM/Dusty Stellar Sources Classification/Data/Smote_train_data.csv\", index_col = 'Unnamed: 0' )"
      ],
      "metadata": {
        "id": "ZDPbyKUQ4BjY"
      },
      "execution_count": 79,
      "outputs": []
    },
    {
      "cell_type": "code",
      "source": [
        "n = AX_train.pivot_table(index=['SpClass'], aggfunc='size').index\n",
        "s = list(AX_train.pivot_table(index=['SpClass'], aggfunc='size'))\n",
        "\n",
        "fig=plt.figure(figsize=(8,5))\n",
        "line = plt.bar(n  , s  , color = 'maroon' , log  = False )\n",
        "\n",
        "plt.tick_params(axis='both', which='major', labelsize=15)\n",
        "plt.tick_params(axis='both', which='minor', labelsize=15)\n",
        "\n",
        "plt.show()\n",
        "fig.savefig('SPclass_hist_smote.pdf',dpi=400)"
      ],
      "metadata": {
        "colab": {
          "base_uri": "https://localhost:8080/",
          "height": 325
        },
        "id": "qO4TvxSJsUIk",
        "outputId": "6ce93e9e-5c47-43ca-c636-248a80fa2f23"
      },
      "execution_count": 80,
      "outputs": [
        {
          "output_type": "display_data",
          "data": {
            "text/plain": [
              "<Figure size 576x360 with 1 Axes>"
            ],
            "image/png": "[encoded data removed]"
          },
          "metadata": {
            "needs_background": "light"
          }
        }
      ]
    },
    {
      "cell_type": "code",
      "source": [
        "AY_train = AX_train[AX_train.columns[-1]]\n",
        "AX_train = AX_train[AX_train.columns[:-1]]"
      ],
      "metadata": {
        "id": "CZmLY2GKl43R"
      },
      "execution_count": 81,
      "outputs": []
    },
    {
      "cell_type": "code",
      "source": [
        "AX_train"
      ],
      "metadata": {
        "colab": {
          "base_uri": "https://localhost:8080/",
          "height": 423
        },
        "id": "kwdS9OlW4vGU",
        "outputId": "f0830a4d-9823-4e94-e0a2-f07d94231ff5"
      },
      "execution_count": 82,
      "outputs": [
        {
          "output_type": "execute_result",
          "data": {
            "text/plain": [
              "          Umag      Bmag      Vmag      Imag      Jmag      Hmag     Ksmag  \\\n",
              "0    -2.375000 -0.735000 -1.955000 -2.603000 -3.140000 -3.980000 -5.220000   \n",
              "1    -3.256000 -2.689000 -3.623000 -2.228000 -2.990000 -3.200000 -4.200000   \n",
              "2    -0.109000  0.546000 -0.162000 -1.186000 -1.470000 -2.750000 -4.390000   \n",
              "3    -0.472000 -2.237000 -4.187000 -6.622000 -8.310000 -9.253748 -9.376921   \n",
              "4    -0.761000  0.169000 -0.679000 -1.790000 -2.440000 -3.070000 -3.900000   \n",
              "...        ...       ...       ...       ...       ...       ...       ...   \n",
              "1040 -4.675793 -4.685953 -5.903189 -6.098380 -5.915428 -7.026273 -8.293829   \n",
              "1041 -1.552889 -3.009565 -5.207486 -7.715463 -7.289028 -8.360302 -9.162890   \n",
              "1042 -5.944225 -5.983180 -7.098453 -8.100092 -7.585120 -8.187533 -9.058442   \n",
              "1043 -0.683875 -2.765144 -4.746852 -7.174758 -8.486143 -9.313250 -9.257680   \n",
              "1044 -1.979653 -2.062459 -4.840380 -5.615759 -5.668180 -6.975057 -8.546740   \n",
              "\n",
              "          [3.6]      [4.5]      [5.8]      [8.0]       [24]  \n",
              "0     -7.600000  -8.417000  -9.339000 -10.337000 -13.622000  \n",
              "1     -5.905100  -6.716200  -7.841400  -9.681100 -14.282700  \n",
              "2     -7.244500  -8.581700  -9.976000 -11.876200 -16.659800  \n",
              "3     -9.883000  -9.750000  -9.949000 -10.044000 -10.397000  \n",
              "4     -5.750000  -6.486000  -7.366000  -8.985000 -13.175000  \n",
              "...         ...        ...        ...        ...        ...  \n",
              "1040 -10.274385 -10.132177 -10.341258 -10.445141 -10.856064  \n",
              "1041 -11.417308 -11.599169 -11.873884 -11.971084 -14.782237  \n",
              "1042 -10.938323 -10.925672 -11.248453 -11.794586 -13.732404  \n",
              "1043  -9.756098  -9.599138  -9.817661 -10.018620 -11.366178  \n",
              "1044 -10.673572 -10.831125 -11.095070 -11.457810 -13.167665  \n",
              "\n",
              "[1045 rows x 12 columns]"
            ],
            "text/html": [
              "\n",
              "  <div id=\"df-b911383c-9d20-43d8-898c-56005a34ce62\">\n",
              "    <div class=\"colab-df-container\">\n",
              "      <div>\n",
              "<style scoped>\n",
              "    .dataframe tbody tr th:only-of-type {\n",
              "        vertical-align: middle;\n",
              "    }\n",
              "\n",
              "    .dataframe tbody tr th {\n",
              "        vertical-align: top;\n",
              "    }\n",
              "\n",
              "    .dataframe thead th {\n",
              "        text-align: right;\n",
              "    }\n",
              "</style>\n",
              "<table border=\"1\" class=\"dataframe\">\n",
              "  <thead>\n",
              "    <tr style=\"text-align: right;\">\n",
              "      <th></th>\n",
              "      <th>Umag</th>\n",
              "      <th>Bmag</th>\n",
              "      <th>Vmag</th>\n",
              "      <th>Imag</th>\n",
              "      <th>Jmag</th>\n",
              "      <th>Hmag</th>\n",
              "      <th>Ksmag</th>\n",
              "      <th>[3.6]</th>\n",
              "      <th>[4.5]</th>\n",
              "      <th>[5.8]</th>\n",
              "      <th>[8.0]</th>\n",
              "      <th>[24]</th>\n",
              "    </tr>\n",
              "  </thead>\n",
              "  <tbody>\n",
              "    <tr>\n",
              "      <th>0</th>\n",
              "      <td>-2.375000</td>\n",
              "      <td>-0.735000</td>\n",
              "      <td>-1.955000</td>\n",
              "      <td>-2.603000</td>\n",
              "      <td>-3.140000</td>\n",
              "      <td>-3.980000</td>\n",
              "      <td>-5.220000</td>\n",
              "      <td>-7.600000</td>\n",
              "      <td>-8.417000</td>\n",
              "      <td>-9.339000</td>\n",
              "      <td>-10.337000</td>\n",
              "      <td>-13.622000</td>\n",
              "    </tr>\n",
              "    <tr>\n",
              "      <th>1</th>\n",
              "      <td>-3.256000</td>\n",
              "      <td>-2.689000</td>\n",
              "      <td>-3.623000</td>\n",
              "      <td>-2.228000</td>\n",
              "      <td>-2.990000</td>\n",
              "      <td>-3.200000</td>\n",
              "      <td>-4.200000</td>\n",
              "      <td>-5.905100</td>\n",
              "      <td>-6.716200</td>\n",
              "      <td>-7.841400</td>\n",
              "      <td>-9.681100</td>\n",
              "      <td>-14.282700</td>\n",
              "    </tr>\n",
              "    <tr>\n",
              "      <th>2</th>\n",
              "      <td>-0.109000</td>\n",
              "      <td>0.546000</td>\n",
              "      <td>-0.162000</td>\n",
              "      <td>-1.186000</td>\n",
              "      <td>-1.470000</td>\n",
              "      <td>-2.750000</td>\n",
              "      <td>-4.390000</td>\n",
              "      <td>-7.244500</td>\n",
              "      <td>-8.581700</td>\n",
              "      <td>-9.976000</td>\n",
              "      <td>-11.876200</td>\n",
              "      <td>-16.659800</td>\n",
              "    </tr>\n",
              "    <tr>\n",
              "      <th>3</th>\n",
              "      <td>-0.472000</td>\n",
              "      <td>-2.237000</td>\n",
              "      <td>-4.187000</td>\n",
              "      <td>-6.622000</td>\n",
              "      <td>-8.310000</td>\n",
              "      <td>-9.253748</td>\n",
              "      <td>-9.376921</td>\n",
              "      <td>-9.883000</td>\n",
              "      <td>-9.750000</td>\n",
              "      <td>-9.949000</td>\n",
              "      <td>-10.044000</td>\n",
              "      <td>-10.397000</td>\n",
              "    </tr>\n",
              "    <tr>\n",
              "      <th>4</th>\n",
              "      <td>-0.761000</td>\n",
              "      <td>0.169000</td>\n",
              "      <td>-0.679000</td>\n",
              "      <td>-1.790000</td>\n",
              "      <td>-2.440000</td>\n",
              "      <td>-3.070000</td>\n",
              "      <td>-3.900000</td>\n",
              "      <td>-5.750000</td>\n",
              "      <td>-6.486000</td>\n",
              "      <td>-7.366000</td>\n",
              "      <td>-8.985000</td>\n",
              "      <td>-13.175000</td>\n",
              "    </tr>\n",
              "    <tr>\n",
              "      <th>...</th>\n",
              "      <td>...</td>\n",
              "      <td>...</td>\n",
              "      <td>...</td>\n",
              "      <td>...</td>\n",
              "      <td>...</td>\n",
              "      <td>...</td>\n",
              "      <td>...</td>\n",
              "      <td>...</td>\n",
              "      <td>...</td>\n",
              "      <td>...</td>\n",
              "      <td>...</td>\n",
              "      <td>...</td>\n",
              "    </tr>\n",
              "    <tr>\n",
              "      <th>1040</th>\n",
              "      <td>-4.675793</td>\n",
              "      <td>-4.685953</td>\n",
              "      <td>-5.903189</td>\n",
              "      <td>-6.098380</td>\n",
              "      <td>-5.915428</td>\n",
              "      <td>-7.026273</td>\n",
              "      <td>-8.293829</td>\n",
              "      <td>-10.274385</td>\n",
              "      <td>-10.132177</td>\n",
              "      <td>-10.341258</td>\n",
              "      <td>-10.445141</td>\n",
              "      <td>-10.856064</td>\n",
              "    </tr>\n",
              "    <tr>\n",
              "      <th>1041</th>\n",
              "      <td>-1.552889</td>\n",
              "      <td>-3.009565</td>\n",
              "      <td>-5.207486</td>\n",
              "      <td>-7.715463</td>\n",
              "      <td>-7.289028</td>\n",
              "      <td>-8.360302</td>\n",
              "      <td>-9.162890</td>\n",
              "      <td>-11.417308</td>\n",
              "      <td>-11.599169</td>\n",
              "      <td>-11.873884</td>\n",
              "      <td>-11.971084</td>\n",
              "      <td>-14.782237</td>\n",
              "    </tr>\n",
              "    <tr>\n",
              "      <th>1042</th>\n",
              "      <td>-5.944225</td>\n",
              "      <td>-5.983180</td>\n",
              "      <td>-7.098453</td>\n",
              "      <td>-8.100092</td>\n",
              "      <td>-7.585120</td>\n",
              "      <td>-8.187533</td>\n",
              "      <td>-9.058442</td>\n",
              "      <td>-10.938323</td>\n",
              "      <td>-10.925672</td>\n",
              "      <td>-11.248453</td>\n",
              "      <td>-11.794586</td>\n",
              "      <td>-13.732404</td>\n",
              "    </tr>\n",
              "    <tr>\n",
              "      <th>1043</th>\n",
              "      <td>-0.683875</td>\n",
              "      <td>-2.765144</td>\n",
              "      <td>-4.746852</td>\n",
              "      <td>-7.174758</td>\n",
              "      <td>-8.486143</td>\n",
              "      <td>-9.313250</td>\n",
              "      <td>-9.257680</td>\n",
              "      <td>-9.756098</td>\n",
              "      <td>-9.599138</td>\n",
              "      <td>-9.817661</td>\n",
              "      <td>-10.018620</td>\n",
              "      <td>-11.366178</td>\n",
              "    </tr>\n",
              "    <tr>\n",
              "      <th>1044</th>\n",
              "      <td>-1.979653</td>\n",
              "      <td>-2.062459</td>\n",
              "      <td>-4.840380</td>\n",
              "      <td>-5.615759</td>\n",
              "      <td>-5.668180</td>\n",
              "      <td>-6.975057</td>\n",
              "      <td>-8.546740</td>\n",
              "      <td>-10.673572</td>\n",
              "      <td>-10.831125</td>\n",
              "      <td>-11.095070</td>\n",
              "      <td>-11.457810</td>\n",
              "      <td>-13.167665</td>\n",
              "    </tr>\n",
              "  </tbody>\n",
              "</table>\n",
              "<p>1045 rows × 12 columns</p>\n",
              "</div>\n",
              "      <button class=\"colab-df-convert\" onclick=\"convertToInteractive('df-b911383c-9d20-43d8-898c-56005a34ce62')\"\n",
              "              title=\"Convert this dataframe to an interactive table.\"\n",
              "              style=\"display:none;\">\n",
              "        \n",
              "  <svg xmlns=\"http://www.w3.org/2000/svg\" height=\"24px\"viewBox=\"0 0 24 24\"\n",
              "       width=\"24px\">\n",
              "    <path d=\"M0 0h24v24H0V0z\" fill=\"none\"/>\n",
              "    <path d=\"M18.56 5.44l.94 2.06.94-2.06 2.06-.94-2.06-.94-.94-2.06-.94 2.06-2.06.94zm-11 1L8.5 8.5l.94-2.06 2.06-.94-2.06-.94L8.5 2.5l-.94 2.06-2.06.94zm10 10l.94 2.06.94-2.06 2.06-.94-2.06-.94-.94-2.06-.94 2.06-2.06.94z\"/><path d=\"M17.41 7.96l-1.37-1.37c-.4-.4-.92-.59-1.43-.59-.52 0-1.04.2-1.43.59L10.3 9.45l-7.72 7.72c-.78.78-.78 2.05 0 2.83L4 21.41c.39.39.9.59 1.41.59.51 0 1.02-.2 1.41-.59l7.78-7.78 2.81-2.81c.8-.78.8-2.07 0-2.86zM5.41 20L4 18.59l7.72-7.72 1.47 1.35L5.41 20z\"/>\n",
              "  </svg>\n",
              "      </button>\n",
              "      \n",
              "  <style>\n",
              "    .colab-df-container {\n",
              "      display:flex;\n",
              "      flex-wrap:wrap;\n",
              "      gap: 12px;\n",
              "    }\n",
              "\n",
              "    .colab-df-convert {\n",
              "      background-color: #E8F0FE;\n",
              "      border: none;\n",
              "      border-radius: 50%;\n",
              "      cursor: pointer;\n",
              "      display: none;\n",
              "      fill: #1967D2;\n",
              "      height: 32px;\n",
              "      padding: 0 0 0 0;\n",
              "      width: 32px;\n",
              "    }\n",
              "\n",
              "    .colab-df-convert:hover {\n",
              "      background-color: #E2EBFA;\n",
              "      box-shadow: 0px 1px 2px rgba(60, 64, 67, 0.3), 0px 1px 3px 1px rgba(60, 64, 67, 0.15);\n",
              "      fill: #174EA6;\n",
              "    }\n",
              "\n",
              "    [theme=dark] .colab-df-convert {\n",
              "      background-color: #3B4455;\n",
              "      fill: #D2E3FC;\n",
              "    }\n",
              "\n",
              "    [theme=dark] .colab-df-convert:hover {\n",
              "      background-color: #434B5C;\n",
              "      box-shadow: 0px 1px 3px 1px rgba(0, 0, 0, 0.15);\n",
              "      filter: drop-shadow(0px 1px 2px rgba(0, 0, 0, 0.3));\n",
              "      fill: #FFFFFF;\n",
              "    }\n",
              "  </style>\n",
              "\n",
              "      <script>\n",
              "        const buttonEl =\n",
              "          document.querySelector('#df-b911383c-9d20-43d8-898c-56005a34ce62 button.colab-df-convert');\n",
              "        buttonEl.style.display =\n",
              "          google.colab.kernel.accessAllowed ? 'block' : 'none';\n",
              "\n",
              "        async function convertToInteractive(key) {\n",
              "          const element = document.querySelector('#df-b911383c-9d20-43d8-898c-56005a34ce62');\n",
              "          const dataTable =\n",
              "            await google.colab.kernel.invokeFunction('convertToInteractive',\n",
              "                                                     [key], {});\n",
              "          if (!dataTable) return;\n",
              "\n",
              "          const docLinkHtml = 'Like what you see? Visit the ' +\n",
              "            '<a target=\"_blank\" href=https://colab.research.google.com/notebooks/data_table.ipynb>data table notebook</a>'\n",
              "            + ' to learn more about interactive tables.';\n",
              "          element.innerHTML = '';\n",
              "          dataTable['output_type'] = 'display_data';\n",
              "          await google.colab.output.renderOutput(dataTable, element);\n",
              "          const docLink = document.createElement('div');\n",
              "          docLink.innerHTML = docLinkHtml;\n",
              "          element.appendChild(docLink);\n",
              "        }\n",
              "      </script>\n",
              "    </div>\n",
              "  </div>\n",
              "  "
            ]
          },
          "metadata": {},
          "execution_count": 82
        }
      ]
    },
    {
      "cell_type": "code",
      "source": [
        "AY_train = LE.transform(AY_train)"
      ],
      "metadata": {
        "id": "U67X9iK79UTP"
      },
      "execution_count": 91,
      "outputs": []
    },
    {
      "cell_type": "code",
      "source": [
        "AY_train"
      ],
      "metadata": {
        "colab": {
          "base_uri": "https://localhost:8080/"
        },
        "id": "ZXfJg6sW_uOu",
        "outputId": "db601b38-06a2-4e94-c1c7-588d4f739ccb"
      },
      "execution_count": 92,
      "outputs": [
        {
          "output_type": "execute_result",
          "data": {
            "text/plain": [
              "array([4, 2, 4, ..., 3, 3, 3])"
            ]
          },
          "metadata": {},
          "execution_count": 92
        }
      ]
    },
    {
      "cell_type": "markdown",
      "source": [
        "In the next cell, we use the Min Max scaler to scale data between 0 and 1. This algorithm helps models in training."
      ],
      "metadata": {
        "id": "acFuhBcMrrQH"
      }
    },
    {
      "cell_type": "code",
      "source": [
        "from sklearn.preprocessing import MinMaxScaler\n",
        "MMS = MinMaxScaler()\n",
        "MMS.fit(AX_train)\n",
        "AX_train = MMS.transform(AX_train)\n",
        "X_test = MMS.transform(X_test)"
      ],
      "metadata": {
        "id": "t5wqls-srrQI"
      },
      "execution_count": 93,
      "outputs": []
    },
    {
      "cell_type": "code",
      "source": [
        "X_train = AX_train\n",
        "Y_train = AY_train \n",
        "print('X_train : ' , X_train.shape)\n",
        "print('X_test : ' , X_test.shape)\n",
        "print('Y_train : ' , Y_train.shape)\n",
        "print('Y_test : ' , Y_test.shape)"
      ],
      "metadata": {
        "id": "SiZdVp8Nmh6Y",
        "colab": {
          "base_uri": "https://localhost:8080/"
        },
        "outputId": "96bb6714-01ee-491d-a84f-fb141921a9dd"
      },
      "execution_count": 94,
      "outputs": [
        {
          "output_type": "stream",
          "name": "stdout",
          "text": [
            "X_train :  (1045, 12)\n",
            "X_test :  (61, 12)\n",
            "Y_train :  (1045,)\n",
            "Y_test :  (61,)\n"
          ]
        }
      ]
    },
    {
      "cell_type": "markdown",
      "source": [
        "# PRF"
      ],
      "metadata": {
        "id": "DEU0tyysdyWk"
      }
    },
    {
      "cell_type": "code",
      "source": [
        "!git clone https://github.com/ireis/PRF.git"
      ],
      "metadata": {
        "id": "ruFt3406i2su",
        "colab": {
          "base_uri": "https://localhost:8080/"
        },
        "outputId": "67aa87bf-4235-4ee1-9583-556185e4b392"
      },
      "execution_count": 86,
      "outputs": [
        {
          "output_type": "stream",
          "name": "stdout",
          "text": [
            "fatal: destination path 'PRF' already exists and is not an empty directory.\n"
          ]
        }
      ]
    },
    {
      "cell_type": "code",
      "source": [
        "from PRF import PRF"
      ],
      "metadata": {
        "id": "kEAoTkqbiWW9"
      },
      "execution_count": 87,
      "outputs": []
    },
    {
      "cell_type": "code",
      "source": [
        "prf_cls = PRF.prf(n_estimators=10, bootstrap=True, keep_proba=0.01)\n",
        "prf_cls.fit( X=X_train, y=np.array(Y_train))\n",
        "Y_pred = prf_cls.predict(X_test)\n",
        "print('PRF: {}'.format(prf_cls.score(X=X_test, y=np.array(Y_test))))"
      ],
      "metadata": {
        "id": "fm-gbR94jHKD",
        "colab": {
          "base_uri": "https://localhost:8080/"
        },
        "outputId": "e4eaf3ff-0be8-48cf-e2fd-d9807d4d9110"
      },
      "execution_count": 95,
      "outputs": [
        {
          "output_type": "stream",
          "name": "stdout",
          "text": [
            "PRF: 0.9180327868852459\n"
          ]
        }
      ]
    },
    {
      "cell_type": "code",
      "source": [
        "print(classification_report( Y_test , Y_pred ))\n",
        "cm = confusion_matrix(Y_test , Y_pred )\n",
        "plot_confusion_matrix(cm = cm , \n",
        "                      normalize    = True,\n",
        "                      target_names = ['CAGB', 'OAGB', 'PAGB', 'RSG', 'YSO'] ,\n",
        "                      title  = \"Confusion Matrix\",\n",
        "                      file_name = 'CSV.pdf',\n",
        "                      size = (5,5))"
      ],
      "metadata": {
        "id": "fsRS9KLviZJ6",
        "colab": {
          "base_uri": "https://localhost:8080/",
          "height": 580
        },
        "outputId": "be9052e1-4b18-4d7a-8d1d-5d45f208ceb7"
      },
      "execution_count": 32,
      "outputs": [
        {
          "output_type": "stream",
          "name": "stdout",
          "text": [
            "              precision    recall  f1-score   support\n",
            "\n",
            "           0       0.95      0.90      0.93        21\n",
            "           1       0.92      0.85      0.88        13\n",
            "           2       0.67      0.67      0.67         3\n",
            "           3       1.00      1.00      1.00         6\n",
            "           4       0.90      1.00      0.95        18\n",
            "\n",
            "    accuracy                           0.92        61\n",
            "   macro avg       0.89      0.88      0.88        61\n",
            "weighted avg       0.92      0.92      0.92        61\n",
            "\n"
          ]
        },
        {
          "output_type": "display_data",
          "data": {
            "text/plain": [
              "<Figure size 360x360 with 2 Axes>"
            ],
            "image/png": "[encoded data removed]"
          },
          "metadata": {
            "needs_background": "light"
          }
        }
      ]
    },
    {
      "cell_type": "code",
      "source": [
        "prf_cls = PRF.prf(n_estimators=10, bootstrap=True, keep_proba=0.1)\n",
        "prf_cls.fit( X=X_train, y=np.array(Y_train))\n",
        "Y_pred = prf_cls.predict(X_test)\n",
        "print('PRF: {}'.format(prf_cls.score(X=X_test, y=np.array(Y_test))))"
      ],
      "metadata": {
        "id": "2RiBh37xdu3D",
        "colab": {
          "base_uri": "https://localhost:8080/"
        },
        "outputId": "03e708fa-1d01-4c7e-c01b-f6a194a6cb64"
      },
      "execution_count": 53,
      "outputs": [
        {
          "output_type": "stream",
          "name": "stdout",
          "text": [
            "PRF: 0.9180327868852459\n"
          ]
        }
      ]
    },
    {
      "cell_type": "code",
      "source": [
        "print(classification_report( Y_test , Y_pred ))\n",
        "cm = confusion_matrix(Y_test , Y_pred )\n",
        "plot_confusion_matrix(cm = cm , \n",
        "                      normalize    = True,\n",
        "                      target_names = ['CAGB', 'OAGB', 'PAGB', 'RSG', 'YSO'] ,\n",
        "                      title  = \"Confusion Matrix\",\n",
        "                      file_name = 'CSV.pdf',\n",
        "                      size = (5,5))"
      ],
      "metadata": {
        "id": "V7o1NGh6kHbL",
        "colab": {
          "base_uri": "https://localhost:8080/",
          "height": 580
        },
        "outputId": "031118f7-79d6-4dc1-d3cd-5d85d0798fa5"
      },
      "execution_count": 48,
      "outputs": [
        {
          "output_type": "stream",
          "name": "stdout",
          "text": [
            "              precision    recall  f1-score   support\n",
            "\n",
            "           0       1.00      0.90      0.95        21\n",
            "           1       0.93      1.00      0.96        13\n",
            "           2       0.67      0.67      0.67         3\n",
            "           3       1.00      1.00      1.00         6\n",
            "           4       0.89      0.94      0.92        18\n",
            "\n",
            "    accuracy                           0.93        61\n",
            "   macro avg       0.90      0.90      0.90        61\n",
            "weighted avg       0.94      0.93      0.93        61\n",
            "\n"
          ]
        },
        {
          "output_type": "display_data",
          "data": {
            "text/plain": [
              "<Figure size 360x360 with 2 Axes>"
            ],
            "image/png": "[encoded data removed]"
          },
          "metadata": {
            "needs_background": "light"
          }
        }
      ]
    },
    {
      "cell_type": "code",
      "source": [
        "prf_cls = PRF.prf(n_estimators=10, bootstrap=True, keep_proba=0.5)\n",
        "prf_cls.fit( X=X_train, y=np.array(Y_train))\n",
        "Y_pred = prf_cls.predict(X_test)\n",
        "print('PRF: {}'.format(prf_cls.score(X=X_test, y=np.array(Y_test))))"
      ],
      "metadata": {
        "id": "Miyojs38dw0M",
        "colab": {
          "base_uri": "https://localhost:8080/"
        },
        "outputId": "56b9f5bd-cb90-4528-839b-8eb92a6e484c"
      },
      "execution_count": 55,
      "outputs": [
        {
          "output_type": "stream",
          "name": "stdout",
          "text": [
            "PRF: 0.9180327868852459\n"
          ]
        }
      ]
    },
    {
      "cell_type": "code",
      "source": [
        "print(classification_report( Y_test , Y_pred ))\n",
        "cm = confusion_matrix(Y_test , Y_pred )\n",
        "plot_confusion_matrix(cm = cm , \n",
        "                      normalize    = True,\n",
        "                      target_names = ['CAGB', 'OAGB', 'PAGB', 'RSG', 'YSO'] ,\n",
        "                      title  = \"Confusion Matrix\",\n",
        "                      file_name = 'CSV.pdf',\n",
        "                      size = (5,5))"
      ],
      "metadata": {
        "id": "g5eywH8GkSIz",
        "colab": {
          "base_uri": "https://localhost:8080/",
          "height": 580
        },
        "outputId": "e515d9f0-35af-4fab-e059-b3b49cffdb53"
      },
      "execution_count": 56,
      "outputs": [
        {
          "output_type": "stream",
          "name": "stdout",
          "text": [
            "              precision    recall  f1-score   support\n",
            "\n",
            "           0       1.00      0.86      0.92        21\n",
            "           1       0.87      1.00      0.93        13\n",
            "           2       0.67      0.67      0.67         3\n",
            "           3       1.00      1.00      1.00         6\n",
            "           4       0.89      0.94      0.92        18\n",
            "\n",
            "    accuracy                           0.92        61\n",
            "   macro avg       0.89      0.89      0.89        61\n",
            "weighted avg       0.92      0.92      0.92        61\n",
            "\n"
          ]
        },
        {
          "output_type": "display_data",
          "data": {
            "text/plain": [
              "<Figure size 360x360 with 2 Axes>"
            ],
            "image/png": "[encoded data removed]"
          },
          "metadata": {
            "needs_background": "light"
          }
        }
      ]
    },
    {
      "cell_type": "code",
      "source": [
        "prf_cls = PRF.prf(n_estimators=10, bootstrap=True, keep_proba=0.3)\n",
        "prf_cls.fit( X=X_train, y=np.array(Y_train))\n",
        "Y_pred = prf_cls.predict(X_test)\n",
        "print('PRF: {}'.format(prf_cls.score(X=X_test, y=np.array(Y_test))))"
      ],
      "metadata": {
        "id": "danWm1Qddzmh",
        "colab": {
          "base_uri": "https://localhost:8080/"
        },
        "outputId": "814aacb6-45e5-4e26-fbe1-574b2b5e2c93"
      },
      "execution_count": 70,
      "outputs": [
        {
          "output_type": "stream",
          "name": "stdout",
          "text": [
            "PRF: 0.9016393442622951\n"
          ]
        }
      ]
    },
    {
      "cell_type": "code",
      "source": [
        "print(classification_report( Y_test , Y_pred ))\n",
        "cm = confusion_matrix(Y_test , Y_pred )\n",
        "plot_confusion_matrix(cm = cm , \n",
        "                      normalize    = True,\n",
        "                      target_names = ['CAGB', 'OAGB', 'PAGB', 'RSG', 'YSO'] ,\n",
        "                      title  = \"Confusion Matrix\",\n",
        "                      file_name = 'CSV.pdf',\n",
        "                      size = (5,5))"
      ],
      "metadata": {
        "id": "BUnCDV77kWvF",
        "colab": {
          "base_uri": "https://localhost:8080/",
          "height": 580
        },
        "outputId": "d2dd21d4-f366-47b7-b151-254a62334585"
      },
      "execution_count": 68,
      "outputs": [
        {
          "output_type": "stream",
          "name": "stdout",
          "text": [
            "              precision    recall  f1-score   support\n",
            "\n",
            "           0       0.91      0.95      0.93        21\n",
            "           1       1.00      0.69      0.82        13\n",
            "           2       0.33      0.67      0.44         3\n",
            "           3       0.86      1.00      0.92         6\n",
            "           4       0.88      0.83      0.86        18\n",
            "\n",
            "    accuracy                           0.85        61\n",
            "   macro avg       0.80      0.83      0.79        61\n",
            "weighted avg       0.89      0.85      0.86        61\n",
            "\n"
          ]
        },
        {
          "output_type": "display_data",
          "data": {
            "text/plain": [
              "<Figure size 360x360 with 2 Axes>"
            ],
            "image/png": "[encoded data removed]"
          },
          "metadata": {
            "needs_background": "light"
          }
        }
      ]
    },
    {
      "cell_type": "code",
      "source": [
        "prf_cls = PRF.prf(n_estimators=10, bootstrap=True, keep_proba=0.8)\n",
        "prf_cls.fit( X=X_train, y=np.array(Y_train))\n",
        "Y_pred = prf_cls.predict(X_test)\n",
        "print('PRF: {}'.format(prf_cls.score(X=X_test, y=np.array(Y_test))))"
      ],
      "metadata": {
        "colab": {
          "base_uri": "https://localhost:8080/"
        },
        "outputId": "8d6cae5a-ca7d-424b-ac37-f309cc0c152a",
        "id": "RHIXOAO1M5c3"
      },
      "execution_count": 84,
      "outputs": [
        {
          "output_type": "stream",
          "name": "stdout",
          "text": [
            "PRF: 0.9508196721311475\n"
          ]
        }
      ]
    },
    {
      "cell_type": "code",
      "source": [
        "print(classification_report( Y_test , Y_pred ))\n",
        "cm = confusion_matrix(Y_test , Y_pred )\n",
        "plot_confusion_matrix(cm = cm , \n",
        "                      normalize    = True,\n",
        "                      target_names = ['CAGB', 'OAGB', 'PAGB', 'RSG', 'YSO'] ,\n",
        "                      title  = \"Confusion Matrix\",\n",
        "                      file_name = 'CSV.pdf',\n",
        "                      size = (5,5))"
      ],
      "metadata": {
        "colab": {
          "base_uri": "https://localhost:8080/",
          "height": 580
        },
        "outputId": "e0703111-d63b-4cc8-d4a8-c5eca1d4fc55",
        "id": "WK22zl1dM5c3"
      },
      "execution_count": 85,
      "outputs": [
        {
          "output_type": "stream",
          "name": "stdout",
          "text": [
            "              precision    recall  f1-score   support\n",
            "\n",
            "           0       1.00      0.95      0.98        21\n",
            "           1       1.00      1.00      1.00        13\n",
            "           2       0.67      0.67      0.67         3\n",
            "           3       1.00      1.00      1.00         6\n",
            "           4       0.89      0.94      0.92        18\n",
            "\n",
            "    accuracy                           0.95        61\n",
            "   macro avg       0.91      0.91      0.91        61\n",
            "weighted avg       0.95      0.95      0.95        61\n",
            "\n"
          ]
        },
        {
          "output_type": "display_data",
          "data": {
            "text/plain": [
              "<Figure size 360x360 with 2 Axes>"
            ],
            "image/png": "[encoded data removed]"
          },
          "metadata": {
            "needs_background": "light"
          }
        }
      ]
    },
    {
      "cell_type": "code",
      "source": [
        "prf_cls = PRF.prf(n_estimators=100, bootstrap=True, keep_proba=0.1)\n",
        "prf_cls.fit( X=X_train, y=np.array(Y_train))\n",
        "Y_pred = prf_cls.predict(X_test)\n",
        "print('PRF: {}'.format(prf_cls.score(X=X_test, y=np.array(Y_test))))"
      ],
      "metadata": {
        "colab": {
          "base_uri": "https://localhost:8080/"
        },
        "outputId": "25c42c41-3fdc-42af-fed5-f1a3fc8b0588",
        "id": "0PlKV24bM6GW"
      },
      "execution_count": 96,
      "outputs": [
        {
          "output_type": "stream",
          "name": "stdout",
          "text": [
            "PRF: 0.9344262295081968\n"
          ]
        }
      ]
    },
    {
      "cell_type": "code",
      "source": [
        "print(classification_report( Y_test , Y_pred ))\n",
        "cm = confusion_matrix(Y_test , Y_pred )\n",
        "plot_confusion_matrix(cm = cm , \n",
        "                      normalize    = True,\n",
        "                      target_names = ['CAGB', 'OAGB', 'PAGB', 'RSG', 'YSO'] ,\n",
        "                      title  = \"Confusion Matrix\",\n",
        "                      file_name = 'CSV.pdf',\n",
        "                      size = (5,5))"
      ],
      "metadata": {
        "colab": {
          "base_uri": "https://localhost:8080/",
          "height": 580
        },
        "outputId": "724459ee-7511-4a00-ed21-494aa7969be2",
        "id": "Kwt4Wi3FM6GX"
      },
      "execution_count": 97,
      "outputs": [
        {
          "output_type": "stream",
          "name": "stdout",
          "text": [
            "              precision    recall  f1-score   support\n",
            "\n",
            "           0       1.00      0.86      0.92        21\n",
            "           1       0.93      1.00      0.96        13\n",
            "           2       1.00      0.67      0.80         3\n",
            "           3       0.86      1.00      0.92         6\n",
            "           4       0.90      1.00      0.95        18\n",
            "\n",
            "    accuracy                           0.93        61\n",
            "   macro avg       0.94      0.90      0.91        61\n",
            "weighted avg       0.94      0.93      0.93        61\n",
            "\n"
          ]
        },
        {
          "output_type": "display_data",
          "data": {
            "text/plain": [
              "<Figure size 360x360 with 2 Axes>"
            ],
            "image/png": "[encoded data removed]"
          },
          "metadata": {
            "needs_background": "light"
          }
        }
      ]
    },
    {
      "cell_type": "code",
      "source": [
        "import pickle\n",
        "# Save the trained model as a pickle string.\n",
        "saved_model = pickle.dumps(prf_cls)"
      ],
      "metadata": {
        "id": "RIlOoNJjl9Ow"
      },
      "execution_count": 35,
      "outputs": []
    },
    {
      "cell_type": "code",
      "source": [
        "knn_from_pickle = pickle.loads(saved_model)  \n",
        "# Use the loaded pickled model to make predictions\n",
        "knn_from_pickle.predict(X_test)"
      ],
      "metadata": {
        "id": "ulmTn_-OmKZo",
        "colab": {
          "base_uri": "https://localhost:8080/"
        },
        "outputId": "d053a86b-14d7-4458-9115-8291a772bce8"
      },
      "execution_count": 36,
      "outputs": [
        {
          "output_type": "execute_result",
          "data": {
            "text/plain": [
              "array([2, 4, 0, 1, 3, 0, 0, 4, 0, 0, 0, 4, 2, 1, 4, 4, 1, 3, 0, 0, 2, 0,\n",
              "       0, 3, 0, 4, 0, 1, 0, 4, 0, 4, 1, 3, 1, 0, 1, 0, 4, 0, 3, 1, 4, 1,\n",
              "       4, 0, 4, 4, 3, 0, 1, 4, 4, 4, 4, 4, 4, 4, 1, 0, 1])"
            ]
          },
          "metadata": {},
          "execution_count": 36
        }
      ]
    },
    {
      "cell_type": "code",
      "source": [
        "from joblib import dump, load\n",
        "dump(prf_cls,'PRF-S-01-100-93-2.joblib')"
      ],
      "metadata": {
        "id": "MXKiCqnpoR3O",
        "colab": {
          "base_uri": "https://localhost:8080/"
        },
        "outputId": "0c08aeac-8b6c-4b89-c151-d150935773fb"
      },
      "execution_count": 98,
      "outputs": [
        {
          "output_type": "execute_result",
          "data": {
            "text/plain": [
              "['PRF-S-01-100-93-2.joblib']"
            ]
          },
          "metadata": {},
          "execution_count": 98
        }
      ]
    },
    {
      "cell_type": "code",
      "source": [
        "model_name = 'PRF-S-01-100-93-2'\n",
        "address = model_name + '.joblib'\n",
        "clf = load(address)\n",
        "Y_pred_save_model = clf.predict(X_test)"
      ],
      "metadata": {
        "id": "hIMmkUggUbU-"
      },
      "execution_count": 99,
      "outputs": []
    },
    {
      "cell_type": "code",
      "source": [
        "print(classification_report( Y_test , Y_pred_save_model ))\n",
        "cm = confusion_matrix(Y_test , Y_pred_save_model )"
      ],
      "metadata": {
        "id": "diobFTB6qBoS",
        "colab": {
          "base_uri": "https://localhost:8080/"
        },
        "outputId": "f733aa43-d3ad-4a3e-dc6d-fb2b0da51076"
      },
      "execution_count": 95,
      "outputs": [
        {
          "output_type": "stream",
          "name": "stdout",
          "text": [
            "              precision    recall  f1-score   support\n",
            "\n",
            "           0       1.00      0.90      0.95        21\n",
            "           1       1.00      1.00      1.00        13\n",
            "           2       0.67      0.67      0.67         3\n",
            "           3       0.86      1.00      0.92         6\n",
            "           4       0.89      0.94      0.92        18\n",
            "\n",
            "    accuracy                           0.93        61\n",
            "   macro avg       0.88      0.90      0.89        61\n",
            "weighted avg       0.94      0.93      0.93        61\n",
            "\n"
          ]
        }
      ]
    },
    {
      "cell_type": "code",
      "source": [
        "plot_confusion_matrix(cm = cm , \n",
        "                      normalize    = True,\n",
        "                      target_names = ['CAGB', 'OAGB', 'PAGB', 'RSG', 'YSO'] ,\n",
        "                      title  = \"Confusion Matrix\",\n",
        "                      file_name = model_name +'_CM.pdf',\n",
        "                      size = (5,5))"
      ],
      "metadata": {
        "colab": {
          "base_uri": "https://localhost:8080/",
          "height": 354
        },
        "id": "4maVdGBkKUQx",
        "outputId": "1abb087a-2f3e-4911-dd19-83340d00dc10"
      },
      "execution_count": 96,
      "outputs": [
        {
          "output_type": "display_data",
          "data": {
            "text/plain": [
              "<Figure size 360x360 with 2 Axes>"
            ],
            "image/png": "[encoded data removed]"
          },
          "metadata": {
            "needs_background": "light"
          }
        }
      ]
    },
    {
      "cell_type": "code",
      "source": [
        "Address_directory = '/content/drive/MyDrive/IPM/Dusty Stellar Sources Classification/Models/'\n",
        "Models = ['PRF-S-001-10-92-0', 'PRF-S-01-10-92-0', 'PRF-S-01-10-93-1', 'PRF-S-01-100-93-2',\\\n",
        "          'PRF-S-03-10-90-0','PRF-S-05-10-92-0','PRF-S-05-10-92-0','PRF-S-08-10-95-1'] "
      ],
      "metadata": {
        "id": "UChmeB8ANcPm"
      },
      "execution_count": 101,
      "outputs": []
    },
    {
      "cell_type": "code",
      "source": [
        "for i in Models:\n",
        "  model_name = i\n",
        "  address = Address_directory + model_name + '.joblib'\n",
        "  clf = load(address)\n",
        "  Y_pred_save_model = clf.predict(X_test)\n",
        "  Model_name = i.split('-')[0]+'_Somte'\n",
        "  keep_proba = i.split('-')[2].split('0')[1]\n",
        "  n_stimator = i.split('-')[3]\n",
        "  print('======================================================')\n",
        "  print('Model_name: ' + Model_name)\n",
        "  print('Parameters: ')\n",
        "  print('   keep_proba = 0.' + keep_proba)\n",
        "  print('   n_stimator = ' + n_stimator)\n",
        "  print('======================================================')\n",
        "  print(classification_report( Y_test , Y_pred_save_model ))\n",
        "  cm = confusion_matrix(Y_test , Y_pred_save_model )\n",
        "  plot_confusion_matrix(cm = cm , \n",
        "                      normalize    = True,\n",
        "                      target_names = ['CAGB', 'OAGB', 'PAGB', 'RSG', 'YSO'] ,\n",
        "                      title  = \"Confusion Matrix\",\n",
        "                      file_name = model_name +'_CM.pdf',\n",
        "                      size = (5,5))"
      ],
      "metadata": {
        "id": "zFzSpQ1hosYS",
        "colab": {
          "base_uri": "https://localhost:8080/",
          "height": 1000
        },
        "outputId": "37ee96e3-713c-48ba-c365-b2e9ede82e86"
      },
      "execution_count": 103,
      "outputs": [
        {
          "output_type": "stream",
          "name": "stdout",
          "text": [
            "======================================================\n",
            "Model_name: PRF_Somte\n",
            "Parameters: \n",
            "   keep_proba = 0.\n",
            "   n_stimator = 10\n",
            "======================================================\n",
            "              precision    recall  f1-score   support\n",
            "\n",
            "           0       0.95      0.90      0.93        21\n",
            "           1       0.92      0.85      0.88        13\n",
            "           2       0.67      0.67      0.67         3\n",
            "           3       1.00      1.00      1.00         6\n",
            "           4       0.90      1.00      0.95        18\n",
            "\n",
            "    accuracy                           0.92        61\n",
            "   macro avg       0.89      0.88      0.88        61\n",
            "weighted avg       0.92      0.92      0.92        61\n",
            "\n"
          ]
        },
        {
          "output_type": "display_data",
          "data": {
            "text/plain": [
              "<Figure size 360x360 with 2 Axes>"
            ],
            "image/png": "[encoded data removed]"
          },
          "metadata": {
            "needs_background": "light"
          }
        },
        {
          "output_type": "stream",
          "name": "stdout",
          "text": [
            "======================================================\n",
            "Model_name: PRF_Somte\n",
            "Parameters: \n",
            "   keep_proba = 0.1\n",
            "   n_stimator = 10\n",
            "======================================================\n",
            "              precision    recall  f1-score   support\n",
            "\n",
            "           0       0.95      0.86      0.90        21\n",
            "           1       1.00      1.00      1.00        13\n",
            "           2       1.00      0.67      0.80         3\n",
            "           3       0.75      1.00      0.86         6\n",
            "           4       0.89      0.94      0.92        18\n",
            "\n",
            "    accuracy                           0.92        61\n",
            "   macro avg       0.92      0.89      0.90        61\n",
            "weighted avg       0.93      0.92      0.92        61\n",
            "\n"
          ]
        },
        {
          "output_type": "display_data",
          "data": {
            "text/plain": [
              "<Figure size 360x360 with 2 Axes>"
            ],
            "image/png": "[encoded data removed]"
          },
          "metadata": {
            "needs_background": "light"
          }
        },
        {
          "output_type": "stream",
          "name": "stdout",
          "text": [
            "======================================================\n",
            "Model_name: PRF_Somte\n",
            "Parameters: \n",
            "   keep_proba = 0.1\n",
            "   n_stimator = 10\n",
            "======================================================\n",
            "              precision    recall  f1-score   support\n",
            "\n",
            "           0       1.00      0.90      0.95        21\n",
            "           1       0.93      1.00      0.96        13\n",
            "           2       0.67      0.67      0.67         3\n",
            "           3       1.00      1.00      1.00         6\n",
            "           4       0.89      0.94      0.92        18\n",
            "\n",
            "    accuracy                           0.93        61\n",
            "   macro avg       0.90      0.90      0.90        61\n",
            "weighted avg       0.94      0.93      0.93        61\n",
            "\n"
          ]
        },
        {
          "output_type": "display_data",
          "data": {
            "text/plain": [
              "<Figure size 360x360 with 2 Axes>"
            ],
            "image/png": "[encoded data removed]"
          },
          "metadata": {
            "needs_background": "light"
          }
        },
        {
          "output_type": "stream",
          "name": "stdout",
          "text": [
            "======================================================\n",
            "Model_name: PRF_Somte\n",
            "Parameters: \n",
            "   keep_proba = 0.1\n",
            "   n_stimator = 100\n",
            "======================================================\n",
            "              precision    recall  f1-score   support\n",
            "\n",
            "           0       1.00      0.90      0.95        21\n",
            "           1       1.00      1.00      1.00        13\n",
            "           2       0.67      0.67      0.67         3\n",
            "           3       0.86      1.00      0.92         6\n",
            "           4       0.89      0.94      0.92        18\n",
            "\n",
            "    accuracy                           0.93        61\n",
            "   macro avg       0.88      0.90      0.89        61\n",
            "weighted avg       0.94      0.93      0.93        61\n",
            "\n"
          ]
        },
        {
          "output_type": "display_data",
          "data": {
            "text/plain": [
              "<Figure size 360x360 with 2 Axes>"
            ],
            "image/png": "[encoded data removed]"
          },
          "metadata": {
            "needs_background": "light"
          }
        },
        {
          "output_type": "stream",
          "name": "stdout",
          "text": [
            "======================================================\n",
            "Model_name: PRF_Somte\n",
            "Parameters: \n",
            "   keep_proba = 0.3\n",
            "   n_stimator = 10\n",
            "======================================================\n",
            "              precision    recall  f1-score   support\n",
            "\n",
            "           0       1.00      0.86      0.92        21\n",
            "           1       0.93      1.00      0.96        13\n",
            "           2       0.50      0.67      0.57         3\n",
            "           3       0.86      1.00      0.92         6\n",
            "           4       0.89      0.89      0.89        18\n",
            "\n",
            "    accuracy                           0.90        61\n",
            "   macro avg       0.83      0.88      0.85        61\n",
            "weighted avg       0.91      0.90      0.90        61\n",
            "\n"
          ]
        },
        {
          "output_type": "display_data",
          "data": {
            "text/plain": [
              "<Figure size 360x360 with 2 Axes>"
            ],
            "image/png": "[encoded data removed]"
          },
          "metadata": {
            "needs_background": "light"
          }
        },
        {
          "output_type": "stream",
          "name": "stdout",
          "text": [
            "======================================================\n",
            "Model_name: PRF_Somte\n",
            "Parameters: \n",
            "   keep_proba = 0.5\n",
            "   n_stimator = 10\n",
            "======================================================\n",
            "              precision    recall  f1-score   support\n",
            "\n",
            "           0       1.00      0.86      0.92        21\n",
            "           1       0.87      1.00      0.93        13\n",
            "           2       0.67      0.67      0.67         3\n",
            "           3       1.00      1.00      1.00         6\n",
            "           4       0.89      0.94      0.92        18\n",
            "\n",
            "    accuracy                           0.92        61\n",
            "   macro avg       0.89      0.89      0.89        61\n",
            "weighted avg       0.92      0.92      0.92        61\n",
            "\n"
          ]
        },
        {
          "output_type": "display_data",
          "data": {
            "text/plain": [
              "<Figure size 360x360 with 2 Axes>"
            ],
            "image/png": "[encoded data removed]"
          },
          "metadata": {
            "needs_background": "light"
          }
        },
        {
          "output_type": "stream",
          "name": "stdout",
          "text": [
            "======================================================\n",
            "Model_name: PRF_Somte\n",
            "Parameters: \n",
            "   keep_proba = 0.5\n",
            "   n_stimator = 10\n",
            "======================================================\n",
            "              precision    recall  f1-score   support\n",
            "\n",
            "           0       1.00      0.86      0.92        21\n",
            "           1       0.87      1.00      0.93        13\n",
            "           2       0.67      0.67      0.67         3\n",
            "           3       1.00      1.00      1.00         6\n",
            "           4       0.89      0.94      0.92        18\n",
            "\n",
            "    accuracy                           0.92        61\n",
            "   macro avg       0.89      0.89      0.89        61\n",
            "weighted avg       0.92      0.92      0.92        61\n",
            "\n"
          ]
        },
        {
          "output_type": "display_data",
          "data": {
            "text/plain": [
              "<Figure size 360x360 with 2 Axes>"
            ],
            "image/png": "[encoded data removed]"
          },
          "metadata": {
            "needs_background": "light"
          }
        },
        {
          "output_type": "stream",
          "name": "stdout",
          "text": [
            "======================================================\n",
            "Model_name: PRF_Somte\n",
            "Parameters: \n",
            "   keep_proba = 0.8\n",
            "   n_stimator = 10\n",
            "======================================================\n",
            "              precision    recall  f1-score   support\n",
            "\n",
            "           0       1.00      0.95      0.98        21\n",
            "           1       1.00      1.00      1.00        13\n",
            "           2       0.67      0.67      0.67         3\n",
            "           3       1.00      1.00      1.00         6\n",
            "           4       0.89      0.94      0.92        18\n",
            "\n",
            "    accuracy                           0.95        61\n",
            "   macro avg       0.91      0.91      0.91        61\n",
            "weighted avg       0.95      0.95      0.95        61\n",
            "\n"
          ]
        },
        {
          "output_type": "display_data",
          "data": {
            "text/plain": [
              "<Figure size 360x360 with 2 Axes>"
            ],
            "image/png": "[encoded data removed]"
          },
          "metadata": {
            "needs_background": "light"
          }
        }
      ]
    },
    {
      "cell_type": "markdown",
      "source": [
        "# SVC"
      ],
      "metadata": {
        "id": "0-qR7BTSgO0F"
      }
    },
    {
      "cell_type": "code",
      "source": [
        "%%time\n",
        "from sklearn.svm import SVC\n",
        "from sklearn.model_selection import GridSearchCV\n",
        "SVC = SVC()\n",
        "par = [\n",
        "       { 'kernel': ['poly'] ,\n",
        "         'degree' : list(np.arange(1,20,1)),\n",
        "         'gamma' : list(np.arange(0.2 , 2 , 0.2 )) + ['scale','auto'] ,\n",
        "         'C': list(np.arange(0.1 , 0.5 , 0.1 ))\n",
        "        }\n",
        "       ]\n",
        "GS = GridSearchCV(SVC, param_grid=par, cv = 4, scoring = None )\n",
        "GS.fit(X_train, Y_train)"
      ],
      "metadata": {
        "id": "aIJziXK4ft-P",
        "colab": {
          "base_uri": "https://localhost:8080/",
          "height": 0
        },
        "outputId": "ba992de6-77ac-4083-9a1d-e5e9b3456567"
      },
      "execution_count": 104,
      "outputs": [
        {
          "output_type": "stream",
          "name": "stdout",
          "text": [
            "CPU times: user 7min 52s, sys: 428 ms, total: 7min 52s\n",
            "Wall time: 7min 57s\n"
          ]
        },
        {
          "output_type": "execute_result",
          "data": {
            "text/plain": [
              "GridSearchCV(cv=4, estimator=SVC(),\n",
              "             param_grid=[{'C': [0.1, 0.2, 0.30000000000000004, 0.4],\n",
              "                          'degree': [1, 2, 3, 4, 5, 6, 7, 8, 9, 10, 11, 12, 13,\n",
              "                                     14, 15, 16, 17, 18, 19],\n",
              "                          'gamma': [0.2, 0.4, 0.6000000000000001, 0.8, 1.0, 1.2,\n",
              "                                    1.4000000000000001, 1.6, 1.8, 'scale',\n",
              "                                    'auto'],\n",
              "                          'kernel': ['poly']}])"
            ],
            "text/html": [
              "<style>#sk-container-id-1 {color: black;background-color: white;}#sk-container-id-1 pre{padding: 0;}#sk-container-id-1 div.sk-toggleable {background-color: white;}#sk-container-id-1 label.sk-toggleable__label {cursor: pointer;display: block;width: 100%;margin-bottom: 0;padding: 0.3em;box-sizing: border-box;text-align: center;}#sk-container-id-1 label.sk-toggleable__label-arrow:before {content: \"▸\";float: left;margin-right: 0.25em;color: #696969;}#sk-container-id-1 label.sk-toggleable__label-arrow:hover:before {color: black;}#sk-container-id-1 div.sk-estimator:hover label.sk-toggleable__label-arrow:before {color: black;}#sk-container-id-1 div.sk-toggleable__content {max-height: 0;max-width: 0;overflow: hidden;text-align: left;background-color: #f0f8ff;}#sk-container-id-1 div.sk-toggleable__content pre {margin: 0.2em;color: black;border-radius: 0.25em;background-color: #f0f8ff;}#sk-container-id-1 input.sk-toggleable__control:checked~div.sk-toggleable__content {max-height: 200px;max-width: 100%;overflow: auto;}#sk-container-id-1 input.sk-toggleable__control:checked~label.sk-toggleable__label-arrow:before {content: \"▾\";}#sk-container-id-1 div.sk-estimator input.sk-toggleable__control:checked~label.sk-toggleable__label {background-color: #d4ebff;}#sk-container-id-1 div.sk-label input.sk-toggleable__control:checked~label.sk-toggleable__label {background-color: #d4ebff;}#sk-container-id-1 input.sk-hidden--visually {border: 0;clip: rect(1px 1px 1px 1px);clip: rect(1px, 1px, 1px, 1px);height: 1px;margin: -1px;overflow: hidden;padding: 0;position: absolute;width: 1px;}#sk-container-id-1 div.sk-estimator {font-family: monospace;background-color: #f0f8ff;border: 1px dotted black;border-radius: 0.25em;box-sizing: border-box;margin-bottom: 0.5em;}#sk-container-id-1 div.sk-estimator:hover {background-color: #d4ebff;}#sk-container-id-1 div.sk-parallel-item::after {content: \"\";width: 100%;border-bottom: 1px solid gray;flex-grow: 1;}#sk-container-id-1 div.sk-label:hover label.sk-toggleable__label {background-color: #d4ebff;}#sk-container-id-1 div.sk-serial::before {content: \"\";position: absolute;border-left: 1px solid gray;box-sizing: border-box;top: 0;bottom: 0;left: 50%;z-index: 0;}#sk-container-id-1 div.sk-serial {display: flex;flex-direction: column;align-items: center;background-color: white;padding-right: 0.2em;padding-left: 0.2em;position: relative;}#sk-container-id-1 div.sk-item {position: relative;z-index: 1;}#sk-container-id-1 div.sk-parallel {display: flex;align-items: stretch;justify-content: center;background-color: white;position: relative;}#sk-container-id-1 div.sk-item::before, #sk-container-id-1 div.sk-parallel-item::before {content: \"\";position: absolute;border-left: 1px solid gray;box-sizing: border-box;top: 0;bottom: 0;left: 50%;z-index: -1;}#sk-container-id-1 div.sk-parallel-item {display: flex;flex-direction: column;z-index: 1;position: relative;background-color: white;}#sk-container-id-1 div.sk-parallel-item:first-child::after {align-self: flex-end;width: 50%;}#sk-container-id-1 div.sk-parallel-item:last-child::after {align-self: flex-start;width: 50%;}#sk-container-id-1 div.sk-parallel-item:only-child::after {width: 0;}#sk-container-id-1 div.sk-dashed-wrapped {border: 1px dashed gray;margin: 0 0.4em 0.5em 0.4em;box-sizing: border-box;padding-bottom: 0.4em;background-color: white;}#sk-container-id-1 div.sk-label label {font-family: monospace;font-weight: bold;display: inline-block;line-height: 1.2em;}#sk-container-id-1 div.sk-label-container {text-align: center;}#sk-container-id-1 div.sk-container {/* jupyter's `normalize.less` sets `[hidden] { display: none; }` but bootstrap.min.css set `[hidden] { display: none !important; }` so we also need the `!important` here to be able to override the default hidden behavior on the sphinx rendered scikit-learn.org. See: https://github.com/scikit-learn/scikit-learn/issues/21755 */display: inline-block !important;position: relative;}#sk-container-id-1 div.sk-text-repr-fallback {display: none;}</style><div id=\"sk-container-id-1\" class=\"sk-top-container\"><div class=\"sk-text-repr-fallback\"><pre>GridSearchCV(cv=4, estimator=SVC(),\n",
              "             param_grid=[{&#x27;C&#x27;: [0.1, 0.2, 0.30000000000000004, 0.4],\n",
              "                          &#x27;degree&#x27;: [1, 2, 3, 4, 5, 6, 7, 8, 9, 10, 11, 12, 13,\n",
              "                                     14, 15, 16, 17, 18, 19],\n",
              "                          &#x27;gamma&#x27;: [0.2, 0.4, 0.6000000000000001, 0.8, 1.0, 1.2,\n",
              "                                    1.4000000000000001, 1.6, 1.8, &#x27;scale&#x27;,\n",
              "                                    &#x27;auto&#x27;],\n",
              "                          &#x27;kernel&#x27;: [&#x27;poly&#x27;]}])</pre><b>In a Jupyter environment, please rerun this cell to show the HTML representation or trust the notebook. <br />On GitHub, the HTML representation is unable to render, please try loading this page with nbviewer.org.</b></div><div class=\"sk-container\" hidden><div class=\"sk-item sk-dashed-wrapped\"><div class=\"sk-label-container\"><div class=\"sk-label sk-toggleable\"><input class=\"sk-toggleable__control sk-hidden--visually\" id=\"sk-estimator-id-1\" type=\"checkbox\" ><label for=\"sk-estimator-id-1\" class=\"sk-toggleable__label sk-toggleable__label-arrow\">GridSearchCV</label><div class=\"sk-toggleable__content\"><pre>GridSearchCV(cv=4, estimator=SVC(),\n",
              "             param_grid=[{&#x27;C&#x27;: [0.1, 0.2, 0.30000000000000004, 0.4],\n",
              "                          &#x27;degree&#x27;: [1, 2, 3, 4, 5, 6, 7, 8, 9, 10, 11, 12, 13,\n",
              "                                     14, 15, 16, 17, 18, 19],\n",
              "                          &#x27;gamma&#x27;: [0.2, 0.4, 0.6000000000000001, 0.8, 1.0, 1.2,\n",
              "                                    1.4000000000000001, 1.6, 1.8, &#x27;scale&#x27;,\n",
              "                                    &#x27;auto&#x27;],\n",
              "                          &#x27;kernel&#x27;: [&#x27;poly&#x27;]}])</pre></div></div></div><div class=\"sk-parallel\"><div class=\"sk-parallel-item\"><div class=\"sk-item\"><div class=\"sk-label-container\"><div class=\"sk-label sk-toggleable\"><input class=\"sk-toggleable__control sk-hidden--visually\" id=\"sk-estimator-id-2\" type=\"checkbox\" ><label for=\"sk-estimator-id-2\" class=\"sk-toggleable__label sk-toggleable__label-arrow\">estimator: SVC</label><div class=\"sk-toggleable__content\"><pre>SVC()</pre></div></div></div><div class=\"sk-serial\"><div class=\"sk-item\"><div class=\"sk-estimator sk-toggleable\"><input class=\"sk-toggleable__control sk-hidden--visually\" id=\"sk-estimator-id-3\" type=\"checkbox\" ><label for=\"sk-estimator-id-3\" class=\"sk-toggleable__label sk-toggleable__label-arrow\">SVC</label><div class=\"sk-toggleable__content\"><pre>SVC()</pre></div></div></div></div></div></div></div></div></div></div>"
            ]
          },
          "metadata": {},
          "execution_count": 104
        }
      ]
    },
    {
      "cell_type": "code",
      "source": [
        "print(GS.best_score_)\n",
        "print(GS.best_params_)"
      ],
      "metadata": {
        "id": "ZUHn_JkfhsmE",
        "colab": {
          "base_uri": "https://localhost:8080/"
        },
        "outputId": "9463fee8-d678-4d5d-b4ea-3c9a5522eb1c"
      },
      "execution_count": null,
      "outputs": [
        {
          "output_type": "stream",
          "name": "stdout",
          "text": [
            "0.9569587025825509\n",
            "{'C': 0.4, 'degree': 5, 'gamma': 'scale', 'kernel': 'poly'}\n"
          ]
        }
      ]
    },
    {
      "cell_type": "code",
      "source": [
        "from sklearn.svm import SVC\n",
        "SV_model = SVC(kernel='poly' , degree = 5 ,C= 0.4 , gamma = 'scale' )\n",
        "SV_model.fit(X_train, Y_train)\n",
        "Y_pred = SV_model.predict(X_test)\n",
        "\n",
        "print(classification_report( Y_test , Y_pred ))"
      ],
      "metadata": {
        "id": "kWEsb3m420ck",
        "colab": {
          "base_uri": "https://localhost:8080/"
        },
        "outputId": "083a302f-ba0f-4cf0-8252-d5ecb4819aa7"
      },
      "execution_count": null,
      "outputs": [
        {
          "output_type": "stream",
          "name": "stdout",
          "text": [
            "              precision    recall  f1-score   support\n",
            "\n",
            "           0       0.95      0.95      0.95        21\n",
            "           1       0.86      0.92      0.89        13\n",
            "           2       0.60      1.00      0.75         3\n",
            "           3       1.00      1.00      1.00         6\n",
            "           4       1.00      0.83      0.91        18\n",
            "\n",
            "    accuracy                           0.92        61\n",
            "   macro avg       0.88      0.94      0.90        61\n",
            "weighted avg       0.93      0.92      0.92        61\n",
            "\n"
          ]
        }
      ]
    },
    {
      "cell_type": "code",
      "source": [
        "from joblib import dump, load\n",
        "dump(SV_model,'SVC-S-poly-92-0.joblib')"
      ],
      "metadata": {
        "colab": {
          "base_uri": "https://localhost:8080/"
        },
        "outputId": "f4da17bd-aea5-4058-c59c-dbc816571e8b",
        "id": "cclgtJDLmd0c"
      },
      "execution_count": null,
      "outputs": [
        {
          "output_type": "execute_result",
          "data": {
            "text/plain": [
              "['SVC-S-poly-92-0.joblib']"
            ]
          },
          "metadata": {},
          "execution_count": 73
        }
      ]
    },
    {
      "cell_type": "code",
      "source": [
        "model_name = 'SVC-S-poly-92-0'\n",
        "address = model_name + '.joblib'\n",
        "clf = load(address)\n",
        "Y_pred_save_model = clf.predict(X_test)"
      ],
      "metadata": {
        "id": "rOhPS4iXmd1L"
      },
      "execution_count": null,
      "outputs": []
    },
    {
      "cell_type": "code",
      "source": [
        "print(classification_report( Y_test , Y_pred_save_model ))\n",
        "cm = confusion_matrix(Y_test , Y_pred_save_model )"
      ],
      "metadata": {
        "colab": {
          "base_uri": "https://localhost:8080/"
        },
        "outputId": "5921fccc-5326-4a7c-f69c-dae9c3b8e6fb",
        "id": "uTMF4LIGmd1M"
      },
      "execution_count": null,
      "outputs": [
        {
          "output_type": "stream",
          "name": "stdout",
          "text": [
            "              precision    recall  f1-score   support\n",
            "\n",
            "           0       0.95      0.95      0.95        21\n",
            "           1       0.86      0.92      0.89        13\n",
            "           2       0.60      1.00      0.75         3\n",
            "           3       1.00      1.00      1.00         6\n",
            "           4       1.00      0.83      0.91        18\n",
            "\n",
            "    accuracy                           0.92        61\n",
            "   macro avg       0.88      0.94      0.90        61\n",
            "weighted avg       0.93      0.92      0.92        61\n",
            "\n"
          ]
        }
      ]
    },
    {
      "cell_type": "code",
      "source": [
        "plot_confusion_matrix(cm = cm , \n",
        "                      normalize    = True,\n",
        "                      target_names = ['CAGB', 'OAGB', 'PAGB', 'RSG', 'YSO'] ,\n",
        "                      title  = \"Confusion Matrix\",\n",
        "                      file_name = model_name +'_CM.pdf',\n",
        "                      size = (5,5))"
      ],
      "metadata": {
        "colab": {
          "base_uri": "https://localhost:8080/",
          "height": 354
        },
        "outputId": "5e83d480-029b-4404-e310-c7a015f752c0",
        "id": "3xd9pB3Lmd1N"
      },
      "execution_count": null,
      "outputs": [
        {
          "output_type": "display_data",
          "data": {
            "text/plain": [
              "<Figure size 360x360 with 2 Axes>"
            ],
            "image/png": "[encoded data removed]"
          },
          "metadata": {
            "needs_background": "light"
          }
        }
      ]
    },
    {
      "cell_type": "code",
      "source": [
        "%%time\n",
        "from sklearn.svm import SVC\n",
        "from sklearn.model_selection import GridSearchCV\n",
        "SVC = SVC()\n",
        "par = [\n",
        "       { 'kernel': ['linear', 'rbf'] ,\n",
        "         'gamma' : list(np.arange(0.2 , 2 , 0.2 )) + ['scale','auto'] ,\n",
        "         'C': list(np.arange(0.1 , 0.5 , 0.1 ))\n",
        "        }\n",
        "       ]\n",
        "GS = GridSearchCV(SVC, param_grid=par, cv = 4 , scoring=None)\n",
        "GS.fit(X_train, Y_train)"
      ],
      "metadata": {
        "id": "HYbBO1s2iDUM",
        "colab": {
          "base_uri": "https://localhost:8080/",
          "height": 151
        },
        "outputId": "a2615696-77f5-4612-dc82-889d433448d2"
      },
      "execution_count": null,
      "outputs": [
        {
          "output_type": "stream",
          "name": "stdout",
          "text": [
            "CPU times: user 9.26 s, sys: 17 ms, total: 9.27 s\n",
            "Wall time: 9.29 s\n"
          ]
        },
        {
          "output_type": "execute_result",
          "data": {
            "text/plain": [
              "GridSearchCV(cv=4, estimator=SVC(),\n",
              "             param_grid=[{'C': [0.1, 0.2, 0.30000000000000004, 0.4],\n",
              "                          'gamma': [0.2, 0.4, 0.6000000000000001, 0.8, 1.0, 1.2,\n",
              "                                    1.4000000000000001, 1.6, 1.8, 'scale',\n",
              "                                    'auto'],\n",
              "                          'kernel': ['linear', 'rbf']}])"
            ],
            "text/html": [
              "<style>#sk-container-id-2 {color: black;background-color: white;}#sk-container-id-2 pre{padding: 0;}#sk-container-id-2 div.sk-toggleable {background-color: white;}#sk-container-id-2 label.sk-toggleable__label {cursor: pointer;display: block;width: 100%;margin-bottom: 0;padding: 0.3em;box-sizing: border-box;text-align: center;}#sk-container-id-2 label.sk-toggleable__label-arrow:before {content: \"▸\";float: left;margin-right: 0.25em;color: #696969;}#sk-container-id-2 label.sk-toggleable__label-arrow:hover:before {color: black;}#sk-container-id-2 div.sk-estimator:hover label.sk-toggleable__label-arrow:before {color: black;}#sk-container-id-2 div.sk-toggleable__content {max-height: 0;max-width: 0;overflow: hidden;text-align: left;background-color: #f0f8ff;}#sk-container-id-2 div.sk-toggleable__content pre {margin: 0.2em;color: black;border-radius: 0.25em;background-color: #f0f8ff;}#sk-container-id-2 input.sk-toggleable__control:checked~div.sk-toggleable__content {max-height: 200px;max-width: 100%;overflow: auto;}#sk-container-id-2 input.sk-toggleable__control:checked~label.sk-toggleable__label-arrow:before {content: \"▾\";}#sk-container-id-2 div.sk-estimator input.sk-toggleable__control:checked~label.sk-toggleable__label {background-color: #d4ebff;}#sk-container-id-2 div.sk-label input.sk-toggleable__control:checked~label.sk-toggleable__label {background-color: #d4ebff;}#sk-container-id-2 input.sk-hidden--visually {border: 0;clip: rect(1px 1px 1px 1px);clip: rect(1px, 1px, 1px, 1px);height: 1px;margin: -1px;overflow: hidden;padding: 0;position: absolute;width: 1px;}#sk-container-id-2 div.sk-estimator {font-family: monospace;background-color: #f0f8ff;border: 1px dotted black;border-radius: 0.25em;box-sizing: border-box;margin-bottom: 0.5em;}#sk-container-id-2 div.sk-estimator:hover {background-color: #d4ebff;}#sk-container-id-2 div.sk-parallel-item::after {content: \"\";width: 100%;border-bottom: 1px solid gray;flex-grow: 1;}#sk-container-id-2 div.sk-label:hover label.sk-toggleable__label {background-color: #d4ebff;}#sk-container-id-2 div.sk-serial::before {content: \"\";position: absolute;border-left: 1px solid gray;box-sizing: border-box;top: 0;bottom: 0;left: 50%;z-index: 0;}#sk-container-id-2 div.sk-serial {display: flex;flex-direction: column;align-items: center;background-color: white;padding-right: 0.2em;padding-left: 0.2em;position: relative;}#sk-container-id-2 div.sk-item {position: relative;z-index: 1;}#sk-container-id-2 div.sk-parallel {display: flex;align-items: stretch;justify-content: center;background-color: white;position: relative;}#sk-container-id-2 div.sk-item::before, #sk-container-id-2 div.sk-parallel-item::before {content: \"\";position: absolute;border-left: 1px solid gray;box-sizing: border-box;top: 0;bottom: 0;left: 50%;z-index: -1;}#sk-container-id-2 div.sk-parallel-item {display: flex;flex-direction: column;z-index: 1;position: relative;background-color: white;}#sk-container-id-2 div.sk-parallel-item:first-child::after {align-self: flex-end;width: 50%;}#sk-container-id-2 div.sk-parallel-item:last-child::after {align-self: flex-start;width: 50%;}#sk-container-id-2 div.sk-parallel-item:only-child::after {width: 0;}#sk-container-id-2 div.sk-dashed-wrapped {border: 1px dashed gray;margin: 0 0.4em 0.5em 0.4em;box-sizing: border-box;padding-bottom: 0.4em;background-color: white;}#sk-container-id-2 div.sk-label label {font-family: monospace;font-weight: bold;display: inline-block;line-height: 1.2em;}#sk-container-id-2 div.sk-label-container {text-align: center;}#sk-container-id-2 div.sk-container {/* jupyter's `normalize.less` sets `[hidden] { display: none; }` but bootstrap.min.css set `[hidden] { display: none !important; }` so we also need the `!important` here to be able to override the default hidden behavior on the sphinx rendered scikit-learn.org. See: https://github.com/scikit-learn/scikit-learn/issues/21755 */display: inline-block !important;position: relative;}#sk-container-id-2 div.sk-text-repr-fallback {display: none;}</style><div id=\"sk-container-id-2\" class=\"sk-top-container\"><div class=\"sk-text-repr-fallback\"><pre>GridSearchCV(cv=4, estimator=SVC(),\n",
              "             param_grid=[{&#x27;C&#x27;: [0.1, 0.2, 0.30000000000000004, 0.4],\n",
              "                          &#x27;gamma&#x27;: [0.2, 0.4, 0.6000000000000001, 0.8, 1.0, 1.2,\n",
              "                                    1.4000000000000001, 1.6, 1.8, &#x27;scale&#x27;,\n",
              "                                    &#x27;auto&#x27;],\n",
              "                          &#x27;kernel&#x27;: [&#x27;linear&#x27;, &#x27;rbf&#x27;]}])</pre><b>In a Jupyter environment, please rerun this cell to show the HTML representation or trust the notebook. <br />On GitHub, the HTML representation is unable to render, please try loading this page with nbviewer.org.</b></div><div class=\"sk-container\" hidden><div class=\"sk-item sk-dashed-wrapped\"><div class=\"sk-label-container\"><div class=\"sk-label sk-toggleable\"><input class=\"sk-toggleable__control sk-hidden--visually\" id=\"sk-estimator-id-4\" type=\"checkbox\" ><label for=\"sk-estimator-id-4\" class=\"sk-toggleable__label sk-toggleable__label-arrow\">GridSearchCV</label><div class=\"sk-toggleable__content\"><pre>GridSearchCV(cv=4, estimator=SVC(),\n",
              "             param_grid=[{&#x27;C&#x27;: [0.1, 0.2, 0.30000000000000004, 0.4],\n",
              "                          &#x27;gamma&#x27;: [0.2, 0.4, 0.6000000000000001, 0.8, 1.0, 1.2,\n",
              "                                    1.4000000000000001, 1.6, 1.8, &#x27;scale&#x27;,\n",
              "                                    &#x27;auto&#x27;],\n",
              "                          &#x27;kernel&#x27;: [&#x27;linear&#x27;, &#x27;rbf&#x27;]}])</pre></div></div></div><div class=\"sk-parallel\"><div class=\"sk-parallel-item\"><div class=\"sk-item\"><div class=\"sk-label-container\"><div class=\"sk-label sk-toggleable\"><input class=\"sk-toggleable__control sk-hidden--visually\" id=\"sk-estimator-id-5\" type=\"checkbox\" ><label for=\"sk-estimator-id-5\" class=\"sk-toggleable__label sk-toggleable__label-arrow\">estimator: SVC</label><div class=\"sk-toggleable__content\"><pre>SVC()</pre></div></div></div><div class=\"sk-serial\"><div class=\"sk-item\"><div class=\"sk-estimator sk-toggleable\"><input class=\"sk-toggleable__control sk-hidden--visually\" id=\"sk-estimator-id-6\" type=\"checkbox\" ><label for=\"sk-estimator-id-6\" class=\"sk-toggleable__label sk-toggleable__label-arrow\">SVC</label><div class=\"sk-toggleable__content\"><pre>SVC()</pre></div></div></div></div></div></div></div></div></div></div>"
            ]
          },
          "metadata": {},
          "execution_count": 70
        }
      ]
    },
    {
      "cell_type": "code",
      "source": [
        "print(GS.best_score_)\n",
        "print(GS.best_params_)"
      ],
      "metadata": {
        "id": "ZuXlg3sWjzRV",
        "colab": {
          "base_uri": "https://localhost:8080/"
        },
        "outputId": "1ca5fb67-9d93-4838-fb14-ff19a3ac89c3"
      },
      "execution_count": null,
      "outputs": [
        {
          "output_type": "stream",
          "name": "stdout",
          "text": [
            "0.8689348074054576\n",
            "{'C': 0.4, 'gamma': 'scale', 'kernel': 'rbf'}\n"
          ]
        }
      ]
    },
    {
      "cell_type": "code",
      "source": [
        "from sklearn.svm import SVC\n",
        "SV_model = SVC(kernel='rbf', C= 0.4, gamma = 'scale' )\n",
        "SV_model.fit(X_train, Y_train)\n",
        "Y_pred = SV_model.predict(X_test)\n",
        "\n",
        "print(classification_report( Y_test , Y_pred ))"
      ],
      "metadata": {
        "colab": {
          "base_uri": "https://localhost:8080/"
        },
        "outputId": "561a7d6d-3e36-4934-8594-ac2ea96a38a1",
        "id": "w8Rxk0qef55x"
      },
      "execution_count": null,
      "outputs": [
        {
          "output_type": "stream",
          "name": "stdout",
          "text": [
            "              precision    recall  f1-score   support\n",
            "\n",
            "           0       1.00      0.76      0.86        21\n",
            "           1       0.79      0.85      0.81        13\n",
            "           2       0.33      0.67      0.44         3\n",
            "           3       0.75      1.00      0.86         6\n",
            "           4       0.88      0.83      0.86        18\n",
            "\n",
            "    accuracy                           0.82        61\n",
            "   macro avg       0.75      0.82      0.77        61\n",
            "weighted avg       0.86      0.82      0.83        61\n",
            "\n"
          ]
        }
      ]
    },
    {
      "cell_type": "code",
      "source": [
        "from joblib import dump, load\n",
        "dump(SV_model,'SVC-S-rbf-82-0.joblib')"
      ],
      "metadata": {
        "colab": {
          "base_uri": "https://localhost:8080/"
        },
        "outputId": "a8e7e75f-a03c-4a25-9e16-e7223f50beb8",
        "id": "6aKiXYazn26J"
      },
      "execution_count": null,
      "outputs": [
        {
          "output_type": "execute_result",
          "data": {
            "text/plain": [
              "['SVC-S-rbf-82-0.joblib']"
            ]
          },
          "metadata": {},
          "execution_count": 79
        }
      ]
    },
    {
      "cell_type": "code",
      "source": [
        "model_name = 'SVC-S-rbf-82-0'\n",
        "address = model_name + '.joblib'\n",
        "clf = load(address)\n",
        "Y_pred_save_model = clf.predict(X_test)"
      ],
      "metadata": {
        "id": "8VqcJnM7n26M"
      },
      "execution_count": null,
      "outputs": []
    },
    {
      "cell_type": "code",
      "source": [
        "print(classification_report( Y_test , Y_pred_save_model ))\n",
        "cm = confusion_matrix(Y_test , Y_pred_save_model )"
      ],
      "metadata": {
        "colab": {
          "base_uri": "https://localhost:8080/"
        },
        "outputId": "8b49f4a5-125f-4e11-b479-eb9e10826805",
        "id": "kdNNkGXFmkYX"
      },
      "execution_count": null,
      "outputs": [
        {
          "output_type": "stream",
          "name": "stdout",
          "text": [
            "              precision    recall  f1-score   support\n",
            "\n",
            "           0       1.00      0.76      0.86        21\n",
            "           1       0.79      0.85      0.81        13\n",
            "           2       0.33      0.67      0.44         3\n",
            "           3       0.75      1.00      0.86         6\n",
            "           4       0.88      0.83      0.86        18\n",
            "\n",
            "    accuracy                           0.82        61\n",
            "   macro avg       0.75      0.82      0.77        61\n",
            "weighted avg       0.86      0.82      0.83        61\n",
            "\n"
          ]
        }
      ]
    },
    {
      "cell_type": "code",
      "source": [
        "plot_confusion_matrix(cm = cm , \n",
        "                      normalize    = True,\n",
        "                      target_names = ['CAGB', 'OAGB', 'PAGB', 'RSG', 'YSO'] ,\n",
        "                      title  = \"Confusion Matrix\",\n",
        "                      file_name = model_name +'_CM.pdf',\n",
        "                      size = (5,5))"
      ],
      "metadata": {
        "colab": {
          "base_uri": "https://localhost:8080/",
          "height": 354
        },
        "outputId": "65ff32a3-4bc6-4080-ee28-5335d1c8eac8",
        "id": "1xRTe-6omkYY"
      },
      "execution_count": null,
      "outputs": [
        {
          "output_type": "display_data",
          "data": {
            "text/plain": [
              "<Figure size 360x360 with 2 Axes>"
            ],
            "image/png": "[encoded data removed]"
          },
          "metadata": {
            "needs_background": "light"
          }
        }
      ]
    },
    {
      "cell_type": "markdown",
      "source": [
        "# GaussianNB"
      ],
      "metadata": {
        "id": "fNt5k0AggT4s"
      }
    },
    {
      "cell_type": "code",
      "source": [
        "from sklearn.naive_bayes import GaussianNB\n",
        "GNB = GaussianNB()\n",
        "GNB.fit( X_train , Y_train )\n",
        "Y_pred = GNB.predict(X_test)\n",
        "\n",
        "print(classification_report( Y_test , Y_pred ))"
      ],
      "metadata": {
        "id": "U-ugl7Gej7Ma",
        "colab": {
          "base_uri": "https://localhost:8080/"
        },
        "outputId": "1d7d6175-1006-4d67-dbd2-f9c317f35d74"
      },
      "execution_count": null,
      "outputs": [
        {
          "output_type": "stream",
          "name": "stdout",
          "text": [
            "              precision    recall  f1-score   support\n",
            "\n",
            "           0       1.00      0.67      0.80        21\n",
            "           1       0.67      0.77      0.71        13\n",
            "           2       0.14      0.33      0.20         3\n",
            "           3       0.67      1.00      0.80         6\n",
            "           4       0.81      0.72      0.76        18\n",
            "\n",
            "    accuracy                           0.72        61\n",
            "   macro avg       0.66      0.70      0.66        61\n",
            "weighted avg       0.80      0.72      0.74        61\n",
            "\n"
          ]
        }
      ]
    },
    {
      "cell_type": "code",
      "source": [
        "from joblib import dump, load\n",
        "dump(GNB,'GNB-S-72-0.joblib')"
      ],
      "metadata": {
        "colab": {
          "base_uri": "https://localhost:8080/"
        },
        "id": "129DGAX0kqdJ",
        "outputId": "885165eb-3af6-42f1-8344-da49445ec4bc"
      },
      "execution_count": null,
      "outputs": [
        {
          "output_type": "execute_result",
          "data": {
            "text/plain": [
              "['GNB-S-72-0.joblib']"
            ]
          },
          "metadata": {},
          "execution_count": 85
        }
      ]
    },
    {
      "cell_type": "code",
      "source": [
        "model_name = 'GNB-S-72-0'\n",
        "address = model_name + '.joblib'\n",
        "clf = load(address)\n",
        "Y_pred_save_model = clf.predict(X_test)"
      ],
      "metadata": {
        "id": "MOSNqIkHkqdq"
      },
      "execution_count": null,
      "outputs": []
    },
    {
      "cell_type": "code",
      "source": [
        "print(classification_report( Y_test , Y_pred_save_model ))\n",
        "cm = confusion_matrix(Y_test , Y_pred_save_model )"
      ],
      "metadata": {
        "colab": {
          "base_uri": "https://localhost:8080/"
        },
        "outputId": "ed2eeb3e-f0e3-43a9-96f5-8108f213c1cc",
        "id": "jfqVfP9Skqdr"
      },
      "execution_count": null,
      "outputs": [
        {
          "output_type": "stream",
          "name": "stdout",
          "text": [
            "              precision    recall  f1-score   support\n",
            "\n",
            "           0       1.00      0.67      0.80        21\n",
            "           1       0.67      0.77      0.71        13\n",
            "           2       0.14      0.33      0.20         3\n",
            "           3       0.67      1.00      0.80         6\n",
            "           4       0.81      0.72      0.76        18\n",
            "\n",
            "    accuracy                           0.72        61\n",
            "   macro avg       0.66      0.70      0.66        61\n",
            "weighted avg       0.80      0.72      0.74        61\n",
            "\n"
          ]
        }
      ]
    },
    {
      "cell_type": "code",
      "source": [
        "plot_confusion_matrix(cm = cm , \n",
        "                      normalize    = True,\n",
        "                      target_names = ['CAGB', 'OAGB', 'PAGB', 'RSG', 'YSO'] ,\n",
        "                      title  = \"Confusion Matrix\",\n",
        "                      file_name = model_name +'_CM.pdf',\n",
        "                      size = (5,5))"
      ],
      "metadata": {
        "colab": {
          "base_uri": "https://localhost:8080/",
          "height": 354
        },
        "outputId": "141c94c4-7ed9-4a84-9f0a-62e0b33257a9",
        "id": "mfFYKfxBkqds"
      },
      "execution_count": null,
      "outputs": [
        {
          "output_type": "display_data",
          "data": {
            "text/plain": [
              "<Figure size 360x360 with 2 Axes>"
            ],
            "image/png": "[encoded data removed]"
          },
          "metadata": {
            "needs_background": "light"
          }
        }
      ]
    },
    {
      "cell_type": "markdown",
      "source": [
        "# MultinomialNB"
      ],
      "metadata": {
        "id": "pOlWi6jNgcKk"
      }
    },
    {
      "cell_type": "code",
      "source": [
        "from sklearn.naive_bayes import  MultinomialNB\n",
        "\n",
        "MNB = MultinomialNB()\n",
        "MNB.fit( X_train, Y_train )\n",
        "Y_pred = MNB.predict(X_test)\n",
        "\n",
        "print(classification_report( Y_test , Y_pred ))"
      ],
      "metadata": {
        "id": "Ek1W9GSVkNGE",
        "colab": {
          "base_uri": "https://localhost:8080/"
        },
        "outputId": "bd32f98f-a28f-4c33-c7d7-67cdaea50b36"
      },
      "execution_count": null,
      "outputs": [
        {
          "output_type": "stream",
          "name": "stdout",
          "text": [
            "              precision    recall  f1-score   support\n",
            "\n",
            "           0       0.88      0.67      0.76        21\n",
            "           1       0.67      0.77      0.71        13\n",
            "           2       0.14      0.33      0.20         3\n",
            "           3       0.57      0.67      0.62         6\n",
            "           4       0.75      0.67      0.71        18\n",
            "\n",
            "    accuracy                           0.67        61\n",
            "   macro avg       0.60      0.62      0.60        61\n",
            "weighted avg       0.73      0.67      0.69        61\n",
            "\n"
          ]
        }
      ]
    },
    {
      "cell_type": "markdown",
      "source": [
        "# KNeighborsClassifier"
      ],
      "metadata": {
        "id": "Pvv65ShSgf5H"
      }
    },
    {
      "cell_type": "code",
      "source": [
        "from sklearn.neighbors import KNeighborsClassifier\n",
        "KNN = KNeighborsClassifier( n_neighbors = 5 , weights= 'distance', n_jobs= 3 )\n",
        "KNN.fit( X_train , Y_train )\n",
        "Y_pred = KNN.predict(X_test)\n",
        "\n",
        "print(classification_report( Y_test , Y_pred ))"
      ],
      "metadata": {
        "id": "B_UJlTsbkzFr",
        "colab": {
          "base_uri": "https://localhost:8080/"
        },
        "outputId": "3e13e2b5-6084-4290-db6f-630db289f6dc"
      },
      "execution_count": null,
      "outputs": [
        {
          "output_type": "stream",
          "name": "stdout",
          "text": [
            "              precision    recall  f1-score   support\n",
            "\n",
            "           0       0.95      0.90      0.93        21\n",
            "           1       1.00      0.77      0.87        13\n",
            "           2       0.33      0.67      0.44         3\n",
            "           3       0.75      1.00      0.86         6\n",
            "           4       0.88      0.83      0.86        18\n",
            "\n",
            "    accuracy                           0.85        61\n",
            "   macro avg       0.78      0.83      0.79        61\n",
            "weighted avg       0.89      0.85      0.86        61\n",
            "\n"
          ]
        }
      ]
    },
    {
      "cell_type": "code",
      "source": [
        "from joblib import dump, load\n",
        "dump(KNN,'KNN-S-85-0.joblib')"
      ],
      "metadata": {
        "colab": {
          "base_uri": "https://localhost:8080/"
        },
        "outputId": "162848e2-b6e4-44ca-c5e8-6d13bf55937c",
        "id": "zB_ie-ozlPX8"
      },
      "execution_count": null,
      "outputs": [
        {
          "output_type": "execute_result",
          "data": {
            "text/plain": [
              "['KNN-S-85-0.joblib']"
            ]
          },
          "metadata": {},
          "execution_count": 97
        }
      ]
    },
    {
      "cell_type": "code",
      "source": [
        "model_name = 'KNN-S-85-0'\n",
        "address = model_name + '.joblib'\n",
        "clf = load(address)\n",
        "clf.fit( X_train , Y_train )\n",
        "Y_pred_save_model = clf.predict(X_test)"
      ],
      "metadata": {
        "id": "f6-yypO9lPX9"
      },
      "execution_count": null,
      "outputs": []
    },
    {
      "cell_type": "code",
      "source": [
        "print(classification_report( Y_test , Y_pred_save_model ))\n",
        "cm = confusion_matrix(Y_test , Y_pred_save_model )"
      ],
      "metadata": {
        "colab": {
          "base_uri": "https://localhost:8080/"
        },
        "outputId": "f6f70eff-5748-4423-eef5-c6821a8a41d1",
        "id": "GWdTsO1flPX9"
      },
      "execution_count": null,
      "outputs": [
        {
          "output_type": "stream",
          "name": "stdout",
          "text": [
            "              precision    recall  f1-score   support\n",
            "\n",
            "           0       0.95      0.90      0.93        21\n",
            "           1       1.00      0.77      0.87        13\n",
            "           2       0.33      0.67      0.44         3\n",
            "           3       0.75      1.00      0.86         6\n",
            "           4       0.88      0.83      0.86        18\n",
            "\n",
            "    accuracy                           0.85        61\n",
            "   macro avg       0.78      0.83      0.79        61\n",
            "weighted avg       0.89      0.85      0.86        61\n",
            "\n"
          ]
        }
      ]
    },
    {
      "cell_type": "code",
      "source": [
        "plot_confusion_matrix(cm = cm , \n",
        "                      normalize    = True,\n",
        "                      target_names = ['CAGB', 'OAGB', 'PAGB', 'RSG', 'YSO'] ,\n",
        "                      title  = \"Confusion Matrix\",\n",
        "                      file_name = model_name +'_CM.pdf',\n",
        "                      size = (5,5))"
      ],
      "metadata": {
        "colab": {
          "base_uri": "https://localhost:8080/"
        },
        "outputId": "a9ec972b-66a1-4f40-fc5a-41200ebc7fad",
        "id": "YkdRHufxlPX9"
      },
      "execution_count": null,
      "outputs": [
        {
          "output_type": "display_data",
          "data": {
            "text/plain": [
              "<Figure size 360x360 with 2 Axes>"
            ],
            "image/png": "[encoded data removed]"
          },
          "metadata": {
            "needs_background": "light"
          }
        }
      ]
    },
    {
      "cell_type": "code",
      "source": [
        "%%time\n",
        "from sklearn.neighbors import KNeighborsClassifier\n",
        "from sklearn.model_selection import GridSearchCV\n",
        "KNN = KNeighborsClassifier(n_jobs=-1)\n",
        "par = [\n",
        "       { \n",
        "         'n_neighbors' : list(np.arange(1 , 10 , 1 )) ,\n",
        "         'weights': ['distance' , 'uniform'] ,\n",
        "          'algorithm' : ['auto','ball_tree', 'kd_tree', 'brute' ]\n",
        "        }\n",
        "       ]\n",
        "GS = GridSearchCV(KNN, param_grid=par, cv = 4, scoring = None)\n",
        "GS.fit(X, Y)"
      ],
      "metadata": {
        "id": "BZY0JMVCmu0k",
        "colab": {
          "base_uri": "https://localhost:8080/"
        },
        "outputId": "b80bba44-fd67-4993-ac48-a379497a9d32"
      },
      "execution_count": null,
      "outputs": [
        {
          "output_type": "stream",
          "name": "stdout",
          "text": [
            "CPU times: user 3.67 s, sys: 281 ms, total: 3.95 s\n",
            "Wall time: 4.98 s\n"
          ]
        },
        {
          "output_type": "execute_result",
          "data": {
            "text/plain": [
              "GridSearchCV(cv=4, estimator=KNeighborsClassifier(n_jobs=-1),\n",
              "             param_grid=[{'algorithm': ['auto', 'ball_tree', 'kd_tree',\n",
              "                                        'brute'],\n",
              "                          'n_neighbors': [1, 2, 3, 4, 5, 6, 7, 8, 9],\n",
              "                          'weights': ['distance', 'uniform']}])"
            ],
            "text/html": [
              "<style>#sk-container-id-3 {color: black;background-color: white;}#sk-container-id-3 pre{padding: 0;}#sk-container-id-3 div.sk-toggleable {background-color: white;}#sk-container-id-3 label.sk-toggleable__label {cursor: pointer;display: block;width: 100%;margin-bottom: 0;padding: 0.3em;box-sizing: border-box;text-align: center;}#sk-container-id-3 label.sk-toggleable__label-arrow:before {content: \"▸\";float: left;margin-right: 0.25em;color: #696969;}#sk-container-id-3 label.sk-toggleable__label-arrow:hover:before {color: black;}#sk-container-id-3 div.sk-estimator:hover label.sk-toggleable__label-arrow:before {color: black;}#sk-container-id-3 div.sk-toggleable__content {max-height: 0;max-width: 0;overflow: hidden;text-align: left;background-color: #f0f8ff;}#sk-container-id-3 div.sk-toggleable__content pre {margin: 0.2em;color: black;border-radius: 0.25em;background-color: #f0f8ff;}#sk-container-id-3 input.sk-toggleable__control:checked~div.sk-toggleable__content {max-height: 200px;max-width: 100%;overflow: auto;}#sk-container-id-3 input.sk-toggleable__control:checked~label.sk-toggleable__label-arrow:before {content: \"▾\";}#sk-container-id-3 div.sk-estimator input.sk-toggleable__control:checked~label.sk-toggleable__label {background-color: #d4ebff;}#sk-container-id-3 div.sk-label input.sk-toggleable__control:checked~label.sk-toggleable__label {background-color: #d4ebff;}#sk-container-id-3 input.sk-hidden--visually {border: 0;clip: rect(1px 1px 1px 1px);clip: rect(1px, 1px, 1px, 1px);height: 1px;margin: -1px;overflow: hidden;padding: 0;position: absolute;width: 1px;}#sk-container-id-3 div.sk-estimator {font-family: monospace;background-color: #f0f8ff;border: 1px dotted black;border-radius: 0.25em;box-sizing: border-box;margin-bottom: 0.5em;}#sk-container-id-3 div.sk-estimator:hover {background-color: #d4ebff;}#sk-container-id-3 div.sk-parallel-item::after {content: \"\";width: 100%;border-bottom: 1px solid gray;flex-grow: 1;}#sk-container-id-3 div.sk-label:hover label.sk-toggleable__label {background-color: #d4ebff;}#sk-container-id-3 div.sk-serial::before {content: \"\";position: absolute;border-left: 1px solid gray;box-sizing: border-box;top: 0;bottom: 0;left: 50%;z-index: 0;}#sk-container-id-3 div.sk-serial {display: flex;flex-direction: column;align-items: center;background-color: white;padding-right: 0.2em;padding-left: 0.2em;position: relative;}#sk-container-id-3 div.sk-item {position: relative;z-index: 1;}#sk-container-id-3 div.sk-parallel {display: flex;align-items: stretch;justify-content: center;background-color: white;position: relative;}#sk-container-id-3 div.sk-item::before, #sk-container-id-3 div.sk-parallel-item::before {content: \"\";position: absolute;border-left: 1px solid gray;box-sizing: border-box;top: 0;bottom: 0;left: 50%;z-index: -1;}#sk-container-id-3 div.sk-parallel-item {display: flex;flex-direction: column;z-index: 1;position: relative;background-color: white;}#sk-container-id-3 div.sk-parallel-item:first-child::after {align-self: flex-end;width: 50%;}#sk-container-id-3 div.sk-parallel-item:last-child::after {align-self: flex-start;width: 50%;}#sk-container-id-3 div.sk-parallel-item:only-child::after {width: 0;}#sk-container-id-3 div.sk-dashed-wrapped {border: 1px dashed gray;margin: 0 0.4em 0.5em 0.4em;box-sizing: border-box;padding-bottom: 0.4em;background-color: white;}#sk-container-id-3 div.sk-label label {font-family: monospace;font-weight: bold;display: inline-block;line-height: 1.2em;}#sk-container-id-3 div.sk-label-container {text-align: center;}#sk-container-id-3 div.sk-container {/* jupyter's `normalize.less` sets `[hidden] { display: none; }` but bootstrap.min.css set `[hidden] { display: none !important; }` so we also need the `!important` here to be able to override the default hidden behavior on the sphinx rendered scikit-learn.org. See: https://github.com/scikit-learn/scikit-learn/issues/21755 */display: inline-block !important;position: relative;}#sk-container-id-3 div.sk-text-repr-fallback {display: none;}</style><div id=\"sk-container-id-3\" class=\"sk-top-container\"><div class=\"sk-text-repr-fallback\"><pre>GridSearchCV(cv=4, estimator=KNeighborsClassifier(n_jobs=-1),\n",
              "             param_grid=[{&#x27;algorithm&#x27;: [&#x27;auto&#x27;, &#x27;ball_tree&#x27;, &#x27;kd_tree&#x27;,\n",
              "                                        &#x27;brute&#x27;],\n",
              "                          &#x27;n_neighbors&#x27;: [1, 2, 3, 4, 5, 6, 7, 8, 9],\n",
              "                          &#x27;weights&#x27;: [&#x27;distance&#x27;, &#x27;uniform&#x27;]}])</pre><b>In a Jupyter environment, please rerun this cell to show the HTML representation or trust the notebook. <br />On GitHub, the HTML representation is unable to render, please try loading this page with nbviewer.org.</b></div><div class=\"sk-container\" hidden><div class=\"sk-item sk-dashed-wrapped\"><div class=\"sk-label-container\"><div class=\"sk-label sk-toggleable\"><input class=\"sk-toggleable__control sk-hidden--visually\" id=\"sk-estimator-id-7\" type=\"checkbox\" ><label for=\"sk-estimator-id-7\" class=\"sk-toggleable__label sk-toggleable__label-arrow\">GridSearchCV</label><div class=\"sk-toggleable__content\"><pre>GridSearchCV(cv=4, estimator=KNeighborsClassifier(n_jobs=-1),\n",
              "             param_grid=[{&#x27;algorithm&#x27;: [&#x27;auto&#x27;, &#x27;ball_tree&#x27;, &#x27;kd_tree&#x27;,\n",
              "                                        &#x27;brute&#x27;],\n",
              "                          &#x27;n_neighbors&#x27;: [1, 2, 3, 4, 5, 6, 7, 8, 9],\n",
              "                          &#x27;weights&#x27;: [&#x27;distance&#x27;, &#x27;uniform&#x27;]}])</pre></div></div></div><div class=\"sk-parallel\"><div class=\"sk-parallel-item\"><div class=\"sk-item\"><div class=\"sk-label-container\"><div class=\"sk-label sk-toggleable\"><input class=\"sk-toggleable__control sk-hidden--visually\" id=\"sk-estimator-id-8\" type=\"checkbox\" ><label for=\"sk-estimator-id-8\" class=\"sk-toggleable__label sk-toggleable__label-arrow\">estimator: KNeighborsClassifier</label><div class=\"sk-toggleable__content\"><pre>KNeighborsClassifier(n_jobs=-1)</pre></div></div></div><div class=\"sk-serial\"><div class=\"sk-item\"><div class=\"sk-estimator sk-toggleable\"><input class=\"sk-toggleable__control sk-hidden--visually\" id=\"sk-estimator-id-9\" type=\"checkbox\" ><label for=\"sk-estimator-id-9\" class=\"sk-toggleable__label sk-toggleable__label-arrow\">KNeighborsClassifier</label><div class=\"sk-toggleable__content\"><pre>KNeighborsClassifier(n_jobs=-1)</pre></div></div></div></div></div></div></div></div></div></div>"
            ]
          },
          "metadata": {},
          "execution_count": 91
        }
      ]
    },
    {
      "cell_type": "code",
      "source": [
        "print(GS.best_score_)\n",
        "print(GS.best_params_)"
      ],
      "metadata": {
        "id": "eV0jOpvDmyrL",
        "colab": {
          "base_uri": "https://localhost:8080/"
        },
        "outputId": "3d19819e-fc78-4495-8327-b5b994714031"
      },
      "execution_count": null,
      "outputs": [
        {
          "output_type": "stream",
          "name": "stdout",
          "text": [
            "0.8421052631578947\n",
            "{'algorithm': 'auto', 'n_neighbors': 3, 'weights': 'distance'}\n"
          ]
        }
      ]
    },
    {
      "cell_type": "markdown",
      "source": [
        "# DecisionTreeClassifier"
      ],
      "metadata": {
        "id": "nMJRy2eXgj9d"
      }
    },
    {
      "cell_type": "code",
      "source": [
        "from sklearn.tree import DecisionTreeClassifier\n",
        "DTC = DecisionTreeClassifier(criterion='entropy', max_depth=4,\\\n",
        "                             min_samples_split=10, min_samples_leaf=3, random_state=2)\n",
        "DTC.fit( X_train , Y_train )\n",
        "Y_pred = DTC.predict(X_test)\n",
        "\n",
        "print(classification_report( Y_test , Y_pred ))"
      ],
      "metadata": {
        "id": "uftobCUxnNka",
        "colab": {
          "base_uri": "https://localhost:8080/"
        },
        "outputId": "e9e43135-1238-41c9-e6e9-10fef58b6a45"
      },
      "execution_count": 105,
      "outputs": [
        {
          "output_type": "stream",
          "name": "stdout",
          "text": [
            "              precision    recall  f1-score   support\n",
            "\n",
            "           0       0.94      0.76      0.84        21\n",
            "           1       0.86      0.92      0.89        13\n",
            "           2       0.15      0.67      0.25         3\n",
            "           3       1.00      1.00      1.00         6\n",
            "           4       0.82      0.50      0.62        18\n",
            "\n",
            "    accuracy                           0.74        61\n",
            "   macro avg       0.75      0.77      0.72        61\n",
            "weighted avg       0.85      0.74      0.77        61\n",
            "\n"
          ]
        }
      ]
    },
    {
      "cell_type": "code",
      "source": [],
      "metadata": {
        "id": "_mVrW733A-h7"
      },
      "execution_count": null,
      "outputs": []
    }
  ]
}