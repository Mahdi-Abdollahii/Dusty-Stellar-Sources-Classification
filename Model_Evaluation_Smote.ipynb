{
  "nbformat": 4,
  "nbformat_minor": 0,
  "metadata": {
    "colab": {
      "provenance": [],
      "collapsed_sections": [
        "v-JTEm07eivW",
        "XOukgp88eK_l",
        "k9jYDw9GGXfZ",
        "4sRYA_Je4L5B",
        "DEU0tyysdyWk",
        "nMJRy2eXgj9d"
      ],
      "gpuType": "T4",
      "mount_file_id": "1pDGzzDGqA02eCkW9Ys1sYtVyIv5BooFW",
      "authorship_tag": "ABX9TyMYQVsfNW6UDHcz2zNbJTcJ",
      "include_colab_link": true
    },
    "kernelspec": {
      "name": "python3",
      "display_name": "Python 3"
    },
    "language_info": {
      "name": "python"
    },
    "accelerator": "GPU"
  },
  "cells": [
    {
      "cell_type": "markdown",
      "metadata": {
        "id": "view-in-github",
        "colab_type": "text"
      },
      "source": [
        "<a href=\"https://colab.research.google.com/github/Mahdi-Abdollahii/Dusty-Stellar-Sources-Classification/blob/main/Model_Evaluation_Smote.ipynb\" target=\"_parent\"><img src=\"https://colab.research.google.com/assets/colab-badge.svg\" alt=\"Open In Colab\"/></a>"
      ]
    },
    {
      "cell_type": "markdown",
      "source": [
        "# Loading data from GitHub and installing package"
      ],
      "metadata": {
        "id": "v-JTEm07eivW"
      }
    },
    {
      "cell_type": "markdown",
      "source": [
        "\n",
        "The project is hosted on GitHub. Get a copy by running:"
      ],
      "metadata": {
        "id": "vn42cBiwsJre"
      }
    },
    {
      "cell_type": "code",
      "source": [
        "!git clone https://github.com/Mahdi-Abdollahii/Dusty-Stellar-Sources-Classification.git"
      ],
      "metadata": {
        "id": "t8k-ZM4ysWOk",
        "colab": {
          "base_uri": "https://localhost:8080/"
        },
        "outputId": "93250b66-8aa4-4d48-8a71-82cff9da8760"
      },
      "execution_count": null,
      "outputs": [
        {
          "output_type": "stream",
          "name": "stdout",
          "text": [
            "Cloning into 'Dusty-Stellar-Sources-Classification'...\n",
            "remote: Enumerating objects: 404, done.\u001b[K\n",
            "remote: Counting objects: 100% (124/124), done.\u001b[K\n",
            "remote: Compressing objects: 100% (74/74), done.\u001b[K\n",
            "remote: Total 404 (delta 72), reused 85 (delta 49), pack-reused 280\u001b[K\n",
            "Receiving objects: 100% (404/404), 58.95 MiB | 14.66 MiB/s, done.\n",
            "Resolving deltas: 100% (210/210), done.\n"
          ]
        }
      ]
    },
    {
      "cell_type": "code",
      "source": [
        "!pip install pyunpack"
      ],
      "metadata": {
        "colab": {
          "base_uri": "https://localhost:8080/"
        },
        "id": "oUVp6KNrZEG7",
        "outputId": "d68d66b7-f8ab-4423-a383-8d63a903bc70"
      },
      "execution_count": null,
      "outputs": [
        {
          "output_type": "stream",
          "name": "stdout",
          "text": [
            "Collecting pyunpack\n",
            "  Downloading pyunpack-0.3-py2.py3-none-any.whl (4.1 kB)\n",
            "Collecting easyprocess (from pyunpack)\n",
            "  Downloading EasyProcess-1.1-py3-none-any.whl (8.7 kB)\n",
            "Collecting entrypoint2 (from pyunpack)\n",
            "  Downloading entrypoint2-1.1-py2.py3-none-any.whl (9.9 kB)\n",
            "Installing collected packages: entrypoint2, easyprocess, pyunpack\n",
            "Successfully installed easyprocess-1.1 entrypoint2-1.1 pyunpack-0.3\n"
          ]
        }
      ]
    },
    {
      "cell_type": "code",
      "source": [
        "!pip install patool"
      ],
      "metadata": {
        "colab": {
          "base_uri": "https://localhost:8080/"
        },
        "id": "8AnNDHMCZJaL",
        "outputId": "cd868f5a-6aa6-4cde-c510-5078048d67e2"
      },
      "execution_count": null,
      "outputs": [
        {
          "output_type": "stream",
          "name": "stdout",
          "text": [
            "Collecting patool\n",
            "  Downloading patool-2.2.0-py2.py3-none-any.whl (96 kB)\n",
            "\u001b[2K     \u001b[90m━━━━━━━━━━━━━━━━━━━━━━━━━━━━━━━━━━━━━━━━\u001b[0m \u001b[32m96.0/96.0 kB\u001b[0m \u001b[31m1.4 MB/s\u001b[0m eta \u001b[36m0:00:00\u001b[0m\n",
            "\u001b[?25hInstalling collected packages: patool\n",
            "Successfully installed patool-2.2.0\n"
          ]
        }
      ]
    },
    {
      "cell_type": "markdown",
      "metadata": {
        "id": "XOukgp88eK_l"
      },
      "source": [
        "# Libraries"
      ]
    },
    {
      "cell_type": "code",
      "execution_count": null,
      "metadata": {
        "id": "_xYXTtukc4Oe"
      },
      "outputs": [],
      "source": [
        "import pandas as pd\n",
        "import numpy as np\n",
        "import matplotlib.pyplot as plt\n",
        "import io, requests, zipfile\n",
        "from zipfile import ZipFile\n",
        "import seaborn as sns\n",
        "from sklearn.metrics import confusion_matrix , accuracy_score , recall_score , precision_score , f1_score , classification_report\n",
        "from pyunpack import Archive\n",
        "import warnings\n",
        "warnings.filterwarnings('ignore')"
      ]
    },
    {
      "cell_type": "code",
      "source": [
        "#https://blog.finxter.com/how-to-plot-sklearn-confusion-matrix-with-labels/\n",
        "import numpy as np\n",
        "\n",
        "def plot_confusion_matrix(cm,\n",
        "                          target_names,\n",
        "                          title = 'Confusion matrix',\n",
        "                          cmap=None,\n",
        "                          normalize=True,\n",
        "                          size = [16,12],\n",
        "                          file_name = False,\n",
        "                          color_bar = True):\n",
        "    \"\"\"\n",
        "    given a sklearn confusion matrix (cm), make a nice plot\n",
        "\n",
        "    Arguments\n",
        "    ---------\n",
        "    cm:           confusion matrix from sklearn.metrics.confusion_matrix\n",
        "\n",
        "    target_names: given classification classes such as [0, 1, 2]\n",
        "                  the class names, for example: ['high', 'medium', 'low']\n",
        "\n",
        "    title:        the text to display at the top of the matrix\n",
        "\n",
        "    cmap:         the gradient of the values displayed from matplotlib.pyplot.cm\n",
        "                  see http://matplotlib.org/examples/color/colormaps_reference.html\n",
        "                  plt.get_cmap('jet') or plt.cm.Blues\n",
        "\n",
        "    normalize:    If False, plot the raw numbers\n",
        "                  If True, plot the proportions\n",
        "\n",
        "    color_bar:    if Ture, plot the color bar on the right hand side\n",
        "                  if false, Do not plot that\n",
        "\n",
        "    Usage\n",
        "    -----\n",
        "    plot_confusion_matrix(cm           = cm,                  # confusion matrix created by\n",
        "                                                              # sklearn.metrics.confusion_matrix\n",
        "                          normalize    = True,                # show proportions\n",
        "                          target_names = y_labels_vals,       # list of names of the classes\n",
        "                          title        = best_estimator_name) # title of graph\n",
        "\n",
        "    Citiation\n",
        "    ---------\n",
        "    http://scikit-learn.org/stable/auto_examples/model_selection/plot_confusion_matrix.html\n",
        "\n",
        "    \"\"\"\n",
        "    import matplotlib.pyplot as plt\n",
        "    import numpy as np\n",
        "    import itertools\n",
        "\n",
        "    if normalize:\n",
        "        cm = cm.astype('float') / cm.sum(axis=1)[:, np.newaxis]\n",
        "\n",
        "    if cmap is None:\n",
        "        cmap = plt.get_cmap('Greens')\n",
        "\n",
        "    plt.figure(figsize=(size[0],size[1]))\n",
        "    plt.imshow(cm, interpolation='nearest', cmap=cmap)\n",
        "    plt.ylabel('True label' , fontsize = 16 )\n",
        "    plt.xlabel('Predicted label', fontsize = 16 )\n",
        "\n",
        "    if title is not None:\n",
        "      plt.title(title ,fontsize = 16 )\n",
        "\n",
        "    if color_bar == True :\n",
        "      plt.colorbar()\n",
        "\n",
        "    if target_names is not None:\n",
        "        tick_marks = np.arange(len(target_names))\n",
        "        plt.xticks(tick_marks, target_names, rotation=45)\n",
        "        plt.yticks(tick_marks, target_names)\n",
        "\n",
        "\n",
        "\n",
        "\n",
        "    thresh = cm.max() / 1.5 if normalize else cm.max() / 2\n",
        "    for i, j in itertools.product(range(cm.shape[0]), range(cm.shape[1])):\n",
        "        if normalize:\n",
        "            #if cm[i,j]>= 0.01 : # if you want remove 0.1>\n",
        "                plt.text(j, i, \"{:0.2f}\".format(cm[i, j]),\n",
        "                        horizontalalignment=\"center\",\n",
        "                        color=\"white\" if cm[i, j] > thresh else \"black\")\n",
        "        else:\n",
        "            plt.text(j, i, \"{:,}\".format(cm[i, j]),\n",
        "                     horizontalalignment=\"center\",\n",
        "                     color=\"white\" if cm[i, j] > thresh else \"black\")\n",
        "\n",
        "\n",
        "    plt.tight_layout()\n",
        "    if file_name != False :\n",
        "        plt.savefig(file_name , dpi=300)\n",
        "    plt.show()"
      ],
      "metadata": {
        "id": "Fa1zRZ2vMhMh"
      },
      "execution_count": null,
      "outputs": []
    },
    {
      "cell_type": "markdown",
      "source": [
        "# Data Pre"
      ],
      "metadata": {
        "id": "k9jYDw9GGXfZ"
      }
    },
    {
      "cell_type": "code",
      "source": [
        "df = pd.read_csv(\"/content/Dusty-Stellar-Sources-Classification/Data/Preprocessed_Data.csv\")"
      ],
      "metadata": {
        "id": "p94NnTJSf6R0"
      },
      "execution_count": null,
      "outputs": []
    },
    {
      "cell_type": "code",
      "source": [
        "df"
      ],
      "metadata": {
        "colab": {
          "base_uri": "https://localhost:8080/"
        },
        "id": "Trl-yqT7hF6T",
        "outputId": "b3635172-58a7-460d-db05-40bd8673b2f5"
      },
      "execution_count": null,
      "outputs": [
        {
          "output_type": "execute_result",
          "data": {
            "text/plain": [
              "         RAdeg      DEdeg   Umag   Bmag   Vmag   Imag   Jmag   Hmag  Ksmag  \\\n",
              "0    69.338100 -70.579000    NaN -0.485 -2.258 -4.690 -6.112 -7.032 -7.329   \n",
              "1    71.613100 -68.796300  1.307  1.954  0.325 -2.250 -3.502 -5.238 -6.803   \n",
              "2    71.827700 -69.705700 -1.052 -3.148 -5.010 -7.333 -8.420 -9.248 -9.515   \n",
              "3    72.157300 -69.393600    NaN  3.178  2.261  1.023    NaN    NaN -5.600   \n",
              "4    72.393200 -69.097000 -5.412 -5.208 -5.460 -6.105 -6.339 -6.739 -7.281   \n",
              "..         ...        ...    ...    ...    ...    ...    ...    ...    ...   \n",
              "613  14.527078 -72.068717 -0.619 -0.522 -1.027 -1.728 -2.806 -3.214 -3.766   \n",
              "614  14.488457 -72.654396 -1.593 -0.817 -1.266 -1.993 -3.270 -3.795 -4.912   \n",
              "615  14.027887 -72.789808 -1.605 -1.218 -1.578 -2.070 -2.708 -3.195 -3.745   \n",
              "616  16.039817 -72.837738 -2.357 -3.880 -5.665    NaN -8.645 -9.325 -9.593   \n",
              "617  14.060802 -72.461860    NaN    NaN    NaN    NaN -8.748 -9.580 -9.726   \n",
              "\n",
              "      [3.6]   [4.5]   [5.8]    [8.0]     [24] SpClass GeneralClass  \n",
              "0   -7.6101 -7.7148 -7.8326  -8.0159  -8.8792    OAGB          DSS  \n",
              "1   -8.6656 -9.3873 -9.8100 -10.2429 -11.1944    CAGB          DSS  \n",
              "2   -9.6540 -9.4759 -9.6545  -9.7627 -10.9685     RSG          DSS  \n",
              "3   -8.1534 -9.0379 -9.8431 -10.6543 -13.6554     YSO          DSS  \n",
              "4   -8.4329 -8.9152 -9.2952  -9.9431 -11.3106    OAGB          DSS  \n",
              "..      ...     ...     ...      ...      ...     ...          ...  \n",
              "613 -5.5270 -5.6600 -8.0320  -9.6220 -15.6450     YSO          DSS  \n",
              "614 -6.6860 -7.2730 -8.2610  -9.2260 -15.2890     YSO          DSS  \n",
              "615 -5.4810 -5.9750 -7.7430  -9.1680 -15.3400     YSO          DSS  \n",
              "616 -9.6990 -9.7110 -9.9220 -10.0500 -10.8040    OAGB          DSS  \n",
              "617 -9.9210 -9.8260 -9.9380  -9.9790 -10.0140     RSG          DSS  \n",
              "\n",
              "[618 rows x 16 columns]"
            ],
            "text/html": [
              "\n",
              "  <div id=\"df-d91abad5-83e2-4bfc-b041-9fcd08ae13e0\" class=\"colab-df-container\">\n",
              "    <div>\n",
              "<style scoped>\n",
              "    .dataframe tbody tr th:only-of-type {\n",
              "        vertical-align: middle;\n",
              "    }\n",
              "\n",
              "    .dataframe tbody tr th {\n",
              "        vertical-align: top;\n",
              "    }\n",
              "\n",
              "    .dataframe thead th {\n",
              "        text-align: right;\n",
              "    }\n",
              "</style>\n",
              "<table border=\"1\" class=\"dataframe\">\n",
              "  <thead>\n",
              "    <tr style=\"text-align: right;\">\n",
              "      <th></th>\n",
              "      <th>RAdeg</th>\n",
              "      <th>DEdeg</th>\n",
              "      <th>Umag</th>\n",
              "      <th>Bmag</th>\n",
              "      <th>Vmag</th>\n",
              "      <th>Imag</th>\n",
              "      <th>Jmag</th>\n",
              "      <th>Hmag</th>\n",
              "      <th>Ksmag</th>\n",
              "      <th>[3.6]</th>\n",
              "      <th>[4.5]</th>\n",
              "      <th>[5.8]</th>\n",
              "      <th>[8.0]</th>\n",
              "      <th>[24]</th>\n",
              "      <th>SpClass</th>\n",
              "      <th>GeneralClass</th>\n",
              "    </tr>\n",
              "  </thead>\n",
              "  <tbody>\n",
              "    <tr>\n",
              "      <th>0</th>\n",
              "      <td>69.338100</td>\n",
              "      <td>-70.579000</td>\n",
              "      <td>NaN</td>\n",
              "      <td>-0.485</td>\n",
              "      <td>-2.258</td>\n",
              "      <td>-4.690</td>\n",
              "      <td>-6.112</td>\n",
              "      <td>-7.032</td>\n",
              "      <td>-7.329</td>\n",
              "      <td>-7.6101</td>\n",
              "      <td>-7.7148</td>\n",
              "      <td>-7.8326</td>\n",
              "      <td>-8.0159</td>\n",
              "      <td>-8.8792</td>\n",
              "      <td>OAGB</td>\n",
              "      <td>DSS</td>\n",
              "    </tr>\n",
              "    <tr>\n",
              "      <th>1</th>\n",
              "      <td>71.613100</td>\n",
              "      <td>-68.796300</td>\n",
              "      <td>1.307</td>\n",
              "      <td>1.954</td>\n",
              "      <td>0.325</td>\n",
              "      <td>-2.250</td>\n",
              "      <td>-3.502</td>\n",
              "      <td>-5.238</td>\n",
              "      <td>-6.803</td>\n",
              "      <td>-8.6656</td>\n",
              "      <td>-9.3873</td>\n",
              "      <td>-9.8100</td>\n",
              "      <td>-10.2429</td>\n",
              "      <td>-11.1944</td>\n",
              "      <td>CAGB</td>\n",
              "      <td>DSS</td>\n",
              "    </tr>\n",
              "    <tr>\n",
              "      <th>2</th>\n",
              "      <td>71.827700</td>\n",
              "      <td>-69.705700</td>\n",
              "      <td>-1.052</td>\n",
              "      <td>-3.148</td>\n",
              "      <td>-5.010</td>\n",
              "      <td>-7.333</td>\n",
              "      <td>-8.420</td>\n",
              "      <td>-9.248</td>\n",
              "      <td>-9.515</td>\n",
              "      <td>-9.6540</td>\n",
              "      <td>-9.4759</td>\n",
              "      <td>-9.6545</td>\n",
              "      <td>-9.7627</td>\n",
              "      <td>-10.9685</td>\n",
              "      <td>RSG</td>\n",
              "      <td>DSS</td>\n",
              "    </tr>\n",
              "    <tr>\n",
              "      <th>3</th>\n",
              "      <td>72.157300</td>\n",
              "      <td>-69.393600</td>\n",
              "      <td>NaN</td>\n",
              "      <td>3.178</td>\n",
              "      <td>2.261</td>\n",
              "      <td>1.023</td>\n",
              "      <td>NaN</td>\n",
              "      <td>NaN</td>\n",
              "      <td>-5.600</td>\n",
              "      <td>-8.1534</td>\n",
              "      <td>-9.0379</td>\n",
              "      <td>-9.8431</td>\n",
              "      <td>-10.6543</td>\n",
              "      <td>-13.6554</td>\n",
              "      <td>YSO</td>\n",
              "      <td>DSS</td>\n",
              "    </tr>\n",
              "    <tr>\n",
              "      <th>4</th>\n",
              "      <td>72.393200</td>\n",
              "      <td>-69.097000</td>\n",
              "      <td>-5.412</td>\n",
              "      <td>-5.208</td>\n",
              "      <td>-5.460</td>\n",
              "      <td>-6.105</td>\n",
              "      <td>-6.339</td>\n",
              "      <td>-6.739</td>\n",
              "      <td>-7.281</td>\n",
              "      <td>-8.4329</td>\n",
              "      <td>-8.9152</td>\n",
              "      <td>-9.2952</td>\n",
              "      <td>-9.9431</td>\n",
              "      <td>-11.3106</td>\n",
              "      <td>OAGB</td>\n",
              "      <td>DSS</td>\n",
              "    </tr>\n",
              "    <tr>\n",
              "      <th>...</th>\n",
              "      <td>...</td>\n",
              "      <td>...</td>\n",
              "      <td>...</td>\n",
              "      <td>...</td>\n",
              "      <td>...</td>\n",
              "      <td>...</td>\n",
              "      <td>...</td>\n",
              "      <td>...</td>\n",
              "      <td>...</td>\n",
              "      <td>...</td>\n",
              "      <td>...</td>\n",
              "      <td>...</td>\n",
              "      <td>...</td>\n",
              "      <td>...</td>\n",
              "      <td>...</td>\n",
              "      <td>...</td>\n",
              "    </tr>\n",
              "    <tr>\n",
              "      <th>613</th>\n",
              "      <td>14.527078</td>\n",
              "      <td>-72.068717</td>\n",
              "      <td>-0.619</td>\n",
              "      <td>-0.522</td>\n",
              "      <td>-1.027</td>\n",
              "      <td>-1.728</td>\n",
              "      <td>-2.806</td>\n",
              "      <td>-3.214</td>\n",
              "      <td>-3.766</td>\n",
              "      <td>-5.5270</td>\n",
              "      <td>-5.6600</td>\n",
              "      <td>-8.0320</td>\n",
              "      <td>-9.6220</td>\n",
              "      <td>-15.6450</td>\n",
              "      <td>YSO</td>\n",
              "      <td>DSS</td>\n",
              "    </tr>\n",
              "    <tr>\n",
              "      <th>614</th>\n",
              "      <td>14.488457</td>\n",
              "      <td>-72.654396</td>\n",
              "      <td>-1.593</td>\n",
              "      <td>-0.817</td>\n",
              "      <td>-1.266</td>\n",
              "      <td>-1.993</td>\n",
              "      <td>-3.270</td>\n",
              "      <td>-3.795</td>\n",
              "      <td>-4.912</td>\n",
              "      <td>-6.6860</td>\n",
              "      <td>-7.2730</td>\n",
              "      <td>-8.2610</td>\n",
              "      <td>-9.2260</td>\n",
              "      <td>-15.2890</td>\n",
              "      <td>YSO</td>\n",
              "      <td>DSS</td>\n",
              "    </tr>\n",
              "    <tr>\n",
              "      <th>615</th>\n",
              "      <td>14.027887</td>\n",
              "      <td>-72.789808</td>\n",
              "      <td>-1.605</td>\n",
              "      <td>-1.218</td>\n",
              "      <td>-1.578</td>\n",
              "      <td>-2.070</td>\n",
              "      <td>-2.708</td>\n",
              "      <td>-3.195</td>\n",
              "      <td>-3.745</td>\n",
              "      <td>-5.4810</td>\n",
              "      <td>-5.9750</td>\n",
              "      <td>-7.7430</td>\n",
              "      <td>-9.1680</td>\n",
              "      <td>-15.3400</td>\n",
              "      <td>YSO</td>\n",
              "      <td>DSS</td>\n",
              "    </tr>\n",
              "    <tr>\n",
              "      <th>616</th>\n",
              "      <td>16.039817</td>\n",
              "      <td>-72.837738</td>\n",
              "      <td>-2.357</td>\n",
              "      <td>-3.880</td>\n",
              "      <td>-5.665</td>\n",
              "      <td>NaN</td>\n",
              "      <td>-8.645</td>\n",
              "      <td>-9.325</td>\n",
              "      <td>-9.593</td>\n",
              "      <td>-9.6990</td>\n",
              "      <td>-9.7110</td>\n",
              "      <td>-9.9220</td>\n",
              "      <td>-10.0500</td>\n",
              "      <td>-10.8040</td>\n",
              "      <td>OAGB</td>\n",
              "      <td>DSS</td>\n",
              "    </tr>\n",
              "    <tr>\n",
              "      <th>617</th>\n",
              "      <td>14.060802</td>\n",
              "      <td>-72.461860</td>\n",
              "      <td>NaN</td>\n",
              "      <td>NaN</td>\n",
              "      <td>NaN</td>\n",
              "      <td>NaN</td>\n",
              "      <td>-8.748</td>\n",
              "      <td>-9.580</td>\n",
              "      <td>-9.726</td>\n",
              "      <td>-9.9210</td>\n",
              "      <td>-9.8260</td>\n",
              "      <td>-9.9380</td>\n",
              "      <td>-9.9790</td>\n",
              "      <td>-10.0140</td>\n",
              "      <td>RSG</td>\n",
              "      <td>DSS</td>\n",
              "    </tr>\n",
              "  </tbody>\n",
              "</table>\n",
              "<p>618 rows × 16 columns</p>\n",
              "</div>\n",
              "    <div class=\"colab-df-buttons\">\n",
              "\n",
              "  <div class=\"colab-df-container\">\n",
              "    <button class=\"colab-df-convert\" onclick=\"convertToInteractive('df-d91abad5-83e2-4bfc-b041-9fcd08ae13e0')\"\n",
              "            title=\"Convert this dataframe to an interactive table.\"\n",
              "            style=\"display:none;\">\n",
              "\n",
              "  <svg xmlns=\"http://www.w3.org/2000/svg\" height=\"24px\" viewBox=\"0 -960 960 960\">\n",
              "    <path d=\"M120-120v-720h720v720H120Zm60-500h600v-160H180v160Zm220 220h160v-160H400v160Zm0 220h160v-160H400v160ZM180-400h160v-160H180v160Zm440 0h160v-160H620v160ZM180-180h160v-160H180v160Zm440 0h160v-160H620v160Z\"/>\n",
              "  </svg>\n",
              "    </button>\n",
              "\n",
              "  <style>\n",
              "    .colab-df-container {\n",
              "      display:flex;\n",
              "      gap: 12px;\n",
              "    }\n",
              "\n",
              "    .colab-df-convert {\n",
              "      background-color: #E8F0FE;\n",
              "      border: none;\n",
              "      border-radius: 50%;\n",
              "      cursor: pointer;\n",
              "      display: none;\n",
              "      fill: #1967D2;\n",
              "      height: 32px;\n",
              "      padding: 0 0 0 0;\n",
              "      width: 32px;\n",
              "    }\n",
              "\n",
              "    .colab-df-convert:hover {\n",
              "      background-color: #E2EBFA;\n",
              "      box-shadow: 0px 1px 2px rgba(60, 64, 67, 0.3), 0px 1px 3px 1px rgba(60, 64, 67, 0.15);\n",
              "      fill: #174EA6;\n",
              "    }\n",
              "\n",
              "    .colab-df-buttons div {\n",
              "      margin-bottom: 4px;\n",
              "    }\n",
              "\n",
              "    [theme=dark] .colab-df-convert {\n",
              "      background-color: #3B4455;\n",
              "      fill: #D2E3FC;\n",
              "    }\n",
              "\n",
              "    [theme=dark] .colab-df-convert:hover {\n",
              "      background-color: #434B5C;\n",
              "      box-shadow: 0px 1px 3px 1px rgba(0, 0, 0, 0.15);\n",
              "      filter: drop-shadow(0px 1px 2px rgba(0, 0, 0, 0.3));\n",
              "      fill: #FFFFFF;\n",
              "    }\n",
              "  </style>\n",
              "\n",
              "    <script>\n",
              "      const buttonEl =\n",
              "        document.querySelector('#df-d91abad5-83e2-4bfc-b041-9fcd08ae13e0 button.colab-df-convert');\n",
              "      buttonEl.style.display =\n",
              "        google.colab.kernel.accessAllowed ? 'block' : 'none';\n",
              "\n",
              "      async function convertToInteractive(key) {\n",
              "        const element = document.querySelector('#df-d91abad5-83e2-4bfc-b041-9fcd08ae13e0');\n",
              "        const dataTable =\n",
              "          await google.colab.kernel.invokeFunction('convertToInteractive',\n",
              "                                                    [key], {});\n",
              "        if (!dataTable) return;\n",
              "\n",
              "        const docLinkHtml = 'Like what you see? Visit the ' +\n",
              "          '<a target=\"_blank\" href=https://colab.research.google.com/notebooks/data_table.ipynb>data table notebook</a>'\n",
              "          + ' to learn more about interactive tables.';\n",
              "        element.innerHTML = '';\n",
              "        dataTable['output_type'] = 'display_data';\n",
              "        await google.colab.output.renderOutput(dataTable, element);\n",
              "        const docLink = document.createElement('div');\n",
              "        docLink.innerHTML = docLinkHtml;\n",
              "        element.appendChild(docLink);\n",
              "      }\n",
              "    </script>\n",
              "  </div>\n",
              "\n",
              "\n",
              "<div id=\"df-d8536d4f-2e21-4b70-b17e-b87738acd0b7\">\n",
              "  <button class=\"colab-df-quickchart\" onclick=\"quickchart('df-d8536d4f-2e21-4b70-b17e-b87738acd0b7')\"\n",
              "            title=\"Suggest charts\"\n",
              "            style=\"display:none;\">\n",
              "\n",
              "<svg xmlns=\"http://www.w3.org/2000/svg\" height=\"24px\"viewBox=\"0 0 24 24\"\n",
              "     width=\"24px\">\n",
              "    <g>\n",
              "        <path d=\"M19 3H5c-1.1 0-2 .9-2 2v14c0 1.1.9 2 2 2h14c1.1 0 2-.9 2-2V5c0-1.1-.9-2-2-2zM9 17H7v-7h2v7zm4 0h-2V7h2v10zm4 0h-2v-4h2v4z\"/>\n",
              "    </g>\n",
              "</svg>\n",
              "  </button>\n",
              "\n",
              "<style>\n",
              "  .colab-df-quickchart {\n",
              "      --bg-color: #E8F0FE;\n",
              "      --fill-color: #1967D2;\n",
              "      --hover-bg-color: #E2EBFA;\n",
              "      --hover-fill-color: #174EA6;\n",
              "      --disabled-fill-color: #AAA;\n",
              "      --disabled-bg-color: #DDD;\n",
              "  }\n",
              "\n",
              "  [theme=dark] .colab-df-quickchart {\n",
              "      --bg-color: #3B4455;\n",
              "      --fill-color: #D2E3FC;\n",
              "      --hover-bg-color: #434B5C;\n",
              "      --hover-fill-color: #FFFFFF;\n",
              "      --disabled-bg-color: #3B4455;\n",
              "      --disabled-fill-color: #666;\n",
              "  }\n",
              "\n",
              "  .colab-df-quickchart {\n",
              "    background-color: var(--bg-color);\n",
              "    border: none;\n",
              "    border-radius: 50%;\n",
              "    cursor: pointer;\n",
              "    display: none;\n",
              "    fill: var(--fill-color);\n",
              "    height: 32px;\n",
              "    padding: 0;\n",
              "    width: 32px;\n",
              "  }\n",
              "\n",
              "  .colab-df-quickchart:hover {\n",
              "    background-color: var(--hover-bg-color);\n",
              "    box-shadow: 0 1px 2px rgba(60, 64, 67, 0.3), 0 1px 3px 1px rgba(60, 64, 67, 0.15);\n",
              "    fill: var(--button-hover-fill-color);\n",
              "  }\n",
              "\n",
              "  .colab-df-quickchart-complete:disabled,\n",
              "  .colab-df-quickchart-complete:disabled:hover {\n",
              "    background-color: var(--disabled-bg-color);\n",
              "    fill: var(--disabled-fill-color);\n",
              "    box-shadow: none;\n",
              "  }\n",
              "\n",
              "  .colab-df-spinner {\n",
              "    border: 2px solid var(--fill-color);\n",
              "    border-color: transparent;\n",
              "    border-bottom-color: var(--fill-color);\n",
              "    animation:\n",
              "      spin 1s steps(1) infinite;\n",
              "  }\n",
              "\n",
              "  @keyframes spin {\n",
              "    0% {\n",
              "      border-color: transparent;\n",
              "      border-bottom-color: var(--fill-color);\n",
              "      border-left-color: var(--fill-color);\n",
              "    }\n",
              "    20% {\n",
              "      border-color: transparent;\n",
              "      border-left-color: var(--fill-color);\n",
              "      border-top-color: var(--fill-color);\n",
              "    }\n",
              "    30% {\n",
              "      border-color: transparent;\n",
              "      border-left-color: var(--fill-color);\n",
              "      border-top-color: var(--fill-color);\n",
              "      border-right-color: var(--fill-color);\n",
              "    }\n",
              "    40% {\n",
              "      border-color: transparent;\n",
              "      border-right-color: var(--fill-color);\n",
              "      border-top-color: var(--fill-color);\n",
              "    }\n",
              "    60% {\n",
              "      border-color: transparent;\n",
              "      border-right-color: var(--fill-color);\n",
              "    }\n",
              "    80% {\n",
              "      border-color: transparent;\n",
              "      border-right-color: var(--fill-color);\n",
              "      border-bottom-color: var(--fill-color);\n",
              "    }\n",
              "    90% {\n",
              "      border-color: transparent;\n",
              "      border-bottom-color: var(--fill-color);\n",
              "    }\n",
              "  }\n",
              "</style>\n",
              "\n",
              "  <script>\n",
              "    async function quickchart(key) {\n",
              "      const quickchartButtonEl =\n",
              "        document.querySelector('#' + key + ' button');\n",
              "      quickchartButtonEl.disabled = true;  // To prevent multiple clicks.\n",
              "      quickchartButtonEl.classList.add('colab-df-spinner');\n",
              "      try {\n",
              "        const charts = await google.colab.kernel.invokeFunction(\n",
              "            'suggestCharts', [key], {});\n",
              "      } catch (error) {\n",
              "        console.error('Error during call to suggestCharts:', error);\n",
              "      }\n",
              "      quickchartButtonEl.classList.remove('colab-df-spinner');\n",
              "      quickchartButtonEl.classList.add('colab-df-quickchart-complete');\n",
              "    }\n",
              "    (() => {\n",
              "      let quickchartButtonEl =\n",
              "        document.querySelector('#df-d8536d4f-2e21-4b70-b17e-b87738acd0b7 button');\n",
              "      quickchartButtonEl.style.display =\n",
              "        google.colab.kernel.accessAllowed ? 'block' : 'none';\n",
              "    })();\n",
              "  </script>\n",
              "</div>\n",
              "    </div>\n",
              "  </div>\n"
            ],
            "application/vnd.google.colaboratory.intrinsic+json": {
              "type": "dataframe",
              "variable_name": "df",
              "summary": "{\n  \"name\": \"df\",\n  \"rows\": 618,\n  \"fields\": [\n    {\n      \"column\": \"RAdeg\",\n      \"properties\": {\n        \"dtype\": \"number\",\n        \"std\": 27.66694499256837,\n        \"min\": 8.007005,\n        \"max\": 91.6992,\n        \"num_unique_values\": 593,\n        \"samples\": [\n          76.482,\n          81.189,\n          77.5\n        ],\n        \"semantic_type\": \"\",\n        \"description\": \"\"\n      }\n    },\n    {\n      \"column\": \"DEdeg\",\n      \"properties\": {\n        \"dtype\": \"number\",\n        \"std\": 2.1676750838510412,\n        \"min\": -74.330709,\n        \"max\": -64.8611,\n        \"num_unique_values\": 590,\n        \"samples\": [\n          -73.148022,\n          -65.931,\n          -73.212716\n        ],\n        \"semantic_type\": \"\",\n        \"description\": \"\"\n      }\n    },\n    {\n      \"column\": \"Umag\",\n      \"properties\": {\n        \"dtype\": \"number\",\n        \"std\": 2.147256302056003,\n        \"min\": -7.415999999999999,\n        \"max\": 3.548000000000001,\n        \"num_unique_values\": 293,\n        \"samples\": [\n          0.6719999999999999,\n          -1.256,\n          -2.2249999999999988\n        ],\n        \"semantic_type\": \"\",\n        \"description\": \"\"\n      }\n    },\n    {\n      \"column\": \"Bmag\",\n      \"properties\": {\n        \"dtype\": \"number\",\n        \"std\": 2.3360007090419486,\n        \"min\": -6.911,\n        \"max\": 4.2780000000000005,\n        \"num_unique_values\": 373,\n        \"samples\": [\n          -0.9490000000000012,\n          -4.327999999999999,\n          -5.829000000000001\n        ],\n        \"semantic_type\": \"\",\n        \"description\": \"\"\n      }\n    },\n    {\n      \"column\": \"Vmag\",\n      \"properties\": {\n        \"dtype\": \"number\",\n        \"std\": 2.4503970979601215,\n        \"min\": -8.668,\n        \"max\": 3.571000000000001,\n        \"num_unique_values\": 380,\n        \"samples\": [\n          -5.37,\n          1.8120000000000007,\n          -5.7700000000000005\n        ],\n        \"semantic_type\": \"\",\n        \"description\": \"\"\n      }\n    },\n    {\n      \"column\": \"Imag\",\n      \"properties\": {\n        \"dtype\": \"number\",\n        \"std\": 2.53880640927184,\n        \"min\": -9.667,\n        \"max\": 2.2190000000000007,\n        \"num_unique_values\": 311,\n        \"samples\": [\n          -1.7490000000000014,\n          0.3030000000000004,\n          -3.069999999999999\n        ],\n        \"semantic_type\": \"\",\n        \"description\": \"\"\n      }\n    },\n    {\n      \"column\": \"Jmag\",\n      \"properties\": {\n        \"dtype\": \"number\",\n        \"std\": 2.678289768816363,\n        \"min\": -12.721,\n        \"max\": -0.6769999999999996,\n        \"num_unique_values\": 490,\n        \"samples\": [\n          -8.520000000000001,\n          -8.716,\n          -10.049\n        ],\n        \"semantic_type\": \"\",\n        \"description\": \"\"\n      }\n    },\n    {\n      \"column\": \"Hmag\",\n      \"properties\": {\n        \"dtype\": \"number\",\n        \"std\": 2.6659126619446725,\n        \"min\": -13.61,\n        \"max\": -1.602999999999998,\n        \"num_unique_values\": 530,\n        \"samples\": [\n          -6.215,\n          -4.155999999999999,\n          -1.631999999999998\n        ],\n        \"semantic_type\": \"\",\n        \"description\": \"\"\n      }\n    },\n    {\n      \"column\": \"Ksmag\",\n      \"properties\": {\n        \"dtype\": \"number\",\n        \"std\": 2.4192917154671636,\n        \"min\": -13.956,\n        \"max\": -2.4229999999999983,\n        \"num_unique_values\": 550,\n        \"samples\": [\n          -3.4989999999999988,\n          -2.6129999999999995,\n          -8.238000000000001\n        ],\n        \"semantic_type\": \"\",\n        \"description\": \"\"\n      }\n    },\n    {\n      \"column\": \"[3.6]\",\n      \"properties\": {\n        \"dtype\": \"number\",\n        \"std\": 1.8374754399073931,\n        \"min\": -14.0292,\n        \"max\": -2.6785,\n        \"num_unique_values\": 539,\n        \"samples\": [\n          -11.502,\n          -8.7468,\n          -9.4979\n        ],\n        \"semantic_type\": \"\",\n        \"description\": \"\"\n      }\n    },\n    {\n      \"column\": \"[4.5]\",\n      \"properties\": {\n        \"dtype\": \"number\",\n        \"std\": 1.817406303453619,\n        \"min\": -14.1339,\n        \"max\": -3.859,\n        \"num_unique_values\": 560,\n        \"samples\": [\n          -10.109,\n          -11.1585,\n          -10.355\n        ],\n        \"semantic_type\": \"\",\n        \"description\": \"\"\n      }\n    },\n    {\n      \"column\": \"[5.8]\",\n      \"properties\": {\n        \"dtype\": \"number\",\n        \"std\": 1.482159854302033,\n        \"min\": -14.3916,\n        \"max\": -6.086399999999999,\n        \"num_unique_values\": 576,\n        \"samples\": [\n          -11.073,\n          -8.1009,\n          -10.7671\n        ],\n        \"semantic_type\": \"\",\n        \"description\": \"\"\n      }\n    },\n    {\n      \"column\": \"[8.0]\",\n      \"properties\": {\n        \"dtype\": \"number\",\n        \"std\": 1.3834975493330852,\n        \"min\": -14.9471,\n        \"max\": -7.681599999999999,\n        \"num_unique_values\": 550,\n        \"samples\": [\n          -9.5712,\n          -10.3375,\n          -10.145\n        ],\n        \"semantic_type\": \"\",\n        \"description\": \"\"\n      }\n    },\n    {\n      \"column\": \"[24]\",\n      \"properties\": {\n        \"dtype\": \"number\",\n        \"std\": 2.1338917500600294,\n        \"min\": -18.3195,\n        \"max\": -8.5159,\n        \"num_unique_values\": 558,\n        \"samples\": [\n          -15.6056,\n          -16.753,\n          -9.2434\n        ],\n        \"semantic_type\": \"\",\n        \"description\": \"\"\n      }\n    },\n    {\n      \"column\": \"SpClass\",\n      \"properties\": {\n        \"dtype\": \"category\",\n        \"num_unique_values\": 5,\n        \"samples\": [\n          \"CAGB\",\n          \"PAGB\",\n          \"RSG\"\n        ],\n        \"semantic_type\": \"\",\n        \"description\": \"\"\n      }\n    },\n    {\n      \"column\": \"GeneralClass\",\n      \"properties\": {\n        \"dtype\": \"category\",\n        \"num_unique_values\": 1,\n        \"samples\": [\n          \"DSS\"\n        ],\n        \"semantic_type\": \"\",\n        \"description\": \"\"\n      }\n    }\n  ]\n}"
            }
          },
          "metadata": {},
          "execution_count": 7
        }
      ]
    },
    {
      "cell_type": "code",
      "source": [
        "n = df.pivot_table(index=['SpClass'], aggfunc='size').index\n",
        "s = list(df.pivot_table(index=['SpClass'], aggfunc='size'))\n",
        "\n",
        "fig=plt.figure(figsize=(8,5))\n",
        "line = plt.bar(n  , s  , color = 'maroon' , log  = False )\n",
        "\n",
        "plt.tick_params(axis='both', which='major', labelsize=15)\n",
        "plt.tick_params(axis='both', which='minor', labelsize=15)\n",
        "\n",
        "plt.show()\n",
        "fig.savefig('SPclass_hist.pdf',dpi=400)"
      ],
      "metadata": {
        "colab": {
          "base_uri": "https://localhost:8080/"
        },
        "id": "EgCB4RaRJMAJ",
        "outputId": "c967d35f-708b-453b-836f-19d466d5b967"
      },
      "execution_count": null,
      "outputs": [
        {
          "output_type": "display_data",
          "data": {
            "text/plain": [
              "<Figure size 800x500 with 1 Axes>"
            ],
            "image/png": "[encoded data removed]"
          },
          "metadata": {}
        }
      ]
    },
    {
      "cell_type": "code",
      "source": [
        "from sklearn import preprocessing\n",
        "\n",
        "LE = preprocessing.LabelEncoder()\n",
        "Y = LE.fit_transform(df['SpClass'])\n",
        "Y = pd.DataFrame(Y)\n",
        "Y.columns = ['EY']\n",
        "\n",
        "print('Ordinal Encoding:')\n",
        "LE.inverse_transform(np.arange(0,5))"
      ],
      "metadata": {
        "colab": {
          "base_uri": "https://localhost:8080/"
        },
        "outputId": "5a44bdb7-3e7a-462a-8b09-573809d029e5",
        "id": "XseVm7cjtxFG"
      },
      "execution_count": null,
      "outputs": [
        {
          "output_type": "stream",
          "name": "stdout",
          "text": [
            "Ordinal Encoding:\n"
          ]
        },
        {
          "output_type": "execute_result",
          "data": {
            "text/plain": [
              "array(['CAGB', 'OAGB', 'PAGB', 'RSG', 'YSO'], dtype=object)"
            ]
          },
          "metadata": {},
          "execution_count": 9
        }
      ]
    },
    {
      "cell_type": "markdown",
      "source": [
        "Here we use an algorithm named IterativeImputer to fill the blank (NaN) data points.\n",
        "\n",
        "A strategy for imputing missing values by modeling each feature with missing values as a function of other features in a round-robin fashion.\n",
        "\n",
        "A more sophisticated approach is to use the IterativeImputer class, which models each feature with missing values as a function of other features, and uses that estimate for imputation. It does so in an iterated round-robin fashion: at each step, a feature column is designated as output y and the other feature columns are treated as inputs X. A regressor is fit on (X, y) for known y. Then, the regressor is used to predict the missing values of y. This is done for each feature in an iterative fashion, and then is repeated for max_iter imputation rounds. The results of the final imputation round are returned.\n",
        "\n",
        "For more information : https://scikit-learn.org/stable/modules/impute.html#iterative-imputer"
      ],
      "metadata": {
        "id": "OT0OmvX3txFJ"
      }
    },
    {
      "cell_type": "code",
      "execution_count": null,
      "metadata": {
        "id": "7-dmeFE_txFK"
      },
      "outputs": [],
      "source": [
        "from sklearn.experimental import enable_iterative_imputer\n",
        "from sklearn.impute import IterativeImputer\n",
        "\n",
        "imp = IterativeImputer( random_state= 0 )\n",
        "df[df.columns[2:-2]] = imp.fit_transform(df[df.columns[2:-2]])"
      ]
    },
    {
      "cell_type": "code",
      "source": [
        "X = df[df.columns[2:-2]]\n",
        "Y = Y['EY']"
      ],
      "metadata": {
        "id": "JjVxt5-iiDrU"
      },
      "execution_count": null,
      "outputs": []
    },
    {
      "cell_type": "code",
      "source": [
        "from sklearn.model_selection import train_test_split\n",
        "X_train, X_test, Y_train, Y_test = train_test_split( X , Y , test_size= 0.10 , random_state = 1234 )\n",
        "print('X_train : ' , X_train.shape)\n",
        "print('X_test : ' , X_test.shape)\n",
        "print('Y_train : ' , Y_train.shape)\n",
        "print('Y_test : ' , Y_test.shape)"
      ],
      "metadata": {
        "colab": {
          "base_uri": "https://localhost:8080/"
        },
        "id": "SoyLpSHR0Ibn",
        "outputId": "ed1490d7-1676-44be-a430-900772fe0d89"
      },
      "execution_count": null,
      "outputs": [
        {
          "output_type": "stream",
          "name": "stdout",
          "text": [
            "X_train :  (556, 12)\n",
            "X_test :  (62, 12)\n",
            "Y_train :  (556,)\n",
            "Y_test :  (62,)\n"
          ]
        }
      ]
    },
    {
      "cell_type": "markdown",
      "source": [
        "# Loading Smote data"
      ],
      "metadata": {
        "id": "4sRYA_Je4L5B"
      }
    },
    {
      "cell_type": "code",
      "source": [
        "AX_train = pd.read_csv(\"/content/Dusty-Stellar-Sources-Classification/Data/Smote_train_data.csv\", index_col = 'Unnamed: 0' )"
      ],
      "metadata": {
        "id": "ZDPbyKUQ4BjY"
      },
      "execution_count": null,
      "outputs": []
    },
    {
      "cell_type": "code",
      "source": [
        "n = AX_train.pivot_table(index=['SpClass'], aggfunc='size').index\n",
        "s_smote = list(AX_train.pivot_table(index=['SpClass'], aggfunc='size'))\n",
        "\n",
        "fig=plt.figure(figsize=(8,5))\n",
        "line = plt.bar(n  , s_smote  , color = 'maroon' , log  = False )\n",
        "\n",
        "plt.tick_params(axis='both', which='major', labelsize=15)\n",
        "plt.tick_params(axis='both', which='minor', labelsize=15)\n",
        "\n",
        "plt.show()\n",
        "fig.savefig('SPclass_hist_smote.pdf',dpi=400)"
      ],
      "metadata": {
        "colab": {
          "base_uri": "https://localhost:8080/",
          "height": 451
        },
        "id": "qO4TvxSJsUIk",
        "outputId": "51b88b90-53a0-4525-d4bc-327bc8671111"
      },
      "execution_count": null,
      "outputs": [
        {
          "output_type": "display_data",
          "data": {
            "text/plain": [
              "<Figure size 800x500 with 1 Axes>"
            ],
            "image/png": "[encoded data removed]"
          },
          "metadata": {}
        }
      ]
    },
    {
      "cell_type": "code",
      "source": [
        "AY_train = AX_train[AX_train.columns[-1]]\n",
        "AX_train = AX_train[AX_train.columns[:-1]]"
      ],
      "metadata": {
        "id": "CZmLY2GKl43R"
      },
      "execution_count": null,
      "outputs": []
    },
    {
      "cell_type": "code",
      "source": [
        "AX_train"
      ],
      "metadata": {
        "colab": {
          "base_uri": "https://localhost:8080/",
          "height": 424
        },
        "id": "kwdS9OlW4vGU",
        "outputId": "8ef864cc-2281-4a7b-e610-950435c2db20"
      },
      "execution_count": null,
      "outputs": [
        {
          "output_type": "execute_result",
          "data": {
            "text/plain": [
              "         Umag      Bmag      Vmag      Imag       Jmag       Hmag      Ksmag  \\\n",
              "0    1.530726  2.290877  2.030281  1.322575  -1.270366  -3.720000  -6.273000   \n",
              "1    0.743193  0.429722 -0.931832 -3.083696  -4.720000  -6.328000  -7.511000   \n",
              "2   -2.143000 -4.152000 -5.754000 -8.482341  -9.731000 -10.538000 -10.889000   \n",
              "3    1.062959  0.684000 -1.580000 -4.169000  -6.148000  -7.302000  -7.843000   \n",
              "4    3.545071  3.713175  3.000741  1.709237  -2.010000  -5.705000  -8.118000   \n",
              "..        ...       ...       ...       ...        ...        ...        ...   \n",
              "905 -1.391919 -2.742472 -4.754200 -8.405221  -9.991516 -10.794044 -11.156882   \n",
              "906 -1.241394 -2.685118 -4.541671 -7.832585  -9.352168 -10.131844 -10.491731   \n",
              "907 -2.311114 -4.283740 -6.173842 -8.050712  -9.207597 -10.027737 -10.322183   \n",
              "908 -2.684739 -4.151989 -6.087281 -8.939284 -10.034320 -10.805870 -11.180529   \n",
              "909 -2.502315 -3.853793 -5.516551 -7.969399  -8.081134  -8.865317  -9.113668   \n",
              "\n",
              "         [3.6]      [4.5]      [5.8]      [8.0]       [24]  \n",
              "0    -9.549100 -10.638100 -11.548700 -12.361100 -14.051200  \n",
              "1    -9.243500  -9.446900  -9.627400  -9.936700 -10.164200  \n",
              "2   -11.079800 -11.290500 -11.590300 -11.940100 -14.032500  \n",
              "3    -8.905000  -9.348000  -9.968000 -11.118000 -13.737000  \n",
              "4   -10.247900 -10.938500 -11.517500 -12.320200 -15.532800  \n",
              "..         ...        ...        ...        ...        ...  \n",
              "905 -11.387639 -11.324801 -11.602175 -12.052643 -13.499699  \n",
              "906 -10.672484 -10.763330 -11.044856 -11.581226 -14.101070  \n",
              "907 -10.514686 -10.355136 -10.568460 -10.749449 -12.590472  \n",
              "908 -11.585195 -11.607933 -11.903274 -12.353384 -14.488073  \n",
              "909  -9.281503  -9.103996  -9.245980  -9.321602  -9.852212  \n",
              "\n",
              "[910 rows x 12 columns]"
            ],
            "text/html": [
              "\n",
              "  <div id=\"df-14fcf9fb-9f3a-4b0f-a7e0-dd573fdbfb53\" class=\"colab-df-container\">\n",
              "    <div>\n",
              "<style scoped>\n",
              "    .dataframe tbody tr th:only-of-type {\n",
              "        vertical-align: middle;\n",
              "    }\n",
              "\n",
              "    .dataframe tbody tr th {\n",
              "        vertical-align: top;\n",
              "    }\n",
              "\n",
              "    .dataframe thead th {\n",
              "        text-align: right;\n",
              "    }\n",
              "</style>\n",
              "<table border=\"1\" class=\"dataframe\">\n",
              "  <thead>\n",
              "    <tr style=\"text-align: right;\">\n",
              "      <th></th>\n",
              "      <th>Umag</th>\n",
              "      <th>Bmag</th>\n",
              "      <th>Vmag</th>\n",
              "      <th>Imag</th>\n",
              "      <th>Jmag</th>\n",
              "      <th>Hmag</th>\n",
              "      <th>Ksmag</th>\n",
              "      <th>[3.6]</th>\n",
              "      <th>[4.5]</th>\n",
              "      <th>[5.8]</th>\n",
              "      <th>[8.0]</th>\n",
              "      <th>[24]</th>\n",
              "    </tr>\n",
              "  </thead>\n",
              "  <tbody>\n",
              "    <tr>\n",
              "      <th>0</th>\n",
              "      <td>1.530726</td>\n",
              "      <td>2.290877</td>\n",
              "      <td>2.030281</td>\n",
              "      <td>1.322575</td>\n",
              "      <td>-1.270366</td>\n",
              "      <td>-3.720000</td>\n",
              "      <td>-6.273000</td>\n",
              "      <td>-9.549100</td>\n",
              "      <td>-10.638100</td>\n",
              "      <td>-11.548700</td>\n",
              "      <td>-12.361100</td>\n",
              "      <td>-14.051200</td>\n",
              "    </tr>\n",
              "    <tr>\n",
              "      <th>1</th>\n",
              "      <td>0.743193</td>\n",
              "      <td>0.429722</td>\n",
              "      <td>-0.931832</td>\n",
              "      <td>-3.083696</td>\n",
              "      <td>-4.720000</td>\n",
              "      <td>-6.328000</td>\n",
              "      <td>-7.511000</td>\n",
              "      <td>-9.243500</td>\n",
              "      <td>-9.446900</td>\n",
              "      <td>-9.627400</td>\n",
              "      <td>-9.936700</td>\n",
              "      <td>-10.164200</td>\n",
              "    </tr>\n",
              "    <tr>\n",
              "      <th>2</th>\n",
              "      <td>-2.143000</td>\n",
              "      <td>-4.152000</td>\n",
              "      <td>-5.754000</td>\n",
              "      <td>-8.482341</td>\n",
              "      <td>-9.731000</td>\n",
              "      <td>-10.538000</td>\n",
              "      <td>-10.889000</td>\n",
              "      <td>-11.079800</td>\n",
              "      <td>-11.290500</td>\n",
              "      <td>-11.590300</td>\n",
              "      <td>-11.940100</td>\n",
              "      <td>-14.032500</td>\n",
              "    </tr>\n",
              "    <tr>\n",
              "      <th>3</th>\n",
              "      <td>1.062959</td>\n",
              "      <td>0.684000</td>\n",
              "      <td>-1.580000</td>\n",
              "      <td>-4.169000</td>\n",
              "      <td>-6.148000</td>\n",
              "      <td>-7.302000</td>\n",
              "      <td>-7.843000</td>\n",
              "      <td>-8.905000</td>\n",
              "      <td>-9.348000</td>\n",
              "      <td>-9.968000</td>\n",
              "      <td>-11.118000</td>\n",
              "      <td>-13.737000</td>\n",
              "    </tr>\n",
              "    <tr>\n",
              "      <th>4</th>\n",
              "      <td>3.545071</td>\n",
              "      <td>3.713175</td>\n",
              "      <td>3.000741</td>\n",
              "      <td>1.709237</td>\n",
              "      <td>-2.010000</td>\n",
              "      <td>-5.705000</td>\n",
              "      <td>-8.118000</td>\n",
              "      <td>-10.247900</td>\n",
              "      <td>-10.938500</td>\n",
              "      <td>-11.517500</td>\n",
              "      <td>-12.320200</td>\n",
              "      <td>-15.532800</td>\n",
              "    </tr>\n",
              "    <tr>\n",
              "      <th>...</th>\n",
              "      <td>...</td>\n",
              "      <td>...</td>\n",
              "      <td>...</td>\n",
              "      <td>...</td>\n",
              "      <td>...</td>\n",
              "      <td>...</td>\n",
              "      <td>...</td>\n",
              "      <td>...</td>\n",
              "      <td>...</td>\n",
              "      <td>...</td>\n",
              "      <td>...</td>\n",
              "      <td>...</td>\n",
              "    </tr>\n",
              "    <tr>\n",
              "      <th>905</th>\n",
              "      <td>-1.391919</td>\n",
              "      <td>-2.742472</td>\n",
              "      <td>-4.754200</td>\n",
              "      <td>-8.405221</td>\n",
              "      <td>-9.991516</td>\n",
              "      <td>-10.794044</td>\n",
              "      <td>-11.156882</td>\n",
              "      <td>-11.387639</td>\n",
              "      <td>-11.324801</td>\n",
              "      <td>-11.602175</td>\n",
              "      <td>-12.052643</td>\n",
              "      <td>-13.499699</td>\n",
              "    </tr>\n",
              "    <tr>\n",
              "      <th>906</th>\n",
              "      <td>-1.241394</td>\n",
              "      <td>-2.685118</td>\n",
              "      <td>-4.541671</td>\n",
              "      <td>-7.832585</td>\n",
              "      <td>-9.352168</td>\n",
              "      <td>-10.131844</td>\n",
              "      <td>-10.491731</td>\n",
              "      <td>-10.672484</td>\n",
              "      <td>-10.763330</td>\n",
              "      <td>-11.044856</td>\n",
              "      <td>-11.581226</td>\n",
              "      <td>-14.101070</td>\n",
              "    </tr>\n",
              "    <tr>\n",
              "      <th>907</th>\n",
              "      <td>-2.311114</td>\n",
              "      <td>-4.283740</td>\n",
              "      <td>-6.173842</td>\n",
              "      <td>-8.050712</td>\n",
              "      <td>-9.207597</td>\n",
              "      <td>-10.027737</td>\n",
              "      <td>-10.322183</td>\n",
              "      <td>-10.514686</td>\n",
              "      <td>-10.355136</td>\n",
              "      <td>-10.568460</td>\n",
              "      <td>-10.749449</td>\n",
              "      <td>-12.590472</td>\n",
              "    </tr>\n",
              "    <tr>\n",
              "      <th>908</th>\n",
              "      <td>-2.684739</td>\n",
              "      <td>-4.151989</td>\n",
              "      <td>-6.087281</td>\n",
              "      <td>-8.939284</td>\n",
              "      <td>-10.034320</td>\n",
              "      <td>-10.805870</td>\n",
              "      <td>-11.180529</td>\n",
              "      <td>-11.585195</td>\n",
              "      <td>-11.607933</td>\n",
              "      <td>-11.903274</td>\n",
              "      <td>-12.353384</td>\n",
              "      <td>-14.488073</td>\n",
              "    </tr>\n",
              "    <tr>\n",
              "      <th>909</th>\n",
              "      <td>-2.502315</td>\n",
              "      <td>-3.853793</td>\n",
              "      <td>-5.516551</td>\n",
              "      <td>-7.969399</td>\n",
              "      <td>-8.081134</td>\n",
              "      <td>-8.865317</td>\n",
              "      <td>-9.113668</td>\n",
              "      <td>-9.281503</td>\n",
              "      <td>-9.103996</td>\n",
              "      <td>-9.245980</td>\n",
              "      <td>-9.321602</td>\n",
              "      <td>-9.852212</td>\n",
              "    </tr>\n",
              "  </tbody>\n",
              "</table>\n",
              "<p>910 rows × 12 columns</p>\n",
              "</div>\n",
              "    <div class=\"colab-df-buttons\">\n",
              "\n",
              "  <div class=\"colab-df-container\">\n",
              "    <button class=\"colab-df-convert\" onclick=\"convertToInteractive('df-14fcf9fb-9f3a-4b0f-a7e0-dd573fdbfb53')\"\n",
              "            title=\"Convert this dataframe to an interactive table.\"\n",
              "            style=\"display:none;\">\n",
              "\n",
              "  <svg xmlns=\"http://www.w3.org/2000/svg\" height=\"24px\" viewBox=\"0 -960 960 960\">\n",
              "    <path d=\"M120-120v-720h720v720H120Zm60-500h600v-160H180v160Zm220 220h160v-160H400v160Zm0 220h160v-160H400v160ZM180-400h160v-160H180v160Zm440 0h160v-160H620v160ZM180-180h160v-160H180v160Zm440 0h160v-160H620v160Z\"/>\n",
              "  </svg>\n",
              "    </button>\n",
              "\n",
              "  <style>\n",
              "    .colab-df-container {\n",
              "      display:flex;\n",
              "      gap: 12px;\n",
              "    }\n",
              "\n",
              "    .colab-df-convert {\n",
              "      background-color: #E8F0FE;\n",
              "      border: none;\n",
              "      border-radius: 50%;\n",
              "      cursor: pointer;\n",
              "      display: none;\n",
              "      fill: #1967D2;\n",
              "      height: 32px;\n",
              "      padding: 0 0 0 0;\n",
              "      width: 32px;\n",
              "    }\n",
              "\n",
              "    .colab-df-convert:hover {\n",
              "      background-color: #E2EBFA;\n",
              "      box-shadow: 0px 1px 2px rgba(60, 64, 67, 0.3), 0px 1px 3px 1px rgba(60, 64, 67, 0.15);\n",
              "      fill: #174EA6;\n",
              "    }\n",
              "\n",
              "    .colab-df-buttons div {\n",
              "      margin-bottom: 4px;\n",
              "    }\n",
              "\n",
              "    [theme=dark] .colab-df-convert {\n",
              "      background-color: #3B4455;\n",
              "      fill: #D2E3FC;\n",
              "    }\n",
              "\n",
              "    [theme=dark] .colab-df-convert:hover {\n",
              "      background-color: #434B5C;\n",
              "      box-shadow: 0px 1px 3px 1px rgba(0, 0, 0, 0.15);\n",
              "      filter: drop-shadow(0px 1px 2px rgba(0, 0, 0, 0.3));\n",
              "      fill: #FFFFFF;\n",
              "    }\n",
              "  </style>\n",
              "\n",
              "    <script>\n",
              "      const buttonEl =\n",
              "        document.querySelector('#df-14fcf9fb-9f3a-4b0f-a7e0-dd573fdbfb53 button.colab-df-convert');\n",
              "      buttonEl.style.display =\n",
              "        google.colab.kernel.accessAllowed ? 'block' : 'none';\n",
              "\n",
              "      async function convertToInteractive(key) {\n",
              "        const element = document.querySelector('#df-14fcf9fb-9f3a-4b0f-a7e0-dd573fdbfb53');\n",
              "        const dataTable =\n",
              "          await google.colab.kernel.invokeFunction('convertToInteractive',\n",
              "                                                    [key], {});\n",
              "        if (!dataTable) return;\n",
              "\n",
              "        const docLinkHtml = 'Like what you see? Visit the ' +\n",
              "          '<a target=\"_blank\" href=https://colab.research.google.com/notebooks/data_table.ipynb>data table notebook</a>'\n",
              "          + ' to learn more about interactive tables.';\n",
              "        element.innerHTML = '';\n",
              "        dataTable['output_type'] = 'display_data';\n",
              "        await google.colab.output.renderOutput(dataTable, element);\n",
              "        const docLink = document.createElement('div');\n",
              "        docLink.innerHTML = docLinkHtml;\n",
              "        element.appendChild(docLink);\n",
              "      }\n",
              "    </script>\n",
              "  </div>\n",
              "\n",
              "\n",
              "<div id=\"df-b2e912e8-ee57-4216-b394-602004d8e8cb\">\n",
              "  <button class=\"colab-df-quickchart\" onclick=\"quickchart('df-b2e912e8-ee57-4216-b394-602004d8e8cb')\"\n",
              "            title=\"Suggest charts\"\n",
              "            style=\"display:none;\">\n",
              "\n",
              "<svg xmlns=\"http://www.w3.org/2000/svg\" height=\"24px\"viewBox=\"0 0 24 24\"\n",
              "     width=\"24px\">\n",
              "    <g>\n",
              "        <path d=\"M19 3H5c-1.1 0-2 .9-2 2v14c0 1.1.9 2 2 2h14c1.1 0 2-.9 2-2V5c0-1.1-.9-2-2-2zM9 17H7v-7h2v7zm4 0h-2V7h2v10zm4 0h-2v-4h2v4z\"/>\n",
              "    </g>\n",
              "</svg>\n",
              "  </button>\n",
              "\n",
              "<style>\n",
              "  .colab-df-quickchart {\n",
              "      --bg-color: #E8F0FE;\n",
              "      --fill-color: #1967D2;\n",
              "      --hover-bg-color: #E2EBFA;\n",
              "      --hover-fill-color: #174EA6;\n",
              "      --disabled-fill-color: #AAA;\n",
              "      --disabled-bg-color: #DDD;\n",
              "  }\n",
              "\n",
              "  [theme=dark] .colab-df-quickchart {\n",
              "      --bg-color: #3B4455;\n",
              "      --fill-color: #D2E3FC;\n",
              "      --hover-bg-color: #434B5C;\n",
              "      --hover-fill-color: #FFFFFF;\n",
              "      --disabled-bg-color: #3B4455;\n",
              "      --disabled-fill-color: #666;\n",
              "  }\n",
              "\n",
              "  .colab-df-quickchart {\n",
              "    background-color: var(--bg-color);\n",
              "    border: none;\n",
              "    border-radius: 50%;\n",
              "    cursor: pointer;\n",
              "    display: none;\n",
              "    fill: var(--fill-color);\n",
              "    height: 32px;\n",
              "    padding: 0;\n",
              "    width: 32px;\n",
              "  }\n",
              "\n",
              "  .colab-df-quickchart:hover {\n",
              "    background-color: var(--hover-bg-color);\n",
              "    box-shadow: 0 1px 2px rgba(60, 64, 67, 0.3), 0 1px 3px 1px rgba(60, 64, 67, 0.15);\n",
              "    fill: var(--button-hover-fill-color);\n",
              "  }\n",
              "\n",
              "  .colab-df-quickchart-complete:disabled,\n",
              "  .colab-df-quickchart-complete:disabled:hover {\n",
              "    background-color: var(--disabled-bg-color);\n",
              "    fill: var(--disabled-fill-color);\n",
              "    box-shadow: none;\n",
              "  }\n",
              "\n",
              "  .colab-df-spinner {\n",
              "    border: 2px solid var(--fill-color);\n",
              "    border-color: transparent;\n",
              "    border-bottom-color: var(--fill-color);\n",
              "    animation:\n",
              "      spin 1s steps(1) infinite;\n",
              "  }\n",
              "\n",
              "  @keyframes spin {\n",
              "    0% {\n",
              "      border-color: transparent;\n",
              "      border-bottom-color: var(--fill-color);\n",
              "      border-left-color: var(--fill-color);\n",
              "    }\n",
              "    20% {\n",
              "      border-color: transparent;\n",
              "      border-left-color: var(--fill-color);\n",
              "      border-top-color: var(--fill-color);\n",
              "    }\n",
              "    30% {\n",
              "      border-color: transparent;\n",
              "      border-left-color: var(--fill-color);\n",
              "      border-top-color: var(--fill-color);\n",
              "      border-right-color: var(--fill-color);\n",
              "    }\n",
              "    40% {\n",
              "      border-color: transparent;\n",
              "      border-right-color: var(--fill-color);\n",
              "      border-top-color: var(--fill-color);\n",
              "    }\n",
              "    60% {\n",
              "      border-color: transparent;\n",
              "      border-right-color: var(--fill-color);\n",
              "    }\n",
              "    80% {\n",
              "      border-color: transparent;\n",
              "      border-right-color: var(--fill-color);\n",
              "      border-bottom-color: var(--fill-color);\n",
              "    }\n",
              "    90% {\n",
              "      border-color: transparent;\n",
              "      border-bottom-color: var(--fill-color);\n",
              "    }\n",
              "  }\n",
              "</style>\n",
              "\n",
              "  <script>\n",
              "    async function quickchart(key) {\n",
              "      const quickchartButtonEl =\n",
              "        document.querySelector('#' + key + ' button');\n",
              "      quickchartButtonEl.disabled = true;  // To prevent multiple clicks.\n",
              "      quickchartButtonEl.classList.add('colab-df-spinner');\n",
              "      try {\n",
              "        const charts = await google.colab.kernel.invokeFunction(\n",
              "            'suggestCharts', [key], {});\n",
              "      } catch (error) {\n",
              "        console.error('Error during call to suggestCharts:', error);\n",
              "      }\n",
              "      quickchartButtonEl.classList.remove('colab-df-spinner');\n",
              "      quickchartButtonEl.classList.add('colab-df-quickchart-complete');\n",
              "    }\n",
              "    (() => {\n",
              "      let quickchartButtonEl =\n",
              "        document.querySelector('#df-b2e912e8-ee57-4216-b394-602004d8e8cb button');\n",
              "      quickchartButtonEl.style.display =\n",
              "        google.colab.kernel.accessAllowed ? 'block' : 'none';\n",
              "    })();\n",
              "  </script>\n",
              "</div>\n",
              "    </div>\n",
              "  </div>\n"
            ],
            "application/vnd.google.colaboratory.intrinsic+json": {
              "type": "dataframe",
              "variable_name": "AX_train",
              "summary": "{\n  \"name\": \"AX_train\",\n  \"rows\": 910,\n  \"fields\": [\n    {\n      \"column\": \"Umag\",\n      \"properties\": {\n        \"dtype\": \"number\",\n        \"std\": 2.0100371222427755,\n        \"min\": -7.415999999999999,\n        \"max\": 4.762241280675675,\n        \"num_unique_values\": 873,\n        \"samples\": [\n          -2.2843827416095084,\n          -1.4589012572637248,\n          -3.9170000000000016\n        ],\n        \"semantic_type\": \"\",\n        \"description\": \"\"\n      }\n    },\n    {\n      \"column\": \"Bmag\",\n      \"properties\": {\n        \"dtype\": \"number\",\n        \"std\": 2.172082929238417,\n        \"min\": -6.911,\n        \"max\": 3.985999999999999,\n        \"num_unique_values\": 866,\n        \"samples\": [\n          -3.2130593592807624,\n          -2.141,\n          -1.4932249691360684\n        ],\n        \"semantic_type\": \"\",\n        \"description\": \"\"\n      }\n    },\n    {\n      \"column\": \"Vmag\",\n      \"properties\": {\n        \"dtype\": \"number\",\n        \"std\": 2.4002537274438676,\n        \"min\": -8.668,\n        \"max\": 3.4853358747119816,\n        \"num_unique_values\": 871,\n        \"samples\": [\n          1.9260000000000013,\n          -5.755,\n          -2.9409999999999994\n        ],\n        \"semantic_type\": \"\",\n        \"description\": \"\"\n      }\n    },\n    {\n      \"column\": \"Imag\",\n      \"properties\": {\n        \"dtype\": \"number\",\n        \"std\": 2.9993754060890883,\n        \"min\": -11.617184847747495,\n        \"max\": 3.55289407489843,\n        \"num_unique_values\": 874,\n        \"samples\": [\n          -9.085680020639742,\n          -8.517851350356406,\n          -0.8549999999999995\n        ],\n        \"semantic_type\": \"\",\n        \"description\": \"\"\n      }\n    },\n    {\n      \"column\": \"Jmag\",\n      \"properties\": {\n        \"dtype\": \"number\",\n        \"std\": 2.8082309784551738,\n        \"min\": -12.721,\n        \"max\": 2.135108281426485,\n        \"num_unique_values\": 868,\n        \"samples\": [\n          -1.0889999999999986,\n          -4.234,\n          -4.337494543669379\n        ],\n        \"semantic_type\": \"\",\n        \"description\": \"\"\n      }\n    },\n    {\n      \"column\": \"Hmag\",\n      \"properties\": {\n        \"dtype\": \"number\",\n        \"std\": 2.6766810805388985,\n        \"min\": -13.61,\n        \"max\": 0.1701351871610716,\n        \"num_unique_values\": 864,\n        \"samples\": [\n          -5.100000000000001,\n          -4.816939110910753,\n          -5.494498672468605\n        ],\n        \"semantic_type\": \"\",\n        \"description\": \"\"\n      }\n    },\n    {\n      \"column\": \"Ksmag\",\n      \"properties\": {\n        \"dtype\": \"number\",\n        \"std\": 2.3995051052121186,\n        \"min\": -13.956,\n        \"max\": -1.8270343017038035,\n        \"num_unique_values\": 863,\n        \"samples\": [\n          -5.76886326766506,\n          -5.982521773474336,\n          -9.015\n        ],\n        \"semantic_type\": \"\",\n        \"description\": \"\"\n      }\n    },\n    {\n      \"column\": \"[3.6]\",\n      \"properties\": {\n        \"dtype\": \"number\",\n        \"std\": 1.9159162741849696,\n        \"min\": -14.084024206300816,\n        \"max\": -2.6785,\n        \"num_unique_values\": 873,\n        \"samples\": [\n          -11.646522894672794,\n          -11.0715,\n          -10.527\n        ],\n        \"semantic_type\": \"\",\n        \"description\": \"\"\n      }\n    },\n    {\n      \"column\": \"[4.5]\",\n      \"properties\": {\n        \"dtype\": \"number\",\n        \"std\": 1.7564868250379528,\n        \"min\": -14.1339,\n        \"max\": -3.859,\n        \"num_unique_values\": 873,\n        \"samples\": [\n          -11.650375986929626,\n          -7.4483,\n          -6.521000000000001\n        ],\n        \"semantic_type\": \"\",\n        \"description\": \"\"\n      }\n    },\n    {\n      \"column\": \"[5.8]\",\n      \"properties\": {\n        \"dtype\": \"number\",\n        \"std\": 1.4463950726347121,\n        \"min\": -14.3916,\n        \"max\": -6.021671139929109,\n        \"num_unique_values\": 878,\n        \"samples\": [\n          -10.3257,\n          -7.953000000000001,\n          -11.15601737878504\n        ],\n        \"semantic_type\": \"\",\n        \"description\": \"\"\n      }\n    },\n    {\n      \"column\": \"[8.0]\",\n      \"properties\": {\n        \"dtype\": \"number\",\n        \"std\": 1.3372487298940452,\n        \"min\": -14.9471,\n        \"max\": -7.681599999999999,\n        \"num_unique_values\": 871,\n        \"samples\": [\n          -10.0853,\n          -11.8747,\n          -12.514399999999998\n        ],\n        \"semantic_type\": \"\",\n        \"description\": \"\"\n      }\n    },\n    {\n      \"column\": \"[24]\",\n      \"properties\": {\n        \"dtype\": \"number\",\n        \"std\": 2.1618094010343203,\n        \"min\": -20.397860742916706,\n        \"max\": -8.477025863905109,\n        \"num_unique_values\": 872,\n        \"samples\": [\n          -11.763479804029144,\n          -15.6611,\n          -11.0411\n        ],\n        \"semantic_type\": \"\",\n        \"description\": \"\"\n      }\n    }\n  ]\n}"
            }
          },
          "metadata": {},
          "execution_count": 16
        }
      ]
    },
    {
      "cell_type": "code",
      "source": [
        "AY_train = LE.transform(AY_train)"
      ],
      "metadata": {
        "id": "U67X9iK79UTP"
      },
      "execution_count": null,
      "outputs": []
    },
    {
      "cell_type": "code",
      "source": [
        "AY_train"
      ],
      "metadata": {
        "colab": {
          "base_uri": "https://localhost:8080/"
        },
        "id": "ZXfJg6sW_uOu",
        "outputId": "fe702ccc-eadf-490d-b2e7-bcec6fa2488b"
      },
      "execution_count": null,
      "outputs": [
        {
          "output_type": "execute_result",
          "data": {
            "text/plain": [
              "array([0, 0, 3, 1, 1, 4, 4, 0, 1, 1, 0, 4, 1, 0, 3, 4, 2, 3, 0, 4, 2, 0,\n",
              "       4, 3, 0, 4, 2, 4, 4, 3, 4, 0, 4, 3, 2, 4, 3, 0, 4, 4, 0, 4, 1, 4,\n",
              "       1, 0, 1, 0, 4, 4, 3, 4, 0, 4, 3, 0, 0, 1, 0, 0, 1, 0, 0, 0, 4, 1,\n",
              "       3, 2, 3, 2, 1, 0, 1, 0, 0, 3, 3, 0, 3, 3, 1, 0, 4, 2, 4, 1, 0, 0,\n",
              "       1, 0, 4, 3, 4, 4, 4, 4, 1, 0, 1, 3, 4, 4, 3, 0, 1, 4, 3, 4, 4, 4,\n",
              "       0, 4, 3, 4, 4, 0, 0, 3, 3, 4, 1, 0, 3, 0, 0, 1, 4, 4, 0, 0, 1, 1,\n",
              "       4, 2, 1, 0, 4, 1, 1, 4, 0, 4, 3, 4, 2, 0, 0, 4, 2, 1, 4, 4, 4, 1,\n",
              "       0, 0, 4, 3, 3, 4, 2, 3, 0, 4, 0, 2, 4, 4, 0, 1, 0, 2, 3, 0, 2, 0,\n",
              "       4, 0, 4, 4, 0, 0, 4, 1, 0, 3, 4, 3, 3, 3, 3, 4, 1, 1, 0, 4, 0, 0,\n",
              "       4, 4, 1, 2, 4, 4, 0, 0, 3, 0, 1, 4, 0, 1, 1, 0, 4, 1, 4, 4, 0, 3,\n",
              "       2, 1, 4, 4, 0, 0, 2, 4, 4, 4, 1, 3, 1, 4, 0, 4, 1, 3, 3, 4, 3, 3,\n",
              "       0, 0, 0, 3, 0, 4, 0, 0, 3, 0, 4, 4, 4, 3, 1, 4, 1, 0, 4, 2, 0, 4,\n",
              "       0, 4, 4, 1, 4, 1, 0, 1, 2, 1, 0, 3, 0, 0, 4, 4, 0, 4, 3, 1, 0, 4,\n",
              "       1, 4, 4, 0, 3, 3, 4, 3, 4, 1, 0, 4, 1, 4, 3, 1, 2, 4, 4, 4, 0, 0,\n",
              "       2, 1, 4, 1, 3, 1, 0, 4, 0, 4, 4, 4, 4, 4, 0, 4, 0, 3, 1, 0, 4, 3,\n",
              "       3, 1, 4, 0, 0, 4, 0, 0, 3, 0, 3, 4, 4, 0, 4, 0, 4, 1, 1, 4, 1, 0,\n",
              "       4, 4, 0, 0, 0, 4, 3, 4, 3, 0, 4, 4, 3, 1, 0, 0, 2, 0, 1, 4, 0, 0,\n",
              "       0, 1, 1, 0, 4, 0, 4, 1, 0, 0, 4, 3, 1, 0, 2, 2, 2, 4, 1, 4, 3, 4,\n",
              "       0, 0, 4, 4, 3, 2, 0, 0, 1, 4, 1, 1, 4, 0, 0, 3, 3, 4, 4, 4, 3, 3,\n",
              "       3, 0, 4, 4, 4, 4, 2, 0, 2, 3, 4, 1, 3, 3, 4, 4, 1, 2, 3, 3, 1, 3,\n",
              "       0, 0, 4, 3, 1, 0, 1, 0, 0, 0, 4, 0, 4, 4, 4, 0, 1, 4, 4, 3, 4, 0,\n",
              "       1, 1, 3, 0, 1, 3, 0, 1, 3, 3, 0, 0, 4, 4, 1, 3, 3, 0, 2, 2, 4, 1,\n",
              "       4, 3, 1, 1, 4, 1, 2, 4, 0, 0, 3, 1, 0, 2, 1, 4, 4, 1, 4, 0, 3, 0,\n",
              "       4, 1, 3, 4, 3, 0, 4, 0, 0, 1, 2, 4, 0, 2, 4, 2, 0, 4, 4, 1, 0, 4,\n",
              "       0, 4, 4, 0, 4, 0, 4, 0, 4, 4, 4, 0, 1, 1, 4, 1, 4, 4, 4, 3, 0, 0,\n",
              "       4, 1, 0, 4, 1, 4, 0, 0, 0, 0, 0, 0, 0, 0, 0, 0, 0, 0, 0, 0, 0, 0,\n",
              "       0, 0, 0, 0, 0, 0, 0, 0, 0, 0, 1, 1, 1, 1, 1, 1, 1, 1, 1, 1, 1, 1,\n",
              "       1, 1, 1, 1, 1, 1, 1, 1, 1, 1, 1, 1, 1, 1, 1, 1, 1, 1, 1, 1, 1, 1,\n",
              "       1, 1, 1, 1, 1, 1, 1, 1, 1, 1, 1, 1, 1, 1, 1, 1, 1, 1, 1, 1, 1, 1,\n",
              "       1, 1, 1, 1, 1, 1, 1, 1, 1, 1, 1, 1, 1, 1, 1, 1, 1, 1, 1, 1, 1, 1,\n",
              "       1, 1, 1, 1, 1, 1, 1, 1, 2, 2, 2, 2, 2, 2, 2, 2, 2, 2, 2, 2, 2, 2,\n",
              "       2, 2, 2, 2, 2, 2, 2, 2, 2, 2, 2, 2, 2, 2, 2, 2, 2, 2, 2, 2, 2, 2,\n",
              "       2, 2, 2, 2, 2, 2, 2, 2, 2, 2, 2, 2, 2, 2, 2, 2, 2, 2, 2, 2, 2, 2,\n",
              "       2, 2, 2, 2, 2, 2, 2, 2, 2, 2, 2, 2, 2, 2, 2, 2, 2, 2, 2, 2, 2, 2,\n",
              "       2, 2, 2, 2, 2, 2, 2, 2, 2, 2, 2, 2, 2, 2, 2, 2, 2, 2, 2, 2, 2, 2,\n",
              "       2, 2, 2, 2, 2, 2, 2, 2, 2, 2, 2, 2, 2, 2, 2, 2, 2, 2, 2, 2, 2, 2,\n",
              "       2, 2, 2, 2, 2, 2, 2, 2, 2, 2, 2, 2, 2, 2, 2, 2, 2, 2, 2, 2, 2, 2,\n",
              "       3, 3, 3, 3, 3, 3, 3, 3, 3, 3, 3, 3, 3, 3, 3, 3, 3, 3, 3, 3, 3, 3,\n",
              "       3, 3, 3, 3, 3, 3, 3, 3, 3, 3, 3, 3, 3, 3, 3, 3, 3, 3, 3, 3, 3, 3,\n",
              "       3, 3, 3, 3, 3, 3, 3, 3, 3, 3, 3, 3, 3, 3, 3, 3, 3, 3, 3, 3, 3, 3,\n",
              "       3, 3, 3, 3, 3, 3, 3, 3, 3, 3, 3, 3, 3, 3, 3, 3, 3, 3, 3, 3, 3, 3,\n",
              "       3, 3, 3, 3, 3, 3, 3, 3])"
            ]
          },
          "metadata": {},
          "execution_count": 18
        }
      ]
    },
    {
      "cell_type": "markdown",
      "source": [
        "In the next cell, we use the Min Max scaler to scale data between 0 and 1. This algorithm helps models in training."
      ],
      "metadata": {
        "id": "acFuhBcMrrQH"
      }
    },
    {
      "cell_type": "code",
      "source": [
        "from sklearn.preprocessing import MinMaxScaler\n",
        "MMS = MinMaxScaler()\n",
        "MMS.fit(AX_train)\n",
        "AX_train = MMS.transform(AX_train)\n",
        "X_test = MMS.transform(X_test)"
      ],
      "metadata": {
        "id": "t5wqls-srrQI"
      },
      "execution_count": null,
      "outputs": []
    },
    {
      "cell_type": "code",
      "source": [
        "plt.hist(Y_test)"
      ],
      "metadata": {
        "colab": {
          "base_uri": "https://localhost:8080/",
          "height": 487
        },
        "id": "D7HK8oJ4bbRB",
        "outputId": "23966bcd-dd89-4566-b8d7-ea9fdbe41ce4"
      },
      "execution_count": null,
      "outputs": [
        {
          "output_type": "execute_result",
          "data": {
            "text/plain": [
              "(array([18.,  0., 11.,  0.,  0.,  1.,  0.,  8.,  0., 24.]),\n",
              " array([0. , 0.4, 0.8, 1.2, 1.6, 2. , 2.4, 2.8, 3.2, 3.6, 4. ]),\n",
              " <BarContainer object of 10 artists>)"
            ]
          },
          "metadata": {},
          "execution_count": 21
        },
        {
          "output_type": "display_data",
          "data": {
            "text/plain": [
              "<Figure size 640x480 with 1 Axes>"
            ],
            "image/png": "[encoded data removed]"
          },
          "metadata": {}
        }
      ]
    },
    {
      "cell_type": "code",
      "source": [
        "X_train = AX_train\n",
        "Y_train = AY_train\n",
        "print('X_train : ' , X_train.shape)\n",
        "print('X_test : ' , X_test.shape)\n",
        "print('Y_train : ' , Y_train.shape)\n",
        "print('Y_test : ' , Y_test.shape)"
      ],
      "metadata": {
        "id": "SiZdVp8Nmh6Y",
        "colab": {
          "base_uri": "https://localhost:8080/"
        },
        "outputId": "f2d9c987-7cd1-4fc1-8259-9315e3ed64e2"
      },
      "execution_count": null,
      "outputs": [
        {
          "output_type": "stream",
          "name": "stdout",
          "text": [
            "X_train :  (910, 12)\n",
            "X_test :  (62, 12)\n",
            "Y_train :  (910,)\n",
            "Y_test :  (62,)\n"
          ]
        }
      ]
    },
    {
      "cell_type": "markdown",
      "source": [
        "# PRF"
      ],
      "metadata": {
        "id": "DEU0tyysdyWk"
      }
    },
    {
      "cell_type": "code",
      "source": [
        "!git clone https://github.com/ireis/PRF.git"
      ],
      "metadata": {
        "id": "ruFt3406i2su",
        "colab": {
          "base_uri": "https://localhost:8080/"
        },
        "outputId": "503dbd54-bee4-4649-90f9-844b31f3e98d"
      },
      "execution_count": null,
      "outputs": [
        {
          "output_type": "stream",
          "name": "stdout",
          "text": [
            "Cloning into 'PRF'...\n",
            "remote: Enumerating objects: 226, done.\u001b[K\n",
            "remote: Counting objects: 100% (15/15), done.\u001b[K\n",
            "remote: Compressing objects: 100% (13/13), done.\u001b[K\n",
            "remote: Total 226 (delta 4), reused 6 (delta 2), pack-reused 211\u001b[K\n",
            "Receiving objects: 100% (226/226), 15.34 MiB | 16.11 MiB/s, done.\n",
            "Resolving deltas: 100% (114/114), done.\n"
          ]
        }
      ]
    },
    {
      "cell_type": "code",
      "source": [
        "from PRF import PRF"
      ],
      "metadata": {
        "id": "kEAoTkqbiWW9"
      },
      "execution_count": null,
      "outputs": []
    },
    {
      "cell_type": "code",
      "source": [
        "prf_cls = PRF.prf(n_estimators=10, bootstrap=True, keep_proba=0.01)\n",
        "prf_cls.fit( X=X_train, y=np.array(Y_train))\n",
        "Y_pred = prf_cls.predict(X_test)\n",
        "print('PRF: {}'.format(prf_cls.score(X=X_test, y=np.array(Y_test))))"
      ],
      "metadata": {
        "id": "fm-gbR94jHKD",
        "colab": {
          "base_uri": "https://localhost:8080/"
        },
        "outputId": "273edbd5-d247-4dcb-eb7a-5828c2895ace"
      },
      "execution_count": null,
      "outputs": [
        {
          "output_type": "stream",
          "name": "stdout",
          "text": [
            "PRF: 0.8709677419354839\n"
          ]
        }
      ]
    },
    {
      "cell_type": "code",
      "source": [
        "print(classification_report( Y_test , Y_pred ))\n",
        "cm = confusion_matrix(Y_test , Y_pred )\n",
        "plot_confusion_matrix(cm = cm ,\n",
        "                      normalize    = True,\n",
        "                      target_names = ['CAGB', 'OAGB', 'PAGB', 'RSG', 'YSO'] ,\n",
        "                      title  = \"Confusion Matrix\",\n",
        "                      file_name = 'CSV.pdf',\n",
        "                      size = (5,5))"
      ],
      "metadata": {
        "id": "fsRS9KLviZJ6",
        "colab": {
          "base_uri": "https://localhost:8080/",
          "height": 709
        },
        "outputId": "fdd86421-eaf3-45f0-851e-65f85bd36b45"
      },
      "execution_count": null,
      "outputs": [
        {
          "output_type": "stream",
          "name": "stdout",
          "text": [
            "              precision    recall  f1-score   support\n",
            "\n",
            "           0       0.95      1.00      0.97        18\n",
            "           1       0.78      0.64      0.70        11\n",
            "           2       0.33      1.00      0.50         1\n",
            "           3       0.73      1.00      0.84         8\n",
            "           4       1.00      0.83      0.91        24\n",
            "\n",
            "    accuracy                           0.87        62\n",
            "   macro avg       0.76      0.89      0.78        62\n",
            "weighted avg       0.90      0.87      0.88        62\n",
            "\n"
          ]
        },
        {
          "output_type": "display_data",
          "data": {
            "text/plain": [
              "<Figure size 500x500 with 2 Axes>"
            ],
            "image/png": "[encoded data removed]"
          },
          "metadata": {}
        }
      ]
    },
    {
      "cell_type": "code",
      "source": [
        "import pickle\n",
        "model_name = 'PRF-S-001-10-87-0'\n",
        "filename = model_name + '.sav'\n",
        "pickle.dump(prf_cls, open(filename, 'wb'))"
      ],
      "metadata": {
        "id": "zddoihdIEXoj"
      },
      "execution_count": null,
      "outputs": []
    },
    {
      "cell_type": "code",
      "source": [
        "prf_cls = PRF.prf(n_estimators=10, bootstrap=True, keep_proba=0.1)\n",
        "prf_cls.fit( X=X_train, y=np.array(Y_train))\n",
        "Y_pred = prf_cls.predict(X_test)\n",
        "print('PRF: {}'.format(prf_cls.score(X=X_test, y=np.array(Y_test))))"
      ],
      "metadata": {
        "id": "2RiBh37xdu3D",
        "colab": {
          "base_uri": "https://localhost:8080/"
        },
        "outputId": "b74a6a10-ab31-4666-b4c8-aba508f0c9b2"
      },
      "execution_count": null,
      "outputs": [
        {
          "output_type": "stream",
          "name": "stdout",
          "text": [
            "PRF: 0.8387096774193549\n"
          ]
        }
      ]
    },
    {
      "cell_type": "code",
      "source": [
        "print(classification_report( Y_test , Y_pred ))\n",
        "cm = confusion_matrix(Y_test , Y_pred )\n",
        "plot_confusion_matrix(cm = cm ,\n",
        "                      normalize    = True,\n",
        "                      target_names = ['CAGB', 'OAGB', 'PAGB', 'RSG', 'YSO'] ,\n",
        "                      title  = \"Confusion Matrix\",\n",
        "                      file_name = 'CSV.pdf',\n",
        "                      size = (5,5))"
      ],
      "metadata": {
        "id": "V7o1NGh6kHbL",
        "colab": {
          "base_uri": "https://localhost:8080/",
          "height": 709
        },
        "outputId": "664ff9d1-2afb-4baa-8795-7e4cb3c6ae48"
      },
      "execution_count": null,
      "outputs": [
        {
          "output_type": "stream",
          "name": "stdout",
          "text": [
            "              precision    recall  f1-score   support\n",
            "\n",
            "           0       0.95      1.00      0.97        18\n",
            "           1       0.70      0.64      0.67        11\n",
            "           2       0.25      1.00      0.40         1\n",
            "           3       0.70      0.88      0.78         8\n",
            "           4       1.00      0.79      0.88        24\n",
            "\n",
            "    accuracy                           0.84        62\n",
            "   macro avg       0.72      0.86      0.74        62\n",
            "weighted avg       0.88      0.84      0.85        62\n",
            "\n"
          ]
        },
        {
          "output_type": "display_data",
          "data": {
            "text/plain": [
              "<Figure size 500x500 with 2 Axes>"
            ],
            "image/png": "[encoded data removed]"
          },
          "metadata": {}
        }
      ]
    },
    {
      "cell_type": "code",
      "source": [
        "import pickle\n",
        "model_name = 'PRF-S-01-10-89-0'\n",
        "filename = model_name + '.sav'\n",
        "pickle.dump(prf_cls, open(filename, 'wb'))"
      ],
      "metadata": {
        "id": "NGPDefbVEwMk"
      },
      "execution_count": null,
      "outputs": []
    },
    {
      "cell_type": "code",
      "source": [
        "prf_cls = PRF.prf(n_estimators=100, bootstrap=True, keep_proba=0.1)\n",
        "prf_cls.fit( X=X_train, y=np.array(Y_train))\n",
        "Y_pred = prf_cls.predict(X_test)\n",
        "print('PRF: {}'.format(prf_cls.score(X=X_test, y=np.array(Y_test))))"
      ],
      "metadata": {
        "colab": {
          "base_uri": "https://localhost:8080/"
        },
        "outputId": "e211cb4a-6878-4623-acd5-19327828ac80",
        "id": "jUMdIe6fGSt2"
      },
      "execution_count": null,
      "outputs": [
        {
          "output_type": "stream",
          "name": "stdout",
          "text": [
            "PRF: 0.8548387096774194\n"
          ]
        }
      ]
    },
    {
      "cell_type": "code",
      "source": [
        "print(classification_report( Y_test , Y_pred ))\n",
        "cm = confusion_matrix(Y_test , Y_pred )\n",
        "plot_confusion_matrix(cm = cm ,\n",
        "                      normalize    = True,\n",
        "                      target_names = ['CAGB', 'OAGB', 'PAGB', 'RSG', 'YSO'] ,\n",
        "                      title  = \"Confusion Matrix\",\n",
        "                      file_name = 'CSV.pdf',\n",
        "                      size = (5,5))"
      ],
      "metadata": {
        "colab": {
          "base_uri": "https://localhost:8080/",
          "height": 709
        },
        "outputId": "6e5cd4eb-6bea-41d4-ad9f-23f8a170368d",
        "id": "7igllnnTGSt4"
      },
      "execution_count": null,
      "outputs": [
        {
          "output_type": "stream",
          "name": "stdout",
          "text": [
            "              precision    recall  f1-score   support\n",
            "\n",
            "           0       0.95      1.00      0.97        18\n",
            "           1       0.70      0.64      0.67        11\n",
            "           2       0.33      1.00      0.50         1\n",
            "           3       0.70      0.88      0.78         8\n",
            "           4       1.00      0.83      0.91        24\n",
            "\n",
            "    accuracy                           0.85        62\n",
            "   macro avg       0.74      0.87      0.77        62\n",
            "weighted avg       0.88      0.85      0.86        62\n",
            "\n"
          ]
        },
        {
          "output_type": "display_data",
          "data": {
            "text/plain": [
              "<Figure size 500x500 with 2 Axes>"
            ],
            "image/png": "[encoded data removed]"
          },
          "metadata": {}
        }
      ]
    },
    {
      "cell_type": "code",
      "source": [
        "import pickle\n",
        "model_name = 'PRF-S-01-100-87-0'\n",
        "filename = model_name + '.sav'\n",
        "pickle.dump(prf_cls, open(filename, 'wb'))"
      ],
      "metadata": {
        "id": "Hs6oK_wmGSt6"
      },
      "execution_count": null,
      "outputs": []
    },
    {
      "cell_type": "code",
      "source": [
        "prf_cls = PRF.prf(n_estimators=10, bootstrap=True, keep_proba=0.5)\n",
        "prf_cls.fit( X=X_train, y=np.array(Y_train))\n",
        "Y_pred = prf_cls.predict(X_test)\n",
        "print('PRF: {}'.format(prf_cls.score(X=X_test, y=np.array(Y_test))))"
      ],
      "metadata": {
        "id": "Miyojs38dw0M",
        "colab": {
          "base_uri": "https://localhost:8080/"
        },
        "outputId": "2469d9cd-9566-4fbb-bb20-f22946ccdfc7"
      },
      "execution_count": null,
      "outputs": [
        {
          "output_type": "stream",
          "name": "stdout",
          "text": [
            "PRF: 0.8870967741935484\n"
          ]
        }
      ]
    },
    {
      "cell_type": "code",
      "source": [
        "print(classification_report( Y_test , Y_pred ))\n",
        "cm = confusion_matrix(Y_test , Y_pred )\n",
        "plot_confusion_matrix(cm = cm ,\n",
        "                      normalize    = True,\n",
        "                      target_names = ['CAGB', 'OAGB', 'PAGB', 'RSG', 'YSO'] ,\n",
        "                      title  = \"Confusion Matrix\",\n",
        "                      file_name = 'CSV.pdf',\n",
        "                      size = (5,5))"
      ],
      "metadata": {
        "id": "g5eywH8GkSIz",
        "colab": {
          "base_uri": "https://localhost:8080/",
          "height": 709
        },
        "outputId": "ac31e727-0c10-4b47-9a19-d6da0d2a61d7"
      },
      "execution_count": null,
      "outputs": [
        {
          "output_type": "stream",
          "name": "stdout",
          "text": [
            "              precision    recall  f1-score   support\n",
            "\n",
            "           0       0.86      1.00      0.92        18\n",
            "           1       1.00      0.64      0.78        11\n",
            "           2       0.50      1.00      0.67         1\n",
            "           3       0.70      0.88      0.78         8\n",
            "           4       1.00      0.92      0.96        24\n",
            "\n",
            "    accuracy                           0.89        62\n",
            "   macro avg       0.81      0.89      0.82        62\n",
            "weighted avg       0.91      0.89      0.89        62\n",
            "\n"
          ]
        },
        {
          "output_type": "display_data",
          "data": {
            "text/plain": [
              "<Figure size 500x500 with 2 Axes>"
            ],
            "image/png": "[encoded data removed]"
          },
          "metadata": {}
        }
      ]
    },
    {
      "cell_type": "code",
      "source": [
        "import pickle\n",
        "model_name = 'PRF-S-05-10-89-0'\n",
        "filename = model_name + '.sav'\n",
        "pickle.dump(prf_cls, open(filename, 'wb'))"
      ],
      "metadata": {
        "id": "XB9YQln0E5TO"
      },
      "execution_count": null,
      "outputs": []
    },
    {
      "cell_type": "code",
      "source": [
        "prf_cls = PRF.prf(n_estimators=10, bootstrap=True, keep_proba=0.3)\n",
        "prf_cls.fit( X=X_train, y=np.array(Y_train))\n",
        "Y_pred = prf_cls.predict(X_test)\n",
        "print('PRF: {}'.format(prf_cls.score(X=X_test, y=np.array(Y_test))))"
      ],
      "metadata": {
        "id": "danWm1Qddzmh"
      },
      "execution_count": null,
      "outputs": []
    },
    {
      "cell_type": "code",
      "source": [
        "print(classification_report( Y_test , Y_pred ))\n",
        "cm = confusion_matrix(Y_test , Y_pred )\n",
        "plot_confusion_matrix(cm = cm ,\n",
        "                      normalize    = True,\n",
        "                      target_names = ['CAGB', 'OAGB', 'PAGB', 'RSG', 'YSO'] ,\n",
        "                      title  = \"Confusion Matrix\",\n",
        "                      file_name = 'CSV.pdf',\n",
        "                      size = (5,5))"
      ],
      "metadata": {
        "id": "BUnCDV77kWvF"
      },
      "execution_count": null,
      "outputs": []
    },
    {
      "cell_type": "code",
      "source": [
        "import pickle\n",
        "model_name = 'PRF-S-03-10-87-0'\n",
        "filename = model_name + '.sav'\n",
        "pickle.dump(prf_cls, open(filename, 'wb'))"
      ],
      "metadata": {
        "id": "vsDrh16IFG7u"
      },
      "execution_count": null,
      "outputs": []
    },
    {
      "cell_type": "code",
      "source": [
        "prf_cls = PRF.prf(n_estimators=50, bootstrap=True, keep_proba=0.8)\n",
        "prf_cls.fit( X=X_train, y=np.array(Y_train))\n",
        "Y_pred = prf_cls.predict(X_test)\n",
        "print('PRF: {}'.format(prf_cls.score(X=X_test, y=np.array(Y_test))))"
      ],
      "metadata": {
        "id": "RHIXOAO1M5c3"
      },
      "execution_count": null,
      "outputs": []
    },
    {
      "cell_type": "code",
      "source": [
        "print(classification_report( Y_test , Y_pred ))\n",
        "cm = confusion_matrix(Y_test , Y_pred )\n",
        "plot_confusion_matrix(cm = cm ,\n",
        "                      normalize    = True,\n",
        "                      target_names = ['CAGB', 'OAGB', 'PAGB', 'RSG', 'YSO'] ,\n",
        "                      title  = \"Confusion Matrix\",\n",
        "                      file_name = 'CSV.pdf',\n",
        "                      size = (5,5))"
      ],
      "metadata": {
        "id": "WK22zl1dM5c3"
      },
      "execution_count": null,
      "outputs": []
    },
    {
      "cell_type": "code",
      "source": [
        "import pickle\n",
        "model_name = 'PRF-S-08-50-85-0'\n",
        "filename = model_name + '.sav'\n",
        "pickle.dump(prf_cls, open(filename, 'wb'))"
      ],
      "metadata": {
        "id": "fhEZlN2qFUJW"
      },
      "execution_count": null,
      "outputs": []
    },
    {
      "cell_type": "code",
      "source": [
        "prf_cls = PRF.prf(n_estimators=10, bootstrap=True, keep_proba=0.8)\n",
        "prf_cls.fit( X=X_train, y=np.array(Y_train))\n",
        "Y_pred = prf_cls.predict(X_test)\n",
        "print('PRF: {}'.format(prf_cls.score(X=X_test, y=np.array(Y_test))))"
      ],
      "metadata": {
        "id": "0PlKV24bM6GW"
      },
      "execution_count": null,
      "outputs": []
    },
    {
      "cell_type": "code",
      "source": [
        "print(classification_report( Y_test , Y_pred ))\n",
        "cm = confusion_matrix(Y_test , Y_pred )\n",
        "plot_confusion_matrix(cm = cm ,\n",
        "                      normalize    = True,\n",
        "                      target_names = ['CAGB', 'OAGB', 'PAGB', 'RSG', 'YSO'] ,\n",
        "                      title  = \"Confusion Matrix\",\n",
        "                      file_name = 'CSV.jpg',\n",
        "                      size = (5,5))"
      ],
      "metadata": {
        "id": "Kwt4Wi3FM6GX"
      },
      "execution_count": null,
      "outputs": []
    },
    {
      "cell_type": "code",
      "source": [
        "import pickle\n",
        "model_name = 'PRF-S-08-10-85-0'\n",
        "filename = model_name + '.sav'\n",
        "pickle.dump(prf_cls, open(filename, 'wb'))"
      ],
      "metadata": {
        "id": "lzR6lOm4FcwY"
      },
      "execution_count": null,
      "outputs": []
    },
    {
      "cell_type": "code",
      "source": [
        "Address_directory = ''\n",
        "Models = ['PRF-S-001-10-87-0', 'PRF-S-01-10-89-0', 'PRF-S-01-100-87-0',\n",
        "          'PRF-S-03-10-87-0', 'PRF-S-05-10-89-0', 'PRF-S-08-50-85-0','PRF-S-08-10-85-0']"
      ],
      "metadata": {
        "id": "UChmeB8ANcPm"
      },
      "execution_count": null,
      "outputs": []
    },
    {
      "cell_type": "code",
      "source": [
        "for i in Models:\n",
        "  model_name = i\n",
        "  filename = Address_directory + model_name + '.sav'\n",
        "  loaded_model = pickle.load(open(filename, 'rb'))\n",
        "  Y_pred_save_model = loaded_model.predict(X_test)\n",
        "  Model_name = i.split('-')[0] + i.split('-')[1]\n",
        "  keep_proba = i.split('-')[2].split('0')[1]\n",
        "  n_stimator = i.split('-')[3]\n",
        "  print('======================================================')\n",
        "  print('Model_name: ' + Model_name)\n",
        "  print('Parameters: ')\n",
        "  print('   keep_proba = 0.' + keep_proba)\n",
        "  print('   n_stimator = ' + n_stimator)\n",
        "  print('======================================================')\n",
        "  print(classification_report( Y_test , Y_pred_save_model ))\n",
        "  cm = confusion_matrix(Y_test , Y_pred_save_model )\n",
        "  plot_confusion_matrix(cm = cm ,\n",
        "                      normalize    = True,\n",
        "                      target_names = ['CAGB', 'OAGB', 'PAGB', 'RSG', 'YSO'] ,\n",
        "                      title  = None,\n",
        "                      file_name = model_name +'_CM.jpg',\n",
        "                      size = (5,5),\n",
        "                      color_bar=True)"
      ],
      "metadata": {
        "id": "zFzSpQ1hosYS"
      },
      "execution_count": null,
      "outputs": []
    },
    {
      "cell_type": "markdown",
      "source": [
        "# SVC"
      ],
      "metadata": {
        "id": "0-qR7BTSgO0F"
      }
    },
    {
      "cell_type": "code",
      "source": [
        "%%time\n",
        "from sklearn.svm import SVC\n",
        "from sklearn.model_selection import GridSearchCV\n",
        "SVC = SVC()\n",
        "par = [\n",
        "       { 'kernel': ['poly'] ,\n",
        "         'degree' : list(np.arange(1,20,1)),\n",
        "         'gamma' : list(np.arange(0.2 , 2 , 0.2 )) , # + ['scale','auto']\n",
        "         'C': list(np.arange(0.1 , 3 , 0.1 ))\n",
        "        }\n",
        "       ]\n",
        "GS = GridSearchCV(SVC, param_grid=par, cv = 4, scoring = None )\n",
        "GS.fit(X_train, Y_train)"
      ],
      "metadata": {
        "id": "aIJziXK4ft-P",
        "colab": {
          "base_uri": "https://localhost:8080/",
          "height": 155
        },
        "outputId": "966ab4fd-af56-41bc-cd7b-3294b4ce527f"
      },
      "execution_count": null,
      "outputs": [
        {
          "output_type": "stream",
          "name": "stdout",
          "text": [
            "CPU times: user 1h 39min 43s, sys: 5.64 s, total: 1h 39min 49s\n",
            "Wall time: 1h 40min 11s\n"
          ]
        },
        {
          "output_type": "execute_result",
          "data": {
            "text/plain": [
              "GridSearchCV(cv=4, estimator=SVC(),\n",
              "             param_grid=[{'C': [0.1, 0.2, 0.30000000000000004, 0.4, 0.5, 0.6,\n",
              "                                0.7000000000000001, 0.8, 0.9, 1.0, 1.1,\n",
              "                                1.2000000000000002, 1.3000000000000003,\n",
              "                                1.4000000000000001, 1.5000000000000002, 1.6,\n",
              "                                1.7000000000000002, 1.8000000000000003,\n",
              "                                1.9000000000000001, 2.0, 2.1, 2.2,\n",
              "                                2.3000000000000003, 2.4000000000000004,\n",
              "                                2.5000000000000004, 2.6, 2.7,\n",
              "                                2.8000000000000003, 2.9000000000000004],\n",
              "                          'degree': [1, 2, 3, 4, 5, 6, 7, 8, 9, 10, 11, 12, 13,\n",
              "                                     14, 15, 16, 17, 18, 19],\n",
              "                          'gamma': [0.2, 0.4, 0.6000000000000001, 0.8, 1.0, 1.2,\n",
              "                                    1.4000000000000001, 1.6, 1.8],\n",
              "                          'kernel': ['poly']}])"
            ],
            "text/html": [
              "<style>#sk-container-id-1 {color: black;background-color: white;}#sk-container-id-1 pre{padding: 0;}#sk-container-id-1 div.sk-toggleable {background-color: white;}#sk-container-id-1 label.sk-toggleable__label {cursor: pointer;display: block;width: 100%;margin-bottom: 0;padding: 0.3em;box-sizing: border-box;text-align: center;}#sk-container-id-1 label.sk-toggleable__label-arrow:before {content: \"▸\";float: left;margin-right: 0.25em;color: #696969;}#sk-container-id-1 label.sk-toggleable__label-arrow:hover:before {color: black;}#sk-container-id-1 div.sk-estimator:hover label.sk-toggleable__label-arrow:before {color: black;}#sk-container-id-1 div.sk-toggleable__content {max-height: 0;max-width: 0;overflow: hidden;text-align: left;background-color: #f0f8ff;}#sk-container-id-1 div.sk-toggleable__content pre {margin: 0.2em;color: black;border-radius: 0.25em;background-color: #f0f8ff;}#sk-container-id-1 input.sk-toggleable__control:checked~div.sk-toggleable__content {max-height: 200px;max-width: 100%;overflow: auto;}#sk-container-id-1 input.sk-toggleable__control:checked~label.sk-toggleable__label-arrow:before {content: \"▾\";}#sk-container-id-1 div.sk-estimator input.sk-toggleable__control:checked~label.sk-toggleable__label {background-color: #d4ebff;}#sk-container-id-1 div.sk-label input.sk-toggleable__control:checked~label.sk-toggleable__label {background-color: #d4ebff;}#sk-container-id-1 input.sk-hidden--visually {border: 0;clip: rect(1px 1px 1px 1px);clip: rect(1px, 1px, 1px, 1px);height: 1px;margin: -1px;overflow: hidden;padding: 0;position: absolute;width: 1px;}#sk-container-id-1 div.sk-estimator {font-family: monospace;background-color: #f0f8ff;border: 1px dotted black;border-radius: 0.25em;box-sizing: border-box;margin-bottom: 0.5em;}#sk-container-id-1 div.sk-estimator:hover {background-color: #d4ebff;}#sk-container-id-1 div.sk-parallel-item::after {content: \"\";width: 100%;border-bottom: 1px solid gray;flex-grow: 1;}#sk-container-id-1 div.sk-label:hover label.sk-toggleable__label {background-color: #d4ebff;}#sk-container-id-1 div.sk-serial::before {content: \"\";position: absolute;border-left: 1px solid gray;box-sizing: border-box;top: 0;bottom: 0;left: 50%;z-index: 0;}#sk-container-id-1 div.sk-serial {display: flex;flex-direction: column;align-items: center;background-color: white;padding-right: 0.2em;padding-left: 0.2em;position: relative;}#sk-container-id-1 div.sk-item {position: relative;z-index: 1;}#sk-container-id-1 div.sk-parallel {display: flex;align-items: stretch;justify-content: center;background-color: white;position: relative;}#sk-container-id-1 div.sk-item::before, #sk-container-id-1 div.sk-parallel-item::before {content: \"\";position: absolute;border-left: 1px solid gray;box-sizing: border-box;top: 0;bottom: 0;left: 50%;z-index: -1;}#sk-container-id-1 div.sk-parallel-item {display: flex;flex-direction: column;z-index: 1;position: relative;background-color: white;}#sk-container-id-1 div.sk-parallel-item:first-child::after {align-self: flex-end;width: 50%;}#sk-container-id-1 div.sk-parallel-item:last-child::after {align-self: flex-start;width: 50%;}#sk-container-id-1 div.sk-parallel-item:only-child::after {width: 0;}#sk-container-id-1 div.sk-dashed-wrapped {border: 1px dashed gray;margin: 0 0.4em 0.5em 0.4em;box-sizing: border-box;padding-bottom: 0.4em;background-color: white;}#sk-container-id-1 div.sk-label label {font-family: monospace;font-weight: bold;display: inline-block;line-height: 1.2em;}#sk-container-id-1 div.sk-label-container {text-align: center;}#sk-container-id-1 div.sk-container {/* jupyter's `normalize.less` sets `[hidden] { display: none; }` but bootstrap.min.css set `[hidden] { display: none !important; }` so we also need the `!important` here to be able to override the default hidden behavior on the sphinx rendered scikit-learn.org. See: https://github.com/scikit-learn/scikit-learn/issues/21755 */display: inline-block !important;position: relative;}#sk-container-id-1 div.sk-text-repr-fallback {display: none;}</style><div id=\"sk-container-id-1\" class=\"sk-top-container\"><div class=\"sk-text-repr-fallback\"><pre>GridSearchCV(cv=4, estimator=SVC(),\n",
              "             param_grid=[{&#x27;C&#x27;: [0.1, 0.2, 0.30000000000000004, 0.4, 0.5, 0.6,\n",
              "                                0.7000000000000001, 0.8, 0.9, 1.0, 1.1,\n",
              "                                1.2000000000000002, 1.3000000000000003,\n",
              "                                1.4000000000000001, 1.5000000000000002, 1.6,\n",
              "                                1.7000000000000002, 1.8000000000000003,\n",
              "                                1.9000000000000001, 2.0, 2.1, 2.2,\n",
              "                                2.3000000000000003, 2.4000000000000004,\n",
              "                                2.5000000000000004, 2.6, 2.7,\n",
              "                                2.8000000000000003, 2.9000000000000004],\n",
              "                          &#x27;degree&#x27;: [1, 2, 3, 4, 5, 6, 7, 8, 9, 10, 11, 12, 13,\n",
              "                                     14, 15, 16, 17, 18, 19],\n",
              "                          &#x27;gamma&#x27;: [0.2, 0.4, 0.6000000000000001, 0.8, 1.0, 1.2,\n",
              "                                    1.4000000000000001, 1.6, 1.8],\n",
              "                          &#x27;kernel&#x27;: [&#x27;poly&#x27;]}])</pre><b>In a Jupyter environment, please rerun this cell to show the HTML representation or trust the notebook. <br />On GitHub, the HTML representation is unable to render, please try loading this page with nbviewer.org.</b></div><div class=\"sk-container\" hidden><div class=\"sk-item sk-dashed-wrapped\"><div class=\"sk-label-container\"><div class=\"sk-label sk-toggleable\"><input class=\"sk-toggleable__control sk-hidden--visually\" id=\"sk-estimator-id-1\" type=\"checkbox\" ><label for=\"sk-estimator-id-1\" class=\"sk-toggleable__label sk-toggleable__label-arrow\">GridSearchCV</label><div class=\"sk-toggleable__content\"><pre>GridSearchCV(cv=4, estimator=SVC(),\n",
              "             param_grid=[{&#x27;C&#x27;: [0.1, 0.2, 0.30000000000000004, 0.4, 0.5, 0.6,\n",
              "                                0.7000000000000001, 0.8, 0.9, 1.0, 1.1,\n",
              "                                1.2000000000000002, 1.3000000000000003,\n",
              "                                1.4000000000000001, 1.5000000000000002, 1.6,\n",
              "                                1.7000000000000002, 1.8000000000000003,\n",
              "                                1.9000000000000001, 2.0, 2.1, 2.2,\n",
              "                                2.3000000000000003, 2.4000000000000004,\n",
              "                                2.5000000000000004, 2.6, 2.7,\n",
              "                                2.8000000000000003, 2.9000000000000004],\n",
              "                          &#x27;degree&#x27;: [1, 2, 3, 4, 5, 6, 7, 8, 9, 10, 11, 12, 13,\n",
              "                                     14, 15, 16, 17, 18, 19],\n",
              "                          &#x27;gamma&#x27;: [0.2, 0.4, 0.6000000000000001, 0.8, 1.0, 1.2,\n",
              "                                    1.4000000000000001, 1.6, 1.8],\n",
              "                          &#x27;kernel&#x27;: [&#x27;poly&#x27;]}])</pre></div></div></div><div class=\"sk-parallel\"><div class=\"sk-parallel-item\"><div class=\"sk-item\"><div class=\"sk-label-container\"><div class=\"sk-label sk-toggleable\"><input class=\"sk-toggleable__control sk-hidden--visually\" id=\"sk-estimator-id-2\" type=\"checkbox\" ><label for=\"sk-estimator-id-2\" class=\"sk-toggleable__label sk-toggleable__label-arrow\">estimator: SVC</label><div class=\"sk-toggleable__content\"><pre>SVC()</pre></div></div></div><div class=\"sk-serial\"><div class=\"sk-item\"><div class=\"sk-estimator sk-toggleable\"><input class=\"sk-toggleable__control sk-hidden--visually\" id=\"sk-estimator-id-3\" type=\"checkbox\" ><label for=\"sk-estimator-id-3\" class=\"sk-toggleable__label sk-toggleable__label-arrow\">SVC</label><div class=\"sk-toggleable__content\"><pre>SVC()</pre></div></div></div></div></div></div></div></div></div></div>"
            ]
          },
          "metadata": {},
          "execution_count": 21
        }
      ]
    },
    {
      "cell_type": "code",
      "source": [
        "print(GS.best_score_)\n",
        "print(GS.best_params_)"
      ],
      "metadata": {
        "id": "ZUHn_JkfhsmE",
        "colab": {
          "base_uri": "https://localhost:8080/"
        },
        "outputId": "40539e1b-f28d-4f66-c20d-387589e0195b"
      },
      "execution_count": null,
      "outputs": [
        {
          "output_type": "stream",
          "name": "stdout",
          "text": [
            "0.9407073576010511\n",
            "{'C': 0.2, 'degree': 5, 'gamma': 1.2, 'kernel': 'poly'}\n"
          ]
        }
      ]
    },
    {
      "cell_type": "code",
      "source": [
        "%%time\n",
        "from sklearn.svm import SVC\n",
        "from sklearn.model_selection import GridSearchCV\n",
        "SVC = SVC()\n",
        "par = [\n",
        "       { 'kernel': ['poly'] ,\n",
        "         'degree' : list(np.arange(1,20,1)),\n",
        "         'gamma' : ['scale','auto'],\n",
        "         'C': list(np.arange(0.1 , 5.1 , 0.5 ))\n",
        "        }\n",
        "       ]\n",
        "GS = GridSearchCV(SVC, param_grid=par, cv = 4, scoring = None )\n",
        "GS.fit(X_train, Y_train)"
      ],
      "metadata": {
        "id": "_xRbEJOk7Ige"
      },
      "execution_count": null,
      "outputs": []
    },
    {
      "cell_type": "code",
      "source": [
        "print(GS.best_score_)\n",
        "print(GS.best_params_)"
      ],
      "metadata": {
        "id": "9ozW4WKT7Igf"
      },
      "execution_count": null,
      "outputs": []
    },
    {
      "cell_type": "code",
      "source": [
        "from sklearn.svm import SVC\n",
        "SV_model = SVC(kernel='poly' , degree = 5 ,C= 0.2 , gamma = 1.2 )\n",
        "SV_model.fit(X_train, Y_train)\n",
        "Y_pred = SV_model.predict(X_test)\n",
        "\n",
        "print(classification_report( Y_test , Y_pred ))"
      ],
      "metadata": {
        "id": "kWEsb3m420ck",
        "colab": {
          "base_uri": "https://localhost:8080/"
        },
        "outputId": "bcb36c39-8ebf-416e-a5f1-678c52fe6647"
      },
      "execution_count": null,
      "outputs": [
        {
          "output_type": "stream",
          "name": "stdout",
          "text": [
            "              precision    recall  f1-score   support\n",
            "\n",
            "           0       0.90      1.00      0.95        18\n",
            "           1       1.00      0.45      0.62        11\n",
            "           2       0.33      1.00      0.50         1\n",
            "           3       0.62      1.00      0.76         8\n",
            "           4       1.00      0.88      0.93        24\n",
            "\n",
            "    accuracy                           0.85        62\n",
            "   macro avg       0.77      0.87      0.75        62\n",
            "weighted avg       0.91      0.85      0.85        62\n",
            "\n"
          ]
        }
      ]
    },
    {
      "cell_type": "code",
      "source": [
        "import pickle\n",
        "model_name = 'SVC-S-poly-85-0'\n",
        "filename = model_name + '.sav'\n",
        "pickle.dump(SV_model, open(filename, 'wb'))"
      ],
      "metadata": {
        "id": "aaC5ZjtfJBuE"
      },
      "execution_count": null,
      "outputs": []
    },
    {
      "cell_type": "code",
      "source": [
        "loaded_model = pickle.load(open(filename, 'rb'))\n",
        "Y_pred_save_model = loaded_model.predict(X_test)"
      ],
      "metadata": {
        "id": "DRegjcq6JhPn"
      },
      "execution_count": null,
      "outputs": []
    },
    {
      "cell_type": "code",
      "source": [
        "print(classification_report( Y_test , Y_pred_save_model ))\n",
        "cm = confusion_matrix(Y_test , Y_pred_save_model )"
      ],
      "metadata": {
        "colab": {
          "base_uri": "https://localhost:8080/"
        },
        "outputId": "91740c37-c447-4dbf-c87c-115382373de3",
        "id": "SYW_ruq7ui5V"
      },
      "execution_count": null,
      "outputs": [
        {
          "output_type": "stream",
          "name": "stdout",
          "text": [
            "              precision    recall  f1-score   support\n",
            "\n",
            "           0       0.90      1.00      0.95        18\n",
            "           1       1.00      0.45      0.62        11\n",
            "           2       0.33      1.00      0.50         1\n",
            "           3       0.62      1.00      0.76         8\n",
            "           4       1.00      0.88      0.93        24\n",
            "\n",
            "    accuracy                           0.85        62\n",
            "   macro avg       0.77      0.87      0.75        62\n",
            "weighted avg       0.91      0.85      0.85        62\n",
            "\n"
          ]
        }
      ]
    },
    {
      "cell_type": "code",
      "source": [
        "plot_confusion_matrix(cm = cm ,\n",
        "                      normalize    = True,\n",
        "                      target_names = ['CAGB', 'OAGB', 'PAGB', 'RSG', 'YSO'] ,\n",
        "                      title  = None,\n",
        "                      file_name = model_name +'_CM.jpg',\n",
        "                      size = (5,5),\n",
        "                      color_bar=True)"
      ],
      "metadata": {
        "colab": {
          "base_uri": "https://localhost:8080/",
          "height": 488
        },
        "outputId": "0a26afe6-bdcd-47d8-d3a9-7a2d17f49686",
        "id": "UGuC9nXqui5W"
      },
      "execution_count": null,
      "outputs": [
        {
          "output_type": "display_data",
          "data": {
            "text/plain": [
              "<Figure size 500x500 with 2 Axes>"
            ],
            "image/png": "[encoded data removed]"
          },
          "metadata": {}
        }
      ]
    },
    {
      "cell_type": "code",
      "source": [
        "%%time\n",
        "from sklearn.svm import SVC\n",
        "from sklearn.model_selection import GridSearchCV\n",
        "SVC = SVC()\n",
        "par = [\n",
        "       { 'kernel': ['linear', 'rbf'] ,\n",
        "         'gamma' : list(np.arange(0.2 , 2 , 0.2 )) + ['scale','auto'] ,\n",
        "         'C': list(np.arange(0.1 , 0.5 , 0.1 ))\n",
        "        }\n",
        "       ]\n",
        "GS = GridSearchCV(SVC, param_grid=par, cv = 4 , scoring=None)\n",
        "GS.fit(X_train, Y_train)"
      ],
      "metadata": {
        "id": "HYbBO1s2iDUM",
        "colab": {
          "base_uri": "https://localhost:8080/",
          "height": 155
        },
        "outputId": "552b0d2f-c43e-457f-c8b0-8549855fdf2f"
      },
      "execution_count": null,
      "outputs": [
        {
          "output_type": "stream",
          "name": "stdout",
          "text": [
            "CPU times: user 7.27 s, sys: 1.19 ms, total: 7.27 s\n",
            "Wall time: 9.68 s\n"
          ]
        },
        {
          "output_type": "execute_result",
          "data": {
            "text/plain": [
              "GridSearchCV(cv=4, estimator=SVC(),\n",
              "             param_grid=[{'C': [0.1, 0.2, 0.30000000000000004, 0.4],\n",
              "                          'gamma': [0.2, 0.4, 0.6000000000000001, 0.8, 1.0, 1.2,\n",
              "                                    1.4000000000000001, 1.6, 1.8, 'scale',\n",
              "                                    'auto'],\n",
              "                          'kernel': ['linear', 'rbf']}])"
            ],
            "text/html": [
              "<style>#sk-container-id-1 {color: black;background-color: white;}#sk-container-id-1 pre{padding: 0;}#sk-container-id-1 div.sk-toggleable {background-color: white;}#sk-container-id-1 label.sk-toggleable__label {cursor: pointer;display: block;width: 100%;margin-bottom: 0;padding: 0.3em;box-sizing: border-box;text-align: center;}#sk-container-id-1 label.sk-toggleable__label-arrow:before {content: \"▸\";float: left;margin-right: 0.25em;color: #696969;}#sk-container-id-1 label.sk-toggleable__label-arrow:hover:before {color: black;}#sk-container-id-1 div.sk-estimator:hover label.sk-toggleable__label-arrow:before {color: black;}#sk-container-id-1 div.sk-toggleable__content {max-height: 0;max-width: 0;overflow: hidden;text-align: left;background-color: #f0f8ff;}#sk-container-id-1 div.sk-toggleable__content pre {margin: 0.2em;color: black;border-radius: 0.25em;background-color: #f0f8ff;}#sk-container-id-1 input.sk-toggleable__control:checked~div.sk-toggleable__content {max-height: 200px;max-width: 100%;overflow: auto;}#sk-container-id-1 input.sk-toggleable__control:checked~label.sk-toggleable__label-arrow:before {content: \"▾\";}#sk-container-id-1 div.sk-estimator input.sk-toggleable__control:checked~label.sk-toggleable__label {background-color: #d4ebff;}#sk-container-id-1 div.sk-label input.sk-toggleable__control:checked~label.sk-toggleable__label {background-color: #d4ebff;}#sk-container-id-1 input.sk-hidden--visually {border: 0;clip: rect(1px 1px 1px 1px);clip: rect(1px, 1px, 1px, 1px);height: 1px;margin: -1px;overflow: hidden;padding: 0;position: absolute;width: 1px;}#sk-container-id-1 div.sk-estimator {font-family: monospace;background-color: #f0f8ff;border: 1px dotted black;border-radius: 0.25em;box-sizing: border-box;margin-bottom: 0.5em;}#sk-container-id-1 div.sk-estimator:hover {background-color: #d4ebff;}#sk-container-id-1 div.sk-parallel-item::after {content: \"\";width: 100%;border-bottom: 1px solid gray;flex-grow: 1;}#sk-container-id-1 div.sk-label:hover label.sk-toggleable__label {background-color: #d4ebff;}#sk-container-id-1 div.sk-serial::before {content: \"\";position: absolute;border-left: 1px solid gray;box-sizing: border-box;top: 0;bottom: 0;left: 50%;z-index: 0;}#sk-container-id-1 div.sk-serial {display: flex;flex-direction: column;align-items: center;background-color: white;padding-right: 0.2em;padding-left: 0.2em;position: relative;}#sk-container-id-1 div.sk-item {position: relative;z-index: 1;}#sk-container-id-1 div.sk-parallel {display: flex;align-items: stretch;justify-content: center;background-color: white;position: relative;}#sk-container-id-1 div.sk-item::before, #sk-container-id-1 div.sk-parallel-item::before {content: \"\";position: absolute;border-left: 1px solid gray;box-sizing: border-box;top: 0;bottom: 0;left: 50%;z-index: -1;}#sk-container-id-1 div.sk-parallel-item {display: flex;flex-direction: column;z-index: 1;position: relative;background-color: white;}#sk-container-id-1 div.sk-parallel-item:first-child::after {align-self: flex-end;width: 50%;}#sk-container-id-1 div.sk-parallel-item:last-child::after {align-self: flex-start;width: 50%;}#sk-container-id-1 div.sk-parallel-item:only-child::after {width: 0;}#sk-container-id-1 div.sk-dashed-wrapped {border: 1px dashed gray;margin: 0 0.4em 0.5em 0.4em;box-sizing: border-box;padding-bottom: 0.4em;background-color: white;}#sk-container-id-1 div.sk-label label {font-family: monospace;font-weight: bold;display: inline-block;line-height: 1.2em;}#sk-container-id-1 div.sk-label-container {text-align: center;}#sk-container-id-1 div.sk-container {/* jupyter's `normalize.less` sets `[hidden] { display: none; }` but bootstrap.min.css set `[hidden] { display: none !important; }` so we also need the `!important` here to be able to override the default hidden behavior on the sphinx rendered scikit-learn.org. See: https://github.com/scikit-learn/scikit-learn/issues/21755 */display: inline-block !important;position: relative;}#sk-container-id-1 div.sk-text-repr-fallback {display: none;}</style><div id=\"sk-container-id-1\" class=\"sk-top-container\"><div class=\"sk-text-repr-fallback\"><pre>GridSearchCV(cv=4, estimator=SVC(),\n",
              "             param_grid=[{&#x27;C&#x27;: [0.1, 0.2, 0.30000000000000004, 0.4],\n",
              "                          &#x27;gamma&#x27;: [0.2, 0.4, 0.6000000000000001, 0.8, 1.0, 1.2,\n",
              "                                    1.4000000000000001, 1.6, 1.8, &#x27;scale&#x27;,\n",
              "                                    &#x27;auto&#x27;],\n",
              "                          &#x27;kernel&#x27;: [&#x27;linear&#x27;, &#x27;rbf&#x27;]}])</pre><b>In a Jupyter environment, please rerun this cell to show the HTML representation or trust the notebook. <br />On GitHub, the HTML representation is unable to render, please try loading this page with nbviewer.org.</b></div><div class=\"sk-container\" hidden><div class=\"sk-item sk-dashed-wrapped\"><div class=\"sk-label-container\"><div class=\"sk-label sk-toggleable\"><input class=\"sk-toggleable__control sk-hidden--visually\" id=\"sk-estimator-id-1\" type=\"checkbox\" ><label for=\"sk-estimator-id-1\" class=\"sk-toggleable__label sk-toggleable__label-arrow\">GridSearchCV</label><div class=\"sk-toggleable__content\"><pre>GridSearchCV(cv=4, estimator=SVC(),\n",
              "             param_grid=[{&#x27;C&#x27;: [0.1, 0.2, 0.30000000000000004, 0.4],\n",
              "                          &#x27;gamma&#x27;: [0.2, 0.4, 0.6000000000000001, 0.8, 1.0, 1.2,\n",
              "                                    1.4000000000000001, 1.6, 1.8, &#x27;scale&#x27;,\n",
              "                                    &#x27;auto&#x27;],\n",
              "                          &#x27;kernel&#x27;: [&#x27;linear&#x27;, &#x27;rbf&#x27;]}])</pre></div></div></div><div class=\"sk-parallel\"><div class=\"sk-parallel-item\"><div class=\"sk-item\"><div class=\"sk-label-container\"><div class=\"sk-label sk-toggleable\"><input class=\"sk-toggleable__control sk-hidden--visually\" id=\"sk-estimator-id-2\" type=\"checkbox\" ><label for=\"sk-estimator-id-2\" class=\"sk-toggleable__label sk-toggleable__label-arrow\">estimator: SVC</label><div class=\"sk-toggleable__content\"><pre>SVC()</pre></div></div></div><div class=\"sk-serial\"><div class=\"sk-item\"><div class=\"sk-estimator sk-toggleable\"><input class=\"sk-toggleable__control sk-hidden--visually\" id=\"sk-estimator-id-3\" type=\"checkbox\" ><label for=\"sk-estimator-id-3\" class=\"sk-toggleable__label sk-toggleable__label-arrow\">SVC</label><div class=\"sk-toggleable__content\"><pre>SVC()</pre></div></div></div></div></div></div></div></div></div></div>"
            ]
          },
          "metadata": {},
          "execution_count": 27
        }
      ]
    },
    {
      "cell_type": "code",
      "source": [
        "print(GS.best_score_)\n",
        "print(GS.best_params_)"
      ],
      "metadata": {
        "id": "ZuXlg3sWjzRV",
        "colab": {
          "base_uri": "https://localhost:8080/"
        },
        "outputId": "975e1f4a-b1be-4f87-deec-40948cae4e1c"
      },
      "execution_count": null,
      "outputs": [
        {
          "output_type": "stream",
          "name": "stdout",
          "text": [
            "0.8472930674704383\n",
            "{'C': 0.4, 'gamma': 'scale', 'kernel': 'rbf'}\n"
          ]
        }
      ]
    },
    {
      "cell_type": "code",
      "source": [
        "from sklearn.svm import SVC\n",
        "SV_model = SVC(kernel='rbf', C= 0.4, gamma = 'scale' )\n",
        "SV_model.fit(X_train, Y_train)\n",
        "Y_pred = SV_model.predict(X_test)\n",
        "\n",
        "print(classification_report( Y_test , Y_pred ))"
      ],
      "metadata": {
        "colab": {
          "base_uri": "https://localhost:8080/"
        },
        "outputId": "5f44dd69-c0e7-4090-c3ab-fe06f77c44a0",
        "id": "w8Rxk0qef55x"
      },
      "execution_count": null,
      "outputs": [
        {
          "output_type": "stream",
          "name": "stdout",
          "text": [
            "              precision    recall  f1-score   support\n",
            "\n",
            "           0       0.88      0.78      0.82        18\n",
            "           1       0.44      0.36      0.40        11\n",
            "           2       0.17      1.00      0.29         1\n",
            "           3       0.64      0.88      0.74         8\n",
            "           4       1.00      0.83      0.91        24\n",
            "\n",
            "    accuracy                           0.74        62\n",
            "   macro avg       0.62      0.77      0.63        62\n",
            "weighted avg       0.80      0.74      0.76        62\n",
            "\n"
          ]
        }
      ]
    },
    {
      "cell_type": "code",
      "source": [
        "import pickle\n",
        "model_name = 'SVC-S-rbf-74-0'\n",
        "filename = model_name + '.sav'\n",
        "pickle.dump(SV_model, open(filename, 'wb'))"
      ],
      "metadata": {
        "id": "wVJD62Cvuvvd"
      },
      "execution_count": null,
      "outputs": []
    },
    {
      "cell_type": "code",
      "source": [
        "loaded_model = pickle.load(open(filename, 'rb'))\n",
        "Y_pred_save_model = loaded_model.predict(X_test)"
      ],
      "metadata": {
        "id": "aQdxj3bouvvf"
      },
      "execution_count": null,
      "outputs": []
    },
    {
      "cell_type": "code",
      "source": [
        "print(classification_report( Y_test , Y_pred_save_model ))\n",
        "cm = confusion_matrix(Y_test , Y_pred_save_model )"
      ],
      "metadata": {
        "colab": {
          "base_uri": "https://localhost:8080/"
        },
        "outputId": "11101694-abde-48d3-9145-d75a5551a854",
        "id": "49CEC2B7uvvf"
      },
      "execution_count": null,
      "outputs": [
        {
          "output_type": "stream",
          "name": "stdout",
          "text": [
            "              precision    recall  f1-score   support\n",
            "\n",
            "           0       0.88      0.78      0.82        18\n",
            "           1       0.44      0.36      0.40        11\n",
            "           2       0.17      1.00      0.29         1\n",
            "           3       0.64      0.88      0.74         8\n",
            "           4       1.00      0.83      0.91        24\n",
            "\n",
            "    accuracy                           0.74        62\n",
            "   macro avg       0.62      0.77      0.63        62\n",
            "weighted avg       0.80      0.74      0.76        62\n",
            "\n"
          ]
        }
      ]
    },
    {
      "cell_type": "code",
      "source": [
        "plot_confusion_matrix(cm = cm ,\n",
        "                      normalize    = True,\n",
        "                      target_names = ['CAGB', 'OAGB', 'PAGB', 'RSG', 'YSO'] ,\n",
        "                      title  = None,\n",
        "                      file_name = model_name +'_CM.jpg',\n",
        "                      size = (5,5),\n",
        "                      color_bar=True)"
      ],
      "metadata": {
        "colab": {
          "base_uri": "https://localhost:8080/",
          "height": 488
        },
        "outputId": "1e2aab64-1d55-45c6-9a7c-e09adcad9852",
        "id": "VrNNjza-uvvh"
      },
      "execution_count": null,
      "outputs": [
        {
          "output_type": "display_data",
          "data": {
            "text/plain": [
              "<Figure size 500x500 with 2 Axes>"
            ],
            "image/png": "[encoded data removed]"
          },
          "metadata": {}
        }
      ]
    },
    {
      "cell_type": "markdown",
      "source": [
        "# GaussianNB"
      ],
      "metadata": {
        "id": "fNt5k0AggT4s"
      }
    },
    {
      "cell_type": "code",
      "source": [
        "from sklearn.naive_bayes import GaussianNB\n",
        "GNB = GaussianNB()\n",
        "GNB.fit( X_train , Y_train )\n",
        "Y_pred = GNB.predict(X_test)\n",
        "\n",
        "print(classification_report( Y_test , Y_pred ))"
      ],
      "metadata": {
        "id": "U-ugl7Gej7Ma",
        "colab": {
          "base_uri": "https://localhost:8080/"
        },
        "outputId": "08dd5497-af11-4e1b-a888-0a81bf5502f5"
      },
      "execution_count": null,
      "outputs": [
        {
          "output_type": "stream",
          "name": "stdout",
          "text": [
            "              precision    recall  f1-score   support\n",
            "\n",
            "           0       0.76      0.72      0.74        18\n",
            "           1       0.46      0.55      0.50        11\n",
            "           2       0.25      1.00      0.40         1\n",
            "           3       0.67      0.75      0.71         8\n",
            "           4       1.00      0.79      0.88        24\n",
            "\n",
            "    accuracy                           0.73        62\n",
            "   macro avg       0.63      0.76      0.65        62\n",
            "weighted avg       0.78      0.73      0.74        62\n",
            "\n"
          ]
        }
      ]
    },
    {
      "cell_type": "code",
      "source": [
        "import pickle\n",
        "model_name = 'GNB-S-73-0'\n",
        "filename = model_name + '.sav'\n",
        "pickle.dump(GNB, open(filename, 'wb'))"
      ],
      "metadata": {
        "id": "Fm89zB7_ULrx"
      },
      "execution_count": null,
      "outputs": []
    },
    {
      "cell_type": "code",
      "source": [
        "loaded_model = pickle.load(open(filename, 'rb'))\n",
        "Y_pred_save_model = loaded_model.predict(X_test)"
      ],
      "metadata": {
        "id": "-wSx_qrVULry"
      },
      "execution_count": null,
      "outputs": []
    },
    {
      "cell_type": "code",
      "source": [
        "print(classification_report( Y_test , Y_pred_save_model ))\n",
        "cm = confusion_matrix(Y_test , Y_pred_save_model )"
      ],
      "metadata": {
        "colab": {
          "base_uri": "https://localhost:8080/"
        },
        "outputId": "c370e4a0-1551-4cc6-f473-500caed39b46",
        "id": "SH89mF4HULry"
      },
      "execution_count": null,
      "outputs": [
        {
          "output_type": "stream",
          "name": "stdout",
          "text": [
            "              precision    recall  f1-score   support\n",
            "\n",
            "           0       0.76      0.72      0.74        18\n",
            "           1       0.46      0.55      0.50        11\n",
            "           2       0.25      1.00      0.40         1\n",
            "           3       0.67      0.75      0.71         8\n",
            "           4       1.00      0.79      0.88        24\n",
            "\n",
            "    accuracy                           0.73        62\n",
            "   macro avg       0.63      0.76      0.65        62\n",
            "weighted avg       0.78      0.73      0.74        62\n",
            "\n"
          ]
        }
      ]
    },
    {
      "cell_type": "code",
      "source": [
        "plot_confusion_matrix(cm = cm ,\n",
        "                      normalize    = True,\n",
        "                      target_names = ['CAGB', 'OAGB', 'PAGB', 'RSG', 'YSO'] ,\n",
        "                      title  = None,\n",
        "                      file_name = model_name +'_CM.jpg',\n",
        "                      size = (5,5),\n",
        "                      color_bar=True)"
      ],
      "metadata": {
        "colab": {
          "base_uri": "https://localhost:8080/",
          "height": 488
        },
        "outputId": "59defa45-c4b2-4b40-d6cc-a106554c40d8",
        "id": "TjWAJQ0rULry"
      },
      "execution_count": null,
      "outputs": [
        {
          "output_type": "display_data",
          "data": {
            "text/plain": [
              "<Figure size 500x500 with 2 Axes>"
            ],
            "image/png": "[encoded data removed]"
          },
          "metadata": {}
        }
      ]
    },
    {
      "cell_type": "markdown",
      "source": [
        "# MultinomialNB"
      ],
      "metadata": {
        "id": "pOlWi6jNgcKk"
      }
    },
    {
      "cell_type": "code",
      "source": [
        "from sklearn.naive_bayes import  MultinomialNB\n",
        "\n",
        "MNB = MultinomialNB()\n",
        "MNB.fit( X_train, Y_train )\n",
        "Y_pred = MNB.predict(X_test)\n",
        "\n",
        "print(classification_report( Y_test , Y_pred ))"
      ],
      "metadata": {
        "id": "Ek1W9GSVkNGE",
        "colab": {
          "base_uri": "https://localhost:8080/"
        },
        "outputId": "1e378218-2199-4976-f396-22442394f170"
      },
      "execution_count": null,
      "outputs": [
        {
          "output_type": "stream",
          "name": "stdout",
          "text": [
            "              precision    recall  f1-score   support\n",
            "\n",
            "           0       0.65      0.72      0.68        18\n",
            "           1       0.40      0.36      0.38        11\n",
            "           2       0.09      1.00      0.17         1\n",
            "           3       0.50      0.50      0.50         8\n",
            "           4       1.00      0.54      0.70        24\n",
            "\n",
            "    accuracy                           0.56        62\n",
            "   macro avg       0.53      0.63      0.49        62\n",
            "weighted avg       0.71      0.56      0.61        62\n",
            "\n"
          ]
        }
      ]
    },
    {
      "cell_type": "markdown",
      "source": [
        "# KNeighborsClassifier"
      ],
      "metadata": {
        "id": "Pvv65ShSgf5H"
      }
    },
    {
      "cell_type": "code",
      "source": [
        "%%time\n",
        "from sklearn.neighbors import KNeighborsClassifier\n",
        "from sklearn.model_selection import GridSearchCV\n",
        "KNN = KNeighborsClassifier(n_jobs=-1)\n",
        "par = [\n",
        "       {\n",
        "         'n_neighbors' : list(np.arange(2 , 10 , 1 )) ,\n",
        "         'weights': ['distance' , 'uniform'] ,\n",
        "          'algorithm' : ['auto','ball_tree', 'kd_tree', 'brute' ]\n",
        "        }\n",
        "       ]\n",
        "GS = GridSearchCV(KNN, param_grid=par, cv = 4, scoring = None)\n",
        "GS.fit(X_train, Y_train)"
      ],
      "metadata": {
        "id": "BZY0JMVCmu0k",
        "colab": {
          "base_uri": "https://localhost:8080/",
          "height": 155
        },
        "outputId": "b84b0cc6-141e-4ebb-95b9-0d72d0fe2c33"
      },
      "execution_count": null,
      "outputs": [
        {
          "output_type": "stream",
          "name": "stdout",
          "text": [
            "CPU times: user 7.77 s, sys: 189 ms, total: 7.96 s\n",
            "Wall time: 14.6 s\n"
          ]
        },
        {
          "output_type": "execute_result",
          "data": {
            "text/plain": [
              "GridSearchCV(cv=4, estimator=KNeighborsClassifier(n_jobs=-1),\n",
              "             param_grid=[{'algorithm': ['auto', 'ball_tree', 'kd_tree',\n",
              "                                        'brute'],\n",
              "                          'n_neighbors': [2, 3, 4, 5, 6, 7, 8, 9],\n",
              "                          'weights': ['distance', 'uniform']}])"
            ],
            "text/html": [
              "<style>#sk-container-id-1 {color: black;background-color: white;}#sk-container-id-1 pre{padding: 0;}#sk-container-id-1 div.sk-toggleable {background-color: white;}#sk-container-id-1 label.sk-toggleable__label {cursor: pointer;display: block;width: 100%;margin-bottom: 0;padding: 0.3em;box-sizing: border-box;text-align: center;}#sk-container-id-1 label.sk-toggleable__label-arrow:before {content: \"▸\";float: left;margin-right: 0.25em;color: #696969;}#sk-container-id-1 label.sk-toggleable__label-arrow:hover:before {color: black;}#sk-container-id-1 div.sk-estimator:hover label.sk-toggleable__label-arrow:before {color: black;}#sk-container-id-1 div.sk-toggleable__content {max-height: 0;max-width: 0;overflow: hidden;text-align: left;background-color: #f0f8ff;}#sk-container-id-1 div.sk-toggleable__content pre {margin: 0.2em;color: black;border-radius: 0.25em;background-color: #f0f8ff;}#sk-container-id-1 input.sk-toggleable__control:checked~div.sk-toggleable__content {max-height: 200px;max-width: 100%;overflow: auto;}#sk-container-id-1 input.sk-toggleable__control:checked~label.sk-toggleable__label-arrow:before {content: \"▾\";}#sk-container-id-1 div.sk-estimator input.sk-toggleable__control:checked~label.sk-toggleable__label {background-color: #d4ebff;}#sk-container-id-1 div.sk-label input.sk-toggleable__control:checked~label.sk-toggleable__label {background-color: #d4ebff;}#sk-container-id-1 input.sk-hidden--visually {border: 0;clip: rect(1px 1px 1px 1px);clip: rect(1px, 1px, 1px, 1px);height: 1px;margin: -1px;overflow: hidden;padding: 0;position: absolute;width: 1px;}#sk-container-id-1 div.sk-estimator {font-family: monospace;background-color: #f0f8ff;border: 1px dotted black;border-radius: 0.25em;box-sizing: border-box;margin-bottom: 0.5em;}#sk-container-id-1 div.sk-estimator:hover {background-color: #d4ebff;}#sk-container-id-1 div.sk-parallel-item::after {content: \"\";width: 100%;border-bottom: 1px solid gray;flex-grow: 1;}#sk-container-id-1 div.sk-label:hover label.sk-toggleable__label {background-color: #d4ebff;}#sk-container-id-1 div.sk-serial::before {content: \"\";position: absolute;border-left: 1px solid gray;box-sizing: border-box;top: 0;bottom: 0;left: 50%;z-index: 0;}#sk-container-id-1 div.sk-serial {display: flex;flex-direction: column;align-items: center;background-color: white;padding-right: 0.2em;padding-left: 0.2em;position: relative;}#sk-container-id-1 div.sk-item {position: relative;z-index: 1;}#sk-container-id-1 div.sk-parallel {display: flex;align-items: stretch;justify-content: center;background-color: white;position: relative;}#sk-container-id-1 div.sk-item::before, #sk-container-id-1 div.sk-parallel-item::before {content: \"\";position: absolute;border-left: 1px solid gray;box-sizing: border-box;top: 0;bottom: 0;left: 50%;z-index: -1;}#sk-container-id-1 div.sk-parallel-item {display: flex;flex-direction: column;z-index: 1;position: relative;background-color: white;}#sk-container-id-1 div.sk-parallel-item:first-child::after {align-self: flex-end;width: 50%;}#sk-container-id-1 div.sk-parallel-item:last-child::after {align-self: flex-start;width: 50%;}#sk-container-id-1 div.sk-parallel-item:only-child::after {width: 0;}#sk-container-id-1 div.sk-dashed-wrapped {border: 1px dashed gray;margin: 0 0.4em 0.5em 0.4em;box-sizing: border-box;padding-bottom: 0.4em;background-color: white;}#sk-container-id-1 div.sk-label label {font-family: monospace;font-weight: bold;display: inline-block;line-height: 1.2em;}#sk-container-id-1 div.sk-label-container {text-align: center;}#sk-container-id-1 div.sk-container {/* jupyter's `normalize.less` sets `[hidden] { display: none; }` but bootstrap.min.css set `[hidden] { display: none !important; }` so we also need the `!important` here to be able to override the default hidden behavior on the sphinx rendered scikit-learn.org. See: https://github.com/scikit-learn/scikit-learn/issues/21755 */display: inline-block !important;position: relative;}#sk-container-id-1 div.sk-text-repr-fallback {display: none;}</style><div id=\"sk-container-id-1\" class=\"sk-top-container\"><div class=\"sk-text-repr-fallback\"><pre>GridSearchCV(cv=4, estimator=KNeighborsClassifier(n_jobs=-1),\n",
              "             param_grid=[{&#x27;algorithm&#x27;: [&#x27;auto&#x27;, &#x27;ball_tree&#x27;, &#x27;kd_tree&#x27;,\n",
              "                                        &#x27;brute&#x27;],\n",
              "                          &#x27;n_neighbors&#x27;: [2, 3, 4, 5, 6, 7, 8, 9],\n",
              "                          &#x27;weights&#x27;: [&#x27;distance&#x27;, &#x27;uniform&#x27;]}])</pre><b>In a Jupyter environment, please rerun this cell to show the HTML representation or trust the notebook. <br />On GitHub, the HTML representation is unable to render, please try loading this page with nbviewer.org.</b></div><div class=\"sk-container\" hidden><div class=\"sk-item sk-dashed-wrapped\"><div class=\"sk-label-container\"><div class=\"sk-label sk-toggleable\"><input class=\"sk-toggleable__control sk-hidden--visually\" id=\"sk-estimator-id-1\" type=\"checkbox\" ><label for=\"sk-estimator-id-1\" class=\"sk-toggleable__label sk-toggleable__label-arrow\">GridSearchCV</label><div class=\"sk-toggleable__content\"><pre>GridSearchCV(cv=4, estimator=KNeighborsClassifier(n_jobs=-1),\n",
              "             param_grid=[{&#x27;algorithm&#x27;: [&#x27;auto&#x27;, &#x27;ball_tree&#x27;, &#x27;kd_tree&#x27;,\n",
              "                                        &#x27;brute&#x27;],\n",
              "                          &#x27;n_neighbors&#x27;: [2, 3, 4, 5, 6, 7, 8, 9],\n",
              "                          &#x27;weights&#x27;: [&#x27;distance&#x27;, &#x27;uniform&#x27;]}])</pre></div></div></div><div class=\"sk-parallel\"><div class=\"sk-parallel-item\"><div class=\"sk-item\"><div class=\"sk-label-container\"><div class=\"sk-label sk-toggleable\"><input class=\"sk-toggleable__control sk-hidden--visually\" id=\"sk-estimator-id-2\" type=\"checkbox\" ><label for=\"sk-estimator-id-2\" class=\"sk-toggleable__label sk-toggleable__label-arrow\">estimator: KNeighborsClassifier</label><div class=\"sk-toggleable__content\"><pre>KNeighborsClassifier(n_jobs=-1)</pre></div></div></div><div class=\"sk-serial\"><div class=\"sk-item\"><div class=\"sk-estimator sk-toggleable\"><input class=\"sk-toggleable__control sk-hidden--visually\" id=\"sk-estimator-id-3\" type=\"checkbox\" ><label for=\"sk-estimator-id-3\" class=\"sk-toggleable__label sk-toggleable__label-arrow\">KNeighborsClassifier</label><div class=\"sk-toggleable__content\"><pre>KNeighborsClassifier(n_jobs=-1)</pre></div></div></div></div></div></div></div></div></div></div>"
            ]
          },
          "metadata": {},
          "execution_count": 27
        }
      ]
    },
    {
      "cell_type": "code",
      "source": [
        "print(GS.best_score_)\n",
        "print(GS.best_params_)"
      ],
      "metadata": {
        "id": "eV0jOpvDmyrL",
        "colab": {
          "base_uri": "https://localhost:8080/"
        },
        "outputId": "bcd66db6-562c-4427-fd0d-755431e688c0"
      },
      "execution_count": null,
      "outputs": [
        {
          "output_type": "stream",
          "name": "stdout",
          "text": [
            "0.9176230775175824\n",
            "{'algorithm': 'auto', 'n_neighbors': 2, 'weights': 'distance'}\n"
          ]
        }
      ]
    },
    {
      "cell_type": "code",
      "source": [
        "from sklearn.neighbors import KNeighborsClassifier\n",
        "KNN = KNeighborsClassifier( n_neighbors = 2 , weights= 'distance', n_jobs= 3 )\n",
        "KNN.fit( X_train , Y_train )\n",
        "Y_pred = KNN.predict(X_test)\n",
        "\n",
        "print(classification_report( Y_test , Y_pred ))"
      ],
      "metadata": {
        "id": "B_UJlTsbkzFr",
        "colab": {
          "base_uri": "https://localhost:8080/"
        },
        "outputId": "c0f4f705-d71b-4fcf-886b-5b8d840dec39"
      },
      "execution_count": null,
      "outputs": [
        {
          "output_type": "stream",
          "name": "stdout",
          "text": [
            "              precision    recall  f1-score   support\n",
            "\n",
            "           0       0.95      1.00      0.97        18\n",
            "           1       0.70      0.64      0.67        11\n",
            "           2       1.00      1.00      1.00         1\n",
            "           3       0.64      0.88      0.74         8\n",
            "           4       1.00      0.88      0.93        24\n",
            "\n",
            "    accuracy                           0.87        62\n",
            "   macro avg       0.86      0.88      0.86        62\n",
            "weighted avg       0.88      0.87      0.87        62\n",
            "\n"
          ]
        }
      ]
    },
    {
      "cell_type": "code",
      "source": [
        "import pickle\n",
        "model_name = 'KNN-S-87-0'\n",
        "filename = model_name + '.sav'\n",
        "pickle.dump(KNN, open(filename, 'wb'))"
      ],
      "metadata": {
        "id": "VZGLVnjtUo1i"
      },
      "execution_count": null,
      "outputs": []
    },
    {
      "cell_type": "code",
      "source": [
        "loaded_model = pickle.load(open(filename, 'rb'))\n",
        "Y_pred_save_model = loaded_model.predict(X_test)"
      ],
      "metadata": {
        "id": "dRjwRQ5-Uo1j"
      },
      "execution_count": null,
      "outputs": []
    },
    {
      "cell_type": "code",
      "source": [
        "print(classification_report( Y_test , Y_pred_save_model ))\n",
        "cm = confusion_matrix(Y_test , Y_pred_save_model )"
      ],
      "metadata": {
        "colab": {
          "base_uri": "https://localhost:8080/"
        },
        "outputId": "d9f6c6e3-a4c0-4ea2-da51-427a839abdd4",
        "id": "sarjBGocUo1j"
      },
      "execution_count": null,
      "outputs": [
        {
          "output_type": "stream",
          "name": "stdout",
          "text": [
            "              precision    recall  f1-score   support\n",
            "\n",
            "           0       0.95      1.00      0.97        18\n",
            "           1       0.70      0.64      0.67        11\n",
            "           2       1.00      1.00      1.00         1\n",
            "           3       0.64      0.88      0.74         8\n",
            "           4       1.00      0.88      0.93        24\n",
            "\n",
            "    accuracy                           0.87        62\n",
            "   macro avg       0.86      0.88      0.86        62\n",
            "weighted avg       0.88      0.87      0.87        62\n",
            "\n"
          ]
        }
      ]
    },
    {
      "cell_type": "code",
      "source": [
        "plot_confusion_matrix(cm = cm ,\n",
        "                      normalize    = True,\n",
        "                      target_names = ['CAGB', 'OAGB', 'PAGB', 'RSG', 'YSO'] ,\n",
        "                      title  = None,\n",
        "                      file_name = model_name +'_CM.jpg',\n",
        "                      size = (5,5),\n",
        "                      color_bar=True)"
      ],
      "metadata": {
        "colab": {
          "base_uri": "https://localhost:8080/",
          "height": 488
        },
        "outputId": "8831ee14-d22e-466b-f573-bfec60433b18",
        "id": "OOz0BfPbUo1j"
      },
      "execution_count": null,
      "outputs": [
        {
          "output_type": "display_data",
          "data": {
            "text/plain": [
              "<Figure size 500x500 with 2 Axes>"
            ],
            "image/png": "[encoded data removed]"
          },
          "metadata": {}
        }
      ]
    },
    {
      "cell_type": "markdown",
      "source": [
        "# Random Forest"
      ],
      "metadata": {
        "id": "megkorlqyKTy"
      }
    },
    {
      "cell_type": "code",
      "source": [
        "%%time\n",
        "from sklearn.ensemble import RandomForestClassifier\n",
        "from sklearn.model_selection import GridSearchCV\n",
        "RF = RandomForestClassifier(n_jobs=-1, random_state=0)\n",
        "par = [\n",
        "       {\n",
        "         'max_depth' : list(np.arange(1 , 10 , 1 )) ,\n",
        "         'n_estimators': [10,50,100,1000],\n",
        "         'criterion' : ['gini', 'entropy', 'log_loss']\n",
        "        }\n",
        "       ]\n",
        "GS = GridSearchCV(RF, param_grid=par, cv = 4, scoring = None)\n",
        "GS.fit(X, Y)"
      ],
      "metadata": {
        "colab": {
          "base_uri": "https://localhost:8080/",
          "height": 155
        },
        "id": "MXAKGYcjy1tA",
        "outputId": "901907b6-f6a1-473a-c655-acb2db6c76eb"
      },
      "execution_count": null,
      "outputs": [
        {
          "output_type": "stream",
          "name": "stdout",
          "text": [
            "CPU times: user 7min 33s, sys: 21.3 s, total: 7min 54s\n",
            "Wall time: 7min 22s\n"
          ]
        },
        {
          "output_type": "execute_result",
          "data": {
            "text/plain": [
              "GridSearchCV(cv=4, estimator=RandomForestClassifier(n_jobs=-1, random_state=0),\n",
              "             param_grid=[{'criterion': ['gini', 'entropy', 'log_loss'],\n",
              "                          'max_depth': [1, 2, 3, 4, 5, 6, 7, 8, 9],\n",
              "                          'n_estimators': [10, 50, 100, 1000]}])"
            ],
            "text/html": [
              "<style>#sk-container-id-2 {color: black;background-color: white;}#sk-container-id-2 pre{padding: 0;}#sk-container-id-2 div.sk-toggleable {background-color: white;}#sk-container-id-2 label.sk-toggleable__label {cursor: pointer;display: block;width: 100%;margin-bottom: 0;padding: 0.3em;box-sizing: border-box;text-align: center;}#sk-container-id-2 label.sk-toggleable__label-arrow:before {content: \"▸\";float: left;margin-right: 0.25em;color: #696969;}#sk-container-id-2 label.sk-toggleable__label-arrow:hover:before {color: black;}#sk-container-id-2 div.sk-estimator:hover label.sk-toggleable__label-arrow:before {color: black;}#sk-container-id-2 div.sk-toggleable__content {max-height: 0;max-width: 0;overflow: hidden;text-align: left;background-color: #f0f8ff;}#sk-container-id-2 div.sk-toggleable__content pre {margin: 0.2em;color: black;border-radius: 0.25em;background-color: #f0f8ff;}#sk-container-id-2 input.sk-toggleable__control:checked~div.sk-toggleable__content {max-height: 200px;max-width: 100%;overflow: auto;}#sk-container-id-2 input.sk-toggleable__control:checked~label.sk-toggleable__label-arrow:before {content: \"▾\";}#sk-container-id-2 div.sk-estimator input.sk-toggleable__control:checked~label.sk-toggleable__label {background-color: #d4ebff;}#sk-container-id-2 div.sk-label input.sk-toggleable__control:checked~label.sk-toggleable__label {background-color: #d4ebff;}#sk-container-id-2 input.sk-hidden--visually {border: 0;clip: rect(1px 1px 1px 1px);clip: rect(1px, 1px, 1px, 1px);height: 1px;margin: -1px;overflow: hidden;padding: 0;position: absolute;width: 1px;}#sk-container-id-2 div.sk-estimator {font-family: monospace;background-color: #f0f8ff;border: 1px dotted black;border-radius: 0.25em;box-sizing: border-box;margin-bottom: 0.5em;}#sk-container-id-2 div.sk-estimator:hover {background-color: #d4ebff;}#sk-container-id-2 div.sk-parallel-item::after {content: \"\";width: 100%;border-bottom: 1px solid gray;flex-grow: 1;}#sk-container-id-2 div.sk-label:hover label.sk-toggleable__label {background-color: #d4ebff;}#sk-container-id-2 div.sk-serial::before {content: \"\";position: absolute;border-left: 1px solid gray;box-sizing: border-box;top: 0;bottom: 0;left: 50%;z-index: 0;}#sk-container-id-2 div.sk-serial {display: flex;flex-direction: column;align-items: center;background-color: white;padding-right: 0.2em;padding-left: 0.2em;position: relative;}#sk-container-id-2 div.sk-item {position: relative;z-index: 1;}#sk-container-id-2 div.sk-parallel {display: flex;align-items: stretch;justify-content: center;background-color: white;position: relative;}#sk-container-id-2 div.sk-item::before, #sk-container-id-2 div.sk-parallel-item::before {content: \"\";position: absolute;border-left: 1px solid gray;box-sizing: border-box;top: 0;bottom: 0;left: 50%;z-index: -1;}#sk-container-id-2 div.sk-parallel-item {display: flex;flex-direction: column;z-index: 1;position: relative;background-color: white;}#sk-container-id-2 div.sk-parallel-item:first-child::after {align-self: flex-end;width: 50%;}#sk-container-id-2 div.sk-parallel-item:last-child::after {align-self: flex-start;width: 50%;}#sk-container-id-2 div.sk-parallel-item:only-child::after {width: 0;}#sk-container-id-2 div.sk-dashed-wrapped {border: 1px dashed gray;margin: 0 0.4em 0.5em 0.4em;box-sizing: border-box;padding-bottom: 0.4em;background-color: white;}#sk-container-id-2 div.sk-label label {font-family: monospace;font-weight: bold;display: inline-block;line-height: 1.2em;}#sk-container-id-2 div.sk-label-container {text-align: center;}#sk-container-id-2 div.sk-container {/* jupyter's `normalize.less` sets `[hidden] { display: none; }` but bootstrap.min.css set `[hidden] { display: none !important; }` so we also need the `!important` here to be able to override the default hidden behavior on the sphinx rendered scikit-learn.org. See: https://github.com/scikit-learn/scikit-learn/issues/21755 */display: inline-block !important;position: relative;}#sk-container-id-2 div.sk-text-repr-fallback {display: none;}</style><div id=\"sk-container-id-2\" class=\"sk-top-container\"><div class=\"sk-text-repr-fallback\"><pre>GridSearchCV(cv=4, estimator=RandomForestClassifier(n_jobs=-1, random_state=0),\n",
              "             param_grid=[{&#x27;criterion&#x27;: [&#x27;gini&#x27;, &#x27;entropy&#x27;, &#x27;log_loss&#x27;],\n",
              "                          &#x27;max_depth&#x27;: [1, 2, 3, 4, 5, 6, 7, 8, 9],\n",
              "                          &#x27;n_estimators&#x27;: [10, 50, 100, 1000]}])</pre><b>In a Jupyter environment, please rerun this cell to show the HTML representation or trust the notebook. <br />On GitHub, the HTML representation is unable to render, please try loading this page with nbviewer.org.</b></div><div class=\"sk-container\" hidden><div class=\"sk-item sk-dashed-wrapped\"><div class=\"sk-label-container\"><div class=\"sk-label sk-toggleable\"><input class=\"sk-toggleable__control sk-hidden--visually\" id=\"sk-estimator-id-4\" type=\"checkbox\" ><label for=\"sk-estimator-id-4\" class=\"sk-toggleable__label sk-toggleable__label-arrow\">GridSearchCV</label><div class=\"sk-toggleable__content\"><pre>GridSearchCV(cv=4, estimator=RandomForestClassifier(n_jobs=-1, random_state=0),\n",
              "             param_grid=[{&#x27;criterion&#x27;: [&#x27;gini&#x27;, &#x27;entropy&#x27;, &#x27;log_loss&#x27;],\n",
              "                          &#x27;max_depth&#x27;: [1, 2, 3, 4, 5, 6, 7, 8, 9],\n",
              "                          &#x27;n_estimators&#x27;: [10, 50, 100, 1000]}])</pre></div></div></div><div class=\"sk-parallel\"><div class=\"sk-parallel-item\"><div class=\"sk-item\"><div class=\"sk-label-container\"><div class=\"sk-label sk-toggleable\"><input class=\"sk-toggleable__control sk-hidden--visually\" id=\"sk-estimator-id-5\" type=\"checkbox\" ><label for=\"sk-estimator-id-5\" class=\"sk-toggleable__label sk-toggleable__label-arrow\">estimator: RandomForestClassifier</label><div class=\"sk-toggleable__content\"><pre>RandomForestClassifier(n_jobs=-1, random_state=0)</pre></div></div></div><div class=\"sk-serial\"><div class=\"sk-item\"><div class=\"sk-estimator sk-toggleable\"><input class=\"sk-toggleable__control sk-hidden--visually\" id=\"sk-estimator-id-6\" type=\"checkbox\" ><label for=\"sk-estimator-id-6\" class=\"sk-toggleable__label sk-toggleable__label-arrow\">RandomForestClassifier</label><div class=\"sk-toggleable__content\"><pre>RandomForestClassifier(n_jobs=-1, random_state=0)</pre></div></div></div></div></div></div></div></div></div></div>"
            ]
          },
          "metadata": {},
          "execution_count": 34
        }
      ]
    },
    {
      "cell_type": "code",
      "source": [
        "print(GS.best_score_)\n",
        "print(GS.best_params_)"
      ],
      "metadata": {
        "id": "q7c-hE5ZzitA",
        "colab": {
          "base_uri": "https://localhost:8080/"
        },
        "outputId": "8a54360c-e019-4ecd-ddf3-1c536696e27c"
      },
      "execution_count": null,
      "outputs": [
        {
          "output_type": "stream",
          "name": "stdout",
          "text": [
            "0.8204440720569753\n",
            "{'criterion': 'entropy', 'max_depth': 8, 'n_estimators': 1000}\n"
          ]
        }
      ]
    },
    {
      "cell_type": "code",
      "source": [
        "from sklearn.ensemble import RandomForestClassifier\n",
        "RF = RandomForestClassifier(max_depth=8, random_state=0 , n_estimators=1000 , criterion = 'entropy')\n",
        "RF.fit( X_train , Y_train )\n",
        "Y_pred = RF.predict(X_test)\n",
        "\n",
        "print(classification_report( Y_test , Y_pred ))"
      ],
      "metadata": {
        "id": "X6-eBk-RyNkD",
        "colab": {
          "base_uri": "https://localhost:8080/"
        },
        "outputId": "cfe6e95f-16b3-47d9-8785-62e381e2e9c7"
      },
      "execution_count": null,
      "outputs": [
        {
          "output_type": "stream",
          "name": "stdout",
          "text": [
            "              precision    recall  f1-score   support\n",
            "\n",
            "           0       0.94      0.94      0.94        18\n",
            "           1       0.70      0.64      0.67        11\n",
            "           2       0.20      1.00      0.33         1\n",
            "           3       0.70      0.88      0.78         8\n",
            "           4       1.00      0.79      0.88        24\n",
            "\n",
            "    accuracy                           0.82        62\n",
            "   macro avg       0.71      0.85      0.72        62\n",
            "weighted avg       0.88      0.82      0.84        62\n",
            "\n"
          ]
        }
      ]
    },
    {
      "cell_type": "code",
      "source": [
        "import pickle\n",
        "model_name = 'RF-S-8-100-82-0'\n",
        "filename = model_name + '.sav'\n",
        "pickle.dump(RF, open(filename, 'wb'))"
      ],
      "metadata": {
        "id": "hYtsdNa3yc0H"
      },
      "execution_count": null,
      "outputs": []
    },
    {
      "cell_type": "code",
      "source": [
        "loaded_model = pickle.load(open(filename, 'rb'))\n",
        "Y_pred_save_model = loaded_model.predict(X_test)"
      ],
      "metadata": {
        "id": "9NSufZckyc0H"
      },
      "execution_count": null,
      "outputs": []
    },
    {
      "cell_type": "code",
      "source": [
        "print(classification_report( Y_test , Y_pred_save_model ))\n",
        "cm = confusion_matrix(Y_test , Y_pred_save_model )"
      ],
      "metadata": {
        "id": "ktiCdz6yyc0H",
        "colab": {
          "base_uri": "https://localhost:8080/"
        },
        "outputId": "261ebeea-d943-4a1a-f4c8-e08101e5d86a"
      },
      "execution_count": null,
      "outputs": [
        {
          "output_type": "stream",
          "name": "stdout",
          "text": [
            "              precision    recall  f1-score   support\n",
            "\n",
            "           0       0.94      0.94      0.94        18\n",
            "           1       0.70      0.64      0.67        11\n",
            "           2       0.20      1.00      0.33         1\n",
            "           3       0.70      0.88      0.78         8\n",
            "           4       1.00      0.79      0.88        24\n",
            "\n",
            "    accuracy                           0.82        62\n",
            "   macro avg       0.71      0.85      0.72        62\n",
            "weighted avg       0.88      0.82      0.84        62\n",
            "\n"
          ]
        }
      ]
    },
    {
      "cell_type": "code",
      "source": [
        "plot_confusion_matrix(cm = cm ,\n",
        "                      normalize    = True,\n",
        "                      target_names = ['CAGB', 'OAGB', 'PAGB', 'RSG', 'YSO'] ,\n",
        "                      title  = None,\n",
        "                      file_name = model_name +'_CM.jpg',\n",
        "                      size = (5,5),\n",
        "                      color_bar=True)"
      ],
      "metadata": {
        "id": "9TvL_YZcyc0I",
        "colab": {
          "base_uri": "https://localhost:8080/",
          "height": 488
        },
        "outputId": "d33f3e11-ee7b-4109-cf32-fb0756f77cd6"
      },
      "execution_count": null,
      "outputs": [
        {
          "output_type": "display_data",
          "data": {
            "text/plain": [
              "<Figure size 500x500 with 2 Axes>"
            ],
            "image/png": "[encoded data removed]"
          },
          "metadata": {}
        }
      ]
    },
    {
      "cell_type": "code",
      "source": [
        "from sklearn.ensemble import RandomForestClassifier\n",
        "RF = RandomForestClassifier(max_depth=8, random_state=0 , n_estimators=50 , criterion = 'gini')\n",
        "RF.fit( X_train , Y_train )\n",
        "Y_pred = RF.predict(X_test)\n",
        "\n",
        "print(classification_report( Y_test , Y_pred ))"
      ],
      "metadata": {
        "id": "dydht3Ey2vEn",
        "colab": {
          "base_uri": "https://localhost:8080/"
        },
        "outputId": "6441ea66-0f4d-4cd6-ddaa-6e2b93a60076"
      },
      "execution_count": null,
      "outputs": [
        {
          "output_type": "stream",
          "name": "stdout",
          "text": [
            "              precision    recall  f1-score   support\n",
            "\n",
            "           0       0.94      0.94      0.94        18\n",
            "           1       0.67      0.55      0.60        11\n",
            "           2       0.20      1.00      0.33         1\n",
            "           3       0.70      0.88      0.78         8\n",
            "           4       0.95      0.79      0.86        24\n",
            "\n",
            "    accuracy                           0.81        62\n",
            "   macro avg       0.69      0.83      0.70        62\n",
            "weighted avg       0.85      0.81      0.82        62\n",
            "\n"
          ]
        }
      ]
    },
    {
      "cell_type": "code",
      "source": [
        "import pickle\n",
        "model_name = 'RF-S-8-50-81-0'\n",
        "filename = model_name + '.sav'\n",
        "pickle.dump(RF, open(filename, 'wb'))"
      ],
      "metadata": {
        "id": "jFGIWrVPwBNG"
      },
      "execution_count": null,
      "outputs": []
    },
    {
      "cell_type": "code",
      "source": [
        "loaded_model = pickle.load(open(filename, 'rb'))\n",
        "Y_pred_save_model = loaded_model.predict(X_test)"
      ],
      "metadata": {
        "id": "3vYlf-9iwBNG"
      },
      "execution_count": null,
      "outputs": []
    },
    {
      "cell_type": "code",
      "source": [
        "print(classification_report( Y_test , Y_pred_save_model ))\n",
        "cm = confusion_matrix(Y_test , Y_pred_save_model )"
      ],
      "metadata": {
        "id": "NBPpCEJrwBNG",
        "colab": {
          "base_uri": "https://localhost:8080/"
        },
        "outputId": "0b322379-7619-47c9-f673-51be5c482c44"
      },
      "execution_count": null,
      "outputs": [
        {
          "output_type": "stream",
          "name": "stdout",
          "text": [
            "              precision    recall  f1-score   support\n",
            "\n",
            "           0       0.94      0.94      0.94        18\n",
            "           1       0.67      0.55      0.60        11\n",
            "           2       0.20      1.00      0.33         1\n",
            "           3       0.70      0.88      0.78         8\n",
            "           4       0.95      0.79      0.86        24\n",
            "\n",
            "    accuracy                           0.81        62\n",
            "   macro avg       0.69      0.83      0.70        62\n",
            "weighted avg       0.85      0.81      0.82        62\n",
            "\n"
          ]
        }
      ]
    },
    {
      "cell_type": "code",
      "source": [
        "plot_confusion_matrix(cm = cm ,\n",
        "                      normalize    = True,\n",
        "                      target_names = ['CAGB', 'OAGB', 'PAGB', 'RSG', 'YSO'] ,\n",
        "                      title  = None,\n",
        "                      file_name = model_name +'_CM.jpg',\n",
        "                      size = (5,5),\n",
        "                      color_bar=True)"
      ],
      "metadata": {
        "id": "qG86_Jj5wBNG",
        "colab": {
          "base_uri": "https://localhost:8080/",
          "height": 488
        },
        "outputId": "e39a8857-9f88-4c38-9569-55955cf3ae61"
      },
      "execution_count": null,
      "outputs": [
        {
          "output_type": "display_data",
          "data": {
            "text/plain": [
              "<Figure size 500x500 with 2 Axes>"
            ],
            "image/png": "[encoded data removed]"
          },
          "metadata": {}
        }
      ]
    },
    {
      "cell_type": "markdown",
      "source": [
        "**Feature importances**"
      ],
      "metadata": {
        "id": "IwrCAATGebDu"
      }
    },
    {
      "cell_type": "code",
      "source": [
        "import time\n",
        "import numpy as np\n",
        "\n",
        "start_time = time.time()\n",
        "importances = RF.feature_importances_\n",
        "std = np.std([tree.feature_importances_ for tree in RF.estimators_], axis=0)\n",
        "elapsed_time = time.time() - start_time\n",
        "\n",
        "print(f\"Elapsed time to compute the importances: {elapsed_time:.3f} seconds\")"
      ],
      "metadata": {
        "id": "pDkLiW7M28FO",
        "colab": {
          "base_uri": "https://localhost:8080/"
        },
        "outputId": "da78b4f0-eb89-4f8f-c083-ce89a30cfdbb"
      },
      "execution_count": null,
      "outputs": [
        {
          "output_type": "stream",
          "name": "stdout",
          "text": [
            "Elapsed time to compute the importances: 0.007 seconds\n"
          ]
        }
      ]
    },
    {
      "cell_type": "code",
      "source": [
        "feature_names = df.columns[2:-2]\n",
        "forest_importances = pd.Series(importances, index=feature_names)\n",
        "\n",
        "fig, ax = plt.subplots(figsize=(8,5))\n",
        "forest_importances.plot.bar(yerr=std, ax=ax)\n",
        "#ax.set_title(\"Feature importances using MDI\")\n",
        "ax.set_ylabel(\"Mean decrease in impurity\")\n",
        "fig.tight_layout()\n",
        "fig.savefig('feature_importance_Smote.pdf',dpi=400)"
      ],
      "metadata": {
        "id": "AQW8weQ9ce3I",
        "colab": {
          "base_uri": "https://localhost:8080/",
          "height": 506
        },
        "outputId": "ce2468e4-9771-45b3-e7bf-e6e2f395019f"
      },
      "execution_count": null,
      "outputs": [
        {
          "output_type": "display_data",
          "data": {
            "text/plain": [
              "<Figure size 800x500 with 1 Axes>"
            ],
            "image/png": "[encoded data removed]"
          },
          "metadata": {}
        }
      ]
    },
    {
      "cell_type": "markdown",
      "source": [
        "# DecisionTreeClassifier"
      ],
      "metadata": {
        "id": "nMJRy2eXgj9d"
      }
    },
    {
      "cell_type": "code",
      "source": [
        "from sklearn.tree import DecisionTreeClassifier\n",
        "DTC = DecisionTreeClassifier(criterion='entropy', max_depth=4,\\\n",
        "                             min_samples_split=10, min_samples_leaf=3, random_state=2)\n",
        "DTC.fit( X_train , Y_train )\n",
        "Y_pred = DTC.predict(X_test)\n",
        "\n",
        "print(classification_report( Y_test , Y_pred ))"
      ],
      "metadata": {
        "id": "uftobCUxnNka",
        "colab": {
          "base_uri": "https://localhost:8080/"
        },
        "outputId": "a7245fdf-324c-4d71-d563-12a239903c8a"
      },
      "execution_count": null,
      "outputs": [
        {
          "output_type": "stream",
          "name": "stdout",
          "text": [
            "              precision    recall  f1-score   support\n",
            "\n",
            "           0       0.94      0.76      0.84        21\n",
            "           1       0.86      0.92      0.89        13\n",
            "           2       0.15      0.67      0.25         3\n",
            "           3       1.00      1.00      1.00         6\n",
            "           4       0.82      0.50      0.62        18\n",
            "\n",
            "    accuracy                           0.74        61\n",
            "   macro avg       0.75      0.77      0.72        61\n",
            "weighted avg       0.85      0.74      0.77        61\n",
            "\n"
          ]
        }
      ]
    },
    {
      "cell_type": "code",
      "source": [],
      "metadata": {
        "id": "_mVrW733A-h7"
      },
      "execution_count": null,
      "outputs": []
    }
  ]
}