{
  "nbformat": 4,
  "nbformat_minor": 0,
  "metadata": {
    "colab": {
      "provenance": [],
      "collapsed_sections": [
        "v-JTEm07eivW",
        "XOukgp88eK_l",
        "k9jYDw9GGXfZ",
        "DEU0tyysdyWk",
        "0-qR7BTSgO0F",
        "fNt5k0AggT4s",
        "pOlWi6jNgcKk",
        "Pvv65ShSgf5H",
        "nMJRy2eXgj9d"
      ],
      "mount_file_id": "1pDGzzDGqA02eCkW9Ys1sYtVyIv5BooFW",
      "authorship_tag": "ABX9TyMjgyHdBMFE7i1Db0Wwcj+5",
      "include_colab_link": true
    },
    "kernelspec": {
      "name": "python3",
      "display_name": "Python 3"
    },
    "language_info": {
      "name": "python"
    },
    "accelerator": "GPU",
    "gpuClass": "standard"
  },
  "cells": [
    {
      "cell_type": "markdown",
      "metadata": {
        "id": "view-in-github",
        "colab_type": "text"
      },
      "source": [
        "<a href=\"https://colab.research.google.com/github/Mahdi-Abdollahii/Dusty-Stellar-Sources-Classification/blob/main/Data_Preprocessing_Smote.ipynb\" target=\"_parent\"><img src=\"https://colab.research.google.com/assets/colab-badge.svg\" alt=\"Open In Colab\"/></a>"
      ]
    },
    {
      "cell_type": "markdown",
      "source": [
        "# Loading data from GitHub and installing package"
      ],
      "metadata": {
        "id": "v-JTEm07eivW"
      }
    },
    {
      "cell_type": "markdown",
      "source": [
        "\n",
        "The project is hosted on GitHub. Get a copy by running:"
      ],
      "metadata": {
        "id": "vn42cBiwsJre"
      }
    },
    {
      "cell_type": "code",
      "source": [
        "!git clone https://github.com/Mahdi-Abdollahii/Dusty-Stellar-Sources-Classification.git"
      ],
      "metadata": {
        "id": "t8k-ZM4ysWOk",
        "colab": {
          "base_uri": "https://localhost:8080/"
        },
        "outputId": "70e417c9-2225-4d27-8bda-75058e47b1c7"
      },
      "execution_count": 1,
      "outputs": [
        {
          "output_type": "stream",
          "name": "stdout",
          "text": [
            "Cloning into 'Dusty-Stellar-Sources-Classification'...\n",
            "remote: Enumerating objects: 171, done.\u001b[K\n",
            "remote: Counting objects: 100% (57/57), done.\u001b[K\n",
            "remote: Compressing objects: 100% (57/57), done.\u001b[K\n",
            "remote: Total 171 (delta 25), reused 0 (delta 0), pack-reused 114\u001b[K\n",
            "Receiving objects: 100% (171/171), 36.82 MiB | 11.80 MiB/s, done.\n",
            "Resolving deltas: 100% (76/76), done.\n"
          ]
        }
      ]
    },
    {
      "cell_type": "code",
      "source": [
        "!pip install pyunpack"
      ],
      "metadata": {
        "colab": {
          "base_uri": "https://localhost:8080/"
        },
        "id": "oUVp6KNrZEG7",
        "outputId": "549cbd5c-4a36-4d84-fc2c-b0116f6585df"
      },
      "execution_count": 2,
      "outputs": [
        {
          "output_type": "stream",
          "name": "stdout",
          "text": [
            "Looking in indexes: https://pypi.org/simple, https://us-python.pkg.dev/colab-wheels/public/simple/\n",
            "Collecting pyunpack\n",
            "  Downloading pyunpack-0.3-py2.py3-none-any.whl (4.1 kB)\n",
            "Collecting easyprocess (from pyunpack)\n",
            "  Downloading EasyProcess-1.1-py3-none-any.whl (8.7 kB)\n",
            "Collecting entrypoint2 (from pyunpack)\n",
            "  Downloading entrypoint2-1.1-py2.py3-none-any.whl (9.9 kB)\n",
            "Installing collected packages: entrypoint2, easyprocess, pyunpack\n",
            "Successfully installed easyprocess-1.1 entrypoint2-1.1 pyunpack-0.3\n"
          ]
        }
      ]
    },
    {
      "cell_type": "code",
      "source": [
        "!pip install patool"
      ],
      "metadata": {
        "colab": {
          "base_uri": "https://localhost:8080/"
        },
        "id": "8AnNDHMCZJaL",
        "outputId": "ec49ba6b-11b4-4618-9d5c-3616bc070b55"
      },
      "execution_count": 3,
      "outputs": [
        {
          "output_type": "stream",
          "name": "stdout",
          "text": [
            "Looking in indexes: https://pypi.org/simple, https://us-python.pkg.dev/colab-wheels/public/simple/\n",
            "Collecting patool\n",
            "  Downloading patool-1.12-py2.py3-none-any.whl (77 kB)\n",
            "\u001b[2K     \u001b[90m━━━━━━━━━━━━━━━━━━━━━━━━━━━━━━━━━━━━━━━━\u001b[0m \u001b[32m77.5/77.5 kB\u001b[0m \u001b[31m3.7 MB/s\u001b[0m eta \u001b[36m0:00:00\u001b[0m\n",
            "\u001b[?25hInstalling collected packages: patool\n",
            "Successfully installed patool-1.12\n"
          ]
        }
      ]
    },
    {
      "cell_type": "markdown",
      "metadata": {
        "id": "XOukgp88eK_l"
      },
      "source": [
        "# Libraries"
      ]
    },
    {
      "cell_type": "code",
      "execution_count": 4,
      "metadata": {
        "id": "_xYXTtukc4Oe"
      },
      "outputs": [],
      "source": [
        "import pandas as pd\n",
        "import numpy as np\n",
        "import matplotlib.pyplot as plt\n",
        "import io, requests, zipfile\n",
        "from zipfile import ZipFile\n",
        "import seaborn as sns\n",
        "from sklearn.metrics import confusion_matrix , accuracy_score , recall_score , precision_score , f1_score , classification_report\n",
        "from pyunpack import Archive\n",
        "import warnings\n",
        "warnings.filterwarnings('ignore')"
      ]
    },
    {
      "cell_type": "code",
      "source": [
        "#https://blog.finxter.com/how-to-plot-sklearn-confusion-matrix-with-labels/\n",
        "import numpy as np\n",
        "\n",
        "def plot_confusion_matrix(cm,\n",
        "                          target_names,\n",
        "                          title='Confusion matrix',\n",
        "                          cmap=None,\n",
        "                          normalize=True,\n",
        "                          size = [16,12],\n",
        "                          file_name = False ):\n",
        "    \"\"\"\n",
        "    given a sklearn confusion matrix (cm), make a nice plot\n",
        "\n",
        "    Arguments\n",
        "    ---------\n",
        "    cm:           confusion matrix from sklearn.metrics.confusion_matrix\n",
        "\n",
        "    target_names: given classification classes such as [0, 1, 2]\n",
        "                  the class names, for example: ['high', 'medium', 'low']\n",
        "\n",
        "    title:        the text to display at the top of the matrix\n",
        "\n",
        "    cmap:         the gradient of the values displayed from matplotlib.pyplot.cm\n",
        "                  see http://matplotlib.org/examples/color/colormaps_reference.html\n",
        "                  plt.get_cmap('jet') or plt.cm.Blues\n",
        "\n",
        "    normalize:    If False, plot the raw numbers\n",
        "                  If True, plot the proportions\n",
        "\n",
        "    Usage\n",
        "    -----\n",
        "    plot_confusion_matrix(cm           = cm,                  # confusion matrix created by\n",
        "                                                              # sklearn.metrics.confusion_matrix\n",
        "                          normalize    = True,                # show proportions\n",
        "                          target_names = y_labels_vals,       # list of names of the classes\n",
        "                          title        = best_estimator_name) # title of graph\n",
        "\n",
        "    Citiation\n",
        "    ---------\n",
        "    http://scikit-learn.org/stable/auto_examples/model_selection/plot_confusion_matrix.html\n",
        "\n",
        "    \"\"\"\n",
        "    import matplotlib.pyplot as plt\n",
        "    import numpy as np\n",
        "    import itertools\n",
        "\n",
        "    if normalize:\n",
        "        cm = cm.astype('float') / cm.sum(axis=1)[:, np.newaxis]\n",
        "\n",
        "    if cmap is None:\n",
        "        cmap = plt.get_cmap('Greens')\n",
        "\n",
        "    plt.figure(figsize=(size[0],size[1]))\n",
        "    plt.imshow(cm, interpolation='nearest', cmap=cmap)\n",
        "    plt.title(title ,fontsize = 16 )\n",
        "    plt.ylabel('True label' , fontsize = 16 )\n",
        "    plt.xlabel('Predicted label', fontsize = 16 )\n",
        "    plt.colorbar()\n",
        "\n",
        "    if target_names is not None:\n",
        "        tick_marks = np.arange(len(target_names))\n",
        "        plt.xticks(tick_marks, target_names, rotation=45)\n",
        "        plt.yticks(tick_marks, target_names)\n",
        "\n",
        "\n",
        "\n",
        "\n",
        "    thresh = cm.max() / 1.5 if normalize else cm.max() / 2\n",
        "    for i, j in itertools.product(range(cm.shape[0]), range(cm.shape[1])):\n",
        "        if normalize:\n",
        "            #if cm[i,j]>= 0.01 : # if you want remove 0.1>\n",
        "                plt.text(j, i, \"{:0.2f}\".format(cm[i, j]),\n",
        "                        horizontalalignment=\"center\",\n",
        "                        color=\"white\" if cm[i, j] > thresh else \"black\")\n",
        "        else:\n",
        "            plt.text(j, i, \"{:,}\".format(cm[i, j]),\n",
        "                     horizontalalignment=\"center\",\n",
        "                     color=\"white\" if cm[i, j] > thresh else \"black\")\n",
        "\n",
        "\n",
        "    plt.tight_layout()\n",
        "    if file_name != False : \n",
        "        plt.savefig(file_name , dpi=300)\n",
        "    plt.show()"
      ],
      "metadata": {
        "id": "Fa1zRZ2vMhMh"
      },
      "execution_count": 5,
      "outputs": []
    },
    {
      "cell_type": "markdown",
      "source": [
        "# Data Pre"
      ],
      "metadata": {
        "id": "k9jYDw9GGXfZ"
      }
    },
    {
      "cell_type": "code",
      "source": [
        "df = pd.read_csv(\"/content/Dusty-Stellar-Sources-Classification/Data/Preprocessed_Data.csv\")"
      ],
      "metadata": {
        "id": "p94NnTJSf6R0"
      },
      "execution_count": 6,
      "outputs": []
    },
    {
      "cell_type": "code",
      "source": [
        "df"
      ],
      "metadata": {
        "colab": {
          "base_uri": "https://localhost:8080/",
          "height": 423
        },
        "id": "Trl-yqT7hF6T",
        "outputId": "447da5a5-81fe-4c28-d60c-28f05f1b236a"
      },
      "execution_count": 7,
      "outputs": [
        {
          "output_type": "execute_result",
          "data": {
            "text/plain": [
              "         RAdeg      DEdeg   Umag   Bmag   Vmag   Imag   Jmag   Hmag  Ksmag  \\\n",
              "0    69.338100 -70.579000    NaN -0.485 -2.258 -4.690    NaN    NaN    NaN   \n",
              "1    71.613100 -68.796300  1.307  1.954  0.325 -2.250 -5.093 -6.604 -7.863   \n",
              "2    71.827700 -69.705700 -1.052 -3.148 -5.010 -7.333 -8.473    NaN    NaN   \n",
              "3    72.157300 -69.393600    NaN  3.178  2.261  1.023 -1.373 -3.404 -5.333   \n",
              "4    72.393200 -69.097000 -5.412 -5.208 -5.460 -6.105 -6.443 -6.894 -7.443   \n",
              "..         ...        ...    ...    ...    ...    ...    ...    ...    ...   \n",
              "603  15.093451 -72.166074 -0.392  0.662  0.147 -0.501    NaN -2.557 -4.051   \n",
              "604  14.527078 -72.068717 -0.619 -0.522 -1.027 -1.728 -2.386 -2.847 -3.281   \n",
              "605  14.488457 -72.654396 -1.593 -0.817 -1.266 -1.993 -2.446 -3.157 -4.151   \n",
              "606  14.027887 -72.789808 -1.605 -1.218 -1.578 -2.070 -2.766 -3.107 -3.241   \n",
              "607  16.039817 -72.837738 -2.357 -3.880 -5.665    NaN    NaN    NaN    NaN   \n",
              "\n",
              "      [3.6]   [4.5]   [5.8]    [8.0]     [24] SpClass GeneralClass  \n",
              "0   -7.6101 -7.7148 -7.8326  -8.0159  -8.8792    OAGB          DSS  \n",
              "1   -8.6656 -9.3873 -9.8100 -10.2429 -11.1944    CAGB          DSS  \n",
              "2   -9.6540 -9.4759 -9.6545  -9.7627 -10.9685     RSG          DSS  \n",
              "3   -8.1534 -9.0379 -9.8431 -10.6543 -13.6554     YSO          DSS  \n",
              "4   -8.4329 -8.9152 -9.2952  -9.9431 -11.3106    OAGB          DSS  \n",
              "..      ...     ...     ...      ...      ...     ...          ...  \n",
              "603 -6.3120 -7.3400 -8.2350  -9.4640 -13.6900     YSO          DSS  \n",
              "604 -5.5270 -5.6600 -8.0320  -9.6220 -15.6450     YSO          DSS  \n",
              "605 -6.6860 -7.2730 -8.2610  -9.2260 -15.2890     YSO          DSS  \n",
              "606 -5.4810 -5.9750 -7.7430  -9.1680 -15.3400     YSO          DSS  \n",
              "607 -9.6990 -9.7110 -9.9220 -10.0500 -10.8040    OAGB          DSS  \n",
              "\n",
              "[608 rows x 16 columns]"
            ],
            "text/html": [
              "\n",
              "  <div id=\"df-163c7972-cf32-44dc-bb4c-d16546359c0a\">\n",
              "    <div class=\"colab-df-container\">\n",
              "      <div>\n",
              "<style scoped>\n",
              "    .dataframe tbody tr th:only-of-type {\n",
              "        vertical-align: middle;\n",
              "    }\n",
              "\n",
              "    .dataframe tbody tr th {\n",
              "        vertical-align: top;\n",
              "    }\n",
              "\n",
              "    .dataframe thead th {\n",
              "        text-align: right;\n",
              "    }\n",
              "</style>\n",
              "<table border=\"1\" class=\"dataframe\">\n",
              "  <thead>\n",
              "    <tr style=\"text-align: right;\">\n",
              "      <th></th>\n",
              "      <th>RAdeg</th>\n",
              "      <th>DEdeg</th>\n",
              "      <th>Umag</th>\n",
              "      <th>Bmag</th>\n",
              "      <th>Vmag</th>\n",
              "      <th>Imag</th>\n",
              "      <th>Jmag</th>\n",
              "      <th>Hmag</th>\n",
              "      <th>Ksmag</th>\n",
              "      <th>[3.6]</th>\n",
              "      <th>[4.5]</th>\n",
              "      <th>[5.8]</th>\n",
              "      <th>[8.0]</th>\n",
              "      <th>[24]</th>\n",
              "      <th>SpClass</th>\n",
              "      <th>GeneralClass</th>\n",
              "    </tr>\n",
              "  </thead>\n",
              "  <tbody>\n",
              "    <tr>\n",
              "      <th>0</th>\n",
              "      <td>69.338100</td>\n",
              "      <td>-70.579000</td>\n",
              "      <td>NaN</td>\n",
              "      <td>-0.485</td>\n",
              "      <td>-2.258</td>\n",
              "      <td>-4.690</td>\n",
              "      <td>NaN</td>\n",
              "      <td>NaN</td>\n",
              "      <td>NaN</td>\n",
              "      <td>-7.6101</td>\n",
              "      <td>-7.7148</td>\n",
              "      <td>-7.8326</td>\n",
              "      <td>-8.0159</td>\n",
              "      <td>-8.8792</td>\n",
              "      <td>OAGB</td>\n",
              "      <td>DSS</td>\n",
              "    </tr>\n",
              "    <tr>\n",
              "      <th>1</th>\n",
              "      <td>71.613100</td>\n",
              "      <td>-68.796300</td>\n",
              "      <td>1.307</td>\n",
              "      <td>1.954</td>\n",
              "      <td>0.325</td>\n",
              "      <td>-2.250</td>\n",
              "      <td>-5.093</td>\n",
              "      <td>-6.604</td>\n",
              "      <td>-7.863</td>\n",
              "      <td>-8.6656</td>\n",
              "      <td>-9.3873</td>\n",
              "      <td>-9.8100</td>\n",
              "      <td>-10.2429</td>\n",
              "      <td>-11.1944</td>\n",
              "      <td>CAGB</td>\n",
              "      <td>DSS</td>\n",
              "    </tr>\n",
              "    <tr>\n",
              "      <th>2</th>\n",
              "      <td>71.827700</td>\n",
              "      <td>-69.705700</td>\n",
              "      <td>-1.052</td>\n",
              "      <td>-3.148</td>\n",
              "      <td>-5.010</td>\n",
              "      <td>-7.333</td>\n",
              "      <td>-8.473</td>\n",
              "      <td>NaN</td>\n",
              "      <td>NaN</td>\n",
              "      <td>-9.6540</td>\n",
              "      <td>-9.4759</td>\n",
              "      <td>-9.6545</td>\n",
              "      <td>-9.7627</td>\n",
              "      <td>-10.9685</td>\n",
              "      <td>RSG</td>\n",
              "      <td>DSS</td>\n",
              "    </tr>\n",
              "    <tr>\n",
              "      <th>3</th>\n",
              "      <td>72.157300</td>\n",
              "      <td>-69.393600</td>\n",
              "      <td>NaN</td>\n",
              "      <td>3.178</td>\n",
              "      <td>2.261</td>\n",
              "      <td>1.023</td>\n",
              "      <td>-1.373</td>\n",
              "      <td>-3.404</td>\n",
              "      <td>-5.333</td>\n",
              "      <td>-8.1534</td>\n",
              "      <td>-9.0379</td>\n",
              "      <td>-9.8431</td>\n",
              "      <td>-10.6543</td>\n",
              "      <td>-13.6554</td>\n",
              "      <td>YSO</td>\n",
              "      <td>DSS</td>\n",
              "    </tr>\n",
              "    <tr>\n",
              "      <th>4</th>\n",
              "      <td>72.393200</td>\n",
              "      <td>-69.097000</td>\n",
              "      <td>-5.412</td>\n",
              "      <td>-5.208</td>\n",
              "      <td>-5.460</td>\n",
              "      <td>-6.105</td>\n",
              "      <td>-6.443</td>\n",
              "      <td>-6.894</td>\n",
              "      <td>-7.443</td>\n",
              "      <td>-8.4329</td>\n",
              "      <td>-8.9152</td>\n",
              "      <td>-9.2952</td>\n",
              "      <td>-9.9431</td>\n",
              "      <td>-11.3106</td>\n",
              "      <td>OAGB</td>\n",
              "      <td>DSS</td>\n",
              "    </tr>\n",
              "    <tr>\n",
              "      <th>...</th>\n",
              "      <td>...</td>\n",
              "      <td>...</td>\n",
              "      <td>...</td>\n",
              "      <td>...</td>\n",
              "      <td>...</td>\n",
              "      <td>...</td>\n",
              "      <td>...</td>\n",
              "      <td>...</td>\n",
              "      <td>...</td>\n",
              "      <td>...</td>\n",
              "      <td>...</td>\n",
              "      <td>...</td>\n",
              "      <td>...</td>\n",
              "      <td>...</td>\n",
              "      <td>...</td>\n",
              "      <td>...</td>\n",
              "    </tr>\n",
              "    <tr>\n",
              "      <th>603</th>\n",
              "      <td>15.093451</td>\n",
              "      <td>-72.166074</td>\n",
              "      <td>-0.392</td>\n",
              "      <td>0.662</td>\n",
              "      <td>0.147</td>\n",
              "      <td>-0.501</td>\n",
              "      <td>NaN</td>\n",
              "      <td>-2.557</td>\n",
              "      <td>-4.051</td>\n",
              "      <td>-6.3120</td>\n",
              "      <td>-7.3400</td>\n",
              "      <td>-8.2350</td>\n",
              "      <td>-9.4640</td>\n",
              "      <td>-13.6900</td>\n",
              "      <td>YSO</td>\n",
              "      <td>DSS</td>\n",
              "    </tr>\n",
              "    <tr>\n",
              "      <th>604</th>\n",
              "      <td>14.527078</td>\n",
              "      <td>-72.068717</td>\n",
              "      <td>-0.619</td>\n",
              "      <td>-0.522</td>\n",
              "      <td>-1.027</td>\n",
              "      <td>-1.728</td>\n",
              "      <td>-2.386</td>\n",
              "      <td>-2.847</td>\n",
              "      <td>-3.281</td>\n",
              "      <td>-5.5270</td>\n",
              "      <td>-5.6600</td>\n",
              "      <td>-8.0320</td>\n",
              "      <td>-9.6220</td>\n",
              "      <td>-15.6450</td>\n",
              "      <td>YSO</td>\n",
              "      <td>DSS</td>\n",
              "    </tr>\n",
              "    <tr>\n",
              "      <th>605</th>\n",
              "      <td>14.488457</td>\n",
              "      <td>-72.654396</td>\n",
              "      <td>-1.593</td>\n",
              "      <td>-0.817</td>\n",
              "      <td>-1.266</td>\n",
              "      <td>-1.993</td>\n",
              "      <td>-2.446</td>\n",
              "      <td>-3.157</td>\n",
              "      <td>-4.151</td>\n",
              "      <td>-6.6860</td>\n",
              "      <td>-7.2730</td>\n",
              "      <td>-8.2610</td>\n",
              "      <td>-9.2260</td>\n",
              "      <td>-15.2890</td>\n",
              "      <td>YSO</td>\n",
              "      <td>DSS</td>\n",
              "    </tr>\n",
              "    <tr>\n",
              "      <th>606</th>\n",
              "      <td>14.027887</td>\n",
              "      <td>-72.789808</td>\n",
              "      <td>-1.605</td>\n",
              "      <td>-1.218</td>\n",
              "      <td>-1.578</td>\n",
              "      <td>-2.070</td>\n",
              "      <td>-2.766</td>\n",
              "      <td>-3.107</td>\n",
              "      <td>-3.241</td>\n",
              "      <td>-5.4810</td>\n",
              "      <td>-5.9750</td>\n",
              "      <td>-7.7430</td>\n",
              "      <td>-9.1680</td>\n",
              "      <td>-15.3400</td>\n",
              "      <td>YSO</td>\n",
              "      <td>DSS</td>\n",
              "    </tr>\n",
              "    <tr>\n",
              "      <th>607</th>\n",
              "      <td>16.039817</td>\n",
              "      <td>-72.837738</td>\n",
              "      <td>-2.357</td>\n",
              "      <td>-3.880</td>\n",
              "      <td>-5.665</td>\n",
              "      <td>NaN</td>\n",
              "      <td>NaN</td>\n",
              "      <td>NaN</td>\n",
              "      <td>NaN</td>\n",
              "      <td>-9.6990</td>\n",
              "      <td>-9.7110</td>\n",
              "      <td>-9.9220</td>\n",
              "      <td>-10.0500</td>\n",
              "      <td>-10.8040</td>\n",
              "      <td>OAGB</td>\n",
              "      <td>DSS</td>\n",
              "    </tr>\n",
              "  </tbody>\n",
              "</table>\n",
              "<p>608 rows × 16 columns</p>\n",
              "</div>\n",
              "      <button class=\"colab-df-convert\" onclick=\"convertToInteractive('df-163c7972-cf32-44dc-bb4c-d16546359c0a')\"\n",
              "              title=\"Convert this dataframe to an interactive table.\"\n",
              "              style=\"display:none;\">\n",
              "        \n",
              "  <svg xmlns=\"http://www.w3.org/2000/svg\" height=\"24px\"viewBox=\"0 0 24 24\"\n",
              "       width=\"24px\">\n",
              "    <path d=\"M0 0h24v24H0V0z\" fill=\"none\"/>\n",
              "    <path d=\"M18.56 5.44l.94 2.06.94-2.06 2.06-.94-2.06-.94-.94-2.06-.94 2.06-2.06.94zm-11 1L8.5 8.5l.94-2.06 2.06-.94-2.06-.94L8.5 2.5l-.94 2.06-2.06.94zm10 10l.94 2.06.94-2.06 2.06-.94-2.06-.94-.94-2.06-.94 2.06-2.06.94z\"/><path d=\"M17.41 7.96l-1.37-1.37c-.4-.4-.92-.59-1.43-.59-.52 0-1.04.2-1.43.59L10.3 9.45l-7.72 7.72c-.78.78-.78 2.05 0 2.83L4 21.41c.39.39.9.59 1.41.59.51 0 1.02-.2 1.41-.59l7.78-7.78 2.81-2.81c.8-.78.8-2.07 0-2.86zM5.41 20L4 18.59l7.72-7.72 1.47 1.35L5.41 20z\"/>\n",
              "  </svg>\n",
              "      </button>\n",
              "      \n",
              "  <style>\n",
              "    .colab-df-container {\n",
              "      display:flex;\n",
              "      flex-wrap:wrap;\n",
              "      gap: 12px;\n",
              "    }\n",
              "\n",
              "    .colab-df-convert {\n",
              "      background-color: #E8F0FE;\n",
              "      border: none;\n",
              "      border-radius: 50%;\n",
              "      cursor: pointer;\n",
              "      display: none;\n",
              "      fill: #1967D2;\n",
              "      height: 32px;\n",
              "      padding: 0 0 0 0;\n",
              "      width: 32px;\n",
              "    }\n",
              "\n",
              "    .colab-df-convert:hover {\n",
              "      background-color: #E2EBFA;\n",
              "      box-shadow: 0px 1px 2px rgba(60, 64, 67, 0.3), 0px 1px 3px 1px rgba(60, 64, 67, 0.15);\n",
              "      fill: #174EA6;\n",
              "    }\n",
              "\n",
              "    [theme=dark] .colab-df-convert {\n",
              "      background-color: #3B4455;\n",
              "      fill: #D2E3FC;\n",
              "    }\n",
              "\n",
              "    [theme=dark] .colab-df-convert:hover {\n",
              "      background-color: #434B5C;\n",
              "      box-shadow: 0px 1px 3px 1px rgba(0, 0, 0, 0.15);\n",
              "      filter: drop-shadow(0px 1px 2px rgba(0, 0, 0, 0.3));\n",
              "      fill: #FFFFFF;\n",
              "    }\n",
              "  </style>\n",
              "\n",
              "      <script>\n",
              "        const buttonEl =\n",
              "          document.querySelector('#df-163c7972-cf32-44dc-bb4c-d16546359c0a button.colab-df-convert');\n",
              "        buttonEl.style.display =\n",
              "          google.colab.kernel.accessAllowed ? 'block' : 'none';\n",
              "\n",
              "        async function convertToInteractive(key) {\n",
              "          const element = document.querySelector('#df-163c7972-cf32-44dc-bb4c-d16546359c0a');\n",
              "          const dataTable =\n",
              "            await google.colab.kernel.invokeFunction('convertToInteractive',\n",
              "                                                     [key], {});\n",
              "          if (!dataTable) return;\n",
              "\n",
              "          const docLinkHtml = 'Like what you see? Visit the ' +\n",
              "            '<a target=\"_blank\" href=https://colab.research.google.com/notebooks/data_table.ipynb>data table notebook</a>'\n",
              "            + ' to learn more about interactive tables.';\n",
              "          element.innerHTML = '';\n",
              "          dataTable['output_type'] = 'display_data';\n",
              "          await google.colab.output.renderOutput(dataTable, element);\n",
              "          const docLink = document.createElement('div');\n",
              "          docLink.innerHTML = docLinkHtml;\n",
              "          element.appendChild(docLink);\n",
              "        }\n",
              "      </script>\n",
              "    </div>\n",
              "  </div>\n",
              "  "
            ]
          },
          "metadata": {},
          "execution_count": 7
        }
      ]
    },
    {
      "cell_type": "code",
      "source": [
        "n = df.pivot_table(index=['SpClass'], aggfunc='size').index\n",
        "s = list(df.pivot_table(index=['SpClass'], aggfunc='size'))\n",
        "\n",
        "fig=plt.figure(figsize=(8,5))\n",
        "line = plt.bar(n  , s  , color = 'maroon' , log  = False )\n",
        "\n",
        "plt.tick_params(axis='both', which='major', labelsize=15)\n",
        "plt.tick_params(axis='both', which='minor', labelsize=15)\n",
        "\n",
        "plt.show()\n",
        "fig.savefig('SPclass_hist.pdf',dpi=400)"
      ],
      "metadata": {
        "colab": {
          "base_uri": "https://localhost:8080/",
          "height": 451
        },
        "id": "EgCB4RaRJMAJ",
        "outputId": "b6d1d919-9d11-41d1-9f98-be90805764b3"
      },
      "execution_count": 8,
      "outputs": [
        {
          "output_type": "display_data",
          "data": {
            "text/plain": [
              "<Figure size 800x500 with 1 Axes>"
            ],
            "image/png": "[encoded data removed]"
          },
          "metadata": {}
        }
      ]
    },
    {
      "cell_type": "code",
      "source": [
        "from sklearn import preprocessing\n",
        "\n",
        "LE = preprocessing.LabelEncoder()\n",
        "Y = LE.fit_transform(df['SpClass'])\n",
        "Y = pd.DataFrame(Y)\n",
        "Y.columns = ['EY']\n",
        "\n",
        "print('Ordinal Encoding:')\n",
        "LE.inverse_transform(np.arange(0,5))"
      ],
      "metadata": {
        "colab": {
          "base_uri": "https://localhost:8080/"
        },
        "outputId": "a2e936ca-2ced-45da-956c-2a9b7130937a",
        "id": "XseVm7cjtxFG"
      },
      "execution_count": 9,
      "outputs": [
        {
          "output_type": "stream",
          "name": "stdout",
          "text": [
            "Ordinal Encoding:\n"
          ]
        },
        {
          "output_type": "execute_result",
          "data": {
            "text/plain": [
              "array(['CAGB', 'OAGB', 'PAGB', 'RSG', 'YSO'], dtype=object)"
            ]
          },
          "metadata": {},
          "execution_count": 9
        }
      ]
    },
    {
      "cell_type": "markdown",
      "source": [
        "Here we use an algorithm named IterativeImputer to fill the blank (NaN) data points.\n",
        "\n",
        "A strategy for imputing missing values by modeling each feature with missing values as a function of other features in a round-robin fashion.\n",
        "\n",
        "A more sophisticated approach is to use the IterativeImputer class, which models each feature with missing values as a function of other features, and uses that estimate for imputation. It does so in an iterated round-robin fashion: at each step, a feature column is designated as output y and the other feature columns are treated as inputs X. A regressor is fit on (X, y) for known y. Then, the regressor is used to predict the missing values of y. This is done for each feature in an iterative fashion, and then is repeated for max_iter imputation rounds. The results of the final imputation round are returned.\n",
        "\n",
        "For more information : https://scikit-learn.org/stable/modules/impute.html#iterative-imputer"
      ],
      "metadata": {
        "id": "OT0OmvX3txFJ"
      }
    },
    {
      "cell_type": "code",
      "execution_count": 10,
      "metadata": {
        "id": "7-dmeFE_txFK"
      },
      "outputs": [],
      "source": [
        "from sklearn.experimental import enable_iterative_imputer\n",
        "from sklearn.impute import IterativeImputer\n",
        "\n",
        "imp = IterativeImputer( random_state= 0 )\n",
        "df[df.columns[2:-2]] = imp.fit_transform(df[df.columns[2:-2]])"
      ]
    },
    {
      "cell_type": "code",
      "source": [
        "X = df[df.columns[2:-2]]\n",
        "Y = Y['EY']"
      ],
      "metadata": {
        "id": "JjVxt5-iiDrU"
      },
      "execution_count": 11,
      "outputs": []
    },
    {
      "cell_type": "code",
      "source": [
        "from sklearn.model_selection import train_test_split\n",
        "X_train, X_test, Y_train, Y_test = train_test_split( X , Y , test_size= 0.10 , random_state = 1234 )\n",
        "print('X_train : ' , X_train.shape)\n",
        "print('X_test : ' , X_test.shape)\n",
        "print('Y_train : ' , Y_train.shape)\n",
        "print('Y_test : ' , Y_test.shape)"
      ],
      "metadata": {
        "colab": {
          "base_uri": "https://localhost:8080/"
        },
        "id": "SoyLpSHR0Ibn",
        "outputId": "765c2757-081a-40b3-e9b1-1b241765ec60"
      },
      "execution_count": 12,
      "outputs": [
        {
          "output_type": "stream",
          "name": "stdout",
          "text": [
            "X_train :  (547, 12)\n",
            "X_test :  (61, 12)\n",
            "Y_train :  (547,)\n",
            "Y_test :  (61,)\n"
          ]
        }
      ]
    },
    {
      "cell_type": "markdown",
      "source": [
        "Smote"
      ],
      "metadata": {
        "id": "qrAgv8mOf31b"
      }
    },
    {
      "cell_type": "code",
      "source": [
        "!pip install imbalanced-learn"
      ],
      "metadata": {
        "colab": {
          "base_uri": "https://localhost:8080/"
        },
        "id": "ClPl6gckf7Pn",
        "outputId": "02ce04cb-eb49-409b-e6b3-ade3194725d0"
      },
      "execution_count": 13,
      "outputs": [
        {
          "output_type": "stream",
          "name": "stdout",
          "text": [
            "Looking in indexes: https://pypi.org/simple, https://us-python.pkg.dev/colab-wheels/public/simple/\n",
            "Requirement already satisfied: imbalanced-learn in /usr/local/lib/python3.10/dist-packages (0.10.1)\n",
            "Requirement already satisfied: numpy>=1.17.3 in /usr/local/lib/python3.10/dist-packages (from imbalanced-learn) (1.22.4)\n",
            "Requirement already satisfied: scipy>=1.3.2 in /usr/local/lib/python3.10/dist-packages (from imbalanced-learn) (1.10.1)\n",
            "Requirement already satisfied: scikit-learn>=1.0.2 in /usr/local/lib/python3.10/dist-packages (from imbalanced-learn) (1.2.2)\n",
            "Requirement already satisfied: joblib>=1.1.1 in /usr/local/lib/python3.10/dist-packages (from imbalanced-learn) (1.2.0)\n",
            "Requirement already satisfied: threadpoolctl>=2.0.0 in /usr/local/lib/python3.10/dist-packages (from imbalanced-learn) (3.1.0)\n"
          ]
        }
      ]
    },
    {
      "cell_type": "code",
      "source": [
        "from imblearn.over_sampling import SMOTE \n",
        "from IPython.display import clear_output\n",
        "clear_output(wait=True)\n",
        "\n",
        "sm = SMOTE(n_jobs=-1)\n",
        "AX_train , AY_train = sm.fit_resample(X_train, Y_train)\n",
        "\n",
        "from IPython.display import clear_output\n",
        "clear_output(wait=True)\n",
        "print(f'Value Counts:\\n{AY_train.value_counts()}')"
      ],
      "metadata": {
        "colab": {
          "base_uri": "https://localhost:8080/"
        },
        "id": "r_wocG27f5-T",
        "outputId": "8742f734-d0f5-40c3-e4f3-41433f44f07c"
      },
      "execution_count": 14,
      "outputs": [
        {
          "output_type": "stream",
          "name": "stdout",
          "text": [
            "Value Counts:\n",
            "4    209\n",
            "2    209\n",
            "1    209\n",
            "0    209\n",
            "3    209\n",
            "Name: EY, dtype: int64\n"
          ]
        }
      ]
    },
    {
      "cell_type": "code",
      "source": [
        "SpClass = ['CAGB', 'OAGB', 'PAGB', 'RSG', 'YSO']\n",
        "AX_train['SpClass'] = AY_train\n",
        "for i in range(len(AX_train)):\n",
        "  j = AX_train.iloc[i,-1]\n",
        "  AX_train.iloc[i,-1] = SpClass[j]"
      ],
      "metadata": {
        "id": "hoEBpCvy1ZOJ"
      },
      "execution_count": 15,
      "outputs": []
    },
    {
      "cell_type": "code",
      "source": [
        "plt.figure(figsize = (8,7), dpi = 100)\n",
        "\n",
        "plt.title('Field 1', fontsize = 13, fontname = \"serif\")\n",
        "\n",
        "plt.tick_params(axis='both',which='major', length=7    ,pad=10,direction='in')\n",
        "plt.tick_params(axis='y'   ,which='both' ,left= True   ,direction='in')\n",
        "plt.tick_params(axis='x'   ,which='both' ,bottom= True ,direction='in')\n",
        "plt.tick_params(axis='x'   ,which='both' ,top= True    ,direction='in')\n",
        "plt.tick_params(axis='y'   ,which='both' ,right= True  ,direction='in')\n",
        "plt.minorticks_on()\n",
        "\n",
        "xmax , xmin = 4 , -1\n",
        "ymax , ymin = -3  , -15 \n",
        "\n",
        "plt.xticks(np.arange(xmin , xmax , step=1))\n",
        "plt.yticks(np.arange(ymin , ymax , step=1))\n",
        "plt.xlim(xmin, xmax )\n",
        "plt.ylim(ymax, ymin )\n",
        "\n",
        "plt.xlabel('[3.6] $-$ [4.5] [mag]', fontsize = 13, fontname = \"serif\")\n",
        "plt.ylabel('[4.5] [mag]'          , fontsize = 13, fontname = \"serif\")\n",
        "\n",
        "colors = ['red','green','blue','magenta','cyan']\n",
        "SpClass = ['YSO','CAGB','OAGB','RSG','PAGB']\n",
        "\n",
        "#DSS\n",
        "for i in range(len(SpClass)):\n",
        "  df_ = AX_train[AX_train['SpClass'] == SpClass[i]]\n",
        "  color_ = colors[i] \n",
        "  plt.scatter(df_['[3.6]'] - df_['[4.5]'], df_['[4.5]'] , c=colors[i] ,label = SpClass[i] )\n",
        "\n",
        "plt.legend(loc='upper right')\n",
        "plt.savefig('CMD_35_Smote.png', bbox_inches='tight', dpi = 400)"
      ],
      "metadata": {
        "colab": {
          "base_uri": "https://localhost:8080/",
          "height": 653
        },
        "id": "QmGJ_AvniJ7L",
        "outputId": "6479c7cb-e8c7-4eac-bf89-f61a92fe15b4"
      },
      "execution_count": 21,
      "outputs": [
        {
          "output_type": "display_data",
          "data": {
            "text/plain": [
              "<Figure size 800x700 with 1 Axes>"
            ],
            "image/png": "[encoded data removed]"
          },
          "metadata": {}
        }
      ]
    },
    {
      "cell_type": "code",
      "source": [
        "plt.figure(figsize = (8,7), dpi = 100)\n",
        "\n",
        "plt.title('Field 1', fontsize = 13, fontname = \"serif\")\n",
        "\n",
        "plt.tick_params(axis='both',which='major', length=7    ,pad=10,direction='in')\n",
        "plt.tick_params(axis='y'   ,which='both' ,left= True   ,direction='in')\n",
        "plt.tick_params(axis='x'   ,which='both' ,bottom= True ,direction='in')\n",
        "plt.tick_params(axis='x'   ,which='both' ,top= True    ,direction='in')\n",
        "plt.tick_params(axis='y'   ,which='both' ,right= True  ,direction='in')\n",
        "plt.minorticks_on()\n",
        "\n",
        "xmax , xmin = 7 , -1\n",
        "ymax , ymin = 0  , -12 \n",
        "\n",
        "plt.xticks(np.arange(xmin , xmax , step=1))\n",
        "plt.yticks(np.arange(ymin , ymax , step=1))\n",
        "plt.xlim(xmin, xmax )\n",
        "plt.ylim(ymax, ymin )\n",
        "\n",
        "plt.xlabel('J$_s$ $-$ K$_s$ [mag]', fontsize = 13, fontname = \"serif\")\n",
        "plt.ylabel('K$_s$ [mag]'          , fontsize = 13, fontname = \"serif\")\n",
        "\n",
        "colors = ['red','green','blue','magenta','cyan']\n",
        "SpClass = ['YSO','CAGB','OAGB','RSG','PAGB']\n",
        "\n",
        "#DSS\n",
        "for i in range(len(SpClass)):\n",
        "  df_ = AX_train[AX_train['SpClass'] == SpClass[i]]\n",
        "  color_ = colors[i] \n",
        "  plt.scatter(df_['Jmag'] - df_['Ksmag'], df_['Ksmag'] , c=colors[i] ,label = SpClass[i] )\n",
        "\n",
        "plt.legend(loc='upper right')\n",
        "plt.savefig('CMD_J_Smote.png', bbox_inches='tight', dpi = 400)"
      ],
      "metadata": {
        "colab": {
          "base_uri": "https://localhost:8080/",
          "height": 653
        },
        "id": "Kz1mLdNMlg7s",
        "outputId": "1ae5afad-faeb-4d4e-b08b-2ace67d75a5b"
      },
      "execution_count": 22,
      "outputs": [
        {
          "output_type": "display_data",
          "data": {
            "text/plain": [
              "<Figure size 800x700 with 1 Axes>"
            ],
            "image/png": "[encoded data removed]"
          },
          "metadata": {}
        }
      ]
    },
    {
      "cell_type": "code",
      "source": [
        "AX_train"
      ],
      "metadata": {
        "colab": {
          "base_uri": "https://localhost:8080/",
          "height": 423
        },
        "id": "wiclAwyqoPXn",
        "outputId": "02ffd72a-aece-490a-e3bb-c14e63968f87"
      },
      "execution_count": 23,
      "outputs": [
        {
          "output_type": "execute_result",
          "data": {
            "text/plain": [
              "          Umag      Bmag      Vmag      Imag      Jmag      Hmag     Ksmag  \\\n",
              "0    -2.535000 -0.869000 -2.056000 -2.659000 -3.166000 -3.997000 -5.231000   \n",
              "1    -3.581000 -2.961000 -3.829000 -2.341000 -3.043000 -3.234000 -4.223000   \n",
              "2    -0.434000  0.274000 -0.368000 -1.299000 -1.523000 -2.784000 -4.413000   \n",
              "3    -0.632000 -2.371000 -4.288000 -6.678000 -8.336000 -9.279487 -9.401028   \n",
              "4    -0.921000  0.035000 -0.780000 -1.846000 -2.466000 -3.087000 -3.911000   \n",
              "...        ...       ...       ...       ...       ...       ...       ...   \n",
              "1040 -4.263430 -4.493212 -5.819827 -8.207104 -8.681987 -9.027738 -9.177745   \n",
              "1041 -3.360084 -4.350441 -6.102233 -6.334662 -6.009780 -7.265970 -8.426061   \n",
              "1042 -1.232605 -2.084750 -5.409816 -6.354989 -6.164705 -7.527067 -9.044698   \n",
              "1043 -2.486027 -3.594777 -5.574489 -6.377280 -6.144058 -7.431560 -8.630111   \n",
              "1044 -2.915531 -4.718304 -6.720790 -7.259613 -6.589549 -8.087888 -9.394098   \n",
              "\n",
              "          [3.6]      [4.5]      [5.8]      [8.0]       [24] SpClass  \n",
              "0     -7.600000  -8.417000  -9.339000 -10.337000 -13.622000     YSO  \n",
              "1     -5.905100  -6.716200  -7.841400  -9.681100 -14.282700    PAGB  \n",
              "2     -7.244500  -8.581700  -9.976000 -11.876200 -16.659800     YSO  \n",
              "3     -9.883000  -9.750000  -9.949000 -10.044000 -10.397000    OAGB  \n",
              "4     -5.750000  -6.486000  -7.366000  -8.985000 -13.175000     YSO  \n",
              "...         ...        ...        ...        ...        ...     ...  \n",
              "1040  -9.793681  -9.653011  -9.809403  -9.926171 -10.815764     RSG  \n",
              "1041 -10.481796 -10.375903 -10.579928 -10.721396 -11.275257     RSG  \n",
              "1042 -11.287119 -11.424544 -11.805388 -12.509895 -15.479199     RSG  \n",
              "1043 -10.740285 -10.685196 -10.973014 -11.390091 -13.666028     RSG  \n",
              "1044 -12.096592 -12.028226 -12.352002 -12.732052 -14.951336     RSG  \n",
              "\n",
              "[1045 rows x 13 columns]"
            ],
            "text/html": [
              "\n",
              "  <div id=\"df-c6b47801-1bee-4801-9610-4cbe616ccb47\">\n",
              "    <div class=\"colab-df-container\">\n",
              "      <div>\n",
              "<style scoped>\n",
              "    .dataframe tbody tr th:only-of-type {\n",
              "        vertical-align: middle;\n",
              "    }\n",
              "\n",
              "    .dataframe tbody tr th {\n",
              "        vertical-align: top;\n",
              "    }\n",
              "\n",
              "    .dataframe thead th {\n",
              "        text-align: right;\n",
              "    }\n",
              "</style>\n",
              "<table border=\"1\" class=\"dataframe\">\n",
              "  <thead>\n",
              "    <tr style=\"text-align: right;\">\n",
              "      <th></th>\n",
              "      <th>Umag</th>\n",
              "      <th>Bmag</th>\n",
              "      <th>Vmag</th>\n",
              "      <th>Imag</th>\n",
              "      <th>Jmag</th>\n",
              "      <th>Hmag</th>\n",
              "      <th>Ksmag</th>\n",
              "      <th>[3.6]</th>\n",
              "      <th>[4.5]</th>\n",
              "      <th>[5.8]</th>\n",
              "      <th>[8.0]</th>\n",
              "      <th>[24]</th>\n",
              "      <th>SpClass</th>\n",
              "    </tr>\n",
              "  </thead>\n",
              "  <tbody>\n",
              "    <tr>\n",
              "      <th>0</th>\n",
              "      <td>-2.535000</td>\n",
              "      <td>-0.869000</td>\n",
              "      <td>-2.056000</td>\n",
              "      <td>-2.659000</td>\n",
              "      <td>-3.166000</td>\n",
              "      <td>-3.997000</td>\n",
              "      <td>-5.231000</td>\n",
              "      <td>-7.600000</td>\n",
              "      <td>-8.417000</td>\n",
              "      <td>-9.339000</td>\n",
              "      <td>-10.337000</td>\n",
              "      <td>-13.622000</td>\n",
              "      <td>YSO</td>\n",
              "    </tr>\n",
              "    <tr>\n",
              "      <th>1</th>\n",
              "      <td>-3.581000</td>\n",
              "      <td>-2.961000</td>\n",
              "      <td>-3.829000</td>\n",
              "      <td>-2.341000</td>\n",
              "      <td>-3.043000</td>\n",
              "      <td>-3.234000</td>\n",
              "      <td>-4.223000</td>\n",
              "      <td>-5.905100</td>\n",
              "      <td>-6.716200</td>\n",
              "      <td>-7.841400</td>\n",
              "      <td>-9.681100</td>\n",
              "      <td>-14.282700</td>\n",
              "      <td>PAGB</td>\n",
              "    </tr>\n",
              "    <tr>\n",
              "      <th>2</th>\n",
              "      <td>-0.434000</td>\n",
              "      <td>0.274000</td>\n",
              "      <td>-0.368000</td>\n",
              "      <td>-1.299000</td>\n",
              "      <td>-1.523000</td>\n",
              "      <td>-2.784000</td>\n",
              "      <td>-4.413000</td>\n",
              "      <td>-7.244500</td>\n",
              "      <td>-8.581700</td>\n",
              "      <td>-9.976000</td>\n",
              "      <td>-11.876200</td>\n",
              "      <td>-16.659800</td>\n",
              "      <td>YSO</td>\n",
              "    </tr>\n",
              "    <tr>\n",
              "      <th>3</th>\n",
              "      <td>-0.632000</td>\n",
              "      <td>-2.371000</td>\n",
              "      <td>-4.288000</td>\n",
              "      <td>-6.678000</td>\n",
              "      <td>-8.336000</td>\n",
              "      <td>-9.279487</td>\n",
              "      <td>-9.401028</td>\n",
              "      <td>-9.883000</td>\n",
              "      <td>-9.750000</td>\n",
              "      <td>-9.949000</td>\n",
              "      <td>-10.044000</td>\n",
              "      <td>-10.397000</td>\n",
              "      <td>OAGB</td>\n",
              "    </tr>\n",
              "    <tr>\n",
              "      <th>4</th>\n",
              "      <td>-0.921000</td>\n",
              "      <td>0.035000</td>\n",
              "      <td>-0.780000</td>\n",
              "      <td>-1.846000</td>\n",
              "      <td>-2.466000</td>\n",
              "      <td>-3.087000</td>\n",
              "      <td>-3.911000</td>\n",
              "      <td>-5.750000</td>\n",
              "      <td>-6.486000</td>\n",
              "      <td>-7.366000</td>\n",
              "      <td>-8.985000</td>\n",
              "      <td>-13.175000</td>\n",
              "      <td>YSO</td>\n",
              "    </tr>\n",
              "    <tr>\n",
              "      <th>...</th>\n",
              "      <td>...</td>\n",
              "      <td>...</td>\n",
              "      <td>...</td>\n",
              "      <td>...</td>\n",
              "      <td>...</td>\n",
              "      <td>...</td>\n",
              "      <td>...</td>\n",
              "      <td>...</td>\n",
              "      <td>...</td>\n",
              "      <td>...</td>\n",
              "      <td>...</td>\n",
              "      <td>...</td>\n",
              "      <td>...</td>\n",
              "    </tr>\n",
              "    <tr>\n",
              "      <th>1040</th>\n",
              "      <td>-4.263430</td>\n",
              "      <td>-4.493212</td>\n",
              "      <td>-5.819827</td>\n",
              "      <td>-8.207104</td>\n",
              "      <td>-8.681987</td>\n",
              "      <td>-9.027738</td>\n",
              "      <td>-9.177745</td>\n",
              "      <td>-9.793681</td>\n",
              "      <td>-9.653011</td>\n",
              "      <td>-9.809403</td>\n",
              "      <td>-9.926171</td>\n",
              "      <td>-10.815764</td>\n",
              "      <td>RSG</td>\n",
              "    </tr>\n",
              "    <tr>\n",
              "      <th>1041</th>\n",
              "      <td>-3.360084</td>\n",
              "      <td>-4.350441</td>\n",
              "      <td>-6.102233</td>\n",
              "      <td>-6.334662</td>\n",
              "      <td>-6.009780</td>\n",
              "      <td>-7.265970</td>\n",
              "      <td>-8.426061</td>\n",
              "      <td>-10.481796</td>\n",
              "      <td>-10.375903</td>\n",
              "      <td>-10.579928</td>\n",
              "      <td>-10.721396</td>\n",
              "      <td>-11.275257</td>\n",
              "      <td>RSG</td>\n",
              "    </tr>\n",
              "    <tr>\n",
              "      <th>1042</th>\n",
              "      <td>-1.232605</td>\n",
              "      <td>-2.084750</td>\n",
              "      <td>-5.409816</td>\n",
              "      <td>-6.354989</td>\n",
              "      <td>-6.164705</td>\n",
              "      <td>-7.527067</td>\n",
              "      <td>-9.044698</td>\n",
              "      <td>-11.287119</td>\n",
              "      <td>-11.424544</td>\n",
              "      <td>-11.805388</td>\n",
              "      <td>-12.509895</td>\n",
              "      <td>-15.479199</td>\n",
              "      <td>RSG</td>\n",
              "    </tr>\n",
              "    <tr>\n",
              "      <th>1043</th>\n",
              "      <td>-2.486027</td>\n",
              "      <td>-3.594777</td>\n",
              "      <td>-5.574489</td>\n",
              "      <td>-6.377280</td>\n",
              "      <td>-6.144058</td>\n",
              "      <td>-7.431560</td>\n",
              "      <td>-8.630111</td>\n",
              "      <td>-10.740285</td>\n",
              "      <td>-10.685196</td>\n",
              "      <td>-10.973014</td>\n",
              "      <td>-11.390091</td>\n",
              "      <td>-13.666028</td>\n",
              "      <td>RSG</td>\n",
              "    </tr>\n",
              "    <tr>\n",
              "      <th>1044</th>\n",
              "      <td>-2.915531</td>\n",
              "      <td>-4.718304</td>\n",
              "      <td>-6.720790</td>\n",
              "      <td>-7.259613</td>\n",
              "      <td>-6.589549</td>\n",
              "      <td>-8.087888</td>\n",
              "      <td>-9.394098</td>\n",
              "      <td>-12.096592</td>\n",
              "      <td>-12.028226</td>\n",
              "      <td>-12.352002</td>\n",
              "      <td>-12.732052</td>\n",
              "      <td>-14.951336</td>\n",
              "      <td>RSG</td>\n",
              "    </tr>\n",
              "  </tbody>\n",
              "</table>\n",
              "<p>1045 rows × 13 columns</p>\n",
              "</div>\n",
              "      <button class=\"colab-df-convert\" onclick=\"convertToInteractive('df-c6b47801-1bee-4801-9610-4cbe616ccb47')\"\n",
              "              title=\"Convert this dataframe to an interactive table.\"\n",
              "              style=\"display:none;\">\n",
              "        \n",
              "  <svg xmlns=\"http://www.w3.org/2000/svg\" height=\"24px\"viewBox=\"0 0 24 24\"\n",
              "       width=\"24px\">\n",
              "    <path d=\"M0 0h24v24H0V0z\" fill=\"none\"/>\n",
              "    <path d=\"M18.56 5.44l.94 2.06.94-2.06 2.06-.94-2.06-.94-.94-2.06-.94 2.06-2.06.94zm-11 1L8.5 8.5l.94-2.06 2.06-.94-2.06-.94L8.5 2.5l-.94 2.06-2.06.94zm10 10l.94 2.06.94-2.06 2.06-.94-2.06-.94-.94-2.06-.94 2.06-2.06.94z\"/><path d=\"M17.41 7.96l-1.37-1.37c-.4-.4-.92-.59-1.43-.59-.52 0-1.04.2-1.43.59L10.3 9.45l-7.72 7.72c-.78.78-.78 2.05 0 2.83L4 21.41c.39.39.9.59 1.41.59.51 0 1.02-.2 1.41-.59l7.78-7.78 2.81-2.81c.8-.78.8-2.07 0-2.86zM5.41 20L4 18.59l7.72-7.72 1.47 1.35L5.41 20z\"/>\n",
              "  </svg>\n",
              "      </button>\n",
              "      \n",
              "  <style>\n",
              "    .colab-df-container {\n",
              "      display:flex;\n",
              "      flex-wrap:wrap;\n",
              "      gap: 12px;\n",
              "    }\n",
              "\n",
              "    .colab-df-convert {\n",
              "      background-color: #E8F0FE;\n",
              "      border: none;\n",
              "      border-radius: 50%;\n",
              "      cursor: pointer;\n",
              "      display: none;\n",
              "      fill: #1967D2;\n",
              "      height: 32px;\n",
              "      padding: 0 0 0 0;\n",
              "      width: 32px;\n",
              "    }\n",
              "\n",
              "    .colab-df-convert:hover {\n",
              "      background-color: #E2EBFA;\n",
              "      box-shadow: 0px 1px 2px rgba(60, 64, 67, 0.3), 0px 1px 3px 1px rgba(60, 64, 67, 0.15);\n",
              "      fill: #174EA6;\n",
              "    }\n",
              "\n",
              "    [theme=dark] .colab-df-convert {\n",
              "      background-color: #3B4455;\n",
              "      fill: #D2E3FC;\n",
              "    }\n",
              "\n",
              "    [theme=dark] .colab-df-convert:hover {\n",
              "      background-color: #434B5C;\n",
              "      box-shadow: 0px 1px 3px 1px rgba(0, 0, 0, 0.15);\n",
              "      filter: drop-shadow(0px 1px 2px rgba(0, 0, 0, 0.3));\n",
              "      fill: #FFFFFF;\n",
              "    }\n",
              "  </style>\n",
              "\n",
              "      <script>\n",
              "        const buttonEl =\n",
              "          document.querySelector('#df-c6b47801-1bee-4801-9610-4cbe616ccb47 button.colab-df-convert');\n",
              "        buttonEl.style.display =\n",
              "          google.colab.kernel.accessAllowed ? 'block' : 'none';\n",
              "\n",
              "        async function convertToInteractive(key) {\n",
              "          const element = document.querySelector('#df-c6b47801-1bee-4801-9610-4cbe616ccb47');\n",
              "          const dataTable =\n",
              "            await google.colab.kernel.invokeFunction('convertToInteractive',\n",
              "                                                     [key], {});\n",
              "          if (!dataTable) return;\n",
              "\n",
              "          const docLinkHtml = 'Like what you see? Visit the ' +\n",
              "            '<a target=\"_blank\" href=https://colab.research.google.com/notebooks/data_table.ipynb>data table notebook</a>'\n",
              "            + ' to learn more about interactive tables.';\n",
              "          element.innerHTML = '';\n",
              "          dataTable['output_type'] = 'display_data';\n",
              "          await google.colab.output.renderOutput(dataTable, element);\n",
              "          const docLink = document.createElement('div');\n",
              "          docLink.innerHTML = docLinkHtml;\n",
              "          element.appendChild(docLink);\n",
              "        }\n",
              "      </script>\n",
              "    </div>\n",
              "  </div>\n",
              "  "
            ]
          },
          "metadata": {},
          "execution_count": 23
        }
      ]
    },
    {
      "cell_type": "code",
      "source": [
        "plt.hist(AX_train['SpClass'])"
      ],
      "metadata": {
        "id": "OetUhAqT8SzD",
        "colab": {
          "base_uri": "https://localhost:8080/",
          "height": 484
        },
        "outputId": "3b01960a-4cbb-4108-aaa4-36067913d16b"
      },
      "execution_count": 24,
      "outputs": [
        {
          "output_type": "execute_result",
          "data": {
            "text/plain": [
              "(array([209.,   0., 209.,   0.,   0., 209.,   0., 209.,   0., 209.]),\n",
              " array([0. , 0.4, 0.8, 1.2, 1.6, 2. , 2.4, 2.8, 3.2, 3.6, 4. ]),\n",
              " <BarContainer object of 10 artists>)"
            ]
          },
          "metadata": {},
          "execution_count": 24
        },
        {
          "output_type": "display_data",
          "data": {
            "text/plain": [
              "<Figure size 640x480 with 1 Axes>"
            ],
            "image/png": "[encoded data removed]"
          },
          "metadata": {}
        }
      ]
    },
    {
      "cell_type": "code",
      "source": [
        "AX_train.to_csv('Smote_train_data.csv', header=True, index=True)"
      ],
      "metadata": {
        "id": "x19FCJ2moxbq"
      },
      "execution_count": 25,
      "outputs": []
    },
    {
      "cell_type": "code",
      "source": [],
      "metadata": {
        "id": "UeD0L9cqZWl0"
      },
      "execution_count": null,
      "outputs": []
    }
  ]
}