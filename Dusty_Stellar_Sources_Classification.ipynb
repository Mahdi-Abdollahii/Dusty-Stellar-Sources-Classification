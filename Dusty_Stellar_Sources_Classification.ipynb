{
  "cells": [
    {
      "cell_type": "markdown",
      "metadata": {
        "id": "view-in-github",
        "colab_type": "text"
      },
      "source": [
        "<a href=\"https://colab.research.google.com/github/Mahdi-Abdollahii/Dusty-Stellar-Sources-Classification/blob/main/Dusty_Stellar_Sources_Classification.ipynb\" target=\"_parent\"><img src=\"https://colab.research.google.com/assets/colab-badge.svg\" alt=\"Open In Colab\"/></a>"
      ]
    },
    {
      "cell_type": "markdown",
      "source": [
        "\n",
        "The project is hosted on GitHub. Get a copy by running:"
      ],
      "metadata": {
        "id": "vn42cBiwsJre"
      }
    },
    {
      "cell_type": "code",
      "source": [
        "!git clone https://github.com/Mahdi-Abdollahii/Dusty-Stellar-Sources-Classification.git"
      ],
      "metadata": {
        "colab": {
          "base_uri": "https://localhost:8080/"
        },
        "id": "t8k-ZM4ysWOk",
        "outputId": "2e1ef785-23ec-4ecf-b830-f7921cf1b6ae"
      },
      "execution_count": 1,
      "outputs": [
        {
          "output_type": "stream",
          "name": "stdout",
          "text": [
            "Cloning into 'Dusty-Stellar-Sources-Classification'...\n",
            "remote: Enumerating objects: 24, done.\u001b[K\n",
            "remote: Counting objects: 100% (24/24), done.\u001b[K\n",
            "remote: Compressing objects: 100% (22/22), done.\u001b[K\n",
            "remote: Total 24 (delta 5), reused 0 (delta 0), pack-reused 0\u001b[K\n",
            "Unpacking objects: 100% (24/24), done.\n"
          ]
        }
      ]
    },
    {
      "cell_type": "markdown",
      "metadata": {
        "id": "XOukgp88eK_l"
      },
      "source": [
        "# Pre"
      ]
    },
    {
      "cell_type": "code",
      "execution_count": 2,
      "metadata": {
        "colab": {
          "base_uri": "https://localhost:8080/"
        },
        "id": "_xYXTtukc4Oe",
        "outputId": "552b8a48-9cd4-42ef-dc21-20195f2541cd"
      },
      "outputs": [
        {
          "output_type": "stream",
          "name": "stdout",
          "text": [
            "Looking in indexes: https://pypi.org/simple, https://us-python.pkg.dev/colab-wheels/public/simple/\n",
            "Collecting pyunpack\n",
            "  Downloading pyunpack-0.3-py2.py3-none-any.whl (4.1 kB)\n",
            "Collecting entrypoint2\n",
            "  Downloading entrypoint2-1.1-py2.py3-none-any.whl (9.9 kB)\n",
            "Collecting easyprocess\n",
            "  Downloading EasyProcess-1.1-py3-none-any.whl (8.7 kB)\n",
            "Installing collected packages: entrypoint2, easyprocess, pyunpack\n",
            "Successfully installed easyprocess-1.1 entrypoint2-1.1 pyunpack-0.3\n",
            "Looking in indexes: https://pypi.org/simple, https://us-python.pkg.dev/colab-wheels/public/simple/\n",
            "Collecting patool\n",
            "  Downloading patool-1.12-py2.py3-none-any.whl (77 kB)\n",
            "\u001b[K     |████████████████████████████████| 77 kB 3.1 MB/s \n",
            "\u001b[?25hInstalling collected packages: patool\n",
            "Successfully installed patool-1.12\n"
          ]
        }
      ],
      "source": [
        "import pandas as pd\n",
        "import numpy as np\n",
        "import matplotlib.pyplot as plt\n",
        "import io, requests, zipfile\n",
        "from zipfile import ZipFile\n",
        "import seaborn as sns\n",
        "\n",
        "!pip install pyunpack\n",
        "!pip install patool\n",
        "from pyunpack import Archive\n",
        "\n",
        "import warnings\n",
        "warnings.filterwarnings('ignore')\n",
        "\n",
        "\n",
        "plt.rcParams.update({'font.size': 20, 'figure.figsize':(8,6)})\n",
        "SMALL_SIZE = 12\n",
        "MEDIUM_SIZE = 15\n",
        "BIGGER_SIZE = 18\n",
        "\n",
        "plt.rc('font', size=BIGGER_SIZE)          # controls default text sizes\n",
        "plt.rc('axes', titlesize=MEDIUM_SIZE)     # fontsize of the axes title\n",
        "plt.rc('axes', labelsize=BIGGER_SIZE)    # fontsize of the x and y labels\n",
        "plt.rc('xtick', labelsize=SMALL_SIZE)    # fontsize of the tick labels\n",
        "plt.rc('ytick', labelsize=SMALL_SIZE)    # fontsize of the tick labels\n",
        "plt.rc('legend', fontsize=MEDIUM_SIZE)    # legend fontsize\n",
        "plt.rc('figure', titlesize=BIGGER_SIZE)  # fontsize of the figure title\n",
        "\n",
        "plt.rc('axes', linewidth = 5 )\n",
        "plt.rc('lines', linewidth = 5 )\n",
        "\n",
        "plt.rc('lines', markersize = 5 )\n",
        "\n",
        "plt.rc('figure', figsize=(8,4) )         # Image size"
      ]
    },
    {
      "cell_type": "markdown",
      "metadata": {
        "id": "pg9kRo7v7bY_"
      },
      "source": [
        "> * **Save file function**"
      ]
    },
    {
      "cell_type": "code",
      "execution_count": 3,
      "metadata": {
        "id": "y0dtYscheD6j"
      },
      "outputs": [],
      "source": [
        "def savefile(df,name):\n",
        "  t = df\n",
        "  t.to_csv(name, header=True, index=True)\n",
        "  return 0"
      ]
    },
    {
      "cell_type": "markdown",
      "metadata": {
        "id": "_vYje_5KMeg2"
      },
      "source": [
        "---\n",
        "# Data Preprocessing\n"
      ]
    },
    {
      "cell_type": "markdown",
      "metadata": {
        "id": "lKizSYJR0uYh"
      },
      "source": [
        "* **SMC**"
      ]
    },
    {
      "cell_type": "code",
      "execution_count": 4,
      "metadata": {
        "id": "mDuAZQPGaupy",
        "colab": {
          "base_uri": "https://localhost:8080/"
        },
        "outputId": "76c8199e-a423-4297-a55a-203f6fd3273a"
      },
      "outputs": [
        {
          "output_type": "execute_result",
          "data": {
            "text/plain": [
              "C-AGB                    39\n",
              "STAR: dusty OB star      23\n",
              "YSO-3                    22\n",
              "RSG                      22\n",
              "C-PN                     20\n",
              "YSO-1                    14\n",
              "O-AGB                    11\n",
              "WR                       10\n",
              "YSO-4                    10\n",
              "O-EAGB                    8\n",
              "YSO-2                     5\n",
              "O-PN                      4\n",
              "STAR                      4\n",
              "RCrB                      3\n",
              "C-PAGB                    3\n",
              "HII                       3\n",
              "OTHER: B[e] star          2\n",
              "OTHER: FG O-EAGB          2\n",
              "OTHER: S Star             1\n",
              "O-PAGB                    1\n",
              "OTHER: symbiotic star     1\n",
              "BSG                       1\n",
              "Name: Class, dtype: int64"
            ]
          },
          "metadata": {},
          "execution_count": 4
        }
      ],
      "source": [
        "from astropy.io import fits\n",
        "\n",
        "a = fits.open('/content/Dusty-Stellar-Sources-Classification/Data/J_MNRAS_451_3504_table2.dat.fits')\n",
        "a[1].columns['---'].name = 'new_name1'\n",
        "a[1].columns['---'].name = 'new_name2'\n",
        "a[1].columns['---'].name = 'new_name3'\n",
        "a[1].columns['---'].name = 'new_name4'\n",
        "a[1].columns['---'].name = 'new_name5'\n",
        "a[1].columns['---'].name = 'new_name6'\n",
        "\n",
        "smc = pd.DataFrame(a[1].data)\n",
        "smc['Class'].value_counts()"
      ]
    },
    {
      "cell_type": "code",
      "execution_count": 5,
      "metadata": {
        "id": "7SWLRWV62Dab",
        "colab": {
          "base_uri": "https://localhost:8080/"
        },
        "outputId": "c62b9167-5910-4e14-8d84-42d306293b6d"
      },
      "outputs": [
        {
          "output_type": "execute_result",
          "data": {
            "text/plain": [
              "YSO     51\n",
              "CAGB    39\n",
              "RSG     22\n",
              "OAGB    19\n",
              "PAGB     4\n",
              "Name: Class, dtype: int64"
            ]
          },
          "metadata": {},
          "execution_count": 5
        }
      ],
      "source": [
        "a1 = smc.loc[smc['Class']=='O-AGB                ']\n",
        "a2 = smc.loc[smc['Class']=='C-AGB                ']\n",
        "a3 = smc.loc[smc['Class']=='YSO-1                ']\n",
        "a4 = smc.loc[smc['Class']=='YSO-2                ']\n",
        "a5 = smc.loc[smc['Class']=='YSO-3                ']\n",
        "a6 = smc.loc[smc['Class']=='YSO-4                ']\n",
        "a7 = smc.loc[smc['Class']=='RSG                  ']\n",
        "a8 = smc.loc[smc['Class']=='O-EAGB               ']\n",
        "a9 = smc.loc[smc['Class']=='O-PAGB               ']\n",
        "b1 = smc.loc[smc['Class']=='C-PAGB               ']\n",
        "\n",
        "a = pd.concat([a1,a2,a3,a4,a5,a6,a7,a8,a9,b1])\n",
        "a = a.reset_index(drop=True)\n",
        "a['Class'].value_counts()\n",
        "\n",
        "a['Class'] = a['Class'].replace({'YSO-1                ':'YSO','O-EAGB               ':'OAGB',\n",
        "                                 'YSO-2                ':'YSO','O-AGB                ':'OAGB',\n",
        "                                 'YSO-3                ':'YSO','RSG                  ':'RSG',\n",
        "                                 'YSO-4                ':'YSO','C-AGB                ':'CAGB',\n",
        "                                 'O-PAGB               ':'PAGB','C-PAGB               ':'PAGB'})\n",
        "SMC = a\n",
        "SMC['Class'].value_counts()"
      ]
    },
    {
      "cell_type": "code",
      "execution_count": 6,
      "metadata": {
        "id": "pRWFr3_98Q7k",
        "colab": {
          "base_uri": "https://localhost:8080/"
        },
        "outputId": "241775e6-7bed-4343-a402-2a50013c9fa0"
      },
      "outputs": [
        {
          "output_type": "stream",
          "name": "stdout",
          "text": [
            "(135, 22)\n"
          ]
        }
      ],
      "source": [
        "x_SMC = SMC[['UMmag','BMmag','VMmag','IMmag','<Vmag>','<Imag>','Iamp','P2','J2mag',\n",
        "         'H2mag','Ks2mag','JImag','HImag','KImag','IRAC1','IRAC2','IRAC3','IRAC4',\n",
        "         '[24]','[70]','[160]','Tmcd']]\n",
        "y_SMC = SMC['Class']\n",
        "\n",
        "x_SMC = x_SMC.rename(columns={'UMmag':'Umag','BMmag':'Bmag','VMmag':'Vmag','IMmag':'Imag','Iamp':'IAmp',\n",
        "                           'P2':'Per','JImag':'Jmag','HImag':'Hmag','KImag':'Ksmag','IRAC1':'[3.6]',\n",
        "                           'IRAC2':'[4.5]','IRAC3':'[5.8]','IRAC4':'[8.0]','Tmcd':'TeffMcD'})\n",
        "\n",
        "print(x_SMC.shape)"
      ]
    },
    {
      "cell_type": "markdown",
      "metadata": {
        "id": "p-N-vhKo1ygr"
      },
      "source": [
        "----\n",
        "* **LMC**"
      ]
    },
    {
      "cell_type": "code",
      "execution_count": 7,
      "metadata": {
        "id": "DXrpS1FrbJPR",
        "colab": {
          "base_uri": "https://localhost:8080/"
        },
        "outputId": "45ef6a32-9e3f-494f-929b-9310a72c42a2"
      },
      "outputs": [
        {
          "output_type": "execute_result",
          "data": {
            "text/plain": [
              "     HII    155\n",
              "    CAGB    152\n",
              "    OAGB     89\n",
              "    YSO3     81\n",
              "     RSG     72\n",
              "    YSO1     56\n",
              "HII/YSO3     37\n",
              "    STAR     31\n",
              "     OPN     28\n",
              "    YSO4     23\n",
              "   CPAGB     19\n",
              "    YSO2     16\n",
              "     LBV     15\n",
              "   OPAGB     14\n",
              "     CPN     14\n",
              "      WR     11\n",
              "   RVTau     10\n",
              "    B[e]      9\n",
              "     GAL      8\n",
              "     SNR      7\n",
              "    RCrB      6\n",
              "     UNK      5\n",
              "     BSG      2\n",
              "    Nova      1\n",
              "     YSG      1\n",
              "Name: SpClass, dtype: int64"
            ]
          },
          "metadata": {},
          "execution_count": 7
        }
      ],
      "source": [
        "from astropy.io import fits\n",
        "import pandas as pd\n",
        "with fits.open('/content/Dusty-Stellar-Sources-Classification/Data/J_MNRAS_470_3250_table2.dat.fits') as data:\n",
        "    lmc = pd.DataFrame(data[1].data)\n",
        "\n",
        "lmc['SpClass'].value_counts()"
      ]
    },
    {
      "cell_type": "code",
      "execution_count": 8,
      "metadata": {
        "id": "YAeJQGXP1ggq",
        "colab": {
          "base_uri": "https://localhost:8080/"
        },
        "outputId": "a2f91e02-eb51-4b4c-a786-c57879dc423d"
      },
      "outputs": [
        {
          "output_type": "execute_result",
          "data": {
            "text/plain": [
              "YSO     213\n",
              "CAGB    152\n",
              "OAGB     89\n",
              "RSG      72\n",
              "PAGB     33\n",
              "Name: SpClass, dtype: int64"
            ]
          },
          "metadata": {},
          "execution_count": 8
        }
      ],
      "source": [
        "a1 = lmc.loc[lmc['SpClass']=='    OAGB']\n",
        "a2 = lmc.loc[lmc['SpClass']=='    CAGB']\n",
        "a3 = lmc.loc[lmc['SpClass']=='    YSO1']\n",
        "a4 = lmc.loc[lmc['SpClass']=='    YSO2']\n",
        "a5 = lmc.loc[lmc['SpClass']=='    YSO3']\n",
        "a6 = lmc.loc[lmc['SpClass']=='HII/YSO3']\n",
        "a7 = lmc.loc[lmc['SpClass']=='    YSO4']\n",
        "a8 = lmc.loc[lmc['SpClass']=='   CPAGB']\n",
        "a9 = lmc.loc[lmc['SpClass']=='   OPAGB']\n",
        "b1 = lmc.loc[lmc['SpClass']=='     RSG']\n",
        "\n",
        "a = pd.concat([a1,a2,a3,a4,a5,a6,a7,a8,a9,b1])\n",
        "a = a.reset_index(drop=True)\n",
        "a['SpClass'].value_counts()\n",
        "\n",
        "a['SpClass'] = a['SpClass'].replace({'    OAGB': 'OAGB','    CAGB': 'CAGB','    YSO1':'YSO',\n",
        "                                     '    YSO2':'YSO','    YSO3':'YSO','   CPAGB':'PAGB',\n",
        "                                     '   OPAGB':'PAGB','HII/YSO3':'YSO','    YSO4':'YSO',\n",
        "                                     '     RSG':'RSG'})\n",
        "LMC = a\n",
        "LMC['SpClass'].value_counts()"
      ]
    },
    {
      "cell_type": "code",
      "execution_count": 9,
      "metadata": {
        "id": "77f2fjh19GWo",
        "colab": {
          "base_uri": "https://localhost:8080/"
        },
        "outputId": "504d82e7-e862-4b42-8740-f4fa4a57469b"
      },
      "outputs": [
        {
          "output_type": "stream",
          "name": "stdout",
          "text": [
            "(559, 22)\n"
          ]
        }
      ],
      "source": [
        "x_LMC = LMC[['Umag','Bmag','Vmag','Imag','<Vmag>','<Imag>','IAmp','Per','J2mag',\n",
        "         'H2mag','Ks2mag','Jmag','Hmag','Ksmag','[3.6]','[4.5]','[5.8]','[8.0]',\n",
        "         '[24]','[70]','[160]','TeffMcD']]\n",
        "y_LMC = LMC['SpClass']\n",
        "\n",
        "print(x_LMC.shape)"
      ]
    },
    {
      "cell_type": "code",
      "execution_count": 10,
      "metadata": {
        "id": "y5cHbXAbcBch"
      },
      "outputs": [],
      "source": [
        "X = pd.concat([x_LMC,x_SMC])\n",
        "X = X.reset_index(drop=True)\n",
        "Y = pd.concat([y_LMC,y_SMC])\n",
        "Y = Y.reset_index(drop=True)\n",
        "Y = pd.DataFrame(Y)\n",
        "Y.columns = ['Class']"
      ]
    },
    {
      "cell_type": "code",
      "source": [
        "X"
      ],
      "metadata": {
        "colab": {
          "base_uri": "https://localhost:8080/",
          "height": 488
        },
        "id": "PaBnhB33upwG",
        "outputId": "44c869ef-3c90-4c73-b550-33bbd14d7771"
      },
      "execution_count": 11,
      "outputs": [
        {
          "output_type": "execute_result",
          "data": {
            "text/plain": [
              "       Umag    Bmag    Vmag    Imag  <Vmag>  <Imag>    IAmp     Per   J2mag  \\\n",
              "0   -99.000  18.307  16.468  13.943  16.623  13.985   0.057  100.76  12.408   \n",
              "1    13.433  13.584  13.266  12.528 -99.000 -99.000 -99.000  -99.00  12.181   \n",
              "2   -99.000  21.311  19.536  17.339  18.959  16.259   1.228  883.70  15.052   \n",
              "3    19.691  18.868  16.725  13.571 -99.000 -99.000 -99.000  -99.00  12.263   \n",
              "4    17.707  16.211  14.628  13.123 -99.000 -99.000 -99.000  -99.00  12.416   \n",
              "..      ...     ...     ...     ...     ...     ...     ...     ...     ...   \n",
              "689  19.243  17.556  15.127  12.562  15.066  12.513   0.327  383.00  10.864   \n",
              "690  13.820  13.929  13.999  13.620  99.999  99.999  99.999    0.00  13.067   \n",
              "691  99.999  99.999  99.999  99.999  99.999  99.999  99.999    0.00  17.340   \n",
              "692  15.435  15.816  15.439  15.093  99.999  99.999  99.999    0.00  14.726   \n",
              "693  19.248  17.524  15.960  14.457  16.112  14.515   0.081   96.00  13.674   \n",
              "\n",
              "      H2mag  ...   Hmag   Ksmag    [3.6]    [4.5]    [5.8]    [8.0]     [24]  \\\n",
              "0    11.488  ... -99.00 -99.000  10.9099  10.8052  10.6874  10.5041   9.6408   \n",
              "1    11.781  ...  11.66  11.100  10.0871   9.6048   9.2248   8.5769   7.2094   \n",
              "2    13.779  ...  12.79  12.180  11.1326  10.6102  10.0316   9.2020   7.2266   \n",
              "3    11.307  ...  11.34  11.010  10.7319  10.7726  10.5911  10.5096 -99.0000   \n",
              "4    11.740  ...  11.53  11.210  10.5316  10.4196  10.0697   9.4969   7.1893   \n",
              "..      ...  ...    ...     ...      ...      ...      ...      ...      ...   \n",
              "689  10.023  ...  10.08  99.999   9.4930   9.5620   9.4160   9.3020   9.0010   \n",
              "690  12.591  ...  12.60  11.800   9.9690   9.2040   8.5990   7.5370   5.2790   \n",
              "691  15.458  ...  15.80  13.950  10.5710   9.4770   8.5140   7.5210   5.0410   \n",
              "692  14.649  ...  14.60  14.410  13.5580  12.9380  10.6140   8.1270   4.9120   \n",
              "693  13.246  ...  13.28  13.140  12.2930  11.8840  10.3930   8.3070   5.1490   \n",
              "\n",
              "       [70]   [160]  TeffMcD  \n",
              "0   -99.000 -99.000   3156.0  \n",
              "1   -99.000 -99.000   5555.0  \n",
              "2   -99.000 -99.000   2673.0  \n",
              "3   -99.000 -99.000   3145.0  \n",
              "4   -99.000 -99.000   3644.0  \n",
              "..      ...     ...      ...  \n",
              "689  99.999  99.999   2825.0  \n",
              "690  99.999  99.999      0.0  \n",
              "691  99.999  99.999      0.0  \n",
              "692  99.999  99.999      0.0  \n",
              "693  99.999  99.999      0.0  \n",
              "\n",
              "[694 rows x 22 columns]"
            ],
            "text/html": [
              "\n",
              "  <div id=\"df-96f981e5-b7b6-44a8-8077-935c0f94a264\">\n",
              "    <div class=\"colab-df-container\">\n",
              "      <div>\n",
              "<style scoped>\n",
              "    .dataframe tbody tr th:only-of-type {\n",
              "        vertical-align: middle;\n",
              "    }\n",
              "\n",
              "    .dataframe tbody tr th {\n",
              "        vertical-align: top;\n",
              "    }\n",
              "\n",
              "    .dataframe thead th {\n",
              "        text-align: right;\n",
              "    }\n",
              "</style>\n",
              "<table border=\"1\" class=\"dataframe\">\n",
              "  <thead>\n",
              "    <tr style=\"text-align: right;\">\n",
              "      <th></th>\n",
              "      <th>Umag</th>\n",
              "      <th>Bmag</th>\n",
              "      <th>Vmag</th>\n",
              "      <th>Imag</th>\n",
              "      <th>&lt;Vmag&gt;</th>\n",
              "      <th>&lt;Imag&gt;</th>\n",
              "      <th>IAmp</th>\n",
              "      <th>Per</th>\n",
              "      <th>J2mag</th>\n",
              "      <th>H2mag</th>\n",
              "      <th>...</th>\n",
              "      <th>Hmag</th>\n",
              "      <th>Ksmag</th>\n",
              "      <th>[3.6]</th>\n",
              "      <th>[4.5]</th>\n",
              "      <th>[5.8]</th>\n",
              "      <th>[8.0]</th>\n",
              "      <th>[24]</th>\n",
              "      <th>[70]</th>\n",
              "      <th>[160]</th>\n",
              "      <th>TeffMcD</th>\n",
              "    </tr>\n",
              "  </thead>\n",
              "  <tbody>\n",
              "    <tr>\n",
              "      <th>0</th>\n",
              "      <td>-99.000</td>\n",
              "      <td>18.307</td>\n",
              "      <td>16.468</td>\n",
              "      <td>13.943</td>\n",
              "      <td>16.623</td>\n",
              "      <td>13.985</td>\n",
              "      <td>0.057</td>\n",
              "      <td>100.76</td>\n",
              "      <td>12.408</td>\n",
              "      <td>11.488</td>\n",
              "      <td>...</td>\n",
              "      <td>-99.00</td>\n",
              "      <td>-99.000</td>\n",
              "      <td>10.9099</td>\n",
              "      <td>10.8052</td>\n",
              "      <td>10.6874</td>\n",
              "      <td>10.5041</td>\n",
              "      <td>9.6408</td>\n",
              "      <td>-99.000</td>\n",
              "      <td>-99.000</td>\n",
              "      <td>3156.0</td>\n",
              "    </tr>\n",
              "    <tr>\n",
              "      <th>1</th>\n",
              "      <td>13.433</td>\n",
              "      <td>13.584</td>\n",
              "      <td>13.266</td>\n",
              "      <td>12.528</td>\n",
              "      <td>-99.000</td>\n",
              "      <td>-99.000</td>\n",
              "      <td>-99.000</td>\n",
              "      <td>-99.00</td>\n",
              "      <td>12.181</td>\n",
              "      <td>11.781</td>\n",
              "      <td>...</td>\n",
              "      <td>11.66</td>\n",
              "      <td>11.100</td>\n",
              "      <td>10.0871</td>\n",
              "      <td>9.6048</td>\n",
              "      <td>9.2248</td>\n",
              "      <td>8.5769</td>\n",
              "      <td>7.2094</td>\n",
              "      <td>-99.000</td>\n",
              "      <td>-99.000</td>\n",
              "      <td>5555.0</td>\n",
              "    </tr>\n",
              "    <tr>\n",
              "      <th>2</th>\n",
              "      <td>-99.000</td>\n",
              "      <td>21.311</td>\n",
              "      <td>19.536</td>\n",
              "      <td>17.339</td>\n",
              "      <td>18.959</td>\n",
              "      <td>16.259</td>\n",
              "      <td>1.228</td>\n",
              "      <td>883.70</td>\n",
              "      <td>15.052</td>\n",
              "      <td>13.779</td>\n",
              "      <td>...</td>\n",
              "      <td>12.79</td>\n",
              "      <td>12.180</td>\n",
              "      <td>11.1326</td>\n",
              "      <td>10.6102</td>\n",
              "      <td>10.0316</td>\n",
              "      <td>9.2020</td>\n",
              "      <td>7.2266</td>\n",
              "      <td>-99.000</td>\n",
              "      <td>-99.000</td>\n",
              "      <td>2673.0</td>\n",
              "    </tr>\n",
              "    <tr>\n",
              "      <th>3</th>\n",
              "      <td>19.691</td>\n",
              "      <td>18.868</td>\n",
              "      <td>16.725</td>\n",
              "      <td>13.571</td>\n",
              "      <td>-99.000</td>\n",
              "      <td>-99.000</td>\n",
              "      <td>-99.000</td>\n",
              "      <td>-99.00</td>\n",
              "      <td>12.263</td>\n",
              "      <td>11.307</td>\n",
              "      <td>...</td>\n",
              "      <td>11.34</td>\n",
              "      <td>11.010</td>\n",
              "      <td>10.7319</td>\n",
              "      <td>10.7726</td>\n",
              "      <td>10.5911</td>\n",
              "      <td>10.5096</td>\n",
              "      <td>-99.0000</td>\n",
              "      <td>-99.000</td>\n",
              "      <td>-99.000</td>\n",
              "      <td>3145.0</td>\n",
              "    </tr>\n",
              "    <tr>\n",
              "      <th>4</th>\n",
              "      <td>17.707</td>\n",
              "      <td>16.211</td>\n",
              "      <td>14.628</td>\n",
              "      <td>13.123</td>\n",
              "      <td>-99.000</td>\n",
              "      <td>-99.000</td>\n",
              "      <td>-99.000</td>\n",
              "      <td>-99.00</td>\n",
              "      <td>12.416</td>\n",
              "      <td>11.740</td>\n",
              "      <td>...</td>\n",
              "      <td>11.53</td>\n",
              "      <td>11.210</td>\n",
              "      <td>10.5316</td>\n",
              "      <td>10.4196</td>\n",
              "      <td>10.0697</td>\n",
              "      <td>9.4969</td>\n",
              "      <td>7.1893</td>\n",
              "      <td>-99.000</td>\n",
              "      <td>-99.000</td>\n",
              "      <td>3644.0</td>\n",
              "    </tr>\n",
              "    <tr>\n",
              "      <th>...</th>\n",
              "      <td>...</td>\n",
              "      <td>...</td>\n",
              "      <td>...</td>\n",
              "      <td>...</td>\n",
              "      <td>...</td>\n",
              "      <td>...</td>\n",
              "      <td>...</td>\n",
              "      <td>...</td>\n",
              "      <td>...</td>\n",
              "      <td>...</td>\n",
              "      <td>...</td>\n",
              "      <td>...</td>\n",
              "      <td>...</td>\n",
              "      <td>...</td>\n",
              "      <td>...</td>\n",
              "      <td>...</td>\n",
              "      <td>...</td>\n",
              "      <td>...</td>\n",
              "      <td>...</td>\n",
              "      <td>...</td>\n",
              "      <td>...</td>\n",
              "    </tr>\n",
              "    <tr>\n",
              "      <th>689</th>\n",
              "      <td>19.243</td>\n",
              "      <td>17.556</td>\n",
              "      <td>15.127</td>\n",
              "      <td>12.562</td>\n",
              "      <td>15.066</td>\n",
              "      <td>12.513</td>\n",
              "      <td>0.327</td>\n",
              "      <td>383.00</td>\n",
              "      <td>10.864</td>\n",
              "      <td>10.023</td>\n",
              "      <td>...</td>\n",
              "      <td>10.08</td>\n",
              "      <td>99.999</td>\n",
              "      <td>9.4930</td>\n",
              "      <td>9.5620</td>\n",
              "      <td>9.4160</td>\n",
              "      <td>9.3020</td>\n",
              "      <td>9.0010</td>\n",
              "      <td>99.999</td>\n",
              "      <td>99.999</td>\n",
              "      <td>2825.0</td>\n",
              "    </tr>\n",
              "    <tr>\n",
              "      <th>690</th>\n",
              "      <td>13.820</td>\n",
              "      <td>13.929</td>\n",
              "      <td>13.999</td>\n",
              "      <td>13.620</td>\n",
              "      <td>99.999</td>\n",
              "      <td>99.999</td>\n",
              "      <td>99.999</td>\n",
              "      <td>0.00</td>\n",
              "      <td>13.067</td>\n",
              "      <td>12.591</td>\n",
              "      <td>...</td>\n",
              "      <td>12.60</td>\n",
              "      <td>11.800</td>\n",
              "      <td>9.9690</td>\n",
              "      <td>9.2040</td>\n",
              "      <td>8.5990</td>\n",
              "      <td>7.5370</td>\n",
              "      <td>5.2790</td>\n",
              "      <td>99.999</td>\n",
              "      <td>99.999</td>\n",
              "      <td>0.0</td>\n",
              "    </tr>\n",
              "    <tr>\n",
              "      <th>691</th>\n",
              "      <td>99.999</td>\n",
              "      <td>99.999</td>\n",
              "      <td>99.999</td>\n",
              "      <td>99.999</td>\n",
              "      <td>99.999</td>\n",
              "      <td>99.999</td>\n",
              "      <td>99.999</td>\n",
              "      <td>0.00</td>\n",
              "      <td>17.340</td>\n",
              "      <td>15.458</td>\n",
              "      <td>...</td>\n",
              "      <td>15.80</td>\n",
              "      <td>13.950</td>\n",
              "      <td>10.5710</td>\n",
              "      <td>9.4770</td>\n",
              "      <td>8.5140</td>\n",
              "      <td>7.5210</td>\n",
              "      <td>5.0410</td>\n",
              "      <td>99.999</td>\n",
              "      <td>99.999</td>\n",
              "      <td>0.0</td>\n",
              "    </tr>\n",
              "    <tr>\n",
              "      <th>692</th>\n",
              "      <td>15.435</td>\n",
              "      <td>15.816</td>\n",
              "      <td>15.439</td>\n",
              "      <td>15.093</td>\n",
              "      <td>99.999</td>\n",
              "      <td>99.999</td>\n",
              "      <td>99.999</td>\n",
              "      <td>0.00</td>\n",
              "      <td>14.726</td>\n",
              "      <td>14.649</td>\n",
              "      <td>...</td>\n",
              "      <td>14.60</td>\n",
              "      <td>14.410</td>\n",
              "      <td>13.5580</td>\n",
              "      <td>12.9380</td>\n",
              "      <td>10.6140</td>\n",
              "      <td>8.1270</td>\n",
              "      <td>4.9120</td>\n",
              "      <td>99.999</td>\n",
              "      <td>99.999</td>\n",
              "      <td>0.0</td>\n",
              "    </tr>\n",
              "    <tr>\n",
              "      <th>693</th>\n",
              "      <td>19.248</td>\n",
              "      <td>17.524</td>\n",
              "      <td>15.960</td>\n",
              "      <td>14.457</td>\n",
              "      <td>16.112</td>\n",
              "      <td>14.515</td>\n",
              "      <td>0.081</td>\n",
              "      <td>96.00</td>\n",
              "      <td>13.674</td>\n",
              "      <td>13.246</td>\n",
              "      <td>...</td>\n",
              "      <td>13.28</td>\n",
              "      <td>13.140</td>\n",
              "      <td>12.2930</td>\n",
              "      <td>11.8840</td>\n",
              "      <td>10.3930</td>\n",
              "      <td>8.3070</td>\n",
              "      <td>5.1490</td>\n",
              "      <td>99.999</td>\n",
              "      <td>99.999</td>\n",
              "      <td>0.0</td>\n",
              "    </tr>\n",
              "  </tbody>\n",
              "</table>\n",
              "<p>694 rows × 22 columns</p>\n",
              "</div>\n",
              "      <button class=\"colab-df-convert\" onclick=\"convertToInteractive('df-96f981e5-b7b6-44a8-8077-935c0f94a264')\"\n",
              "              title=\"Convert this dataframe to an interactive table.\"\n",
              "              style=\"display:none;\">\n",
              "        \n",
              "  <svg xmlns=\"http://www.w3.org/2000/svg\" height=\"24px\"viewBox=\"0 0 24 24\"\n",
              "       width=\"24px\">\n",
              "    <path d=\"M0 0h24v24H0V0z\" fill=\"none\"/>\n",
              "    <path d=\"M18.56 5.44l.94 2.06.94-2.06 2.06-.94-2.06-.94-.94-2.06-.94 2.06-2.06.94zm-11 1L8.5 8.5l.94-2.06 2.06-.94-2.06-.94L8.5 2.5l-.94 2.06-2.06.94zm10 10l.94 2.06.94-2.06 2.06-.94-2.06-.94-.94-2.06-.94 2.06-2.06.94z\"/><path d=\"M17.41 7.96l-1.37-1.37c-.4-.4-.92-.59-1.43-.59-.52 0-1.04.2-1.43.59L10.3 9.45l-7.72 7.72c-.78.78-.78 2.05 0 2.83L4 21.41c.39.39.9.59 1.41.59.51 0 1.02-.2 1.41-.59l7.78-7.78 2.81-2.81c.8-.78.8-2.07 0-2.86zM5.41 20L4 18.59l7.72-7.72 1.47 1.35L5.41 20z\"/>\n",
              "  </svg>\n",
              "      </button>\n",
              "      \n",
              "  <style>\n",
              "    .colab-df-container {\n",
              "      display:flex;\n",
              "      flex-wrap:wrap;\n",
              "      gap: 12px;\n",
              "    }\n",
              "\n",
              "    .colab-df-convert {\n",
              "      background-color: #E8F0FE;\n",
              "      border: none;\n",
              "      border-radius: 50%;\n",
              "      cursor: pointer;\n",
              "      display: none;\n",
              "      fill: #1967D2;\n",
              "      height: 32px;\n",
              "      padding: 0 0 0 0;\n",
              "      width: 32px;\n",
              "    }\n",
              "\n",
              "    .colab-df-convert:hover {\n",
              "      background-color: #E2EBFA;\n",
              "      box-shadow: 0px 1px 2px rgba(60, 64, 67, 0.3), 0px 1px 3px 1px rgba(60, 64, 67, 0.15);\n",
              "      fill: #174EA6;\n",
              "    }\n",
              "\n",
              "    [theme=dark] .colab-df-convert {\n",
              "      background-color: #3B4455;\n",
              "      fill: #D2E3FC;\n",
              "    }\n",
              "\n",
              "    [theme=dark] .colab-df-convert:hover {\n",
              "      background-color: #434B5C;\n",
              "      box-shadow: 0px 1px 3px 1px rgba(0, 0, 0, 0.15);\n",
              "      filter: drop-shadow(0px 1px 2px rgba(0, 0, 0, 0.3));\n",
              "      fill: #FFFFFF;\n",
              "    }\n",
              "  </style>\n",
              "\n",
              "      <script>\n",
              "        const buttonEl =\n",
              "          document.querySelector('#df-96f981e5-b7b6-44a8-8077-935c0f94a264 button.colab-df-convert');\n",
              "        buttonEl.style.display =\n",
              "          google.colab.kernel.accessAllowed ? 'block' : 'none';\n",
              "\n",
              "        async function convertToInteractive(key) {\n",
              "          const element = document.querySelector('#df-96f981e5-b7b6-44a8-8077-935c0f94a264');\n",
              "          const dataTable =\n",
              "            await google.colab.kernel.invokeFunction('convertToInteractive',\n",
              "                                                     [key], {});\n",
              "          if (!dataTable) return;\n",
              "\n",
              "          const docLinkHtml = 'Like what you see? Visit the ' +\n",
              "            '<a target=\"_blank\" href=https://colab.research.google.com/notebooks/data_table.ipynb>data table notebook</a>'\n",
              "            + ' to learn more about interactive tables.';\n",
              "          element.innerHTML = '';\n",
              "          dataTable['output_type'] = 'display_data';\n",
              "          await google.colab.output.renderOutput(dataTable, element);\n",
              "          const docLink = document.createElement('div');\n",
              "          docLink.innerHTML = docLinkHtml;\n",
              "          element.appendChild(docLink);\n",
              "        }\n",
              "      </script>\n",
              "    </div>\n",
              "  </div>\n",
              "  "
            ]
          },
          "metadata": {},
          "execution_count": 11
        }
      ]
    },
    {
      "cell_type": "code",
      "source": [
        "plt.hist(Y['Class'])"
      ],
      "metadata": {
        "colab": {
          "base_uri": "https://localhost:8080/",
          "height": 320
        },
        "id": "pAAnMH8A9sIM",
        "outputId": "7c44e8b4-6078-4b04-9e20-7116c1c1eeb3"
      },
      "execution_count": 12,
      "outputs": [
        {
          "output_type": "execute_result",
          "data": {
            "text/plain": [
              "(array([108.,   0., 191.,   0.,   0., 264.,   0.,  37.,   0.,  94.]),\n",
              " array([0. , 0.4, 0.8, 1.2, 1.6, 2. , 2.4, 2.8, 3.2, 3.6, 4. ]),\n",
              " <a list of 10 Patch objects>)"
            ]
          },
          "metadata": {},
          "execution_count": 12
        },
        {
          "output_type": "display_data",
          "data": {
            "text/plain": [
              "<Figure size 576x288 with 1 Axes>"
            ],
            "image/png": "[encoded data removed]"
          },
          "metadata": {
            "needs_background": "light"
          }
        }
      ]
    },
    {
      "cell_type": "code",
      "execution_count": 13,
      "metadata": {
        "id": "DGF-QGFp_Q3C",
        "colab": {
          "base_uri": "https://localhost:8080/"
        },
        "outputId": "5f7892ae-2ed0-4e32-a379-dd7bec05ec86"
      },
      "outputs": [
        {
          "output_type": "stream",
          "name": "stdout",
          "text": [
            "Ordinal Encoding:\n"
          ]
        },
        {
          "output_type": "execute_result",
          "data": {
            "text/plain": [
              "array(['CAGB', 'OAGB', 'PAGB', 'RSG', 'YSO'], dtype=object)"
            ]
          },
          "metadata": {},
          "execution_count": 13
        }
      ],
      "source": [
        "from sklearn import preprocessing\n",
        "\n",
        "LE = preprocessing.LabelEncoder()\n",
        "EY = LE.fit_transform(Y)\n",
        "EY = pd.DataFrame(EY)\n",
        "EY.columns = ['EY']\n",
        "\n",
        "print('Ordinal Encoding:')\n",
        "LE.inverse_transform(np.arange(0,5))"
      ]
    },
    {
      "cell_type": "code",
      "source": [
        "from sklearn.model_selection import train_test_split\n",
        "X_train, X_test, y_train, y_test = train_test_split( X , EY , test_size=0.1 , random_state = 1234 )"
      ],
      "metadata": {
        "id": "T-TInqSE9lDL"
      },
      "execution_count": 14,
      "outputs": []
    },
    {
      "cell_type": "code",
      "source": [
        "np.array(X_test)[0]"
      ],
      "metadata": {
        "colab": {
          "base_uri": "https://localhost:8080/"
        },
        "id": "NaRrQetO-4mc",
        "outputId": "9cdea6e1-c669-488c-aa45-c2dbda64fc1c"
      },
      "execution_count": 15,
      "outputs": [
        {
          "output_type": "execute_result",
          "data": {
            "text/plain": [
              "array([  14.623,   14.614,   13.286,   99.999,   99.999,   99.999,\n",
              "         99.999,    0.   ,   10.44 ,    9.6  ,    9.383,   10.43 ,\n",
              "         99.999,   99.999,    9.253,    9.394,    9.252,    9.176,\n",
              "          8.943,   99.999,   99.999, 3575.   ])"
            ]
          },
          "metadata": {},
          "execution_count": 15
        }
      ]
    },
    {
      "cell_type": "code",
      "source": [
        "np.array(X_test)[5]"
      ],
      "metadata": {
        "colab": {
          "base_uri": "https://localhost:8080/"
        },
        "id": "5dLFAPPg_2KF",
        "outputId": "e6a3656d-c029-4e19-9a23-4d5c0039c882"
      },
      "execution_count": 16,
      "outputs": [
        {
          "output_type": "execute_result",
          "data": {
            "text/plain": [
              "array([  16.403 ,   14.455 ,   12.971 ,   10.886 ,  -99.    ,  -99.    ,\n",
              "        -99.    ,  -99.    ,    8.942 ,    8.206 ,    7.837 ,  -99.    ,\n",
              "        -99.    ,  -99.    ,    7.3639,    7.429 ,    7.153 ,    6.6453,\n",
              "          4.3231,  -99.    ,  -99.    , 3271.    ])"
            ]
          },
          "metadata": {},
          "execution_count": 16
        }
      ]
    },
    {
      "cell_type": "code",
      "source": [
        "np.array(X_test)[20]"
      ],
      "metadata": {
        "colab": {
          "base_uri": "https://localhost:8080/"
        },
        "id": "BwbjLwCpAA6Q",
        "outputId": "0da00393-3c19-490b-d350-bef484b211bf"
      },
      "execution_count": null,
      "outputs": [
        {
          "output_type": "execute_result",
          "data": {
            "text/plain": [
              "array([17.684, 18.145, 19.728, 16.185, 99.999, 99.999, 99.999,  0.   ,\n",
              "       15.363, 14.959, 14.154, 15.43 , 15.   , 14.29 , 12.527, 11.612,\n",
              "       10.541,  8.447,  4.055,  0.826, -1.087,  0.   ])"
            ]
          },
          "metadata": {},
          "execution_count": 38
        }
      ]
    },
    {
      "cell_type": "code",
      "source": [
        "np.array(X_test)[30]"
      ],
      "metadata": {
        "colab": {
          "base_uri": "https://localhost:8080/"
        },
        "id": "mQ0gMlQGAGyv",
        "outputId": "5f8d65a9-e5af-4f64-9b5a-3a5f690a200e"
      },
      "execution_count": null,
      "outputs": [
        {
          "output_type": "execute_result",
          "data": {
            "text/plain": [
              "array([ -99.    ,  -99.    ,  -99.    ,  -99.    ,  -99.    ,  -99.    ,\n",
              "        -99.    ,  -99.    ,    9.08  ,    8.329 ,    7.983 ,  -99.    ,\n",
              "        -99.    ,  -99.    ,    7.8596,    7.7518,    7.4739,    6.911 ,\n",
              "          4.3186,  -99.    ,  -99.    , 2673.    ])"
            ]
          },
          "metadata": {},
          "execution_count": 39
        }
      ]
    },
    {
      "cell_type": "code",
      "source": [
        "X.replace([np.inf, -np.inf, -99, 99.999], np.nan, inplace=True)"
      ],
      "metadata": {
        "id": "NwWUDJF1f8K5"
      },
      "execution_count": 17,
      "outputs": []
    },
    {
      "cell_type": "code",
      "source": [
        "X.shape[0]*X.shape[1]"
      ],
      "metadata": {
        "colab": {
          "base_uri": "https://localhost:8080/"
        },
        "id": "BLPxGwsugU5z",
        "outputId": "30a06cdc-b269-4d81-bb57-edf24aa6a24b"
      },
      "execution_count": 21,
      "outputs": [
        {
          "output_type": "execute_result",
          "data": {
            "text/plain": [
              "15268"
            ]
          },
          "metadata": {},
          "execution_count": 21
        }
      ]
    },
    {
      "cell_type": "code",
      "source": [
        "np.count_nonzero(np.isnan(X))"
      ],
      "metadata": {
        "colab": {
          "base_uri": "https://localhost:8080/"
        },
        "id": "Mo8rViQlgMOL",
        "outputId": "66c48379-2add-4f4d-a4a6-9dabd7a8fefd"
      },
      "execution_count": 18,
      "outputs": [
        {
          "output_type": "execute_result",
          "data": {
            "text/plain": [
              "6001"
            ]
          },
          "metadata": {},
          "execution_count": 18
        }
      ]
    },
    {
      "cell_type": "code",
      "source": [
        "np.count_nonzero(np.isnan(X))/(X.shape[0]*X.shape[1])"
      ],
      "metadata": {
        "colab": {
          "base_uri": "https://localhost:8080/"
        },
        "id": "Kew5pO2ygh2e",
        "outputId": "c2553fe1-1cd8-4f84-90c6-717fe745fd8e"
      },
      "execution_count": 22,
      "outputs": [
        {
          "output_type": "execute_result",
          "data": {
            "text/plain": [
              "0.3930442756091171"
            ]
          },
          "metadata": {},
          "execution_count": 22
        }
      ]
    },
    {
      "cell_type": "code",
      "source": [
        "np.array(X).shape[0]"
      ],
      "metadata": {
        "colab": {
          "base_uri": "https://localhost:8080/"
        },
        "id": "W5TvrwdnignL",
        "outputId": "b6c42ccc-f560-4284-d4bf-af5142b4521e"
      },
      "execution_count": 29,
      "outputs": [
        {
          "output_type": "execute_result",
          "data": {
            "text/plain": [
              "694"
            ]
          },
          "metadata": {},
          "execution_count": 29
        }
      ]
    },
    {
      "cell_type": "code",
      "source": [
        "list_row_nan = []\n",
        "X_array = np.array(X)\n",
        "for i in range(0,X_array.shape[0]):\n",
        "  list_row_nan.append(np.count_nonzero(np.isnan(X_array[i])))"
      ],
      "metadata": {
        "id": "Zhh7sET_gvcW"
      },
      "execution_count": 41,
      "outputs": []
    },
    {
      "cell_type": "code",
      "source": [
        "plt.hist(list_row_nan,22)"
      ],
      "metadata": {
        "colab": {
          "base_uri": "https://localhost:8080/",
          "height": 410
        },
        "id": "aFi6Y3hBjAwZ",
        "outputId": "b8e5ace0-311c-4f1e-84e3-bd7dcc52c609"
      },
      "execution_count": 43,
      "outputs": [
        {
          "output_type": "execute_result",
          "data": {
            "text/plain": [
              "(array([ 1., 22., 61., 42., 33., 51., 77., 63., 61., 69.,  0., 45., 46.,\n",
              "        33., 36., 22., 19.,  6.,  2.,  2.,  1.,  2.]),\n",
              " array([ 1.        ,  1.90909091,  2.81818182,  3.72727273,  4.63636364,\n",
              "         5.54545455,  6.45454545,  7.36363636,  8.27272727,  9.18181818,\n",
              "        10.09090909, 11.        , 11.90909091, 12.81818182, 13.72727273,\n",
              "        14.63636364, 15.54545455, 16.45454545, 17.36363636, 18.27272727,\n",
              "        19.18181818, 20.09090909, 21.        ]),\n",
              " <a list of 22 Patch objects>)"
            ]
          },
          "metadata": {},
          "execution_count": 43
        },
        {
          "output_type": "display_data",
          "data": {
            "text/plain": [
              "<Figure size 576x288 with 1 Axes>"
            ],
            "image/png": "[encoded data removed]"
          },
          "metadata": {
            "needs_background": "light"
          }
        }
      ]
    },
    {
      "cell_type": "code",
      "source": [
        "list_col_nan = []\n",
        "X_col_array = np.array(X).reshape(X.shape[1],X.shape[0])\n",
        "for i in range(0,X_col_array.shape[0]):\n",
        "  list_col_nan.append(np.count_nonzero(np.isnan(X_col_array[i])))"
      ],
      "metadata": {
        "id": "fuTXGLLKk9Ub"
      },
      "execution_count": 50,
      "outputs": []
    },
    {
      "cell_type": "code",
      "source": [
        "plt.hist(list_col_nan)"
      ],
      "metadata": {
        "outputId": "25c2ef59-f1ba-4ae9-d2af-8bdf5a2ccf63",
        "colab": {
          "base_uri": "https://localhost:8080/",
          "height": 337
        },
        "id": "y7b74D2Kk9Ub"
      },
      "execution_count": 51,
      "outputs": [
        {
          "output_type": "execute_result",
          "data": {
            "text/plain": [
              "(array([3., 1., 0., 3., 1., 3., 3., 2., 4., 2.]),\n",
              " array([132. , 156.9, 181.8, 206.7, 231.6, 256.5, 281.4, 306.3, 331.2,\n",
              "        356.1, 381. ]),\n",
              " <a list of 10 Patch objects>)"
            ]
          },
          "metadata": {},
          "execution_count": 51
        },
        {
          "output_type": "display_data",
          "data": {
            "text/plain": [
              "<Figure size 576x288 with 1 Axes>"
            ],
            "image/png": "[encoded data removed]"
          },
          "metadata": {
            "needs_background": "light"
          }
        }
      ]
    },
    {
      "cell_type": "code",
      "execution_count": null,
      "metadata": {
        "id": "tM1v_psHAq8d"
      },
      "outputs": [],
      "source": [
        "from sklearn.experimental import enable_iterative_imputer\n",
        "from sklearn.impute import IterativeImputer\n",
        "\n",
        "X.replace([np.inf, -np.inf, -99, 99.999], np.nan, inplace=True)\n",
        "imp = IterativeImputer()\n",
        "imp_data = imp.fit_transform(X)\n",
        "X = pd.DataFrame(imp_data, columns= X.columns)"
      ]
    },
    {
      "cell_type": "code",
      "execution_count": null,
      "metadata": {
        "id": "W61insSGBDrV"
      },
      "outputs": [],
      "source": [
        "Data = pd.concat([X,Y,EY], axis=1)\n",
        "\n",
        "from sklearn.utils import shuffle\n",
        "Data = shuffle(Data, random_state=42)\n",
        "Data = Data.reset_index(drop=True)\n",
        "\n",
        "Data.head()"
      ]
    },
    {
      "cell_type": "code",
      "execution_count": null,
      "metadata": {
        "id": "GPCeaCUIgnb9"
      },
      "outputs": [],
      "source": [
        "Data['Class'].value_counts()"
      ]
    },
    {
      "cell_type": "code",
      "execution_count": null,
      "metadata": {
        "id": "1Fl8Z1ew9D7g"
      },
      "outputs": [],
      "source": [
        "from sklearn.preprocessing import MinMaxScaler, StandardScaler, RobustScaler\n",
        "\n",
        "r_scaler = RobustScaler()\n",
        "X_rbst = r_scaler.fit_transform(X)\n",
        "X_rbst = pd.DataFrame(X_rbst, columns= X.columns)\n",
        "\n",
        "s_scaler = StandardScaler()\n",
        "X_std = s_scaler.fit_transform(X)\n",
        "X_std = pd.DataFrame(X_std, columns= X.columns)\n",
        "\n",
        "mm_scaler = MinMaxScaler()\n",
        "X_mm = mm_scaler.fit_transform(X)\n",
        "X_mm = pd.DataFrame(X_mm, columns= X.columns)"
      ]
    },
    {
      "cell_type": "code",
      "execution_count": null,
      "metadata": {
        "id": "7zZMCxweArGk"
      },
      "outputs": [],
      "source": [
        "from sklearn.decomposition import PCA\n",
        "\n",
        "t = X\n",
        "pca = PCA()\n",
        "t = pca.fit_transform(t)\n",
        "PX = pd.DataFrame(t)   \n",
        "\n",
        "t = X_rbst\n",
        "rpca = PCA()\n",
        "t = rpca.fit_transform(t)\n",
        "PRX = pd.DataFrame(t) \n",
        "\n",
        "t = X_mm\n",
        "mpca = PCA()\n",
        "t = mpca.fit_transform(t)\n",
        "PMX = pd.DataFrame(t)   \n",
        "\n",
        "t = X_std\n",
        "spca = PCA()\n",
        "t = spca.fit_transform(t)\n",
        "PSX = pd.DataFrame(t)"
      ]
    },
    {
      "cell_type": "markdown",
      "metadata": {
        "id": "SsZzqYd5hAzQ"
      },
      "source": [
        "---\n",
        "# **Fitting Models**"
      ]
    },
    {
      "cell_type": "markdown",
      "metadata": {
        "id": "d0xQzjFNi-y0"
      },
      "source": [
        "# Necessary Functions"
      ]
    },
    {
      "cell_type": "code",
      "execution_count": null,
      "metadata": {
        "id": "vEd4vPZqD9sX"
      },
      "outputs": [],
      "source": [
        "from sklearn.model_selection import train_test_split\n",
        "from sklearn.metrics import classification_report\n",
        "from sklearn.metrics import confusion_matrix, plot_confusion_matrix\n",
        "\n",
        "def clf_reports(x,y,clf,normalize=None):\n",
        "\n",
        "  x_train, x_test, y_train, y_test= train_test_split(x, y, test_size=0.2, random_state=42)\n",
        "  clf.fit(x_train, y_train)\n",
        "  #clf.score(x_test,y_test)\n",
        "  tn = ['CAGB', 'OAGB', 'PAGB', 'RSG', 'YSO']\n",
        "\n",
        "  y_pred = clf.predict(x_test)\n",
        "  print(classification_report(y_test, y_pred, target_names=tn),'\\n')\n",
        "\n",
        "  fig, ax = plt.subplots(figsize=(8, 8))\n",
        "  plot_confusion_matrix(clf, x_test, y_test,  ax=ax, display_labels=tn, normalize=normalize)\n",
        "  \n",
        "  return"
      ]
    },
    {
      "cell_type": "code",
      "execution_count": null,
      "metadata": {
        "id": "zbVV0CTeiVcu"
      },
      "outputs": [],
      "source": [
        "from sklearn.model_selection import learning_curve\n",
        "from sklearn.model_selection import ShuffleSplit\n",
        "\n",
        "def LearningCurve(X,EY,clf):\n",
        "  \n",
        "  plt.figure(figsize=(10, 6), dpi=80)\n",
        "  plt.title('Learning Curve')\n",
        "  plt.xlabel(\"Training samples\")\n",
        "  plt.ylabel(\"Score\")\n",
        "  \n",
        "  cv = ShuffleSplit(n_splits=10, test_size=0.2, random_state=42)\n",
        "  train_sizes = np.linspace(0.05, 1, 15)\n",
        "\n",
        "  train_sizes, train_scores, test_scores = learning_curve(\n",
        "      clf, X, EY, cv=cv, n_jobs=-1, train_sizes=train_sizes)\n",
        "\n",
        "  train_scores_mean = np.mean(train_scores, axis=1)\n",
        "  train_scores_std = np.std(train_scores, axis=1)\n",
        "  test_scores_mean = np.mean(test_scores, axis=1)\n",
        "  test_scores_std = np.std(test_scores, axis=1)\n",
        "  plt.grid()\n",
        "\n",
        "  plt.fill_between(train_sizes, train_scores_mean - train_scores_std,\n",
        "                 train_scores_mean + train_scores_std, alpha=0.1,color=\"r\")\n",
        "  plt.fill_between(train_sizes, test_scores_mean - test_scores_std,\n",
        "                 test_scores_mean + test_scores_std, alpha=0.1, color=\"g\")\n",
        "  plt.plot(train_sizes, train_scores_mean, 'o-', color=\"r\",\n",
        "         label=\"Training score\")\n",
        "  plt.plot(train_sizes, test_scores_mean, 'o-', color=\"g\",\n",
        "         label=\"Cross-validation score\")\n",
        "\n",
        "  plt.legend(loc=\"best\")\n",
        "  \n",
        "  return"
      ]
    },
    {
      "cell_type": "code",
      "execution_count": null,
      "metadata": {
        "id": "Sy5R4PI3VEiP"
      },
      "outputs": [],
      "source": [
        "from sklearn.model_selection import learning_curve, validation_curve\n",
        "from sklearn.model_selection import ShuffleSplit\n",
        "from sklearn.model_selection import train_test_split\n",
        "\n",
        "def ValidationCurve(estimator, X, Y, param_range, param_name, \n",
        "                          cv=None, Modelname='', n_jobs=None, xlog=False):\n",
        "  \n",
        "\n",
        "  clf = estimator\n",
        "\n",
        "  train_scores, test_scores = validation_curve(\n",
        "      clf, X, Y, cv=cv, n_jobs=n_jobs, \n",
        "      param_name=param_name, param_range=param_range)\n",
        "  \n",
        "  train_scores_mean = np.mean(train_scores, axis=1)\n",
        "  train_scores_std = np.std(train_scores, axis=1)\n",
        "  test_scores_mean = np.mean(test_scores, axis=1)\n",
        "  test_scores_std = np.std(test_scores, axis=1)\n",
        "\n",
        "  plt.figure(figsize=(8, 6), dpi=80)\n",
        "  #plt.title(f\"Validation Curve with {Modelname}\")\n",
        "  plt.xlabel(f\"{param_name}\")\n",
        "  plt.ylabel(\"Score\")\n",
        "  plt.ylim(0.0, 1.1)\n",
        "  lw = 2\n",
        "  \n",
        "  if (xlog):\n",
        "    plt.semilogx(param_range, train_scores_mean, label=\"Training score\",\n",
        "             color=\"darkorange\", lw=lw)\n",
        "    plt.semilogx(param_range, test_scores_mean, label=\"Cross-validation score\",\n",
        "             color=\"navy\", lw=lw)\n",
        "  else:\n",
        "    plt.plot(param_range, train_scores_mean, label=\"Training score\",\n",
        "             color=\"darkorange\", lw=lw)\n",
        "    plt.plot(param_range, test_scores_mean, label=\"Cross-validation score\",\n",
        "             color=\"navy\", lw=lw)\n",
        "\n",
        "\n",
        "\n",
        "  plt.fill_between(param_range, train_scores_mean - train_scores_std,\n",
        "                 train_scores_mean + train_scores_std, alpha=0.2,\n",
        "                 color=\"darkorange\", lw=lw)\n",
        "  plt.fill_between(param_range, test_scores_mean - test_scores_std,\n",
        "                 test_scores_mean + test_scores_std, alpha=0.2,\n",
        "                 color=\"navy\", lw=lw)\n",
        "  plt.legend(loc=\"best\")\n",
        "  plt.grid()\n",
        "  \n",
        "  return plt"
      ]
    },
    {
      "cell_type": "markdown",
      "metadata": {
        "id": "uAEohAGIjPcC"
      },
      "source": [
        "# KNN"
      ]
    },
    {
      "cell_type": "code",
      "execution_count": null,
      "metadata": {
        "id": "GFA0Pk313Am8"
      },
      "outputs": [],
      "source": [
        "from sklearn.neighbors import KNeighborsClassifier\n",
        "from sklearn.model_selection import GridSearchCV\n",
        "from sklearn.model_selection import RandomizedSearchCV\n",
        "\n",
        "clf = KNeighborsClassifier(n_jobs=-1)\n",
        "\n",
        "weight_options = ['uniform', 'distance']\n",
        "algorithm = ['ball_tree','kd_tree','brute']\n",
        "metric = ['minkowski','euclidean','manhattan']\n",
        "p = [1,2]\n",
        "hyperparameters = dict(algorithm=algorithm ,weights=weight_options,\n",
        "                       metric=metric, p=p)\n",
        "\n",
        "clf0 = GridSearchCV(clf, hyperparameters, cv=10, scoring='f1_micro', n_jobs=-1)\n",
        "clf0.fit(X,EY)\n",
        "clf1 = GridSearchCV(clf, hyperparameters, cv=10, scoring='f1_micro', n_jobs=-1)\n",
        "clf1.fit(X_std,EY)\n",
        "clf2 = GridSearchCV(clf, hyperparameters, cv=10, scoring='f1_micro', n_jobs=-1)\n",
        "clf2.fit(X_mm,EY)\n",
        "clf3 = GridSearchCV(clf, hyperparameters, cv=10, scoring='f1_micro', n_jobs=-1)\n",
        "clf3.fit(X_rbst,EY)\n",
        "\n",
        "print(f'X best score: {clf0.best_score_}, Best parameters: {clf0.best_params_}')\n",
        "print(f'X_std best score: {clf1.best_score_}, Best parameters: {clf1.best_params_}')\n",
        "print(f'X_MinMax best score: {clf2.best_score_}, Best parameters: {clf2.best_params_}')\n",
        "print(f'X_Robust best score: {clf3.best_score_}, Best parameters: {clf3.best_params_}')"
      ]
    },
    {
      "cell_type": "code",
      "execution_count": null,
      "metadata": {
        "id": "H0UQol7U2-pM"
      },
      "outputs": [],
      "source": [
        "from sklearn.model_selection import ShuffleSplit\n",
        "from sklearn.neighbors import KNeighborsClassifier\n",
        "\n",
        "clf = KNeighborsClassifier(algorithm='ball_tree',weights='distance',\n",
        "                           metric='minkowski', p=2)\n",
        "\n",
        "cv = ShuffleSplit(n_splits=10, test_size=0.2, random_state=42)\n",
        "pr = np.arange(1,7)\n",
        "ValidationCurve(clf, X_std, EY, pr, 'n_neighbors',\n",
        "                cv=cv, Modelname='KNN', n_jobs=-1)"
      ]
    },
    {
      "cell_type": "code",
      "source": [
        "from sklearn.neighbors import KNeighborsClassifier\n",
        "\n",
        "clf = KNeighborsClassifier(algorithm='ball_tree',weights='distance',\n",
        "                           metric='minkowski', p=2)\n",
        "clf_reports(X_std,EY,clf)\n",
        "LearningCurve(X_std,EY,clf)"
      ],
      "metadata": {
        "id": "LgCimvcT5AlW"
      },
      "execution_count": null,
      "outputs": []
    },
    {
      "cell_type": "markdown",
      "metadata": {
        "id": "pSdyBjtKkCGI"
      },
      "source": [
        "# DTC"
      ]
    },
    {
      "cell_type": "code",
      "execution_count": null,
      "metadata": {
        "id": "Re2Ksd_5Lhd2"
      },
      "outputs": [],
      "source": [
        "from pandas.core.common import random_state\n",
        "from sklearn.model_selection import GridSearchCV\n",
        "from sklearn.model_selection import RandomizedSearchCV\n",
        "from sklearn.tree import DecisionTreeClassifier as DTC\n",
        "\n",
        "clf = DTC()\n",
        "\n",
        "criterion = ['gini', 'entropy']\n",
        "splitter = ['best','random']\n",
        "max_features = ['auto','sqrt','log2',None]\n",
        "mss = np.arange(1,8)\n",
        "msl = np.arange(1,8)\n",
        "weights = [{0:1000/191,1:1000/108,2:1000/37,3:1000/94,4:1000/264},'balanced',None]\n",
        "\n",
        "hyperparameters = dict(criterion=criterion ,splitter=splitter,\n",
        "                       class_weight=weights, min_samples_leaf=msl,\n",
        "                       min_samples_split = mss, max_features=max_features)\n",
        "\n",
        "\n",
        "clf0 = GridSearchCV(clf, hyperparameters, cv=10, scoring='f1_micro', n_jobs=-1)\n",
        "clf0.fit(X,EY)\n",
        "clf1 = GridSearchCV(clf, hyperparameters, cv=10, scoring='f1_micro', n_jobs=-1)\n",
        "clf1.fit(X_std,EY)\n",
        "clf2 = GridSearchCV(clf, hyperparameters, cv=10, scoring='f1_micro', n_jobs=-1)\n",
        "clf2.fit(X_mm,EY)\n",
        "clf3 = GridSearchCV(clf, hyperparameters, cv=10, scoring='f1_micro', n_jobs=-1)\n",
        "clf3.fit(X_rbst,EY)\n",
        "\n",
        "print(f'X best score: {clf0.best_score_}, Best parameters: {clf0.best_params_}')\n",
        "print(f'X_std best score: {clf1.best_score_}, Best parameters: {clf1.best_params_}')\n",
        "print(f'X_MinMax best score: {clf2.best_score_}, Best parameters: {clf2.best_params_}')\n",
        "print(f'X_Robust best score: {clf3.best_score_}, Best parameters: {clf3.best_params_}')"
      ]
    },
    {
      "cell_type": "code",
      "execution_count": null,
      "metadata": {
        "id": "lAs1GIhnK6xM"
      },
      "outputs": [],
      "source": [
        "from sklearn.model_selection import ShuffleSplit\n",
        "from sklearn.tree import DecisionTreeClassifier as DTC\n",
        "\n",
        "weights = {0:1000/191,1:1000/108,2:1000/37,3:1000/94,4:1000/264}\n",
        "clf = DTC(criterion='entropy' ,splitter='best',\n",
        "          max_features=None, min_samples_split=2,\n",
        "          class_weight=weights, min_samples_leaf=3)\n",
        "\n",
        "cv = ShuffleSplit(n_splits=10, test_size=0.2, random_state=42)\n",
        "pr = np.linspace(1, 20, 20, endpoint=True)\n",
        "ValidationCurve(clf, X_rbst, EY, pr, 'max_depth',\n",
        "                cv=cv, Modelname='DecisionTreeClassifier', n_jobs=-1)"
      ]
    },
    {
      "cell_type": "code",
      "source": [
        "from sklearn.tree import DecisionTreeClassifier as DTC\n",
        "\n",
        "weights = {0:1000/191,1:1000/108,2:1000/37,3:1000/94,4:1000/264}\n",
        "clf = DTC(criterion='entropy' ,splitter='best', max_depth=15,\n",
        "          max_features=None, min_samples_split=2, random_state=42,\n",
        "          class_weight=weights, min_samples_leaf=3)\n",
        "\n",
        "clf_reports(X_rbst,EY,clf)\n",
        "LearningCurve(X_rbst,EY,clf)"
      ],
      "metadata": {
        "id": "gTcWIgq_7JKK"
      },
      "execution_count": null,
      "outputs": []
    },
    {
      "cell_type": "markdown",
      "metadata": {
        "id": "Qrz-Uk8bkSaY"
      },
      "source": [
        "# LDA"
      ]
    },
    {
      "cell_type": "code",
      "source": [
        "from pandas.core.common import random_state\n",
        "from sklearn.model_selection import GridSearchCV\n",
        "from sklearn.model_selection import RandomizedSearchCV\n",
        "from sklearn.discriminant_analysis import LinearDiscriminantAnalysis as LDA\n",
        "\n",
        "clf = LDA()\n",
        "\n",
        "solver = ['svd','lsqr','eigen']\n",
        "shrinkage = ['auto',None,np.arange(0,1,0.01)]\n",
        "n_components = [2,5,10,15,20,25,30,None]\n",
        "\n",
        "hyperparameters = dict(solver=solver, shrinkage=shrinkage,\n",
        "                       n_components=n_components)\n",
        "\n",
        "\n",
        "clf0 = GridSearchCV(clf, hyperparameters, cv=10, scoring='f1_micro', n_jobs=-1)\n",
        "clf0.fit(X,EY)\n",
        "clf1 = GridSearchCV(clf, hyperparameters, cv=10, scoring='f1_micro', n_jobs=-1)\n",
        "clf1.fit(X_std,EY)\n",
        "clf2 = GridSearchCV(clf, hyperparameters, cv=10, scoring='f1_micro', n_jobs=-1)\n",
        "clf2.fit(X_mm,EY)\n",
        "clf3 = GridSearchCV(clf, hyperparameters, cv=10, scoring='f1_micro', n_jobs=-1)\n",
        "clf3.fit(X_rbst,EY)\n",
        "\n",
        "print(f'X best score: {clf0.best_score_}, Best parameters: {clf0.best_params_}')\n",
        "print(f'X_std best score: {clf1.best_score_}, Best parameters: {clf1.best_params_}')\n",
        "print(f'X_MinMax best score: {clf2.best_score_}, Best parameters: {clf2.best_params_}')\n",
        "print(f'X_Robust best score: {clf3.best_score_}, Best parameters: {clf3.best_params_}')"
      ],
      "metadata": {
        "id": "fxNZf-LdI4xX"
      },
      "execution_count": null,
      "outputs": []
    },
    {
      "cell_type": "code",
      "source": [
        "from sklearn.model_selection import ShuffleSplit\n",
        "from sklearn.discriminant_analysis import LinearDiscriminantAnalysis as LDA\n",
        "\n",
        "clf = LDA(solver='eigen',shrinkage=None,n_components=2)\n",
        "\n",
        "cv = ShuffleSplit(n_splits=10, test_size=0.2, random_state=42)\n",
        "pr = np.logspace(-20, 2, num=50, endpoint=True)\n",
        "ValidationCurve(clf, X_mm, EY, pr, 'tol', xlog=True,\n",
        "                cv=cv, Modelname='LDA', n_jobs=-1)"
      ],
      "metadata": {
        "id": "5ssmeSjZRn8v"
      },
      "execution_count": null,
      "outputs": []
    },
    {
      "cell_type": "code",
      "execution_count": null,
      "metadata": {
        "id": "rbWmDzWGdSha"
      },
      "outputs": [],
      "source": [
        "from sklearn.discriminant_analysis import LinearDiscriminantAnalysis as LDA\n",
        "\n",
        "clf = LDA(solver='eigen',shrinkage=None,n_components=2)\n",
        "clf_reports(X_mm,EY,clf)\n",
        "LearningCurve(X_mm,EY,clf)"
      ]
    },
    {
      "cell_type": "markdown",
      "source": [
        "# Gaussian Naive Bayes"
      ],
      "metadata": {
        "id": "c40DhphQadQR"
      }
    },
    {
      "cell_type": "code",
      "source": [
        "from pandas.core.common import random_state\n",
        "from sklearn.model_selection import GridSearchCV\n",
        "from sklearn.model_selection import RandomizedSearchCV\n",
        "from sklearn.naive_bayes import GaussianNB\n",
        "\n",
        "clf = GaussianNB()\n",
        "\n",
        "var_smoothing = np.logspace(1,-10, num=100)\n",
        "hyperparameters = dict(var_smoothing=var_smoothing)\n",
        "\n",
        "\n",
        "clf0 = GridSearchCV(clf, hyperparameters, cv=10, scoring='f1_micro', n_jobs=-1)\n",
        "clf0.fit(X,EY)\n",
        "clf1 = GridSearchCV(clf, hyperparameters, cv=10, scoring='f1_micro', n_jobs=-1)\n",
        "clf1.fit(X_std,EY)\n",
        "clf2 = GridSearchCV(clf, hyperparameters, cv=10, scoring='f1_micro', n_jobs=-1)\n",
        "clf2.fit(X_mm,EY)\n",
        "clf3 = GridSearchCV(clf, hyperparameters, cv=10, scoring='f1_micro', n_jobs=-1)\n",
        "clf3.fit(X_rbst,EY)\n",
        "\n",
        "print(f'X best score: {clf0.best_score_}, Best parameters: {clf0.best_params_}')\n",
        "print(f'X_std best score: {clf1.best_score_}, Best parameters: {clf1.best_params_}')\n",
        "print(f'X_MinMax best score: {clf2.best_score_}, Best parameters: {clf2.best_params_}')\n",
        "print(f'X_Robust best score: {clf3.best_score_}, Best parameters: {clf3.best_params_}')"
      ],
      "metadata": {
        "id": "4yHBcBdKnzec"
      },
      "execution_count": null,
      "outputs": []
    },
    {
      "cell_type": "code",
      "source": [
        "from sklearn.naive_bayes import GaussianNB\n",
        "\n",
        "clf = GaussianNB(var_smoothing=0.0774263682681127)\n",
        "\n",
        "clf_reports(X_std,EY,clf)\n",
        "LearningCurve(X_std,EY,clf)"
      ],
      "metadata": {
        "id": "hWATo1sqmWCh"
      },
      "execution_count": null,
      "outputs": []
    },
    {
      "cell_type": "markdown",
      "source": [
        "# SGD"
      ],
      "metadata": {
        "id": "otwFyojVpi3T"
      }
    },
    {
      "cell_type": "code",
      "source": [
        "from pandas.core.common import random_state\n",
        "from sklearn.model_selection import GridSearchCV\n",
        "from sklearn.model_selection import RandomizedSearchCV\n",
        "from sklearn.model_selection import ShuffleSplit\n",
        "from sklearn.linear_model import SGDClassifier\n",
        "\n",
        "clf = SGDClassifier()\n",
        "\n",
        "n_jobs = [-1]\n",
        "loss = ['hinge','log_loss','log','modified_huber','squared_hinge','perceptron',\n",
        "        'squared_error','huber','epsilon_insensitive','squared_epsilon_insensitive']\n",
        "penalty = ['l2','l1','elasticnet']\n",
        "shuffle = [True,False]\n",
        "average = [True,False]\n",
        "class_weight = [{0:1000/191,1:1000/108,2:1000/37,3:1000/94,4:1000/264},\n",
        "                'balanced',None]\n",
        "tol = np.logspace(-5,0.5, num=6)\n",
        "learning_rate = ['constant','optimal','invscaling','adaptive']\n",
        "power_t = np.linspace(-10,10, num=20)\n",
        "l1_ratio = np.logspace(-4,0, num=10)\n",
        "max_iter = np.logspace(1,5, num=10)\n",
        "epsilon = np.linspace(0.01,1.5, num=15)\n",
        "\n",
        "hyperparameters = dict(n_jobs=n_jobs,loss=loss,penalty=penalty,shuffle=shuffle,\n",
        "                       average=average,class_weight=class_weight,tol=tol,\n",
        "                       learning_rate=learning_rate,power_t=power_t,l1_ratio=l1_ratio,\n",
        "                       max_iter=max_iter,epsilon=epsilon)\n",
        "\n",
        "clf0 = RandomizedSearchCV(clf, hyperparameters, cv=10, scoring='f1_micro', n_jobs=-1)\n",
        "clf0.fit(X,EY)\n",
        "clf1 = RandomizedSearchCV(clf, hyperparameters, cv=10, scoring='f1_micro', n_jobs=-1)\n",
        "clf1.fit(X_std,EY)\n",
        "clf2 = RandomizedSearchCV(clf, hyperparameters, cv=10, scoring='f1_micro', n_jobs=-1)\n",
        "clf2.fit(X_mm,EY)\n",
        "clf3 = RandomizedSearchCV(clf, hyperparameters, cv=10, scoring='f1_micro', n_jobs=-1)\n",
        "clf3.fit(X_rbst,EY)\n",
        "\n",
        "\n",
        "print(f'X best score: {clf0.best_score_}, Best parameters: {clf0.best_params_}')\n",
        "print(f'X_std best score: {clf1.best_score_}, Best parameters: {clf1.best_params_}')\n",
        "print(f'X_MinMax best score: {clf2.best_score_}, Best parameters: {clf2.best_params_}')\n",
        "print(f'X_Robust best score: {clf3.best_score_}, Best parameters: {clf3.best_params_}')"
      ],
      "metadata": {
        "id": "pjuLXQ0w3UQC"
      },
      "execution_count": null,
      "outputs": []
    },
    {
      "cell_type": "code",
      "source": [
        "from sklearn.linear_model import SGDClassifier\n",
        "from sklearn.model_selection import ShuffleSplit\n",
        "\n",
        "clf = SGDClassifier(tol=0.001584893192461114,shuffle=False,loss='log',\n",
        "                    penalty='l2',n_jobs=-1,max_iter=77,power_t=-2.6315789473684212,\n",
        "                    learning_rate='optimal',l1_ratio=0.000774263682681127,\n",
        "                    epsilon=0.01,class_weight=None,average=True)\n",
        "\n",
        "cv = ShuffleSplit(n_splits=10, test_size=0.2, random_state=42)\n",
        "pr = np.logspace(-7,3, num=75)\n",
        "ValidationCurve(clf, X_std, EY, pr, 'alpha', xlog = True,\n",
        "                cv=cv, Modelname='SGD Classifier', n_jobs=-1)"
      ],
      "metadata": {
        "id": "3VLxjOBcJ7c2"
      },
      "execution_count": null,
      "outputs": []
    },
    {
      "cell_type": "code",
      "source": [
        "from sklearn.linear_model import SGDClassifier\n",
        "\n",
        "clf = SGDClassifier(tol=0.001584893192461114,shuffle=False,loss='log',alpha=1e-6,\n",
        "                    penalty='l2',n_jobs=-1,max_iter=77,power_t=-2.6315789473684212,\n",
        "                    learning_rate='optimal',l1_ratio=0.000774263682681127,\n",
        "                    epsilon=0.01,class_weight=None,average=True)\n",
        "\n",
        "clf_reports(X_std,EY,clf)\n",
        "LearningCurve(X_std,EY,clf)"
      ],
      "metadata": {
        "id": "GQAqH_hUw64o"
      },
      "execution_count": null,
      "outputs": []
    },
    {
      "cell_type": "markdown",
      "source": [
        "# SVC"
      ],
      "metadata": {
        "id": "MrT2YnCupde7"
      }
    },
    {
      "cell_type": "code",
      "source": [
        "from pandas.core.common import random_state\n",
        "from sklearn.model_selection import GridSearchCV\n",
        "from sklearn.model_selection import RandomizedSearchCV\n",
        "from sklearn.svm import SVC\n",
        "\n",
        "clf = SVC()\n",
        "\n",
        "kernel = ['linear','poly','rbf','sigmoid']\n",
        "degree = [1,2,3,4,5]\n",
        "shrinking = [True,False]\n",
        "gamma = ['scale','auto']\n",
        "probability = [True,False]\n",
        "class_weight = [{0:1000/191,1:1000/108,2:1000/37,3:1000/94,4:1000/264},\n",
        "                'balanced',None]\n",
        "tol = np.logspace(-5,0.5, num=6)\n",
        "decision_function_shape = ['ovo','ovr']\n",
        "break_ties = [True,False]\n",
        "C = [0.1,1,10,100]\n",
        "\n",
        "hyperparameters = dict(kernel=kernel,degree=degree,shrinking=shrinking,gamma=gamma,\n",
        "                       probability=probability,class_weight=class_weight,tol=tol, C=C,\n",
        "                       decision_function_shape=decision_function_shape,break_ties=break_ties)\n",
        "\n",
        "\n",
        "clf0 = RandomizedSearchCV(clf, hyperparameters, cv=10, scoring='f1_micro', n_jobs=-1)\n",
        "clf0.fit(X,EY)\n",
        "clf1 = RandomizedSearchCV(clf, hyperparameters, cv=10, scoring='f1_micro', n_jobs=-1)\n",
        "clf1.fit(X_std,EY)\n",
        "clf2 = RandomizedSearchCV(clf, hyperparameters, cv=10, scoring='f1_micro', n_jobs=-1)\n",
        "clf2.fit(X_mm,EY)\n",
        "clf3 = RandomizedSearchCV(clf, hyperparameters, cv=10, scoring='f1_micro', n_jobs=-1)\n",
        "clf3.fit(X_rbst,EY)\n",
        "\n",
        "print(f'X best score: {clf0.best_score_}, Best parameters: {clf0.best_params_}')\n",
        "print(f'X_std best score: {clf1.best_score_}, Best parameters: {clf1.best_params_}')\n",
        "print(f'X_MinMax best score: {clf2.best_score_}, Best parameters: {clf2.best_params_}')\n",
        "print(f'X_Robust best score: {clf3.best_score_}, Best parameters: {clf3.best_params_}')"
      ],
      "metadata": {
        "id": "kvRvaCOhpg-L"
      },
      "execution_count": null,
      "outputs": []
    },
    {
      "cell_type": "code",
      "source": [
        "from sklearn.svm import SVC\n",
        "from sklearn.model_selection import ShuffleSplit\n",
        "\n",
        "clf = SVC(tol=0.00012589254117941674, shrinking=False, probability=True,\n",
        "          kernel='rbf', gamma='auto', degree=4, decision_function_shape='ovr',\n",
        "          class_weight=None, break_ties=False)\n",
        "\n",
        "cv = ShuffleSplit(n_splits=10, test_size=0.2, random_state=42)\n",
        "pr = np.logspace(-5,6, num=30)\n",
        "ValidationCurve(clf, X_std, EY, pr, 'C', xlog = True,\n",
        "                cv=cv, Modelname='SVC', n_jobs=-1)"
      ],
      "metadata": {
        "id": "5XRwp8g6Gr9j"
      },
      "execution_count": null,
      "outputs": []
    },
    {
      "cell_type": "code",
      "source": [
        "from sklearn.svm import SVC\n",
        "from sklearn.model_selection import ShuffleSplit\n",
        "\n",
        "clf = SVC(tol=0.00012589254117941674, shrinking=False, probability=True,\n",
        "          kernel='rbf', degree=4, decision_function_shape='ovr',\n",
        "          class_weight=None, break_ties=False, C=100)\n",
        "\n",
        "cv = ShuffleSplit(n_splits=10, test_size=0.2, random_state=42)\n",
        "pr = np.logspace(-6,2, num=50)\n",
        "ValidationCurve(clf, X_std, EY, pr, 'gamma', xlog = True,\n",
        "                cv=cv, Modelname='SVC', n_jobs=-1)"
      ],
      "metadata": {
        "id": "N6MFT7ZF4ROJ"
      },
      "execution_count": null,
      "outputs": []
    },
    {
      "cell_type": "code",
      "source": [
        "from sklearn.svm import SVC\n",
        "\n",
        "clf = SVC(tol=0.00012589254117941674, shrinking=False, probability=True,\n",
        "          kernel='rbf', gamma=0.1, degree=4, decision_function_shape='ovr',\n",
        "          class_weight=None, break_ties=False, C=100)\n",
        "\n",
        "clf_reports(X_std,EY,clf)\n",
        "LearningCurve(X_std,EY,clf)"
      ],
      "metadata": {
        "id": "w1_r6TPPfKmk"
      },
      "execution_count": null,
      "outputs": []
    },
    {
      "cell_type": "markdown",
      "source": [
        "---\n",
        "# **Data Augmentation**\n",
        "\n"
      ],
      "metadata": {
        "id": "IojBG75nYUGb"
      }
    },
    {
      "cell_type": "markdown",
      "metadata": {
        "id": "TEy5ji5fq5qj"
      },
      "source": [
        "# Augmentation"
      ]
    },
    {
      "cell_type": "code",
      "source": [
        "SData = pd.concat([X_std,EY],axis=1)\n",
        "y = SData.pop('EY')\n",
        "\n",
        "# from sklearn.model_selection import train_test_split\n",
        "def train_test_eq_split(X, y, n_per_class, random_state=None):\n",
        "    if random_state:\n",
        "        np.random.seed(random_state)\n",
        "    sampled = X.groupby(y, sort=False).apply(\n",
        "        lambda frame: frame.sample(n_per_class))\n",
        "    mask = sampled.index.get_level_values(1)\n",
        "\n",
        "    X_train = X.drop(mask)\n",
        "    X_test = X.loc[mask]\n",
        "    y_train = y.drop(mask)\n",
        "    y_test = y.loc[mask]\n",
        "\n",
        "    return X_train, X_test, y_train, y_test\n",
        "\n",
        "# x_train,x_test, y_train, y_test= train_test_split(X_std, EY, test_size=0.5, random_state=42)\n",
        "x_train,x_test, y_train, y_test= train_test_eq_split(SData, y, n_per_class=10, random_state=42)"
      ],
      "metadata": {
        "id": "QwYk8tAu7-hK"
      },
      "execution_count": null,
      "outputs": []
    },
    {
      "cell_type": "code",
      "source": [
        "!pip install imbalanced-learn\n",
        "from imblearn.over_sampling import SMOTE \n",
        "from IPython.display import clear_output\n",
        "clear_output(wait=True)\n",
        "\n",
        "sm = SMOTE(n_jobs=-1)\n",
        "AX, AY = sm.fit_resample(x_train, y_train)\n",
        "\n",
        "from IPython.display import clear_output\n",
        "clear_output(wait=True)\n",
        "print(f'Value Counts:\\n{AY.value_counts()}')"
      ],
      "metadata": {
        "id": "j3EOcVkJ8XBa"
      },
      "execution_count": null,
      "outputs": []
    },
    {
      "cell_type": "code",
      "source": [
        "def learning_curve2(clf):\n",
        "  s = []\n",
        "  ts = np.arange(5,30)\n",
        "  for i in ts:\n",
        "    x_train,x_test,y_train,y_test= train_test_eq_split(SData, y, n_per_class=i, random_state=42)\n",
        "    sm = SMOTE(n_jobs=-1)\n",
        "    AX, AY = sm.fit_resample(x_train, y_train)\n",
        "    clf.fit(AX, AY)\n",
        "    s.append(clf.score(x_test,y_test))  \n",
        "    \n",
        "  fig, ax = plt.subplots(figsize=(10, 5))\n",
        "  plt.title('Learning Curve')\n",
        "  plt.xlabel(\"Test samples\")\n",
        "  plt.ylabel(\"Score\")\n",
        "  plt.rc('lines', linewidth = 2)\n",
        "  plt.grid()\n",
        "  plt.plot(ts, s, 'o-', color=\"b\", label=\"Score\")\n",
        "  plt.legend(loc=\"best\")\n",
        "\n",
        "  return"
      ],
      "metadata": {
        "id": "WuyLanwgRFw8"
      },
      "execution_count": null,
      "outputs": []
    },
    {
      "cell_type": "code",
      "source": [
        "from sklearn.metrics import classification_report\n",
        "from sklearn.metrics import confusion_matrix, plot_confusion_matrix\n",
        "\n",
        "def clf_reports2(clf,n_per_class,normalize=None):\n",
        "\n",
        "  x_train,x_test,y_train,y_test= train_test_eq_split(SData, y, n_per_class=n_per_class, random_state=42)\n",
        "  sm = SMOTE(n_jobs=-1)\n",
        "  AX, AY = sm.fit_resample(x_train, y_train)\n",
        "   \n",
        "  clf.fit(AX, AY)\n",
        "  y_pred = clf.predict(x_test)\n",
        "  tn = ['CAGB', 'OAGB', 'PAGB', 'RSG', 'YSO']\n",
        "  print(classification_report(y_test, y_pred, target_names=tn),'\\n')\n",
        "   \n",
        "  fig, ax = plt.subplots(figsize=(8, 8))\n",
        "  plot_confusion_matrix(clf, x_test, y_test,  ax=ax, display_labels=tn, normalize=normalize)\n",
        "  \n",
        "  return"
      ],
      "metadata": {
        "id": "r9Xk7sHhDE8-"
      },
      "execution_count": null,
      "outputs": []
    },
    {
      "cell_type": "markdown",
      "source": [
        "# KNN"
      ],
      "metadata": {
        "id": "PlvqqIkM1xD2"
      }
    },
    {
      "cell_type": "code",
      "source": [
        "from sklearn.neighbors import KNeighborsClassifier\n",
        "learning_curve2(KNeighborsClassifier())"
      ],
      "metadata": {
        "id": "Qg-sdGqI10hd"
      },
      "execution_count": null,
      "outputs": []
    },
    {
      "cell_type": "code",
      "source": [
        "from sklearn.neighbors import KNeighborsClassifier\n",
        "clf_reports2(KNeighborsClassifier(),5)"
      ],
      "metadata": {
        "id": "z3_n6Fj01_pw"
      },
      "execution_count": null,
      "outputs": []
    },
    {
      "cell_type": "markdown",
      "source": [
        "# DTC"
      ],
      "metadata": {
        "id": "bAqWndbkrLe7"
      }
    },
    {
      "cell_type": "code",
      "source": [
        "from sklearn.tree import DecisionTreeClassifier as DTC\n",
        "learning_curve2(DTC())"
      ],
      "metadata": {
        "id": "wrMj3UOZkInI"
      },
      "execution_count": null,
      "outputs": []
    },
    {
      "cell_type": "code",
      "source": [
        "from sklearn.tree import DecisionTreeClassifier as DTC\n",
        "clf_reports2(DTC(),10)"
      ],
      "metadata": {
        "id": "Ln6mD8Xuzs5C"
      },
      "execution_count": null,
      "outputs": []
    },
    {
      "cell_type": "markdown",
      "source": [
        "# LDA"
      ],
      "metadata": {
        "id": "j6M1H3BOrGac"
      }
    },
    {
      "cell_type": "code",
      "source": [
        "from sklearn.discriminant_analysis import LinearDiscriminantAnalysis as LDA\n",
        "learning_curve2(LDA())"
      ],
      "metadata": {
        "id": "zscjkUpdosHu"
      },
      "execution_count": null,
      "outputs": []
    },
    {
      "cell_type": "code",
      "source": [
        "from sklearn.discriminant_analysis import LinearDiscriminantAnalysis as LDA\n",
        "clf_reports2(LDA(),11)"
      ],
      "metadata": {
        "id": "LUJnUz4jwntH"
      },
      "execution_count": null,
      "outputs": []
    },
    {
      "cell_type": "markdown",
      "source": [
        "# Gaussian Naive Bayes"
      ],
      "metadata": {
        "id": "6vjBsprMB0vo"
      }
    },
    {
      "cell_type": "code",
      "source": [
        "from sklearn.naive_bayes import GaussianNB\n",
        "learning_curve2(GaussianNB())"
      ],
      "metadata": {
        "id": "SSVV3fESB3ZE"
      },
      "execution_count": null,
      "outputs": []
    },
    {
      "cell_type": "code",
      "source": [
        "from sklearn.naive_bayes import GaussianNB\n",
        "clf_reports2(GaussianNB(),10)"
      ],
      "metadata": {
        "id": "1flZaQcSCR4Z"
      },
      "execution_count": null,
      "outputs": []
    },
    {
      "cell_type": "markdown",
      "source": [
        "# SGD"
      ],
      "metadata": {
        "id": "scEvVDgmFFjE"
      }
    },
    {
      "cell_type": "code",
      "source": [
        "from sklearn.linear_model import SGDClassifier\n",
        "learning_curve2(SGDClassifier())"
      ],
      "metadata": {
        "id": "DS_oHW82GTqt",
        "colab": {
          "base_uri": "https://localhost:8080/",
          "height": 187
        },
        "outputId": "257db19b-794b-4f2d-b574-a08601a468c6"
      },
      "execution_count": null,
      "outputs": [
        {
          "output_type": "error",
          "ename": "NameError",
          "evalue": "ignored",
          "traceback": [
            "\u001b[0;31m---------------------------------------------------------------------------\u001b[0m",
            "\u001b[0;31mNameError\u001b[0m                                 Traceback (most recent call last)",
            "\u001b[0;32m<ipython-input-4-093e6368afcb>\u001b[0m in \u001b[0;36m<module>\u001b[0;34m\u001b[0m\n\u001b[1;32m      1\u001b[0m \u001b[0;32mfrom\u001b[0m \u001b[0msklearn\u001b[0m\u001b[0;34m.\u001b[0m\u001b[0mlinear_model\u001b[0m \u001b[0;32mimport\u001b[0m \u001b[0mSGDClassifier\u001b[0m\u001b[0;34m\u001b[0m\u001b[0;34m\u001b[0m\u001b[0m\n\u001b[0;32m----> 2\u001b[0;31m \u001b[0mlearning_curve2\u001b[0m\u001b[0;34m(\u001b[0m\u001b[0mSGDClassifier\u001b[0m\u001b[0;34m(\u001b[0m\u001b[0;34m)\u001b[0m\u001b[0;34m)\u001b[0m\u001b[0;34m\u001b[0m\u001b[0;34m\u001b[0m\u001b[0m\n\u001b[0m",
            "\u001b[0;31mNameError\u001b[0m: name 'learning_curve2' is not defined"
          ]
        }
      ]
    },
    {
      "cell_type": "code",
      "source": [
        "from google.colab import drive\n",
        "drive.mount('/content/drive')"
      ],
      "metadata": {
        "id": "WZGDjgn3vgV1"
      },
      "execution_count": null,
      "outputs": []
    },
    {
      "cell_type": "code",
      "source": [
        "from sklearn.linear_model import SGDClassifier\n",
        "clf_reports2(SGDClassifier(),18)"
      ],
      "metadata": {
        "id": "P6e3AWuHGYYs"
      },
      "execution_count": null,
      "outputs": []
    },
    {
      "cell_type": "markdown",
      "source": [
        "# SVC"
      ],
      "metadata": {
        "id": "Hifbk_4dFNCK"
      }
    },
    {
      "cell_type": "code",
      "source": [
        "from sklearn.svm import SVC\n",
        "learning_curve2(SVC())"
      ],
      "metadata": {
        "id": "PZnDxRWYFRTh"
      },
      "execution_count": null,
      "outputs": []
    },
    {
      "cell_type": "code",
      "source": [
        "from sklearn.svm import SVC\n",
        "clf_reports2(SVC(),10)"
      ],
      "metadata": {
        "id": "IEFhtfVJFopJ"
      },
      "execution_count": null,
      "outputs": []
    },
    {
      "cell_type": "code",
      "source": [
        "from sklearn.svm import SVC\n",
        "clf_reports2(SVC(),16)"
      ],
      "metadata": {
        "id": "hRiTocjmInBU"
      },
      "execution_count": null,
      "outputs": []
    },
    {
      "cell_type": "markdown",
      "source": [
        "---\n",
        "# Comparison"
      ],
      "metadata": {
        "id": "beY50wjr4-7e"
      }
    },
    {
      "cell_type": "code",
      "source": [
        "plt.figure(figsize=(12, 6), dpi=80)\n",
        "plt.rc('lines',linewidth=2)\n",
        "plt.rc('lines',markersize=7)\n",
        "plt.rc('lines',markersize=7)\n",
        "\n",
        "plt.title('Classifiers\\' average f1-Score improvement over Augmentation')\n",
        "\n",
        "plt.ylabel(\"Score(%)\")\n",
        "  \n",
        "models = ['KNN','DTC','LDA','GaussianNB','SGD','SVC']\n",
        "aba = [79,80,86,77,87,88]\n",
        "aaa = [96,92,91,81,91,90]\n",
        "\n",
        "plt.plot(models, aba, 'o--', color=\"c\", markerfacecolor='b',\n",
        "         label=\"Before Augmentation\")\n",
        "plt.plot(models, aaa, 'o--', color=\"y\", markerfacecolor='r',\n",
        "         label=\"After Augmentation\")\n",
        "\n",
        "plt.legend(loc=\"best\")\n",
        "plt.grid()"
      ],
      "metadata": {
        "id": "v6PpAb2ZMoQd"
      },
      "execution_count": null,
      "outputs": []
    },
    {
      "cell_type": "code",
      "source": [
        "plt.figure(figsize=(12, 6), dpi=80)\n",
        "plt.rc('lines',linewidth=2)\n",
        "plt.rc('lines',markersize=7)\n",
        "plt.rc('lines',markersize=7)\n",
        "\n",
        "plt.title('Classifiers\\' Accuracy improvement over Augmentation')\n",
        "\n",
        "plt.ylabel(\"Score(%)\")\n",
        "  \n",
        "models = ['KNN','DTC','LDA','GaussianNB','SGD','SVC']\n",
        "aba = [86,86,89,81,90,90]\n",
        "aaa = [96,92,91,82,91,90]\n",
        "\n",
        "plt.plot(models, aba, 'o--', color=\"c\", markerfacecolor='b',\n",
        "         label=\"Before Augmentation\")\n",
        "plt.plot(models, aaa, 'o--', color=\"y\", markerfacecolor='r',\n",
        "         label=\"After Augmentation\")\n",
        "\n",
        "plt.legend(loc=\"best\")\n",
        "plt.grid()"
      ],
      "metadata": {
        "id": "gBVgLPUt7C85"
      },
      "execution_count": null,
      "outputs": []
    }
  ],
  "metadata": {
    "colab": {
      "collapsed_sections": [
        "XOukgp88eK_l",
        "_vYje_5KMeg2",
        "d0xQzjFNi-y0",
        "uAEohAGIjPcC",
        "pSdyBjtKkCGI",
        "Qrz-Uk8bkSaY",
        "c40DhphQadQR",
        "otwFyojVpi3T",
        "MrT2YnCupde7",
        "TEy5ji5fq5qj",
        "PlvqqIkM1xD2",
        "bAqWndbkrLe7",
        "j6M1H3BOrGac",
        "6vjBsprMB0vo",
        "scEvVDgmFFjE",
        "Hifbk_4dFNCK",
        "beY50wjr4-7e"
      ],
      "provenance": [],
      "include_colab_link": true
    },
    "kernelspec": {
      "display_name": "Python 3",
      "name": "python3"
    },
    "language_info": {
      "name": "python"
    }
  },
  "nbformat": 4,
  "nbformat_minor": 0
}