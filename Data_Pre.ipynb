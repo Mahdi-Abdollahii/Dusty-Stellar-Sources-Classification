{
  "nbformat": 4,
  "nbformat_minor": 0,
  "metadata": {
    "colab": {
      "provenance": [],
      "authorship_tag": "ABX9TyOrtKONrL3Hp1GJudrU/zNa",
      "include_colab_link": true
    },
    "kernelspec": {
      "name": "python3",
      "display_name": "Python 3"
    },
    "language_info": {
      "name": "python"
    }
  },
  "cells": [
    {
      "cell_type": "markdown",
      "metadata": {
        "id": "view-in-github",
        "colab_type": "text"
      },
      "source": [
        "<a href=\"https://colab.research.google.com/github/Mahdi-Abdollahii/Dusty-Stellar-Sources-Classification/blob/main/Data_Pre.ipynb\" target=\"_parent\"><img src=\"https://colab.research.google.com/assets/colab-badge.svg\" alt=\"Open In Colab\"/></a>"
      ]
    },
    {
      "cell_type": "markdown",
      "source": [
        "\n",
        "The project is hosted on GitHub. Get a copy by running:"
      ],
      "metadata": {
        "id": "vn42cBiwsJre"
      }
    },
    {
      "cell_type": "code",
      "source": [
        "!git clone https://github.com/Mahdi-Abdollahii/Dusty-Stellar-Sources-Classification.git"
      ],
      "metadata": {
        "colab": {
          "base_uri": "https://localhost:8080/"
        },
        "id": "t8k-ZM4ysWOk",
        "outputId": "ef6598f9-86a1-405a-c5de-33dc3b98d6df"
      },
      "execution_count": 1,
      "outputs": [
        {
          "output_type": "stream",
          "name": "stdout",
          "text": [
            "Cloning into 'Dusty-Stellar-Sources-Classification'...\n",
            "remote: Enumerating objects: 30, done.\u001b[K\n",
            "remote: Counting objects: 100% (30/30), done.\u001b[K\n",
            "remote: Compressing objects: 100% (28/28), done.\u001b[K\n",
            "remote: Total 30 (delta 10), reused 0 (delta 0), pack-reused 0\u001b[K\n",
            "Unpacking objects: 100% (30/30), done.\n"
          ]
        }
      ]
    },
    {
      "cell_type": "markdown",
      "metadata": {
        "id": "XOukgp88eK_l"
      },
      "source": [
        "# Pre"
      ]
    },
    {
      "cell_type": "code",
      "execution_count": 2,
      "metadata": {
        "colab": {
          "base_uri": "https://localhost:8080/"
        },
        "id": "_xYXTtukc4Oe",
        "outputId": "18558d6f-ca2f-4ce4-f647-3910b496661c"
      },
      "outputs": [
        {
          "output_type": "stream",
          "name": "stdout",
          "text": [
            "Looking in indexes: https://pypi.org/simple, https://us-python.pkg.dev/colab-wheels/public/simple/\n",
            "Collecting pyunpack\n",
            "  Downloading pyunpack-0.3-py2.py3-none-any.whl (4.1 kB)\n",
            "Collecting entrypoint2\n",
            "  Downloading entrypoint2-1.1-py2.py3-none-any.whl (9.9 kB)\n",
            "Collecting easyprocess\n",
            "  Downloading EasyProcess-1.1-py3-none-any.whl (8.7 kB)\n",
            "Installing collected packages: entrypoint2, easyprocess, pyunpack\n",
            "Successfully installed easyprocess-1.1 entrypoint2-1.1 pyunpack-0.3\n",
            "Looking in indexes: https://pypi.org/simple, https://us-python.pkg.dev/colab-wheels/public/simple/\n",
            "Collecting patool\n",
            "  Downloading patool-1.12-py2.py3-none-any.whl (77 kB)\n",
            "\u001b[K     |████████████████████████████████| 77 kB 2.7 MB/s \n",
            "\u001b[?25hInstalling collected packages: patool\n",
            "Successfully installed patool-1.12\n"
          ]
        }
      ],
      "source": [
        "import pandas as pd\n",
        "import numpy as np\n",
        "import matplotlib.pyplot as plt\n",
        "import io, requests, zipfile\n",
        "from zipfile import ZipFile\n",
        "import seaborn as sns\n",
        "\n",
        "!pip install pyunpack\n",
        "!pip install patool\n",
        "from pyunpack import Archive\n",
        "\n",
        "import warnings\n",
        "warnings.filterwarnings('ignore')\n",
        "\n",
        "\n",
        "plt.rcParams.update({'font.size': 20, 'figure.figsize':(8,6)})\n",
        "SMALL_SIZE = 12\n",
        "MEDIUM_SIZE = 15\n",
        "BIGGER_SIZE = 18\n",
        "\n",
        "plt.rc('font', size=BIGGER_SIZE)          # controls default text sizes\n",
        "plt.rc('axes', titlesize=MEDIUM_SIZE)     # fontsize of the axes title\n",
        "plt.rc('axes', labelsize=BIGGER_SIZE)    # fontsize of the x and y labels\n",
        "plt.rc('xtick', labelsize=SMALL_SIZE)    # fontsize of the tick labels\n",
        "plt.rc('ytick', labelsize=SMALL_SIZE)    # fontsize of the tick labels\n",
        "plt.rc('legend', fontsize=MEDIUM_SIZE)    # legend fontsize\n",
        "plt.rc('figure', titlesize=BIGGER_SIZE)  # fontsize of the figure title\n",
        "\n",
        "plt.rc('axes', linewidth = 5 )\n",
        "plt.rc('lines', linewidth = 5 )\n",
        "\n",
        "plt.rc('lines', markersize = 5 )\n",
        "\n",
        "plt.rc('figure', figsize=(8,4) )         # Image size"
      ]
    },
    {
      "cell_type": "markdown",
      "metadata": {
        "id": "pg9kRo7v7bY_"
      },
      "source": [
        "> * **Save file function**"
      ]
    },
    {
      "cell_type": "code",
      "execution_count": 3,
      "metadata": {
        "id": "y0dtYscheD6j"
      },
      "outputs": [],
      "source": [
        "def savefile(df,name):\n",
        "  t = df\n",
        "  t.to_csv(name, header=True, index=True)\n",
        "  return 0"
      ]
    },
    {
      "cell_type": "markdown",
      "metadata": {
        "id": "_vYje_5KMeg2"
      },
      "source": [
        "---\n",
        "# Data Preprocessing\n"
      ]
    },
    {
      "cell_type": "markdown",
      "metadata": {
        "id": "lKizSYJR0uYh"
      },
      "source": [
        "## **SMC**"
      ]
    },
    {
      "cell_type": "code",
      "execution_count": 4,
      "metadata": {
        "id": "mDuAZQPGaupy",
        "colab": {
          "base_uri": "https://localhost:8080/"
        },
        "outputId": "033e0c74-8bf9-4e4e-c123-c05ad621842f"
      },
      "outputs": [
        {
          "output_type": "execute_result",
          "data": {
            "text/plain": [
              "C-AGB                    39\n",
              "STAR: dusty OB star      23\n",
              "YSO-3                    22\n",
              "RSG                      22\n",
              "C-PN                     20\n",
              "YSO-1                    14\n",
              "O-AGB                    11\n",
              "WR                       10\n",
              "YSO-4                    10\n",
              "O-EAGB                    8\n",
              "YSO-2                     5\n",
              "O-PN                      4\n",
              "STAR                      4\n",
              "RCrB                      3\n",
              "C-PAGB                    3\n",
              "HII                       3\n",
              "OTHER: B[e] star          2\n",
              "OTHER: FG O-EAGB          2\n",
              "OTHER: S Star             1\n",
              "O-PAGB                    1\n",
              "OTHER: symbiotic star     1\n",
              "BSG                       1\n",
              "Name: Class, dtype: int64"
            ]
          },
          "metadata": {},
          "execution_count": 4
        }
      ],
      "source": [
        "from astropy.io import fits\n",
        "\n",
        "a = fits.open('/content/Dusty-Stellar-Sources-Classification/Data/J_MNRAS_451_3504_table2.dat.fits')\n",
        "a[1].columns['---'].name = 'new_name1'\n",
        "a[1].columns['---'].name = 'new_name2'\n",
        "a[1].columns['---'].name = 'new_name3'\n",
        "a[1].columns['---'].name = 'new_name4'\n",
        "a[1].columns['---'].name = 'new_name5'\n",
        "a[1].columns['---'].name = 'new_name6'\n",
        "\n",
        "smc = pd.DataFrame(a[1].data)\n",
        "smc['Class'].value_counts()"
      ]
    },
    {
      "cell_type": "code",
      "execution_count": 5,
      "metadata": {
        "id": "7SWLRWV62Dab",
        "colab": {
          "base_uri": "https://localhost:8080/"
        },
        "outputId": "b050e2a9-ade4-461f-e27b-fa394cc3a1b1"
      },
      "outputs": [
        {
          "output_type": "execute_result",
          "data": {
            "text/plain": [
              "YSO     51\n",
              "CAGB    39\n",
              "RSG     22\n",
              "OAGB    19\n",
              "PAGB     4\n",
              "Name: Class, dtype: int64"
            ]
          },
          "metadata": {},
          "execution_count": 5
        }
      ],
      "source": [
        "a1 = smc.loc[smc['Class']=='O-AGB                ']\n",
        "a2 = smc.loc[smc['Class']=='C-AGB                ']\n",
        "a3 = smc.loc[smc['Class']=='YSO-1                ']\n",
        "a4 = smc.loc[smc['Class']=='YSO-2                ']\n",
        "a5 = smc.loc[smc['Class']=='YSO-3                ']\n",
        "a6 = smc.loc[smc['Class']=='YSO-4                ']\n",
        "a7 = smc.loc[smc['Class']=='RSG                  ']\n",
        "a8 = smc.loc[smc['Class']=='O-EAGB               ']\n",
        "a9 = smc.loc[smc['Class']=='O-PAGB               ']\n",
        "b1 = smc.loc[smc['Class']=='C-PAGB               ']\n",
        "\n",
        "a = pd.concat([a1,a2,a3,a4,a5,a6,a7,a8,a9,b1])\n",
        "a = a.reset_index(drop=True)\n",
        "a['Class'].value_counts()\n",
        "\n",
        "a['Class'] = a['Class'].replace({'YSO-1                ':'YSO','O-EAGB               ':'OAGB',\n",
        "                                 'YSO-2                ':'YSO','O-AGB                ':'OAGB',\n",
        "                                 'YSO-3                ':'YSO','RSG                  ':'RSG',\n",
        "                                 'YSO-4                ':'YSO','C-AGB                ':'CAGB',\n",
        "                                 'O-PAGB               ':'PAGB','C-PAGB               ':'PAGB'})\n",
        "SMC = a\n",
        "SMC['Class'].value_counts()"
      ]
    },
    {
      "cell_type": "code",
      "execution_count": 6,
      "metadata": {
        "id": "pRWFr3_98Q7k",
        "colab": {
          "base_uri": "https://localhost:8080/"
        },
        "outputId": "81f86436-1154-458e-de5d-266bf06d6acd"
      },
      "outputs": [
        {
          "output_type": "stream",
          "name": "stdout",
          "text": [
            "(135, 22)\n"
          ]
        }
      ],
      "source": [
        "x_SMC = SMC[['UMmag','BMmag','VMmag','IMmag','<Vmag>','<Imag>','Iamp','P2','J2mag',\n",
        "         'H2mag','Ks2mag','JImag','HImag','KImag','IRAC1','IRAC2','IRAC3','IRAC4',\n",
        "         '[24]','[70]','[160]','Tmcd']]\n",
        "y_SMC = SMC['Class']\n",
        "\n",
        "x_SMC = x_SMC.rename(columns={'UMmag':'Umag','BMmag':'Bmag','VMmag':'Vmag','IMmag':'Imag','Iamp':'IAmp',\n",
        "                           'P2':'Per','JImag':'Jmag','HImag':'Hmag','KImag':'Ksmag','IRAC1':'[3.6]',\n",
        "                           'IRAC2':'[4.5]','IRAC3':'[5.8]','IRAC4':'[8.0]','Tmcd':'TeffMcD'})\n",
        "\n",
        "print(x_SMC.shape)"
      ]
    },
    {
      "cell_type": "markdown",
      "metadata": {
        "id": "p-N-vhKo1ygr"
      },
      "source": [
        "----\n",
        "## **LMC**"
      ]
    },
    {
      "cell_type": "code",
      "execution_count": 7,
      "metadata": {
        "id": "DXrpS1FrbJPR",
        "colab": {
          "base_uri": "https://localhost:8080/"
        },
        "outputId": "f635862d-a7da-4682-9fe6-7cb4af78eb11"
      },
      "outputs": [
        {
          "output_type": "execute_result",
          "data": {
            "text/plain": [
              "     HII    155\n",
              "    CAGB    152\n",
              "    OAGB     89\n",
              "    YSO3     81\n",
              "     RSG     72\n",
              "    YSO1     56\n",
              "HII/YSO3     37\n",
              "    STAR     31\n",
              "     OPN     28\n",
              "    YSO4     23\n",
              "   CPAGB     19\n",
              "    YSO2     16\n",
              "     LBV     15\n",
              "   OPAGB     14\n",
              "     CPN     14\n",
              "      WR     11\n",
              "   RVTau     10\n",
              "    B[e]      9\n",
              "     GAL      8\n",
              "     SNR      7\n",
              "    RCrB      6\n",
              "     UNK      5\n",
              "     BSG      2\n",
              "    Nova      1\n",
              "     YSG      1\n",
              "Name: SpClass, dtype: int64"
            ]
          },
          "metadata": {},
          "execution_count": 7
        }
      ],
      "source": [
        "from astropy.io import fits\n",
        "import pandas as pd\n",
        "with fits.open('/content/Dusty-Stellar-Sources-Classification/Data/J_MNRAS_470_3250_table2.dat.fits') as data:\n",
        "    lmc = pd.DataFrame(data[1].data)\n",
        "\n",
        "lmc['SpClass'].value_counts()"
      ]
    },
    {
      "cell_type": "code",
      "execution_count": 8,
      "metadata": {
        "id": "YAeJQGXP1ggq",
        "colab": {
          "base_uri": "https://localhost:8080/"
        },
        "outputId": "350afb03-27f7-4e9c-fe34-19e89cdf973b"
      },
      "outputs": [
        {
          "output_type": "execute_result",
          "data": {
            "text/plain": [
              "YSO     213\n",
              "CAGB    152\n",
              "OAGB     89\n",
              "RSG      72\n",
              "PAGB     33\n",
              "Name: SpClass, dtype: int64"
            ]
          },
          "metadata": {},
          "execution_count": 8
        }
      ],
      "source": [
        "a1 = lmc.loc[lmc['SpClass']=='    OAGB']\n",
        "a2 = lmc.loc[lmc['SpClass']=='    CAGB']\n",
        "a3 = lmc.loc[lmc['SpClass']=='    YSO1']\n",
        "a4 = lmc.loc[lmc['SpClass']=='    YSO2']\n",
        "a5 = lmc.loc[lmc['SpClass']=='    YSO3']\n",
        "a6 = lmc.loc[lmc['SpClass']=='HII/YSO3']\n",
        "a7 = lmc.loc[lmc['SpClass']=='    YSO4']\n",
        "a8 = lmc.loc[lmc['SpClass']=='   CPAGB']\n",
        "a9 = lmc.loc[lmc['SpClass']=='   OPAGB']\n",
        "b1 = lmc.loc[lmc['SpClass']=='     RSG']\n",
        "\n",
        "a = pd.concat([a1,a2,a3,a4,a5,a6,a7,a8,a9,b1])\n",
        "a = a.reset_index(drop=True)\n",
        "a['SpClass'].value_counts()\n",
        "\n",
        "a['SpClass'] = a['SpClass'].replace({'    OAGB': 'OAGB','    CAGB': 'CAGB','    YSO1':'YSO',\n",
        "                                     '    YSO2':'YSO','    YSO3':'YSO','   CPAGB':'PAGB',\n",
        "                                     '   OPAGB':'PAGB','HII/YSO3':'YSO','    YSO4':'YSO',\n",
        "                                     '     RSG':'RSG'})\n",
        "LMC = a\n",
        "LMC['SpClass'].value_counts()"
      ]
    },
    {
      "cell_type": "code",
      "execution_count": 9,
      "metadata": {
        "id": "77f2fjh19GWo",
        "colab": {
          "base_uri": "https://localhost:8080/"
        },
        "outputId": "445e6fd7-c705-44bb-f5ff-6675e0a65f71"
      },
      "outputs": [
        {
          "output_type": "stream",
          "name": "stdout",
          "text": [
            "(559, 22)\n"
          ]
        }
      ],
      "source": [
        "x_LMC = LMC[['Umag','Bmag','Vmag','Imag','<Vmag>','<Imag>','IAmp','Per','J2mag',\n",
        "         'H2mag','Ks2mag','Jmag','Hmag','Ksmag','[3.6]','[4.5]','[5.8]','[8.0]',\n",
        "         '[24]','[70]','[160]','TeffMcD']]\n",
        "y_LMC = LMC['SpClass']\n",
        "\n",
        "print(x_LMC.shape)"
      ]
    },
    {
      "cell_type": "markdown",
      "source": [
        "## **Final Data**"
      ],
      "metadata": {
        "id": "CnJ-Ufsanfhn"
      }
    },
    {
      "cell_type": "code",
      "execution_count": 60,
      "metadata": {
        "id": "y5cHbXAbcBch"
      },
      "outputs": [],
      "source": [
        "X = pd.concat([x_LMC,x_SMC])\n",
        "X = X.reset_index(drop=True)\n",
        "Y = pd.concat([y_LMC,y_SMC])\n",
        "Y = Y.reset_index(drop=True)\n",
        "Y = pd.DataFrame(Y)\n",
        "Y.columns = ['Class']"
      ]
    },
    {
      "cell_type": "code",
      "source": [
        "X"
      ],
      "metadata": {
        "colab": {
          "base_uri": "https://localhost:8080/",
          "height": 488
        },
        "id": "PaBnhB33upwG",
        "outputId": "a48ab42e-2ed1-4cfd-c65f-893e73ad5331"
      },
      "execution_count": 61,
      "outputs": [
        {
          "output_type": "execute_result",
          "data": {
            "text/plain": [
              "       Umag    Bmag    Vmag    Imag  <Vmag>  <Imag>    IAmp     Per   J2mag  \\\n",
              "0   -99.000  18.307  16.468  13.943  16.623  13.985   0.057  100.76  12.408   \n",
              "1    13.433  13.584  13.266  12.528 -99.000 -99.000 -99.000  -99.00  12.181   \n",
              "2   -99.000  21.311  19.536  17.339  18.959  16.259   1.228  883.70  15.052   \n",
              "3    19.691  18.868  16.725  13.571 -99.000 -99.000 -99.000  -99.00  12.263   \n",
              "4    17.707  16.211  14.628  13.123 -99.000 -99.000 -99.000  -99.00  12.416   \n",
              "..      ...     ...     ...     ...     ...     ...     ...     ...     ...   \n",
              "689  19.243  17.556  15.127  12.562  15.066  12.513   0.327  383.00  10.864   \n",
              "690  13.820  13.929  13.999  13.620  99.999  99.999  99.999    0.00  13.067   \n",
              "691  99.999  99.999  99.999  99.999  99.999  99.999  99.999    0.00  17.340   \n",
              "692  15.435  15.816  15.439  15.093  99.999  99.999  99.999    0.00  14.726   \n",
              "693  19.248  17.524  15.960  14.457  16.112  14.515   0.081   96.00  13.674   \n",
              "\n",
              "      H2mag  ...   Hmag   Ksmag    [3.6]    [4.5]    [5.8]    [8.0]     [24]  \\\n",
              "0    11.488  ... -99.00 -99.000  10.9099  10.8052  10.6874  10.5041   9.6408   \n",
              "1    11.781  ...  11.66  11.100  10.0871   9.6048   9.2248   8.5769   7.2094   \n",
              "2    13.779  ...  12.79  12.180  11.1326  10.6102  10.0316   9.2020   7.2266   \n",
              "3    11.307  ...  11.34  11.010  10.7319  10.7726  10.5911  10.5096 -99.0000   \n",
              "4    11.740  ...  11.53  11.210  10.5316  10.4196  10.0697   9.4969   7.1893   \n",
              "..      ...  ...    ...     ...      ...      ...      ...      ...      ...   \n",
              "689  10.023  ...  10.08  99.999   9.4930   9.5620   9.4160   9.3020   9.0010   \n",
              "690  12.591  ...  12.60  11.800   9.9690   9.2040   8.5990   7.5370   5.2790   \n",
              "691  15.458  ...  15.80  13.950  10.5710   9.4770   8.5140   7.5210   5.0410   \n",
              "692  14.649  ...  14.60  14.410  13.5580  12.9380  10.6140   8.1270   4.9120   \n",
              "693  13.246  ...  13.28  13.140  12.2930  11.8840  10.3930   8.3070   5.1490   \n",
              "\n",
              "       [70]   [160]  TeffMcD  \n",
              "0   -99.000 -99.000   3156.0  \n",
              "1   -99.000 -99.000   5555.0  \n",
              "2   -99.000 -99.000   2673.0  \n",
              "3   -99.000 -99.000   3145.0  \n",
              "4   -99.000 -99.000   3644.0  \n",
              "..      ...     ...      ...  \n",
              "689  99.999  99.999   2825.0  \n",
              "690  99.999  99.999      0.0  \n",
              "691  99.999  99.999      0.0  \n",
              "692  99.999  99.999      0.0  \n",
              "693  99.999  99.999      0.0  \n",
              "\n",
              "[694 rows x 22 columns]"
            ],
            "text/html": [
              "\n",
              "  <div id=\"df-69c9ea08-89ee-45ac-bf5c-e9edda5aeb0f\">\n",
              "    <div class=\"colab-df-container\">\n",
              "      <div>\n",
              "<style scoped>\n",
              "    .dataframe tbody tr th:only-of-type {\n",
              "        vertical-align: middle;\n",
              "    }\n",
              "\n",
              "    .dataframe tbody tr th {\n",
              "        vertical-align: top;\n",
              "    }\n",
              "\n",
              "    .dataframe thead th {\n",
              "        text-align: right;\n",
              "    }\n",
              "</style>\n",
              "<table border=\"1\" class=\"dataframe\">\n",
              "  <thead>\n",
              "    <tr style=\"text-align: right;\">\n",
              "      <th></th>\n",
              "      <th>Umag</th>\n",
              "      <th>Bmag</th>\n",
              "      <th>Vmag</th>\n",
              "      <th>Imag</th>\n",
              "      <th>&lt;Vmag&gt;</th>\n",
              "      <th>&lt;Imag&gt;</th>\n",
              "      <th>IAmp</th>\n",
              "      <th>Per</th>\n",
              "      <th>J2mag</th>\n",
              "      <th>H2mag</th>\n",
              "      <th>...</th>\n",
              "      <th>Hmag</th>\n",
              "      <th>Ksmag</th>\n",
              "      <th>[3.6]</th>\n",
              "      <th>[4.5]</th>\n",
              "      <th>[5.8]</th>\n",
              "      <th>[8.0]</th>\n",
              "      <th>[24]</th>\n",
              "      <th>[70]</th>\n",
              "      <th>[160]</th>\n",
              "      <th>TeffMcD</th>\n",
              "    </tr>\n",
              "  </thead>\n",
              "  <tbody>\n",
              "    <tr>\n",
              "      <th>0</th>\n",
              "      <td>-99.000</td>\n",
              "      <td>18.307</td>\n",
              "      <td>16.468</td>\n",
              "      <td>13.943</td>\n",
              "      <td>16.623</td>\n",
              "      <td>13.985</td>\n",
              "      <td>0.057</td>\n",
              "      <td>100.76</td>\n",
              "      <td>12.408</td>\n",
              "      <td>11.488</td>\n",
              "      <td>...</td>\n",
              "      <td>-99.00</td>\n",
              "      <td>-99.000</td>\n",
              "      <td>10.9099</td>\n",
              "      <td>10.8052</td>\n",
              "      <td>10.6874</td>\n",
              "      <td>10.5041</td>\n",
              "      <td>9.6408</td>\n",
              "      <td>-99.000</td>\n",
              "      <td>-99.000</td>\n",
              "      <td>3156.0</td>\n",
              "    </tr>\n",
              "    <tr>\n",
              "      <th>1</th>\n",
              "      <td>13.433</td>\n",
              "      <td>13.584</td>\n",
              "      <td>13.266</td>\n",
              "      <td>12.528</td>\n",
              "      <td>-99.000</td>\n",
              "      <td>-99.000</td>\n",
              "      <td>-99.000</td>\n",
              "      <td>-99.00</td>\n",
              "      <td>12.181</td>\n",
              "      <td>11.781</td>\n",
              "      <td>...</td>\n",
              "      <td>11.66</td>\n",
              "      <td>11.100</td>\n",
              "      <td>10.0871</td>\n",
              "      <td>9.6048</td>\n",
              "      <td>9.2248</td>\n",
              "      <td>8.5769</td>\n",
              "      <td>7.2094</td>\n",
              "      <td>-99.000</td>\n",
              "      <td>-99.000</td>\n",
              "      <td>5555.0</td>\n",
              "    </tr>\n",
              "    <tr>\n",
              "      <th>2</th>\n",
              "      <td>-99.000</td>\n",
              "      <td>21.311</td>\n",
              "      <td>19.536</td>\n",
              "      <td>17.339</td>\n",
              "      <td>18.959</td>\n",
              "      <td>16.259</td>\n",
              "      <td>1.228</td>\n",
              "      <td>883.70</td>\n",
              "      <td>15.052</td>\n",
              "      <td>13.779</td>\n",
              "      <td>...</td>\n",
              "      <td>12.79</td>\n",
              "      <td>12.180</td>\n",
              "      <td>11.1326</td>\n",
              "      <td>10.6102</td>\n",
              "      <td>10.0316</td>\n",
              "      <td>9.2020</td>\n",
              "      <td>7.2266</td>\n",
              "      <td>-99.000</td>\n",
              "      <td>-99.000</td>\n",
              "      <td>2673.0</td>\n",
              "    </tr>\n",
              "    <tr>\n",
              "      <th>3</th>\n",
              "      <td>19.691</td>\n",
              "      <td>18.868</td>\n",
              "      <td>16.725</td>\n",
              "      <td>13.571</td>\n",
              "      <td>-99.000</td>\n",
              "      <td>-99.000</td>\n",
              "      <td>-99.000</td>\n",
              "      <td>-99.00</td>\n",
              "      <td>12.263</td>\n",
              "      <td>11.307</td>\n",
              "      <td>...</td>\n",
              "      <td>11.34</td>\n",
              "      <td>11.010</td>\n",
              "      <td>10.7319</td>\n",
              "      <td>10.7726</td>\n",
              "      <td>10.5911</td>\n",
              "      <td>10.5096</td>\n",
              "      <td>-99.0000</td>\n",
              "      <td>-99.000</td>\n",
              "      <td>-99.000</td>\n",
              "      <td>3145.0</td>\n",
              "    </tr>\n",
              "    <tr>\n",
              "      <th>4</th>\n",
              "      <td>17.707</td>\n",
              "      <td>16.211</td>\n",
              "      <td>14.628</td>\n",
              "      <td>13.123</td>\n",
              "      <td>-99.000</td>\n",
              "      <td>-99.000</td>\n",
              "      <td>-99.000</td>\n",
              "      <td>-99.00</td>\n",
              "      <td>12.416</td>\n",
              "      <td>11.740</td>\n",
              "      <td>...</td>\n",
              "      <td>11.53</td>\n",
              "      <td>11.210</td>\n",
              "      <td>10.5316</td>\n",
              "      <td>10.4196</td>\n",
              "      <td>10.0697</td>\n",
              "      <td>9.4969</td>\n",
              "      <td>7.1893</td>\n",
              "      <td>-99.000</td>\n",
              "      <td>-99.000</td>\n",
              "      <td>3644.0</td>\n",
              "    </tr>\n",
              "    <tr>\n",
              "      <th>...</th>\n",
              "      <td>...</td>\n",
              "      <td>...</td>\n",
              "      <td>...</td>\n",
              "      <td>...</td>\n",
              "      <td>...</td>\n",
              "      <td>...</td>\n",
              "      <td>...</td>\n",
              "      <td>...</td>\n",
              "      <td>...</td>\n",
              "      <td>...</td>\n",
              "      <td>...</td>\n",
              "      <td>...</td>\n",
              "      <td>...</td>\n",
              "      <td>...</td>\n",
              "      <td>...</td>\n",
              "      <td>...</td>\n",
              "      <td>...</td>\n",
              "      <td>...</td>\n",
              "      <td>...</td>\n",
              "      <td>...</td>\n",
              "      <td>...</td>\n",
              "    </tr>\n",
              "    <tr>\n",
              "      <th>689</th>\n",
              "      <td>19.243</td>\n",
              "      <td>17.556</td>\n",
              "      <td>15.127</td>\n",
              "      <td>12.562</td>\n",
              "      <td>15.066</td>\n",
              "      <td>12.513</td>\n",
              "      <td>0.327</td>\n",
              "      <td>383.00</td>\n",
              "      <td>10.864</td>\n",
              "      <td>10.023</td>\n",
              "      <td>...</td>\n",
              "      <td>10.08</td>\n",
              "      <td>99.999</td>\n",
              "      <td>9.4930</td>\n",
              "      <td>9.5620</td>\n",
              "      <td>9.4160</td>\n",
              "      <td>9.3020</td>\n",
              "      <td>9.0010</td>\n",
              "      <td>99.999</td>\n",
              "      <td>99.999</td>\n",
              "      <td>2825.0</td>\n",
              "    </tr>\n",
              "    <tr>\n",
              "      <th>690</th>\n",
              "      <td>13.820</td>\n",
              "      <td>13.929</td>\n",
              "      <td>13.999</td>\n",
              "      <td>13.620</td>\n",
              "      <td>99.999</td>\n",
              "      <td>99.999</td>\n",
              "      <td>99.999</td>\n",
              "      <td>0.00</td>\n",
              "      <td>13.067</td>\n",
              "      <td>12.591</td>\n",
              "      <td>...</td>\n",
              "      <td>12.60</td>\n",
              "      <td>11.800</td>\n",
              "      <td>9.9690</td>\n",
              "      <td>9.2040</td>\n",
              "      <td>8.5990</td>\n",
              "      <td>7.5370</td>\n",
              "      <td>5.2790</td>\n",
              "      <td>99.999</td>\n",
              "      <td>99.999</td>\n",
              "      <td>0.0</td>\n",
              "    </tr>\n",
              "    <tr>\n",
              "      <th>691</th>\n",
              "      <td>99.999</td>\n",
              "      <td>99.999</td>\n",
              "      <td>99.999</td>\n",
              "      <td>99.999</td>\n",
              "      <td>99.999</td>\n",
              "      <td>99.999</td>\n",
              "      <td>99.999</td>\n",
              "      <td>0.00</td>\n",
              "      <td>17.340</td>\n",
              "      <td>15.458</td>\n",
              "      <td>...</td>\n",
              "      <td>15.80</td>\n",
              "      <td>13.950</td>\n",
              "      <td>10.5710</td>\n",
              "      <td>9.4770</td>\n",
              "      <td>8.5140</td>\n",
              "      <td>7.5210</td>\n",
              "      <td>5.0410</td>\n",
              "      <td>99.999</td>\n",
              "      <td>99.999</td>\n",
              "      <td>0.0</td>\n",
              "    </tr>\n",
              "    <tr>\n",
              "      <th>692</th>\n",
              "      <td>15.435</td>\n",
              "      <td>15.816</td>\n",
              "      <td>15.439</td>\n",
              "      <td>15.093</td>\n",
              "      <td>99.999</td>\n",
              "      <td>99.999</td>\n",
              "      <td>99.999</td>\n",
              "      <td>0.00</td>\n",
              "      <td>14.726</td>\n",
              "      <td>14.649</td>\n",
              "      <td>...</td>\n",
              "      <td>14.60</td>\n",
              "      <td>14.410</td>\n",
              "      <td>13.5580</td>\n",
              "      <td>12.9380</td>\n",
              "      <td>10.6140</td>\n",
              "      <td>8.1270</td>\n",
              "      <td>4.9120</td>\n",
              "      <td>99.999</td>\n",
              "      <td>99.999</td>\n",
              "      <td>0.0</td>\n",
              "    </tr>\n",
              "    <tr>\n",
              "      <th>693</th>\n",
              "      <td>19.248</td>\n",
              "      <td>17.524</td>\n",
              "      <td>15.960</td>\n",
              "      <td>14.457</td>\n",
              "      <td>16.112</td>\n",
              "      <td>14.515</td>\n",
              "      <td>0.081</td>\n",
              "      <td>96.00</td>\n",
              "      <td>13.674</td>\n",
              "      <td>13.246</td>\n",
              "      <td>...</td>\n",
              "      <td>13.28</td>\n",
              "      <td>13.140</td>\n",
              "      <td>12.2930</td>\n",
              "      <td>11.8840</td>\n",
              "      <td>10.3930</td>\n",
              "      <td>8.3070</td>\n",
              "      <td>5.1490</td>\n",
              "      <td>99.999</td>\n",
              "      <td>99.999</td>\n",
              "      <td>0.0</td>\n",
              "    </tr>\n",
              "  </tbody>\n",
              "</table>\n",
              "<p>694 rows × 22 columns</p>\n",
              "</div>\n",
              "      <button class=\"colab-df-convert\" onclick=\"convertToInteractive('df-69c9ea08-89ee-45ac-bf5c-e9edda5aeb0f')\"\n",
              "              title=\"Convert this dataframe to an interactive table.\"\n",
              "              style=\"display:none;\">\n",
              "        \n",
              "  <svg xmlns=\"http://www.w3.org/2000/svg\" height=\"24px\"viewBox=\"0 0 24 24\"\n",
              "       width=\"24px\">\n",
              "    <path d=\"M0 0h24v24H0V0z\" fill=\"none\"/>\n",
              "    <path d=\"M18.56 5.44l.94 2.06.94-2.06 2.06-.94-2.06-.94-.94-2.06-.94 2.06-2.06.94zm-11 1L8.5 8.5l.94-2.06 2.06-.94-2.06-.94L8.5 2.5l-.94 2.06-2.06.94zm10 10l.94 2.06.94-2.06 2.06-.94-2.06-.94-.94-2.06-.94 2.06-2.06.94z\"/><path d=\"M17.41 7.96l-1.37-1.37c-.4-.4-.92-.59-1.43-.59-.52 0-1.04.2-1.43.59L10.3 9.45l-7.72 7.72c-.78.78-.78 2.05 0 2.83L4 21.41c.39.39.9.59 1.41.59.51 0 1.02-.2 1.41-.59l7.78-7.78 2.81-2.81c.8-.78.8-2.07 0-2.86zM5.41 20L4 18.59l7.72-7.72 1.47 1.35L5.41 20z\"/>\n",
              "  </svg>\n",
              "      </button>\n",
              "      \n",
              "  <style>\n",
              "    .colab-df-container {\n",
              "      display:flex;\n",
              "      flex-wrap:wrap;\n",
              "      gap: 12px;\n",
              "    }\n",
              "\n",
              "    .colab-df-convert {\n",
              "      background-color: #E8F0FE;\n",
              "      border: none;\n",
              "      border-radius: 50%;\n",
              "      cursor: pointer;\n",
              "      display: none;\n",
              "      fill: #1967D2;\n",
              "      height: 32px;\n",
              "      padding: 0 0 0 0;\n",
              "      width: 32px;\n",
              "    }\n",
              "\n",
              "    .colab-df-convert:hover {\n",
              "      background-color: #E2EBFA;\n",
              "      box-shadow: 0px 1px 2px rgba(60, 64, 67, 0.3), 0px 1px 3px 1px rgba(60, 64, 67, 0.15);\n",
              "      fill: #174EA6;\n",
              "    }\n",
              "\n",
              "    [theme=dark] .colab-df-convert {\n",
              "      background-color: #3B4455;\n",
              "      fill: #D2E3FC;\n",
              "    }\n",
              "\n",
              "    [theme=dark] .colab-df-convert:hover {\n",
              "      background-color: #434B5C;\n",
              "      box-shadow: 0px 1px 3px 1px rgba(0, 0, 0, 0.15);\n",
              "      filter: drop-shadow(0px 1px 2px rgba(0, 0, 0, 0.3));\n",
              "      fill: #FFFFFF;\n",
              "    }\n",
              "  </style>\n",
              "\n",
              "      <script>\n",
              "        const buttonEl =\n",
              "          document.querySelector('#df-69c9ea08-89ee-45ac-bf5c-e9edda5aeb0f button.colab-df-convert');\n",
              "        buttonEl.style.display =\n",
              "          google.colab.kernel.accessAllowed ? 'block' : 'none';\n",
              "\n",
              "        async function convertToInteractive(key) {\n",
              "          const element = document.querySelector('#df-69c9ea08-89ee-45ac-bf5c-e9edda5aeb0f');\n",
              "          const dataTable =\n",
              "            await google.colab.kernel.invokeFunction('convertToInteractive',\n",
              "                                                     [key], {});\n",
              "          if (!dataTable) return;\n",
              "\n",
              "          const docLinkHtml = 'Like what you see? Visit the ' +\n",
              "            '<a target=\"_blank\" href=https://colab.research.google.com/notebooks/data_table.ipynb>data table notebook</a>'\n",
              "            + ' to learn more about interactive tables.';\n",
              "          element.innerHTML = '';\n",
              "          dataTable['output_type'] = 'display_data';\n",
              "          await google.colab.output.renderOutput(dataTable, element);\n",
              "          const docLink = document.createElement('div');\n",
              "          docLink.innerHTML = docLinkHtml;\n",
              "          element.appendChild(docLink);\n",
              "        }\n",
              "      </script>\n",
              "    </div>\n",
              "  </div>\n",
              "  "
            ]
          },
          "metadata": {},
          "execution_count": 61
        }
      ]
    },
    {
      "cell_type": "code",
      "source": [
        "plt.hist(Y['Class'])"
      ],
      "metadata": {
        "colab": {
          "base_uri": "https://localhost:8080/",
          "height": 320
        },
        "id": "pAAnMH8A9sIM",
        "outputId": "6a003ae7-78b3-4f4d-cdd5-ec6b7c79b365"
      },
      "execution_count": 62,
      "outputs": [
        {
          "output_type": "execute_result",
          "data": {
            "text/plain": [
              "(array([108.,   0., 191.,   0.,   0., 264.,   0.,  37.,   0.,  94.]),\n",
              " array([0. , 0.4, 0.8, 1.2, 1.6, 2. , 2.4, 2.8, 3.2, 3.6, 4. ]),\n",
              " <a list of 10 Patch objects>)"
            ]
          },
          "metadata": {},
          "execution_count": 62
        },
        {
          "output_type": "display_data",
          "data": {
            "text/plain": [
              "<Figure size 576x288 with 1 Axes>"
            ],
            "image/png": "[encoded data removed]"
          },
          "metadata": {
            "needs_background": "light"
          }
        }
      ]
    },
    {
      "cell_type": "code",
      "execution_count": 63,
      "metadata": {
        "id": "DGF-QGFp_Q3C",
        "colab": {
          "base_uri": "https://localhost:8080/"
        },
        "outputId": "d527acc3-fd6f-45df-ed61-329379753c24"
      },
      "outputs": [
        {
          "output_type": "stream",
          "name": "stdout",
          "text": [
            "Ordinal Encoding:\n"
          ]
        },
        {
          "output_type": "execute_result",
          "data": {
            "text/plain": [
              "array(['CAGB', 'OAGB', 'PAGB', 'RSG', 'YSO'], dtype=object)"
            ]
          },
          "metadata": {},
          "execution_count": 63
        }
      ],
      "source": [
        "from sklearn import preprocessing\n",
        "\n",
        "LE = preprocessing.LabelEncoder()\n",
        "EY = LE.fit_transform(Y)\n",
        "EY = pd.DataFrame(EY)\n",
        "EY.columns = ['EY']\n",
        "\n",
        "print('Ordinal Encoding:')\n",
        "LE.inverse_transform(np.arange(0,5))"
      ]
    },
    {
      "cell_type": "code",
      "source": [
        "X.replace([np.inf, -np.inf, -99, 99.999 , 0.00 ], np.nan, inplace=True)"
      ],
      "metadata": {
        "id": "NwWUDJF1f8K5"
      },
      "execution_count": 64,
      "outputs": []
    },
    {
      "cell_type": "code",
      "source": [
        "nan_data_point = np.count_nonzero(np.isnan(X))\n",
        "all_data_point = X.shape[0]*X.shape[1]\n",
        "missing_fraction = np.count_nonzero(np.isnan(X))/(X.shape[0]*X.shape[1])\n",
        "\n",
        "print(f'There are {all_data_point} data points in this data')\n",
        "print(f'There are {nan_data_point} missing data in this data')\n",
        "print(f'The fraction of missing data in all data is {missing_fraction}')"
      ],
      "metadata": {
        "colab": {
          "base_uri": "https://localhost:8080/"
        },
        "id": "Mo8rViQlgMOL",
        "outputId": "aaedafdf-e6d1-45ec-e17d-5aa596d946ac"
      },
      "execution_count": 65,
      "outputs": [
        {
          "output_type": "stream",
          "name": "stdout",
          "text": [
            "There are 15268 data points in this data\n",
            "There are 6179 missing data in this data\n",
            "The fraction of missing data in all data is 0.4047026460571129\n"
          ]
        }
      ]
    },
    {
      "cell_type": "markdown",
      "source": [
        "So it is shocking that we have 6179 misisng data in this data.\n",
        "we should find some ways to adapt it."
      ],
      "metadata": {
        "id": "Dc0KQctepFYF"
      }
    },
    {
      "cell_type": "markdown",
      "source": [
        "The first suggestion is finding and removing some columns which have incredible nan data"
      ],
      "metadata": {
        "id": "EaM0zQ6qpOp6"
      }
    },
    {
      "cell_type": "code",
      "source": [
        "for i in X.columns:\n",
        "  print(f'The column named as {i} has {np.count_nonzero(np.isnan(X[i]))} missing data')"
      ],
      "metadata": {
        "colab": {
          "base_uri": "https://localhost:8080/"
        },
        "id": "VcKQwgLe8l3W",
        "outputId": "b6ef2f53-0d69-4f78-b387-7e1af3a0e171"
      },
      "execution_count": 66,
      "outputs": [
        {
          "output_type": "stream",
          "name": "stdout",
          "text": [
            "The column named as Umag has 381 missing data\n",
            "The column named as Bmag has 285 missing data\n",
            "The column named as Vmag has 285 missing data\n",
            "The column named as Imag has 356 missing data\n",
            "The column named as <Vmag> has 550 missing data\n",
            "The column named as <Imag> has 512 missing data\n",
            "The column named as IAmp has 515 missing data\n",
            "The column named as Per has 512 missing data\n",
            "The column named as J2mag has 146 missing data\n",
            "The column named as H2mag has 99 missing data\n",
            "The column named as Ks2mag has 75 missing data\n",
            "The column named as Jmag has 159 missing data\n",
            "The column named as Hmag has 164 missing data\n",
            "The column named as Ksmag has 215 missing data\n",
            "The column named as [3.6] has 89 missing data\n",
            "The column named as [4.5] has 52 missing data\n",
            "The column named as [5.8] has 42 missing data\n",
            "The column named as [8.0] has 73 missing data\n",
            "The column named as [24] has 40 missing data\n",
            "The column named as [70] has 506 missing data\n",
            "The column named as [160] has 617 missing data\n",
            "The column named as TeffMcD has 506 missing data\n"
          ]
        }
      ]
    },
    {
      "cell_type": "markdown",
      "source": [
        "We find out 7 columns have more than 500 nan value. So we delet this columns and continue with others."
      ],
      "metadata": {
        "id": "iyem5hhj9Ouf"
      }
    },
    {
      "cell_type": "code",
      "source": [
        "more_than_500_nan = []\n",
        "for i in X.columns:\n",
        "  if np.count_nonzero(np.isnan(X[i])) > 500 :\n",
        "    more_than_500_nan.append(i)\n",
        "\n",
        "print(more_than_500_nan)"
      ],
      "metadata": {
        "colab": {
          "base_uri": "https://localhost:8080/"
        },
        "id": "ahGDjc4v-Yx3",
        "outputId": "0f46e524-6656-405f-b98c-cbfd8ee27cd0"
      },
      "execution_count": 67,
      "outputs": [
        {
          "output_type": "stream",
          "name": "stdout",
          "text": [
            "['<Vmag>', '<Imag>', 'IAmp', 'Per', '[70]', '[160]', 'TeffMcD']\n"
          ]
        }
      ]
    },
    {
      "cell_type": "code",
      "source": [
        "X.drop(more_than_500_nan, inplace=True, axis=1)"
      ],
      "metadata": {
        "id": "0Xp2OtU8-Lxv"
      },
      "execution_count": 68,
      "outputs": []
    },
    {
      "cell_type": "markdown",
      "source": [
        "Now we calculate previous information again"
      ],
      "metadata": {
        "id": "e1AlWhPX-8TK"
      }
    },
    {
      "cell_type": "code",
      "source": [
        "nan_data_point = np.count_nonzero(np.isnan(X))\n",
        "all_data_point = X.shape[0]*X.shape[1]\n",
        "missing_fraction = np.count_nonzero(np.isnan(X))/(X.shape[0]*X.shape[1])\n",
        "\n",
        "print(f'There are {all_data_point} data points in this data')\n",
        "print(f'There are {nan_data_point} missing data in this data')\n",
        "print(f'The fraction of missing data in all data is {missing_fraction}')"
      ],
      "metadata": {
        "colab": {
          "base_uri": "https://localhost:8080/"
        },
        "id": "UXwL2uRx-rSV",
        "outputId": "0f7d31e9-9929-48f6-d579-0bf5731d93a9"
      },
      "execution_count": 69,
      "outputs": [
        {
          "output_type": "stream",
          "name": "stdout",
          "text": [
            "There are 10410 data points in this data\n",
            "There are 2461 missing data in this data\n",
            "The fraction of missing data in all data is 0.23640730067243035\n"
          ]
        }
      ]
    },
    {
      "cell_type": "markdown",
      "source": [
        "In the next step we should find the number of missing values in for each stars."
      ],
      "metadata": {
        "id": "5BHxt6Lq9OqH"
      }
    },
    {
      "cell_type": "code",
      "source": [
        "list_row_nan = []\n",
        "list_Class = []\n",
        "list_row_nan_6 = []\n",
        "list_Class_6 = []\n",
        "list_index_6 = []\n",
        "for i in range(0,len(X)):\n",
        "  list_row_nan.append(np.count_nonzero(np.isnan(X.iloc[i])))\n",
        "  list_Class.append(Y.iloc[i][0])\n",
        "  if np.count_nonzero(np.isnan(X.iloc[i])) > 6 :    \n",
        "    list_row_nan_6.append(np.count_nonzero(np.isnan(X.iloc[i])))\n",
        "    list_Class_6.append(Y.iloc[i][0])\n",
        "    list_index_6.append(i)\n"
      ],
      "metadata": {
        "id": "rtN0TvDrB0sV"
      },
      "execution_count": 73,
      "outputs": []
    },
    {
      "cell_type": "code",
      "source": [
        "plt.hist(list_row_nan_6)"
      ],
      "metadata": {
        "colab": {
          "base_uri": "https://localhost:8080/",
          "height": 320
        },
        "id": "wyP48EGkDK6K",
        "outputId": "346916ba-75e5-44fe-af2f-5aaf1e44479f"
      },
      "execution_count": 74,
      "outputs": [
        {
          "output_type": "execute_result",
          "data": {
            "text/plain": [
              "(array([62., 26., 19.,  0., 16.,  3.,  0.,  1.,  2.,  2.]),\n",
              " array([ 7. ,  7.7,  8.4,  9.1,  9.8, 10.5, 11.2, 11.9, 12.6, 13.3, 14. ]),\n",
              " <a list of 10 Patch objects>)"
            ]
          },
          "metadata": {},
          "execution_count": 74
        },
        {
          "output_type": "display_data",
          "data": {
            "text/plain": [
              "<Figure size 576x288 with 1 Axes>"
            ],
            "image/png": "[encoded data removed]"
          },
          "metadata": {
            "needs_background": "light"
          }
        }
      ]
    },
    {
      "cell_type": "code",
      "source": [
        "sum(list_row_nan_6)"
      ],
      "metadata": {
        "colab": {
          "base_uri": "https://localhost:8080/"
        },
        "id": "imWNAWJ0Dsxc",
        "outputId": "032c5458-7f91-48c2-ca5e-3d74bf59a8b5"
      },
      "execution_count": 75,
      "outputs": [
        {
          "output_type": "execute_result",
          "data": {
            "text/plain": [
              "1072"
            ]
          },
          "metadata": {},
          "execution_count": 75
        }
      ]
    },
    {
      "cell_type": "code",
      "source": [
        "len(list_row_nan_6)"
      ],
      "metadata": {
        "colab": {
          "base_uri": "https://localhost:8080/"
        },
        "id": "bHN8v0YKDwL2",
        "outputId": "b82a1ea3-5a52-4cc8-cf13-7fdb0daac792"
      },
      "execution_count": 76,
      "outputs": [
        {
          "output_type": "execute_result",
          "data": {
            "text/plain": [
              "131"
            ]
          },
          "metadata": {},
          "execution_count": 76
        }
      ]
    },
    {
      "cell_type": "code",
      "source": [
        "plt.hist([list_Class_6,Y['Class']])"
      ],
      "metadata": {
        "colab": {
          "base_uri": "https://localhost:8080/",
          "height": 337
        },
        "id": "0AhmsIyjDyKf",
        "outputId": "a6403110-3127-4c69-d4cb-ffab107ab3a1"
      },
      "execution_count": 78,
      "outputs": [
        {
          "output_type": "execute_result",
          "data": {
            "text/plain": [
              "(array([[ 10.,   0.,  39.,   0.,   0.,  66.,   0.,  16.,   0.,   0.],\n",
              "        [108.,   0., 191.,   0.,   0., 264.,   0.,  94.,   0.,  37.]]),\n",
              " array([0. , 0.4, 0.8, 1.2, 1.6, 2. , 2.4, 2.8, 3.2, 3.6, 4. ]),\n",
              " <a list of 2 Lists of Patches objects>)"
            ]
          },
          "metadata": {},
          "execution_count": 78
        },
        {
          "output_type": "display_data",
          "data": {
            "text/plain": [
              "<Figure size 576x288 with 1 Axes>"
            ],
            "image/png": "[encoded data removed]"
          },
          "metadata": {
            "needs_background": "light"
          }
        }
      ]
    },
    {
      "cell_type": "code",
      "source": [
        "X.drop(list_index_6, axis=0, inplace=True)\n",
        "\n",
        "X = X.reset_index(drop=True)"
      ],
      "metadata": {
        "id": "i5VvasNJuA0Q"
      },
      "execution_count": 79,
      "outputs": []
    },
    {
      "cell_type": "code",
      "source": [
        "Y.drop(list_index_6, axis=0, inplace=True)"
      ],
      "metadata": {
        "id": "7etv7pja_7A1"
      },
      "execution_count": 117,
      "outputs": []
    },
    {
      "cell_type": "code",
      "source": [
        "X"
      ],
      "metadata": {
        "id": "RKOO5QmlwHKa",
        "outputId": "4fa746cd-b0c9-416c-cd39-be71225f2322",
        "colab": {
          "base_uri": "https://localhost:8080/",
          "height": 424
        }
      },
      "execution_count": 80,
      "outputs": [
        {
          "output_type": "execute_result",
          "data": {
            "text/plain": [
              "       Umag    Bmag    Vmag    Imag   J2mag   H2mag  Ks2mag   Jmag   Hmag  \\\n",
              "0       NaN  18.307  16.468  13.943  12.408  11.488  11.191    NaN    NaN   \n",
              "1    13.433  13.584  13.266  12.528  12.181  11.781  11.239  12.13  11.66   \n",
              "2       NaN  21.311  19.536  17.339  15.052  13.779  12.936  13.89  12.79   \n",
              "3    19.691  18.868  16.725  13.571  12.263  11.307  10.988  12.20  11.34   \n",
              "4    17.707  16.211  14.628  13.123  12.416  11.740  11.430  12.15  11.53   \n",
              "..      ...     ...     ...     ...     ...     ...     ...    ...    ...   \n",
              "558  19.243  17.556  15.127  12.562  10.864  10.023   9.716  10.95  10.08   \n",
              "559  13.820  13.929  13.999  13.620  13.067  12.591  11.757  13.02  12.60   \n",
              "560     NaN     NaN     NaN     NaN  17.340  15.458  13.654  17.86  15.80   \n",
              "561  15.435  15.816  15.439  15.093  14.726  14.649  14.381  14.70  14.60   \n",
              "562  19.248  17.524  15.960  14.457  13.674  13.246  13.067  13.67  13.28   \n",
              "\n",
              "     Ksmag    [3.6]    [4.5]    [5.8]    [8.0]    [24]  \n",
              "0      NaN  10.9099  10.8052  10.6874  10.5041  9.6408  \n",
              "1    11.10  10.0871   9.6048   9.2248   8.5769  7.2094  \n",
              "2    12.18  11.1326  10.6102  10.0316   9.2020  7.2266  \n",
              "3    11.01  10.7319  10.7726  10.5911  10.5096     NaN  \n",
              "4    11.21  10.5316  10.4196  10.0697   9.4969  7.1893  \n",
              "..     ...      ...      ...      ...      ...     ...  \n",
              "558    NaN   9.4930   9.5620   9.4160   9.3020  9.0010  \n",
              "559  11.80   9.9690   9.2040   8.5990   7.5370  5.2790  \n",
              "560  13.95  10.5710   9.4770   8.5140   7.5210  5.0410  \n",
              "561  14.41  13.5580  12.9380  10.6140   8.1270  4.9120  \n",
              "562  13.14  12.2930  11.8840  10.3930   8.3070  5.1490  \n",
              "\n",
              "[563 rows x 15 columns]"
            ],
            "text/html": [
              "\n",
              "  <div id=\"df-46c0efa9-5ddb-40e9-8a85-46deeea86d18\">\n",
              "    <div class=\"colab-df-container\">\n",
              "      <div>\n",
              "<style scoped>\n",
              "    .dataframe tbody tr th:only-of-type {\n",
              "        vertical-align: middle;\n",
              "    }\n",
              "\n",
              "    .dataframe tbody tr th {\n",
              "        vertical-align: top;\n",
              "    }\n",
              "\n",
              "    .dataframe thead th {\n",
              "        text-align: right;\n",
              "    }\n",
              "</style>\n",
              "<table border=\"1\" class=\"dataframe\">\n",
              "  <thead>\n",
              "    <tr style=\"text-align: right;\">\n",
              "      <th></th>\n",
              "      <th>Umag</th>\n",
              "      <th>Bmag</th>\n",
              "      <th>Vmag</th>\n",
              "      <th>Imag</th>\n",
              "      <th>J2mag</th>\n",
              "      <th>H2mag</th>\n",
              "      <th>Ks2mag</th>\n",
              "      <th>Jmag</th>\n",
              "      <th>Hmag</th>\n",
              "      <th>Ksmag</th>\n",
              "      <th>[3.6]</th>\n",
              "      <th>[4.5]</th>\n",
              "      <th>[5.8]</th>\n",
              "      <th>[8.0]</th>\n",
              "      <th>[24]</th>\n",
              "    </tr>\n",
              "  </thead>\n",
              "  <tbody>\n",
              "    <tr>\n",
              "      <th>0</th>\n",
              "      <td>NaN</td>\n",
              "      <td>18.307</td>\n",
              "      <td>16.468</td>\n",
              "      <td>13.943</td>\n",
              "      <td>12.408</td>\n",
              "      <td>11.488</td>\n",
              "      <td>11.191</td>\n",
              "      <td>NaN</td>\n",
              "      <td>NaN</td>\n",
              "      <td>NaN</td>\n",
              "      <td>10.9099</td>\n",
              "      <td>10.8052</td>\n",
              "      <td>10.6874</td>\n",
              "      <td>10.5041</td>\n",
              "      <td>9.6408</td>\n",
              "    </tr>\n",
              "    <tr>\n",
              "      <th>1</th>\n",
              "      <td>13.433</td>\n",
              "      <td>13.584</td>\n",
              "      <td>13.266</td>\n",
              "      <td>12.528</td>\n",
              "      <td>12.181</td>\n",
              "      <td>11.781</td>\n",
              "      <td>11.239</td>\n",
              "      <td>12.13</td>\n",
              "      <td>11.66</td>\n",
              "      <td>11.10</td>\n",
              "      <td>10.0871</td>\n",
              "      <td>9.6048</td>\n",
              "      <td>9.2248</td>\n",
              "      <td>8.5769</td>\n",
              "      <td>7.2094</td>\n",
              "    </tr>\n",
              "    <tr>\n",
              "      <th>2</th>\n",
              "      <td>NaN</td>\n",
              "      <td>21.311</td>\n",
              "      <td>19.536</td>\n",
              "      <td>17.339</td>\n",
              "      <td>15.052</td>\n",
              "      <td>13.779</td>\n",
              "      <td>12.936</td>\n",
              "      <td>13.89</td>\n",
              "      <td>12.79</td>\n",
              "      <td>12.18</td>\n",
              "      <td>11.1326</td>\n",
              "      <td>10.6102</td>\n",
              "      <td>10.0316</td>\n",
              "      <td>9.2020</td>\n",
              "      <td>7.2266</td>\n",
              "    </tr>\n",
              "    <tr>\n",
              "      <th>3</th>\n",
              "      <td>19.691</td>\n",
              "      <td>18.868</td>\n",
              "      <td>16.725</td>\n",
              "      <td>13.571</td>\n",
              "      <td>12.263</td>\n",
              "      <td>11.307</td>\n",
              "      <td>10.988</td>\n",
              "      <td>12.20</td>\n",
              "      <td>11.34</td>\n",
              "      <td>11.01</td>\n",
              "      <td>10.7319</td>\n",
              "      <td>10.7726</td>\n",
              "      <td>10.5911</td>\n",
              "      <td>10.5096</td>\n",
              "      <td>NaN</td>\n",
              "    </tr>\n",
              "    <tr>\n",
              "      <th>4</th>\n",
              "      <td>17.707</td>\n",
              "      <td>16.211</td>\n",
              "      <td>14.628</td>\n",
              "      <td>13.123</td>\n",
              "      <td>12.416</td>\n",
              "      <td>11.740</td>\n",
              "      <td>11.430</td>\n",
              "      <td>12.15</td>\n",
              "      <td>11.53</td>\n",
              "      <td>11.21</td>\n",
              "      <td>10.5316</td>\n",
              "      <td>10.4196</td>\n",
              "      <td>10.0697</td>\n",
              "      <td>9.4969</td>\n",
              "      <td>7.1893</td>\n",
              "    </tr>\n",
              "    <tr>\n",
              "      <th>...</th>\n",
              "      <td>...</td>\n",
              "      <td>...</td>\n",
              "      <td>...</td>\n",
              "      <td>...</td>\n",
              "      <td>...</td>\n",
              "      <td>...</td>\n",
              "      <td>...</td>\n",
              "      <td>...</td>\n",
              "      <td>...</td>\n",
              "      <td>...</td>\n",
              "      <td>...</td>\n",
              "      <td>...</td>\n",
              "      <td>...</td>\n",
              "      <td>...</td>\n",
              "      <td>...</td>\n",
              "    </tr>\n",
              "    <tr>\n",
              "      <th>558</th>\n",
              "      <td>19.243</td>\n",
              "      <td>17.556</td>\n",
              "      <td>15.127</td>\n",
              "      <td>12.562</td>\n",
              "      <td>10.864</td>\n",
              "      <td>10.023</td>\n",
              "      <td>9.716</td>\n",
              "      <td>10.95</td>\n",
              "      <td>10.08</td>\n",
              "      <td>NaN</td>\n",
              "      <td>9.4930</td>\n",
              "      <td>9.5620</td>\n",
              "      <td>9.4160</td>\n",
              "      <td>9.3020</td>\n",
              "      <td>9.0010</td>\n",
              "    </tr>\n",
              "    <tr>\n",
              "      <th>559</th>\n",
              "      <td>13.820</td>\n",
              "      <td>13.929</td>\n",
              "      <td>13.999</td>\n",
              "      <td>13.620</td>\n",
              "      <td>13.067</td>\n",
              "      <td>12.591</td>\n",
              "      <td>11.757</td>\n",
              "      <td>13.02</td>\n",
              "      <td>12.60</td>\n",
              "      <td>11.80</td>\n",
              "      <td>9.9690</td>\n",
              "      <td>9.2040</td>\n",
              "      <td>8.5990</td>\n",
              "      <td>7.5370</td>\n",
              "      <td>5.2790</td>\n",
              "    </tr>\n",
              "    <tr>\n",
              "      <th>560</th>\n",
              "      <td>NaN</td>\n",
              "      <td>NaN</td>\n",
              "      <td>NaN</td>\n",
              "      <td>NaN</td>\n",
              "      <td>17.340</td>\n",
              "      <td>15.458</td>\n",
              "      <td>13.654</td>\n",
              "      <td>17.86</td>\n",
              "      <td>15.80</td>\n",
              "      <td>13.95</td>\n",
              "      <td>10.5710</td>\n",
              "      <td>9.4770</td>\n",
              "      <td>8.5140</td>\n",
              "      <td>7.5210</td>\n",
              "      <td>5.0410</td>\n",
              "    </tr>\n",
              "    <tr>\n",
              "      <th>561</th>\n",
              "      <td>15.435</td>\n",
              "      <td>15.816</td>\n",
              "      <td>15.439</td>\n",
              "      <td>15.093</td>\n",
              "      <td>14.726</td>\n",
              "      <td>14.649</td>\n",
              "      <td>14.381</td>\n",
              "      <td>14.70</td>\n",
              "      <td>14.60</td>\n",
              "      <td>14.41</td>\n",
              "      <td>13.5580</td>\n",
              "      <td>12.9380</td>\n",
              "      <td>10.6140</td>\n",
              "      <td>8.1270</td>\n",
              "      <td>4.9120</td>\n",
              "    </tr>\n",
              "    <tr>\n",
              "      <th>562</th>\n",
              "      <td>19.248</td>\n",
              "      <td>17.524</td>\n",
              "      <td>15.960</td>\n",
              "      <td>14.457</td>\n",
              "      <td>13.674</td>\n",
              "      <td>13.246</td>\n",
              "      <td>13.067</td>\n",
              "      <td>13.67</td>\n",
              "      <td>13.28</td>\n",
              "      <td>13.14</td>\n",
              "      <td>12.2930</td>\n",
              "      <td>11.8840</td>\n",
              "      <td>10.3930</td>\n",
              "      <td>8.3070</td>\n",
              "      <td>5.1490</td>\n",
              "    </tr>\n",
              "  </tbody>\n",
              "</table>\n",
              "<p>563 rows × 15 columns</p>\n",
              "</div>\n",
              "      <button class=\"colab-df-convert\" onclick=\"convertToInteractive('df-46c0efa9-5ddb-40e9-8a85-46deeea86d18')\"\n",
              "              title=\"Convert this dataframe to an interactive table.\"\n",
              "              style=\"display:none;\">\n",
              "        \n",
              "  <svg xmlns=\"http://www.w3.org/2000/svg\" height=\"24px\"viewBox=\"0 0 24 24\"\n",
              "       width=\"24px\">\n",
              "    <path d=\"M0 0h24v24H0V0z\" fill=\"none\"/>\n",
              "    <path d=\"M18.56 5.44l.94 2.06.94-2.06 2.06-.94-2.06-.94-.94-2.06-.94 2.06-2.06.94zm-11 1L8.5 8.5l.94-2.06 2.06-.94-2.06-.94L8.5 2.5l-.94 2.06-2.06.94zm10 10l.94 2.06.94-2.06 2.06-.94-2.06-.94-.94-2.06-.94 2.06-2.06.94z\"/><path d=\"M17.41 7.96l-1.37-1.37c-.4-.4-.92-.59-1.43-.59-.52 0-1.04.2-1.43.59L10.3 9.45l-7.72 7.72c-.78.78-.78 2.05 0 2.83L4 21.41c.39.39.9.59 1.41.59.51 0 1.02-.2 1.41-.59l7.78-7.78 2.81-2.81c.8-.78.8-2.07 0-2.86zM5.41 20L4 18.59l7.72-7.72 1.47 1.35L5.41 20z\"/>\n",
              "  </svg>\n",
              "      </button>\n",
              "      \n",
              "  <style>\n",
              "    .colab-df-container {\n",
              "      display:flex;\n",
              "      flex-wrap:wrap;\n",
              "      gap: 12px;\n",
              "    }\n",
              "\n",
              "    .colab-df-convert {\n",
              "      background-color: #E8F0FE;\n",
              "      border: none;\n",
              "      border-radius: 50%;\n",
              "      cursor: pointer;\n",
              "      display: none;\n",
              "      fill: #1967D2;\n",
              "      height: 32px;\n",
              "      padding: 0 0 0 0;\n",
              "      width: 32px;\n",
              "    }\n",
              "\n",
              "    .colab-df-convert:hover {\n",
              "      background-color: #E2EBFA;\n",
              "      box-shadow: 0px 1px 2px rgba(60, 64, 67, 0.3), 0px 1px 3px 1px rgba(60, 64, 67, 0.15);\n",
              "      fill: #174EA6;\n",
              "    }\n",
              "\n",
              "    [theme=dark] .colab-df-convert {\n",
              "      background-color: #3B4455;\n",
              "      fill: #D2E3FC;\n",
              "    }\n",
              "\n",
              "    [theme=dark] .colab-df-convert:hover {\n",
              "      background-color: #434B5C;\n",
              "      box-shadow: 0px 1px 3px 1px rgba(0, 0, 0, 0.15);\n",
              "      filter: drop-shadow(0px 1px 2px rgba(0, 0, 0, 0.3));\n",
              "      fill: #FFFFFF;\n",
              "    }\n",
              "  </style>\n",
              "\n",
              "      <script>\n",
              "        const buttonEl =\n",
              "          document.querySelector('#df-46c0efa9-5ddb-40e9-8a85-46deeea86d18 button.colab-df-convert');\n",
              "        buttonEl.style.display =\n",
              "          google.colab.kernel.accessAllowed ? 'block' : 'none';\n",
              "\n",
              "        async function convertToInteractive(key) {\n",
              "          const element = document.querySelector('#df-46c0efa9-5ddb-40e9-8a85-46deeea86d18');\n",
              "          const dataTable =\n",
              "            await google.colab.kernel.invokeFunction('convertToInteractive',\n",
              "                                                     [key], {});\n",
              "          if (!dataTable) return;\n",
              "\n",
              "          const docLinkHtml = 'Like what you see? Visit the ' +\n",
              "            '<a target=\"_blank\" href=https://colab.research.google.com/notebooks/data_table.ipynb>data table notebook</a>'\n",
              "            + ' to learn more about interactive tables.';\n",
              "          element.innerHTML = '';\n",
              "          dataTable['output_type'] = 'display_data';\n",
              "          await google.colab.output.renderOutput(dataTable, element);\n",
              "          const docLink = document.createElement('div');\n",
              "          docLink.innerHTML = docLinkHtml;\n",
              "          element.appendChild(docLink);\n",
              "        }\n",
              "      </script>\n",
              "    </div>\n",
              "  </div>\n",
              "  "
            ]
          },
          "metadata": {},
          "execution_count": 80
        }
      ]
    },
    {
      "cell_type": "code",
      "source": [
        "nan_data_point = np.count_nonzero(np.isnan(X))\n",
        "all_data_point = X.shape[0]*X.shape[1]\n",
        "missing_fraction = np.count_nonzero(np.isnan(X))/(X.shape[0]*X.shape[1])\n",
        "\n",
        "print(f'There are {all_data_point} data points in this data')\n",
        "print(f'There are {nan_data_point} missing data in this data')\n",
        "print(f'The fraction of missing data in all data is {missing_fraction}')"
      ],
      "metadata": {
        "id": "TOodiwLAwL5i",
        "outputId": "a699bc89-4aaf-43c9-81d2-525b1fc0f45f",
        "colab": {
          "base_uri": "https://localhost:8080/"
        }
      },
      "execution_count": 81,
      "outputs": [
        {
          "output_type": "stream",
          "name": "stdout",
          "text": [
            "There are 8445 data points in this data\n",
            "There are 1389 missing data in this data\n",
            "The fraction of missing data in all data is 0.1644760213143872\n"
          ]
        }
      ]
    },
    {
      "cell_type": "code",
      "source": [
        "plt.hist(Y['Class'])"
      ],
      "metadata": {
        "id": "DTe3zrvJC81a",
        "outputId": "c8fa03df-ae87-4179-ca82-12ddbee8d33a",
        "colab": {
          "base_uri": "https://localhost:8080/",
          "height": 320
        }
      },
      "execution_count": 141,
      "outputs": [
        {
          "output_type": "execute_result",
          "data": {
            "text/plain": [
              "(array([ 98.,   0., 152.,   0.,   0., 198.,   0.,  37.,   0.,  78.]),\n",
              " array([0. , 0.4, 0.8, 1.2, 1.6, 2. , 2.4, 2.8, 3.2, 3.6, 4. ]),\n",
              " <a list of 10 Patch objects>)"
            ]
          },
          "metadata": {},
          "execution_count": 141
        },
        {
          "output_type": "display_data",
          "data": {
            "text/plain": [
              "<Figure size 576x288 with 1 Axes>"
            ],
            "image/png": "[encoded data removed]"
          },
          "metadata": {
            "needs_background": "light"
          }
        }
      ]
    },
    {
      "cell_type": "code",
      "source": [
        "star_number = 70\n",
        "plt.plot(np.array(X.iloc[star_number]))\n",
        "print(Y.iloc[star_number])"
      ],
      "metadata": {
        "id": "zr9aHss-xYNJ",
        "outputId": "0c13859d-6343-4388-b017-605be4a6edb9",
        "colab": {
          "base_uri": "https://localhost:8080/",
          "height": 303
        }
      },
      "execution_count": 135,
      "outputs": [
        {
          "output_type": "stream",
          "name": "stdout",
          "text": [
            "Class    OAGB\n",
            "Name: 76, dtype: object\n"
          ]
        },
        {
          "output_type": "display_data",
          "data": {
            "text/plain": [
              "<Figure size 576x288 with 1 Axes>"
            ],
            "image/png": "[encoded data removed]"
          },
          "metadata": {
            "needs_background": "light"
          }
        }
      ]
    },
    {
      "cell_type": "code",
      "source": [
        "result = np.array(list(X.index))[Y['Class'][:] == 'OAGB']"
      ],
      "metadata": {
        "id": "y4hIaYdaAsTO"
      },
      "execution_count": 136,
      "outputs": []
    },
    {
      "cell_type": "code",
      "source": [
        "result"
      ],
      "metadata": {
        "id": "-aRkGBXoBFCV",
        "outputId": "82e58a78-d952-4bf3-e3d0-636d61d12d7d",
        "colab": {
          "base_uri": "https://localhost:8080/"
        }
      },
      "execution_count": 137,
      "outputs": [
        {
          "output_type": "execute_result",
          "data": {
            "text/plain": [
              "array([  0,   1,   2,   3,   4,   5,   6,   7,   8,   9,  10,  11,  12,\n",
              "        13,  14,  15,  16,  17,  18,  19,  20,  21,  22,  23,  24,  25,\n",
              "        26,  27,  28,  29,  30,  31,  32,  33,  34,  35,  36,  37,  38,\n",
              "        39,  40,  41,  42,  43,  44,  45,  46,  47,  48,  49,  50,  51,\n",
              "        52,  53,  54,  55,  56,  57,  58,  59,  60,  61,  62,  63,  64,\n",
              "        65,  66,  67,  68,  69,  70,  71,  72,  73,  74,  75,  76,  77,\n",
              "        78,  79, 438, 439, 440, 441, 442, 443, 444, 445, 446, 447, 551,\n",
              "       552, 553, 554, 555, 556, 557, 558])"
            ]
          },
          "metadata": {},
          "execution_count": 137
        }
      ]
    },
    {
      "cell_type": "code",
      "source": [
        "plt.hist(X['Jmag'][result])"
      ],
      "metadata": {
        "id": "wdTe4RMayXj5",
        "outputId": "8c20f012-9b13-4b66-d5e2-89a7e07c944e",
        "colab": {
          "base_uri": "https://localhost:8080/",
          "height": 337
        }
      },
      "execution_count": 138,
      "outputs": [
        {
          "output_type": "execute_result",
          "data": {
            "text/plain": [
              "(array([21., 18., 10., 14., 11.,  8.,  3.,  5.,  0.,  2.]),\n",
              " array([ 9.91 , 10.509, 11.108, 11.707, 12.306, 12.905, 13.504, 14.103,\n",
              "        14.702, 15.301, 15.9  ]),\n",
              " <a list of 10 Patch objects>)"
            ]
          },
          "metadata": {},
          "execution_count": 138
        },
        {
          "output_type": "display_data",
          "data": {
            "text/plain": [
              "<Figure size 576x288 with 1 Axes>"
            ],
            "image/png": "[encoded data removed]"
          },
          "metadata": {
            "needs_background": "light"
          }
        }
      ]
    },
    {
      "cell_type": "markdown",
      "source": [
        "## Data Pre"
      ],
      "metadata": {
        "id": "k9jYDw9GGXfZ"
      }
    },
    {
      "cell_type": "code",
      "execution_count": null,
      "metadata": {
        "id": "tM1v_psHAq8d"
      },
      "outputs": [],
      "source": [
        "from sklearn.experimental import enable_iterative_imputer\n",
        "from sklearn.impute import IterativeImputer\n",
        "\n",
        "imp = IterativeImputer()\n",
        "imp_data = imp.fit_transform(X)\n",
        "X = pd.DataFrame(imp_data, columns= X.columns)"
      ]
    },
    {
      "cell_type": "code",
      "source": [
        "from sklearn.model_selection import train_test_split\n",
        "X_train, X_test, y_train, y_test = train_test_split( X , EY , test_size=0.1 , random_state = 1234 )"
      ],
      "metadata": {
        "id": "uGLa0X__oMw0"
      },
      "execution_count": null,
      "outputs": []
    },
    {
      "cell_type": "code",
      "execution_count": null,
      "metadata": {
        "id": "W61insSGBDrV"
      },
      "outputs": [],
      "source": [
        "Data = pd.concat([X,Y,EY], axis=1)\n",
        "\n",
        "from sklearn.utils import shuffle\n",
        "Data = shuffle(Data, random_state=42)\n",
        "Data = Data.reset_index(drop=True)\n",
        "\n",
        "Data.head()"
      ]
    },
    {
      "cell_type": "code",
      "execution_count": null,
      "metadata": {
        "id": "GPCeaCUIgnb9"
      },
      "outputs": [],
      "source": [
        "Data['Class'].value_counts()"
      ]
    },
    {
      "cell_type": "code",
      "execution_count": null,
      "metadata": {
        "id": "1Fl8Z1ew9D7g"
      },
      "outputs": [],
      "source": [
        "from sklearn.preprocessing import MinMaxScaler, StandardScaler, RobustScaler\n",
        "\n",
        "r_scaler = RobustScaler()\n",
        "X_rbst = r_scaler.fit_transform(X)\n",
        "X_rbst = pd.DataFrame(X_rbst, columns= X.columns)\n",
        "\n",
        "s_scaler = StandardScaler()\n",
        "X_std = s_scaler.fit_transform(X)\n",
        "X_std = pd.DataFrame(X_std, columns= X.columns)\n",
        "\n",
        "mm_scaler = MinMaxScaler()\n",
        "X_mm = mm_scaler.fit_transform(X)\n",
        "X_mm = pd.DataFrame(X_mm, columns= X.columns)"
      ]
    },
    {
      "cell_type": "code",
      "execution_count": null,
      "metadata": {
        "id": "7zZMCxweArGk"
      },
      "outputs": [],
      "source": [
        "from sklearn.decomposition import PCA\n",
        "\n",
        "t = X\n",
        "pca = PCA()\n",
        "t = pca.fit_transform(t)\n",
        "PX = pd.DataFrame(t)   \n",
        "\n",
        "t = X_rbst\n",
        "rpca = PCA()\n",
        "t = rpca.fit_transform(t)\n",
        "PRX = pd.DataFrame(t) \n",
        "\n",
        "t = X_mm\n",
        "mpca = PCA()\n",
        "t = mpca.fit_transform(t)\n",
        "PMX = pd.DataFrame(t)   \n",
        "\n",
        "t = X_std\n",
        "spca = PCA()\n",
        "t = spca.fit_transform(t)\n",
        "PSX = pd.DataFrame(t)"
      ]
    }
  ]
}